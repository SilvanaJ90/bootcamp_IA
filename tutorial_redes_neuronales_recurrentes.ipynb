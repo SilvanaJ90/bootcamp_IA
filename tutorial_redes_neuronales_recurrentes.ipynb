{
  "cells": [
    {
      "cell_type": "markdown",
      "metadata": {
        "id": "view-in-github",
        "colab_type": "text"
      },
      "source": [
        "<a href=\"https://colab.research.google.com/github/SilvanaJ90/usergioarboleda-bootcamp_IA/blob/main/tutorial_redes_neuronales_recurrentes.ipynb\" target=\"_parent\"><img src=\"https://colab.research.google.com/assets/colab-badge.svg\" alt=\"Open In Colab\"/></a>"
      ]
    },
    {
      "cell_type": "markdown",
      "id": "edbc0bde-5fad-401b-838b-492a60e76d60",
      "metadata": {
        "id": "edbc0bde-5fad-401b-838b-492a60e76d60"
      },
      "source": [
        "#Redes Neuronales Recurrentes (RNN)\n"
      ]
    },
    {
      "cell_type": "code",
      "execution_count": null,
      "id": "1fa758b8-cc96-4cf7-9f97-51e7088d6a8c",
      "metadata": {
        "id": "1fa758b8-cc96-4cf7-9f97-51e7088d6a8c"
      },
      "outputs": [],
      "source": [
        "#Importar los básicos (numpy, os, Pathlib)\n",
        "import numpy as np\n",
        "import os\n",
        "from pathlib import Path"
      ]
    },
    {
      "cell_type": "code",
      "execution_count": null,
      "id": "f50bdb74-3f93-424f-9237-88893a9a8ff4",
      "metadata": {
        "id": "f50bdb74-3f93-424f-9237-88893a9a8ff4"
      },
      "outputs": [],
      "source": [
        "#Importar Tensorflow y Keras\n",
        "import tensorflow as tf\n",
        "from tensorflow import keras"
      ]
    },
    {
      "cell_type": "code",
      "execution_count": null,
      "id": "e4e58686-c559-491f-ad30-2c779f62e0b6",
      "metadata": {
        "id": "e4e58686-c559-491f-ad30-2c779f62e0b6"
      },
      "outputs": [],
      "source": [
        "#Semillas a 42\n",
        "np.random.seed(42)\n",
        "tf.random.set_seed(42)"
      ]
    },
    {
      "cell_type": "code",
      "execution_count": null,
      "id": "b9c5e89c-8fe8-41e3-8ce4-a5ac712e2e4e",
      "metadata": {
        "id": "b9c5e89c-8fe8-41e3-8ce4-a5ac712e2e4e"
      },
      "outputs": [],
      "source": [
        "#Matlplotlib\n",
        "%matplotlib inline\n",
        "import matplotlib as mpl\n",
        "import matplotlib.pyplot as plt"
      ]
    },
    {
      "cell_type": "markdown",
      "id": "99b6d947-292d-414a-b6ee-2df6370dcd8f",
      "metadata": {
        "id": "99b6d947-292d-414a-b6ee-2df6370dcd8f"
      },
      "source": [
        "## <span style=\"color:green\">1.RNNs Básicas </span>"
      ]
    },
    {
      "cell_type": "markdown",
      "id": "1e3ee0fa-67c8-4763-940b-c5b1277e4db1",
      "metadata": {
        "id": "1e3ee0fa-67c8-4763-940b-c5b1277e4db1"
      },
      "source": [
        "### <span style=\"color:blue\">1.1 Generando el Dataset</span>"
      ]
    },
    {
      "cell_type": "code",
      "execution_count": null,
      "id": "fec053d9-a5ad-4868-b366-183be001a9b7",
      "metadata": {
        "id": "fec053d9-a5ad-4868-b366-183be001a9b7"
      },
      "outputs": [],
      "source": [
        "# Vamos a generar una serie de tiempo básica - primero una función que haga esto\n",
        "def generate_time_series(batch_size, n_steps):\n",
        "    freq1,fre1s,offsets1,offsets2, = np.random.rand(4,batch_size,1)\n",
        "    time = np.linspace(0,1,n_steps)\n",
        "    series = 0.5 *np.sin((time-offsets1)*(freq1*10+10))\n",
        "    series += 0.2*np.sin((time-offsets2)*(freq1*10+10))\n",
        "    series +=0.1 * (np.random.rand(batch_size,n_steps)-0.5)\n",
        "    return series[...,np.newaxis].astype(np.float32)"
      ]
    },
    {
      "cell_type": "code",
      "execution_count": null,
      "id": "1da5213a-0743-4296-a57f-10afc08581de",
      "metadata": {
        "id": "1da5213a-0743-4296-a57f-10afc08581de"
      },
      "outputs": [],
      "source": [
        "# Ahora vamos a armar nuestra serie de tiempo y romperla en Xtrain, Xvalid y Xtest (y las y's tambien)\n",
        "n_steps = 50\n",
        "series = generate_time_series(10000,n_steps+1)"
      ]
    },
    {
      "cell_type": "code",
      "execution_count": null,
      "id": "15d3b140-6e78-4211-84ec-eb69f0967c03",
      "metadata": {
        "id": "15d3b140-6e78-4211-84ec-eb69f0967c03"
      },
      "outputs": [],
      "source": [
        "#Vamos a definir los datos de entrenamiento, de validación y de prueba\n",
        "X_train, y_train = series[:7000,:n_steps], series[:7000,-1]\n",
        "X_valid,y_valid = series[7000:9000, :n_steps], series[7000:9000,-1]\n",
        "X_test,y_test = series[9000:,:n_steps],series[9000:,-1]"
      ]
    },
    {
      "cell_type": "code",
      "execution_count": null,
      "id": "d06ee32c-572c-42a2-8631-79dc7ee1cdb3",
      "metadata": {
        "id": "d06ee32c-572c-42a2-8631-79dc7ee1cdb3",
        "outputId": "93bc6a5b-8792-4035-cf92-6f3a6be878f2"
      },
      "outputs": [
        {
          "data": {
            "text/plain": [
              "(7000, 1)"
            ]
          },
          "execution_count": 8,
          "metadata": {},
          "output_type": "execute_result"
        }
      ],
      "source": [
        "# Revisamos los Shapes de X_train y Y_train\n",
        "#x_train.shape\n",
        "y_train.shape"
      ]
    },
    {
      "cell_type": "code",
      "execution_count": null,
      "id": "6593428c-c0cd-40c5-8347-6eb9d7966d11",
      "metadata": {
        "id": "6593428c-c0cd-40c5-8347-6eb9d7966d11"
      },
      "outputs": [],
      "source": [
        "# Copiate del manual una función para plotear las series de tiempo\n",
        "def plot_series(series, y=None, y_pred=None, x_label=\"$t$\", y_label=\"$x(t)$\", legend=True):\n",
        "    plt.plot(series, \".-\")\n",
        "    if y is not None:\n",
        "        plt.plot(n_steps,y,\"bo\", label = \"Target\")\n",
        "    if y_pred is not None:\n",
        "        plt.plot(n_steps, y_pred, \"rx\", markersize=10, label =\"Prediction\")\n",
        "    plt.grid(True)\n",
        "    if x_label:\n",
        "        plt.xlabel(x_label,fontsize=16)\n",
        "    if y_label:\n",
        "        plt.ylabel(y_label,fontsize=16, rotation=0)\n",
        "    plt.hlines(0,0,100,linewidth=1)\n",
        "    plt.axis([0, n_steps + 1, -1,1])\n",
        "    if legend and (y or y_pred):\n",
        "        plt.legend(fontsize=14, loc = \"upper left\")\n"
      ]
    },
    {
      "cell_type": "code",
      "execution_count": null,
      "id": "639eee97-8723-42d8-a2c3-62283a05118c",
      "metadata": {
        "id": "639eee97-8723-42d8-a2c3-62283a05118c",
        "outputId": "8161a7df-9565-43d6-ec55-52595b6e989c"
      },
      "outputs": [
        {
          "data": {
            "image/png": "[encoded data removed]",
            "text/plain": [
              "<Figure size 864x288 with 3 Axes>"
            ]
          },
          "metadata": {
            "needs_background": "light"
          },
          "output_type": "display_data"
        }
      ],
      "source": [
        "# Ejecuta tu función para ver las 3 series de tiempo\n",
        "fig, axes = plt.subplots(nrows = 1, ncols=3, sharey=True, figsize = (12,4))\n",
        "for col in range(3):\n",
        "    plt.sca(axes[col])\n",
        "    plot_series(X_valid[col,:,0],y_valid[col,0],y_label=(\"$x(t)\" if col == 0 else None), legend=(col == 0))"
      ]
    },
    {
      "cell_type": "markdown",
      "id": "26c17471-2960-4df8-bce4-bf8bf5ca4a62",
      "metadata": {
        "id": "26c17471-2960-4df8-bce4-bf8bf5ca4a62"
      },
      "source": [
        "### <span style=\"color:blue\">1.2 Métricas de Línea Base</span>"
      ]
    },
    {
      "cell_type": "code",
      "execution_count": null,
      "id": "4aba3a3a-d2d8-4cd5-9910-f5a81082a6f1",
      "metadata": {
        "id": "4aba3a3a-d2d8-4cd5-9910-f5a81082a6f1"
      },
      "outputs": [],
      "source": [
        "#Vamos a hacer predicciones ingenuas\n",
        "y_pred = X_valid[:,-1]"
      ]
    },
    {
      "cell_type": "code",
      "execution_count": null,
      "id": "94311923-8342-4268-b7cb-0de85a332e5b",
      "metadata": {
        "id": "94311923-8342-4268-b7cb-0de85a332e5b",
        "outputId": "76d4b657-4d93-4926-f2e7-96f28d6f6693"
      },
      "outputs": [
        {
          "name": "stderr",
          "output_type": "stream",
          "text": [
            "2022-06-29 16:17:22.870820: I tensorflow/core/platform/cpu_feature_guard.cc:151] This TensorFlow binary is optimized with oneAPI Deep Neural Network Library (oneDNN) to use the following CPU instructions in performance-critical operations:  AVX2 FMA\n",
            "To enable them in other operations, rebuild TensorFlow with the appropriate compiler flags.\n"
          ]
        },
        {
          "data": {
            "text/plain": [
              "0.014483721"
            ]
          },
          "execution_count": 12,
          "metadata": {},
          "output_type": "execute_result"
        }
      ],
      "source": [
        "#Vamos a ver el error de eso\n",
        "np.mean(keras.losses.mean_squared_error(y_valid,y_pred))"
      ]
    },
    {
      "cell_type": "code",
      "execution_count": null,
      "id": "81ec27e8-ce1f-40dc-be23-3d32713867e6",
      "metadata": {
        "id": "81ec27e8-ce1f-40dc-be23-3d32713867e6",
        "outputId": "fd523961-a882-4d38-85ee-aacc2e3a453f"
      },
      "outputs": [
        {
          "data": {
            "image/png": "[encoded data removed]",
            "text/plain": [
              "<Figure size 432x288 with 1 Axes>"
            ]
          },
          "metadata": {
            "needs_background": "light"
          },
          "output_type": "display_data"
        }
      ],
      "source": [
        "#Muestra la gráfica con tu predicción\n",
        "plot_series(X_valid[0,:,0],y_valid[0,0],y_pred[0,0])\n",
        "plt.show()"
      ]
    },
    {
      "cell_type": "code",
      "execution_count": null,
      "id": "f23b9b5a-7606-4cb6-a92a-203ebde4e429",
      "metadata": {
        "id": "f23b9b5a-7606-4cb6-a92a-203ebde4e429"
      },
      "outputs": [],
      "source": [
        "#Vamos ahora a hacer predicciones lineal. Arma tu modelo secuencial con una capa de flatten y dense:\n",
        "model = keras.models.Sequential([\n",
        "    keras.layers.Flatten(input_shape=[50,1]),\n",
        "    keras.layers.Dense(1)\n",
        "])"
      ]
    },
    {
      "cell_type": "code",
      "execution_count": null,
      "id": "f6ef5d34-b3cb-4d67-97bd-30d402c8b784",
      "metadata": {
        "id": "f6ef5d34-b3cb-4d67-97bd-30d402c8b784"
      },
      "outputs": [],
      "source": [
        "#Compila con pérdida MSE y optimizer ADAM\n",
        "model.compile(loss=\"mse\", optimizer =\"adam\")"
      ]
    },
    {
      "cell_type": "code",
      "execution_count": null,
      "id": "cdfb84fb-66c9-4ecb-b2fa-150b3835a95f",
      "metadata": {
        "id": "cdfb84fb-66c9-4ecb-b2fa-150b3835a95f",
        "outputId": "7d6443fd-48b2-43ca-8801-3da95c7dcef2"
      },
      "outputs": [
        {
          "name": "stdout",
          "output_type": "stream",
          "text": [
            "Epoch 1/20\n",
            "219/219 [==============================] - 2s 5ms/step - loss: 0.0754 - val_loss: 0.0273\n",
            "Epoch 2/20\n",
            "219/219 [==============================] - 1s 4ms/step - loss: 0.0155 - val_loss: 0.0107\n",
            "Epoch 3/20\n",
            "219/219 [==============================] - 1s 3ms/step - loss: 0.0090 - val_loss: 0.0082\n",
            "Epoch 4/20\n",
            "219/219 [==============================] - 1s 2ms/step - loss: 0.0074 - val_loss: 0.0068\n",
            "Epoch 5/20\n",
            "219/219 [==============================] - 1s 2ms/step - loss: 0.0062 - val_loss: 0.0057\n",
            "Epoch 6/20\n",
            "219/219 [==============================] - 1s 2ms/step - loss: 0.0051 - val_loss: 0.0048\n",
            "Epoch 7/20\n",
            "219/219 [==============================] - 1s 2ms/step - loss: 0.0043 - val_loss: 0.0041\n",
            "Epoch 8/20\n",
            "219/219 [==============================] - 0s 2ms/step - loss: 0.0037 - val_loss: 0.0039\n",
            "Epoch 9/20\n",
            "219/219 [==============================] - 1s 2ms/step - loss: 0.0033 - val_loss: 0.0033\n",
            "Epoch 10/20\n",
            "219/219 [==============================] - 1s 2ms/step - loss: 0.0030 - val_loss: 0.0031\n",
            "Epoch 11/20\n",
            "219/219 [==============================] - 1s 2ms/step - loss: 0.0028 - val_loss: 0.0029\n",
            "Epoch 12/20\n",
            "219/219 [==============================] - 1s 3ms/step - loss: 0.0027 - val_loss: 0.0027\n",
            "Epoch 13/20\n",
            "219/219 [==============================] - 1s 3ms/step - loss: 0.0026 - val_loss: 0.0028\n",
            "Epoch 14/20\n",
            "219/219 [==============================] - 1s 3ms/step - loss: 0.0025 - val_loss: 0.0025\n",
            "Epoch 15/20\n",
            "219/219 [==============================] - 1s 2ms/step - loss: 0.0024 - val_loss: 0.0025\n",
            "Epoch 16/20\n",
            "219/219 [==============================] - 0s 2ms/step - loss: 0.0023 - val_loss: 0.0024\n",
            "Epoch 17/20\n",
            "219/219 [==============================] - 0s 2ms/step - loss: 0.0023 - val_loss: 0.0023\n",
            "Epoch 18/20\n",
            "219/219 [==============================] - 0s 2ms/step - loss: 0.0022 - val_loss: 0.0022\n",
            "Epoch 19/20\n",
            "219/219 [==============================] - 0s 2ms/step - loss: 0.0022 - val_loss: 0.0022\n",
            "Epoch 20/20\n",
            "219/219 [==============================] - 1s 2ms/step - loss: 0.0021 - val_loss: 0.0022\n"
          ]
        }
      ],
      "source": [
        "#Entrena con 20 épocas\n",
        "history = model.fit(X_train,y_train,epochs=20, validation_data = (X_valid,y_valid))"
      ]
    },
    {
      "cell_type": "code",
      "execution_count": null,
      "id": "e26ed925-41f1-48c7-84e2-5e06ba776880",
      "metadata": {
        "id": "e26ed925-41f1-48c7-84e2-5e06ba776880",
        "outputId": "cfaca5f4-c936-43b2-d0f5-aa0adcf02cb6"
      },
      "outputs": [
        {
          "name": "stdout",
          "output_type": "stream",
          "text": [
            "63/63 [==============================] - 0s 1ms/step - loss: 0.0022\n"
          ]
        },
        {
          "data": {
            "text/plain": [
              "0.002162977121770382"
            ]
          },
          "execution_count": 17,
          "metadata": {},
          "output_type": "execute_result"
        }
      ],
      "source": [
        "#Evalúa tu modelo sobre valid\n",
        "model.evaluate(X_valid,y_valid)\n"
      ]
    },
    {
      "cell_type": "code",
      "execution_count": null,
      "id": "940079b6-6683-4990-a274-6b16d94274f8",
      "metadata": {
        "id": "940079b6-6683-4990-a274-6b16d94274f8"
      },
      "outputs": [],
      "source": [
        "#Vamos a armar una gráfica (definir una función) para ver las curvas de aprendizaje\n",
        "def plot_learning_curves(loss, val_loss):\n",
        "    plt.plot(np.arange(len(loss)) + 0.5, loss, \"b.-\", label=\"Training loss\")\n",
        "    plt.plot(np.arange(len(val_loss)) + 1, val_loss, \"r.-\", label=\"Validation loss\")\n",
        "    plt.gca().xaxis.set_major_locator(mpl.ticker.MaxNLocator(integer=True))\n",
        "    plt.axis([1, 20, 0, 0.05])\n",
        "    plt.legend(fontsize=14)\n",
        "    plt.xlabel(\"Epochs\")\n",
        "    plt.ylabel(\"Loss\")\n",
        "    plt.grid(True)"
      ]
    },
    {
      "cell_type": "code",
      "execution_count": null,
      "id": "4a92a505-b975-46ce-bc1e-a18fae40add2",
      "metadata": {
        "id": "4a92a505-b975-46ce-bc1e-a18fae40add2",
        "outputId": "b6dce37c-8285-4407-9d92-20ba7a0ea487"
      },
      "outputs": [
        {
          "data": {
            "image/png": "[encoded data removed]",
            "text/plain": [
              "<Figure size 432x288 with 1 Axes>"
            ]
          },
          "metadata": {
            "needs_background": "light"
          },
          "output_type": "display_data"
        }
      ],
      "source": [
        "#Grafica tus curvas de aprendizaje\n",
        "plot_learning_curves(history.history[\"loss\"], history.history[\"val_loss\"])\n",
        "plt.show()"
      ]
    },
    {
      "cell_type": "code",
      "execution_count": null,
      "id": "fa8aeeef-0458-4bf1-8d04-b7b03a24a8cc",
      "metadata": {
        "id": "fa8aeeef-0458-4bf1-8d04-b7b03a24a8cc",
        "outputId": "aabd0677-726d-48c1-8af9-6547060ca3d1"
      },
      "outputs": [
        {
          "data": {
            "image/png": "[encoded data removed]",
            "text/plain": [
              "<Figure size 432x288 with 1 Axes>"
            ]
          },
          "metadata": {
            "needs_background": "light"
          },
          "output_type": "display_data"
        }
      ],
      "source": [
        "# Haz una predicción sobre X_valid (con model. predict) y gráficala con tu función de plot series\n",
        "y_pred = model.predict(X_valid)\n",
        "plot_series(X_valid[0,:,0],y_valid[0,0],y_pred[0,0])\n",
        "plt.show()"
      ]
    },
    {
      "cell_type": "markdown",
      "id": "20a41a73-0e8b-4176-a882-111eeee9e030",
      "metadata": {
        "id": "20a41a73-0e8b-4176-a882-111eeee9e030"
      },
      "source": [
        "### <span style=\"color:blue\">1.3 RNN Simple</span>"
      ]
    },
    {
      "cell_type": "code",
      "execution_count": null,
      "id": "dfd9b03a-6f67-4b0d-b19f-4e9ca8c1de43",
      "metadata": {
        "id": "dfd9b03a-6f67-4b0d-b19f-4e9ca8c1de43"
      },
      "outputs": [],
      "source": [
        "#Ármate un modelo de RNN Simple con 1 sola capa y 1 sola neurona\n",
        "model = keras.models.Sequential([\n",
        "    keras.layers.SimpleRNN(1, input_shape = [None,1])\n",
        "])"
      ]
    },
    {
      "cell_type": "code",
      "execution_count": null,
      "id": "106b1f62-1e60-45fa-b1e8-6b38c851fff8",
      "metadata": {
        "id": "106b1f62-1e60-45fa-b1e8-6b38c851fff8"
      },
      "outputs": [],
      "source": [
        "#Compila con pérdida de MSE y otpimizador ADAM con taza de aprendizaje de 0.005\n",
        "optimizer = keras.optimizers.Adam(learning_rate=0.005)\n",
        "model.compile(loss=\"mse\", optimizer = optimizer)"
      ]
    },
    {
      "cell_type": "code",
      "execution_count": null,
      "id": "34517df9-a3dc-420a-8125-1630c2f99ec2",
      "metadata": {
        "id": "34517df9-a3dc-420a-8125-1630c2f99ec2",
        "outputId": "ea24996e-aea8-4387-e9bc-6bf65465b75d"
      },
      "outputs": [
        {
          "name": "stdout",
          "output_type": "stream",
          "text": [
            "Epoch 1/20\n",
            "219/219 [==============================] - 3s 10ms/step - loss: 0.0304 - val_loss: 0.0104\n",
            "Epoch 2/20\n",
            "219/219 [==============================] - 2s 11ms/step - loss: 0.0094 - val_loss: 0.0088\n",
            "Epoch 3/20\n",
            "219/219 [==============================] - 2s 10ms/step - loss: 0.0092 - val_loss: 0.0087\n",
            "Epoch 4/20\n",
            "219/219 [==============================] - 2s 10ms/step - loss: 0.0091 - val_loss: 0.0087\n",
            "Epoch 5/20\n",
            "219/219 [==============================] - 3s 14ms/step - loss: 0.0091 - val_loss: 0.0086\n",
            "Epoch 6/20\n",
            "219/219 [==============================] - 2s 11ms/step - loss: 0.0091 - val_loss: 0.0086\n",
            "Epoch 7/20\n",
            "219/219 [==============================] - 2s 9ms/step - loss: 0.0091 - val_loss: 0.0087\n",
            "Epoch 8/20\n",
            "219/219 [==============================] - 3s 14ms/step - loss: 0.0091 - val_loss: 0.0087\n",
            "Epoch 9/20\n",
            "219/219 [==============================] - 3s 15ms/step - loss: 0.0091 - val_loss: 0.0086\n",
            "Epoch 10/20\n",
            "219/219 [==============================] - 3s 12ms/step - loss: 0.0091 - val_loss: 0.0087\n",
            "Epoch 11/20\n",
            "219/219 [==============================] - 2s 10ms/step - loss: 0.0091 - val_loss: 0.0086\n",
            "Epoch 12/20\n",
            "219/219 [==============================] - 3s 12ms/step - loss: 0.0091 - val_loss: 0.0086\n",
            "Epoch 13/20\n",
            "219/219 [==============================] - 3s 16ms/step - loss: 0.0091 - val_loss: 0.0086\n",
            "Epoch 14/20\n",
            "219/219 [==============================] - 4s 17ms/step - loss: 0.0091 - val_loss: 0.0087\n",
            "Epoch 15/20\n",
            "219/219 [==============================] - 3s 12ms/step - loss: 0.0091 - val_loss: 0.0087\n",
            "Epoch 16/20\n",
            "219/219 [==============================] - 3s 12ms/step - loss: 0.0091 - val_loss: 0.0087\n",
            "Epoch 17/20\n",
            "219/219 [==============================] - 3s 12ms/step - loss: 0.0091 - val_loss: 0.0087\n",
            "Epoch 18/20\n",
            "219/219 [==============================] - 2s 9ms/step - loss: 0.0091 - val_loss: 0.0087\n",
            "Epoch 19/20\n",
            "219/219 [==============================] - 2s 8ms/step - loss: 0.0091 - val_loss: 0.0086\n",
            "Epoch 20/20\n",
            "219/219 [==============================] - 2s 8ms/step - loss: 0.0091 - val_loss: 0.0086\n"
          ]
        }
      ],
      "source": [
        "#Ejecuta tu modelo a 20 épocas\n",
        "history = model.fit(X_train,y_train,epochs=20, validation_data=(X_valid,y_valid))"
      ]
    },
    {
      "cell_type": "code",
      "execution_count": null,
      "id": "836dded6-d790-47b2-8643-1b835d77a8a3",
      "metadata": {
        "id": "836dded6-d790-47b2-8643-1b835d77a8a3",
        "outputId": "8e8cc004-b376-4ae6-b92a-ae8ad86ebce2"
      },
      "outputs": [
        {
          "name": "stdout",
          "output_type": "stream",
          "text": [
            "63/63 [==============================] - 0s 4ms/step - loss: 0.0086\n"
          ]
        },
        {
          "data": {
            "text/plain": [
              "0.008640117943286896"
            ]
          },
          "execution_count": 24,
          "metadata": {},
          "output_type": "execute_result"
        }
      ],
      "source": [
        "#Evalúa el modelo con Xvalid\n",
        "model.evaluate(X_valid,y_valid)"
      ]
    },
    {
      "cell_type": "code",
      "execution_count": null,
      "id": "1f34353a-1b79-450e-88ef-2e84f03a570a",
      "metadata": {
        "id": "1f34353a-1b79-450e-88ef-2e84f03a570a",
        "outputId": "616a1803-a209-44c3-88a8-57179683f279"
      },
      "outputs": [
        {
          "data": {
            "image/png": "[encoded data removed]",
            "text/plain": [
              "<Figure size 432x288 with 1 Axes>"
            ]
          },
          "metadata": {
            "needs_background": "light"
          },
          "output_type": "display_data"
        }
      ],
      "source": [
        "#Grafica la curva de aprendizaje\n",
        "plot_learning_curves(history.history[\"loss\"], history.history[\"val_loss\"])\n",
        "plt.show()"
      ]
    },
    {
      "cell_type": "code",
      "execution_count": null,
      "id": "bf9096c1-f229-4f65-b711-7f5fa845201a",
      "metadata": {
        "id": "bf9096c1-f229-4f65-b711-7f5fa845201a",
        "outputId": "9d6e7afd-da04-47fe-db63-bbd16d2f0784"
      },
      "outputs": [
        {
          "data": {
            "image/png": "[encoded data removed]",
            "text/plain": [
              "<Figure size 432x288 with 1 Axes>"
            ]
          },
          "metadata": {
            "needs_background": "light"
          },
          "output_type": "display_data"
        }
      ],
      "source": [
        "#Grafica la prediccion vs target\n",
        "y_pred = model.predict(X_valid)\n",
        "plot_series(X_valid[0,:,0],y_valid[0,0],y_pred[0,0])\n",
        "plt.show()"
      ]
    },
    {
      "cell_type": "markdown",
      "id": "84a1a4c7-1eb0-4eee-8a1b-c7bd85c8215b",
      "metadata": {
        "id": "84a1a4c7-1eb0-4eee-8a1b-c7bd85c8215b"
      },
      "source": [
        "### <span style=\"color:blue\">1.4 RNN Profundo</span>"
      ]
    },
    {
      "cell_type": "code",
      "execution_count": null,
      "id": "909ff6b6-a9b2-4751-8fa1-f57c59f89cd6",
      "metadata": {
        "id": "909ff6b6-a9b2-4751-8fa1-f57c59f89cd6"
      },
      "outputs": [],
      "source": [
        "#Arma un modelo de RNN profundo con 3 capas - 20 neuronas por capa y la tercera 1 neurona de salida\n",
        "model = keras.models.Sequential([\n",
        "    keras.layers.SimpleRNN(20, return_sequences=True, input_shape=[None,1]),\n",
        "    keras.layers.SimpleRNN(20, return_sequences=True, input_shape=[None,1]),\n",
        "    keras.layers.SimpleRNN(1)\n",
        "])"
      ]
    },
    {
      "cell_type": "code",
      "execution_count": null,
      "id": "c322f131-f5f9-4eb9-91e0-7c6d790d54b1",
      "metadata": {
        "id": "c322f131-f5f9-4eb9-91e0-7c6d790d54b1"
      },
      "outputs": [],
      "source": [
        "#Comipla con pérdida MSE, Optimizador Adam\n",
        "model.compile(loss = \"mse\", optimizer = \"adam\")"
      ]
    },
    {
      "cell_type": "code",
      "execution_count": null,
      "id": "5375277f-a36e-4d0d-b365-4df98bafab51",
      "metadata": {
        "id": "5375277f-a36e-4d0d-b365-4df98bafab51",
        "outputId": "aa8e3054-e3b4-46db-bc8e-4543b0cff4dc"
      },
      "outputs": [
        {
          "name": "stdout",
          "output_type": "stream",
          "text": [
            "Epoch 1/20\n",
            "219/219 [==============================] - 14s 45ms/step - loss: 0.0144 - val_loss: 0.0031\n",
            "Epoch 2/20\n",
            "219/219 [==============================] - 10s 44ms/step - loss: 0.0024 - val_loss: 0.0023\n",
            "Epoch 3/20\n",
            "219/219 [==============================] - 7s 33ms/step - loss: 0.0020 - val_loss: 0.0019\n",
            "Epoch 4/20\n",
            "219/219 [==============================] - 7s 32ms/step - loss: 0.0018 - val_loss: 0.0018\n",
            "Epoch 5/20\n",
            "219/219 [==============================] - 8s 36ms/step - loss: 0.0018 - val_loss: 0.0017\n",
            "Epoch 6/20\n",
            "219/219 [==============================] - 7s 34ms/step - loss: 0.0017 - val_loss: 0.0017\n",
            "Epoch 7/20\n",
            "219/219 [==============================] - 8s 34ms/step - loss: 0.0017 - val_loss: 0.0017\n",
            "Epoch 8/20\n",
            "219/219 [==============================] - 8s 37ms/step - loss: 0.0017 - val_loss: 0.0016\n",
            "Epoch 9/20\n",
            "219/219 [==============================] - 7s 31ms/step - loss: 0.0017 - val_loss: 0.0016\n",
            "Epoch 10/20\n",
            "219/219 [==============================] - 7s 30ms/step - loss: 0.0016 - val_loss: 0.0016\n",
            "Epoch 11/20\n",
            "219/219 [==============================] - 7s 32ms/step - loss: 0.0016 - val_loss: 0.0016\n",
            "Epoch 12/20\n",
            "219/219 [==============================] - 7s 32ms/step - loss: 0.0016 - val_loss: 0.0015\n",
            "Epoch 13/20\n",
            "219/219 [==============================] - 7s 33ms/step - loss: 0.0016 - val_loss: 0.0017\n",
            "Epoch 14/20\n",
            "219/219 [==============================] - 8s 36ms/step - loss: 0.0016 - val_loss: 0.0015\n",
            "Epoch 15/20\n",
            "219/219 [==============================] - 9s 39ms/step - loss: 0.0016 - val_loss: 0.0014\n",
            "Epoch 16/20\n",
            "219/219 [==============================] - 8s 36ms/step - loss: 0.0016 - val_loss: 0.0017\n",
            "Epoch 17/20\n",
            "219/219 [==============================] - 9s 41ms/step - loss: 0.0015 - val_loss: 0.0017\n",
            "Epoch 18/20\n",
            "219/219 [==============================] - 11s 50ms/step - loss: 0.0016 - val_loss: 0.0016\n",
            "Epoch 19/20\n",
            "219/219 [==============================] - 8s 38ms/step - loss: 0.0015 - val_loss: 0.0015\n",
            "Epoch 20/20\n",
            "219/219 [==============================] - 9s 41ms/step - loss: 0.0015 - val_loss: 0.0014\n"
          ]
        }
      ],
      "source": [
        "#Ejecuta a 20 épocas\n",
        "history = model.fit(X_train,y_train, epochs = 20, validation_data = (X_valid,y_valid))"
      ]
    },
    {
      "cell_type": "code",
      "execution_count": null,
      "id": "4ed4d88d-644b-432f-a82d-fcbde7f9a578",
      "metadata": {
        "id": "4ed4d88d-644b-432f-a82d-fcbde7f9a578",
        "outputId": "3909eca9-6301-442f-b215-44abd2a5e70a"
      },
      "outputs": [
        {
          "name": "stdout",
          "output_type": "stream",
          "text": [
            "63/63 [==============================] - 1s 11ms/step - loss: 0.0014\n"
          ]
        },
        {
          "data": {
            "text/plain": [
              "0.0014484303537756205"
            ]
          },
          "execution_count": 30,
          "metadata": {},
          "output_type": "execute_result"
        }
      ],
      "source": [
        "#Evalúa tu modelo\n",
        "model.evaluate(X_valid,y_valid)"
      ]
    },
    {
      "cell_type": "code",
      "execution_count": null,
      "id": "aac96b17-c731-44b3-bcb3-63c2651d6a9c",
      "metadata": {
        "id": "aac96b17-c731-44b3-bcb3-63c2651d6a9c",
        "outputId": "abbfa71d-59b3-4b54-c472-1e8ff3e4e680"
      },
      "outputs": [
        {
          "data": {
            "image/png": "[encoded data removed]",
            "text/plain": [
              "<Figure size 432x288 with 1 Axes>"
            ]
          },
          "metadata": {
            "needs_background": "light"
          },
          "output_type": "display_data"
        }
      ],
      "source": [
        "#Curvas de Aprendizaje\n",
        "plot_learning_curves(history.history[\"loss\"], history.history[\"val_loss\"])\n",
        "plt.show()"
      ]
    },
    {
      "cell_type": "code",
      "execution_count": null,
      "id": "ba2d3b81-fb43-4618-94f4-913db9e59fe5",
      "metadata": {
        "id": "ba2d3b81-fb43-4618-94f4-913db9e59fe5",
        "outputId": "f9b32e34-6d17-4550-e910-4017bd5afcb4"
      },
      "outputs": [
        {
          "data": {
            "image/png": "[encoded data removed]",
            "text/plain": [
              "<Figure size 432x288 with 1 Axes>"
            ]
          },
          "metadata": {
            "needs_background": "light"
          },
          "output_type": "display_data"
        }
      ],
      "source": [
        "#Gráfica de target vs Aprendizaje\n",
        "y_pred= model.predict(X_valid)\n",
        "plot_series(X_valid[0,:,0], y_valid[0,0],y_pred[0,0])\n",
        "plt.show()"
      ]
    },
    {
      "cell_type": "code",
      "execution_count": null,
      "id": "ab6d2aed-7e10-4ff1-b5b8-482205026b12",
      "metadata": {
        "id": "ab6d2aed-7e10-4ff1-b5b8-482205026b12"
      },
      "outputs": [],
      "source": [
        "# Vamos a rearmar nuestro modelo profundo pero para que la segunda capa de SimpleRNN devuelva solo la última salida\n",
        "model = keras.models.Sequential([\n",
        "    keras.layers.SimpleRNN(20,return_sequences = True, input_shape=[None,1]),\n",
        "    keras.layers.SimpleRNN(20),\n",
        "    keras.layers.Dense(1)\n",
        "])"
      ]
    },
    {
      "cell_type": "code",
      "execution_count": null,
      "id": "a792bc19-2e26-44be-ba68-60bcc414f5e0",
      "metadata": {
        "id": "a792bc19-2e26-44be-ba68-60bcc414f5e0"
      },
      "outputs": [],
      "source": [
        "# Compila MSE, ADAM\n",
        "model.compile(loss=\"mse\", optimizer=\"adam\")"
      ]
    },
    {
      "cell_type": "code",
      "execution_count": null,
      "id": "33d50d1b-506f-4b74-a4e5-e5d08adfbf45",
      "metadata": {
        "id": "33d50d1b-506f-4b74-a4e5-e5d08adfbf45",
        "outputId": "bb5624fb-c38b-4571-f808-4e86c2192800"
      },
      "outputs": [
        {
          "name": "stdout",
          "output_type": "stream",
          "text": [
            "Epoch 1/20\n",
            "219/219 [==============================] - 8s 28ms/step - loss: 0.0701 - val_loss: 0.0079\n",
            "Epoch 2/20\n",
            "219/219 [==============================] - 6s 25ms/step - loss: 0.0053 - val_loss: 0.0033\n",
            "Epoch 3/20\n",
            "219/219 [==============================] - 6s 27ms/step - loss: 0.0028 - val_loss: 0.0022\n",
            "Epoch 4/20\n",
            "219/219 [==============================] - 6s 28ms/step - loss: 0.0021 - val_loss: 0.0020\n",
            "Epoch 5/20\n",
            "219/219 [==============================] - 6s 26ms/step - loss: 0.0019 - val_loss: 0.0017\n",
            "Epoch 6/20\n",
            "219/219 [==============================] - 6s 25ms/step - loss: 0.0018 - val_loss: 0.0017\n",
            "Epoch 7/20\n",
            "219/219 [==============================] - 7s 30ms/step - loss: 0.0017 - val_loss: 0.0017\n",
            "Epoch 8/20\n",
            "219/219 [==============================] - 7s 31ms/step - loss: 0.0017 - val_loss: 0.0016\n",
            "Epoch 9/20\n",
            "219/219 [==============================] - 9s 42ms/step - loss: 0.0016 - val_loss: 0.0017\n",
            "Epoch 10/20\n",
            "219/219 [==============================] - 7s 31ms/step - loss: 0.0016 - val_loss: 0.0015\n",
            "Epoch 11/20\n",
            "219/219 [==============================] - 7s 31ms/step - loss: 0.0016 - val_loss: 0.0015\n",
            "Epoch 12/20\n",
            "219/219 [==============================] - 5s 23ms/step - loss: 0.0016 - val_loss: 0.0016\n",
            "Epoch 13/20\n",
            "219/219 [==============================] - 6s 26ms/step - loss: 0.0016 - val_loss: 0.0016\n",
            "Epoch 14/20\n",
            "219/219 [==============================] - 5s 23ms/step - loss: 0.0015 - val_loss: 0.0014\n",
            "Epoch 15/20\n",
            "219/219 [==============================] - 5s 23ms/step - loss: 0.0016 - val_loss: 0.0014\n",
            "Epoch 16/20\n",
            "219/219 [==============================] - 5s 25ms/step - loss: 0.0015 - val_loss: 0.0015\n",
            "Epoch 17/20\n",
            "219/219 [==============================] - 5s 23ms/step - loss: 0.0015 - val_loss: 0.0014\n",
            "Epoch 18/20\n",
            "219/219 [==============================] - 5s 23ms/step - loss: 0.0015 - val_loss: 0.0014\n",
            "Epoch 19/20\n",
            "219/219 [==============================] - 5s 23ms/step - loss: 0.0015 - val_loss: 0.0014\n",
            "Epoch 20/20\n",
            "219/219 [==============================] - 5s 23ms/step - loss: 0.0015 - val_loss: 0.0015\n"
          ]
        }
      ],
      "source": [
        "# Ejecuta, 20 épocas\n",
        "history = model.fit(X_train,y_train, epochs=20, validation_data=(X_valid,y_valid))"
      ]
    },
    {
      "cell_type": "code",
      "execution_count": null,
      "id": "16a4fddf-c48c-442d-b91d-9591d0151654",
      "metadata": {
        "id": "16a4fddf-c48c-442d-b91d-9591d0151654",
        "outputId": "fbdc637f-1656-4b75-809d-2e10793c45e5"
      },
      "outputs": [
        {
          "name": "stdout",
          "output_type": "stream",
          "text": [
            "63/63 [==============================] - 0s 7ms/step - loss: 0.0015\n"
          ]
        },
        {
          "data": {
            "text/plain": [
              "0.0015201137866824865"
            ]
          },
          "execution_count": 36,
          "metadata": {},
          "output_type": "execute_result"
        }
      ],
      "source": [
        "# Evalúa\n",
        "model.evaluate(X_valid,y_valid)"
      ]
    },
    {
      "cell_type": "code",
      "execution_count": null,
      "id": "cfaf88e0-e7a0-416b-a2e9-cb53680c152d",
      "metadata": {
        "id": "cfaf88e0-e7a0-416b-a2e9-cb53680c152d",
        "outputId": "d8e5dd45-0d1c-4730-f024-53f337af5a49"
      },
      "outputs": [
        {
          "data": {
            "image/png": "[encoded data removed]",
            "text/plain": [
              "<Figure size 432x288 with 1 Axes>"
            ]
          },
          "metadata": {
            "needs_background": "light"
          },
          "output_type": "display_data"
        }
      ],
      "source": [
        "#Curvas de Aprendizaje\n",
        "plot_learning_curves(history.history[\"loss\"],history.history[\"val_loss\"])"
      ]
    },
    {
      "cell_type": "code",
      "execution_count": null,
      "id": "daa4ef10-aa06-45c2-8f3f-054b19b40396",
      "metadata": {
        "id": "daa4ef10-aa06-45c2-8f3f-054b19b40396",
        "outputId": "19c4424e-c2f0-4557-c00d-40f89477c84e"
      },
      "outputs": [
        {
          "data": {
            "image/png": "[encoded data removed]",
            "text/plain": [
              "<Figure size 432x288 with 1 Axes>"
            ]
          },
          "metadata": {
            "needs_background": "light"
          },
          "output_type": "display_data"
        }
      ],
      "source": [
        "# Target vs Predicción\n",
        "y_pred = model.predict(X_valid)\n",
        "plot_series(X_valid[0,:,0], y_valid[0,0], y_pred[0,0])\n",
        "plt.show()"
      ]
    },
    {
      "cell_type": "markdown",
      "id": "e760c1c4-f805-4816-b7f6-5d714bcb2e18",
      "metadata": {
        "id": "e760c1c4-f805-4816-b7f6-5d714bcb2e18"
      },
      "source": [
        "### <span style=\"color:blue\">1.5 Predecir Varios Pasos Adelante</span>"
      ]
    },
    {
      "cell_type": "code",
      "execution_count": null,
      "id": "c7a55384-89ac-4c04-be0f-37ab34ffeb27",
      "metadata": {
        "id": "c7a55384-89ac-4c04-be0f-37ab34ffeb27"
      },
      "outputs": [],
      "source": [
        "#Semillas a 40\n",
        "np.random.seed(40)"
      ]
    },
    {
      "cell_type": "code",
      "execution_count": null,
      "id": "5603c8b1-e7bb-49d7-9bdc-57c30a5ac81b",
      "metadata": {
        "id": "5603c8b1-e7bb-49d7-9bdc-57c30a5ac81b"
      },
      "outputs": [],
      "source": [
        "#Genera una nueva serie de tiempo\n",
        "series = generate_time_series(1,n_steps+10)\n",
        "X_new, Y_new = series[:,:n_steps], series[:,n_steps:]\n",
        "X = X_new\n",
        "for step_ahead in range(10):\n",
        "    y_pred_one = model.predict(X[:,step_ahead:])[:,np.newaxis,:]\n",
        "    X=np.concatenate([X,y_pred_one],axis = 1)\n",
        "\n",
        "Y_pred = X[:,n_steps:]"
      ]
    },
    {
      "cell_type": "code",
      "execution_count": null,
      "id": "958a7603-ef5a-40ee-9592-1b183765ccc8",
      "metadata": {
        "id": "958a7603-ef5a-40ee-9592-1b183765ccc8",
        "outputId": "837b62d8-54c3-4e0c-dd68-550d043a6839"
      },
      "outputs": [
        {
          "data": {
            "text/plain": [
              "(1, 10, 1)"
            ]
          },
          "execution_count": 41,
          "metadata": {},
          "output_type": "execute_result"
        }
      ],
      "source": [
        "#Saca la figura de tu serie de tiempo\n",
        "Y_pred.shape"
      ]
    },
    {
      "cell_type": "code",
      "execution_count": null,
      "id": "e0665d26-41bc-4ee8-b24c-75ebde045a06",
      "metadata": {
        "id": "e0665d26-41bc-4ee8-b24c-75ebde045a06"
      },
      "outputs": [],
      "source": [
        "#Arma una nueva función para graficar varias predicciones\n",
        "def plot_multiple_forecasts(X,Y,Y_pred):\n",
        "    n_steps = X.shape[1]\n",
        "    ahead = Y.shape[1]\n",
        "    plot_series(X[0,:,0])\n",
        "    plt.plot(np.arange(n_steps, n_steps + ahead), Y[0,:,0], \"bo-\", label = \"Actual\")\n",
        "    plt.plot(np.arange(n_steps, n_steps + ahead), Y_pred[0,:,0], \"rx-\", label =\"Forecast\", markersize=10)\n",
        "    plt.axis([0,n_steps + ahead, -1, 1])\n",
        "    plt.legend(fontsize = 14)"
      ]
    },
    {
      "cell_type": "code",
      "execution_count": null,
      "id": "52a369ed-24f6-4444-bfb2-aa20f8d891d6",
      "metadata": {
        "id": "52a369ed-24f6-4444-bfb2-aa20f8d891d6",
        "outputId": "0ba9f763-6363-4ed1-97e9-ce938a754e8c"
      },
      "outputs": [
        {
          "data": {
            "image/png": "[encoded data removed]",
            "text/plain": [
              "<Figure size 432x288 with 1 Axes>"
            ]
          },
          "metadata": {
            "needs_background": "light"
          },
          "output_type": "display_data"
        }
      ],
      "source": [
        "#Prueba tu nueva gráfica\n",
        "plot_multiple_forecasts(X_new,Y_new,Y_pred)\n",
        "plt.show()"
      ]
    },
    {
      "cell_type": "code",
      "execution_count": null,
      "id": "2389b983-1bdd-4a9b-979f-4a0d04e7f066",
      "metadata": {
        "id": "2389b983-1bdd-4a9b-979f-4a0d04e7f066"
      },
      "outputs": [],
      "source": [
        "#Semillas a 40\n",
        "np.random.seed(42)"
      ]
    },
    {
      "cell_type": "code",
      "execution_count": null,
      "id": "9131e3f3-e567-48c3-9469-7fd2ef0d4238",
      "metadata": {
        "id": "9131e3f3-e567-48c3-9469-7fd2ef0d4238"
      },
      "outputs": [],
      "source": [
        "#Genera una nueva serie de tiempo con la función nueva\n",
        "n_steps = 50\n",
        "series = generate_time_series(10000,n_steps + 10)"
      ]
    },
    {
      "cell_type": "code",
      "execution_count": null,
      "id": "92a3c3fb-eff6-4ea9-b97b-41e49806316d",
      "metadata": {
        "id": "92a3c3fb-eff6-4ea9-b97b-41e49806316d"
      },
      "outputs": [],
      "source": [
        "#Guarda tus datos en X_train, Y_train, X_test\n",
        "X_train, Y_train = series[:7000, :n_steps], series[:7000, -10:, 0]\n",
        "X_valid, Y_valid = series[7000:9000, :n_steps], series[7000:9000, -10:, 0]\n",
        "X_test, Y_test = series[9000:, :n_steps], series[9000:, -10:, 0]"
      ]
    },
    {
      "cell_type": "code",
      "execution_count": null,
      "id": "1c881a16-dde1-4b8c-af6d-ab432cd2211a",
      "metadata": {
        "id": "1c881a16-dde1-4b8c-af6d-ab432cd2211a"
      },
      "outputs": [],
      "source": [
        "#Vamos a predecir los siguientes 10 valores uno por uno\n",
        "X = X_valid\n",
        "for step_ahead in range(10):\n",
        "    y_pred_one = model.predict(X)[:,np.newaxis,:]\n",
        "    X = np.concatenate([X,y_pred_one], axis = 1)\n",
        "\n",
        "Y_pred = X[:,n_steps:,0]"
      ]
    },
    {
      "cell_type": "code",
      "execution_count": null,
      "id": "e6022bae-f9d0-479e-bc07-9a4193dae56c",
      "metadata": {
        "id": "e6022bae-f9d0-479e-bc07-9a4193dae56c",
        "outputId": "febdecbb-ae83-42bb-85f1-cf9ae0cc56cd"
      },
      "outputs": [
        {
          "data": {
            "text/plain": [
              "(2000, 10)"
            ]
          },
          "execution_count": 48,
          "metadata": {},
          "output_type": "execute_result"
        }
      ],
      "source": [
        "#Figura de tu predicción\n",
        "Y_pred.shape"
      ]
    },
    {
      "cell_type": "code",
      "execution_count": null,
      "id": "3ad4f52d-b3d8-40d4-9ab6-9715de6f8fa5",
      "metadata": {
        "id": "3ad4f52d-b3d8-40d4-9ab6-9715de6f8fa5",
        "outputId": "d9d350bc-461f-4965-bfba-c2df1ff11a9c"
      },
      "outputs": [
        {
          "data": {
            "text/plain": [
              "0.008652486"
            ]
          },
          "execution_count": 49,
          "metadata": {},
          "output_type": "execute_result"
        }
      ],
      "source": [
        "#Saca el promedio de los erroes cuadrados\n",
        "np.mean(keras.metrics.mean_squared_error(Y_valid,Y_pred))"
      ]
    },
    {
      "cell_type": "markdown",
      "id": "e5985b8a-46f1-4bf4-9dc6-b69cf5e88c39",
      "metadata": {
        "id": "e5985b8a-46f1-4bf4-9dc6-b69cf5e88c39"
      },
      "source": [
        "### <span style=\"color:blue\">1.6 Comparemos nuestro desempeño con predicciones ingenuas de un modelo simple lineal</span>"
      ]
    },
    {
      "cell_type": "code",
      "execution_count": null,
      "id": "309a19a3-9bc4-48da-8ae7-486c9e5bed4c",
      "metadata": {
        "id": "309a19a3-9bc4-48da-8ae7-486c9e5bed4c"
      },
      "outputs": [],
      "source": [
        "#Toma el valor del último paso de tiempo y repitlo 10 veces\n",
        "Y_naive_pred = np.tile(X_valid[:,-1],10)"
      ]
    },
    {
      "cell_type": "code",
      "execution_count": null,
      "id": "3404c9b7-1d32-42c7-a423-c7115cfe7e82",
      "metadata": {
        "id": "3404c9b7-1d32-42c7-a423-c7115cfe7e82",
        "outputId": "634bece5-adeb-48d8-cda2-bd4eeb140113"
      },
      "outputs": [
        {
          "data": {
            "text/plain": [
              "array([[-0.13713104, -0.13713104, -0.13713104, ..., -0.13713104,\n",
              "        -0.13713104, -0.13713104],\n",
              "       [ 0.01940748,  0.01940748,  0.01940748, ...,  0.01940748,\n",
              "         0.01940748,  0.01940748],\n",
              "       [-0.6801544 , -0.6801544 , -0.6801544 , ..., -0.6801544 ,\n",
              "        -0.6801544 , -0.6801544 ],\n",
              "       ...,\n",
              "       [ 0.3898151 ,  0.3898151 ,  0.3898151 , ...,  0.3898151 ,\n",
              "         0.3898151 ,  0.3898151 ],\n",
              "       [ 0.31291625,  0.31291625,  0.31291625, ...,  0.31291625,\n",
              "         0.31291625,  0.31291625],\n",
              "       [-0.4083407 , -0.4083407 , -0.4083407 , ..., -0.4083407 ,\n",
              "        -0.4083407 , -0.4083407 ]], dtype=float32)"
            ]
          },
          "execution_count": 51,
          "metadata": {},
          "output_type": "execute_result"
        }
      ],
      "source": [
        "Y_naive_pred"
      ]
    },
    {
      "cell_type": "code",
      "execution_count": null,
      "id": "4a7062b4-616c-4c38-8b94-29d8914432cd",
      "metadata": {
        "id": "4a7062b4-616c-4c38-8b94-29d8914432cd",
        "outputId": "60a2c348-6a90-48f3-fb6d-0c40d0ee34f9"
      },
      "outputs": [
        {
          "data": {
            "text/plain": [
              "0.2447"
            ]
          },
          "execution_count": 52,
          "metadata": {},
          "output_type": "execute_result"
        }
      ],
      "source": [
        "#promedio de error cuadrado\n",
        "np.mean(keras.metrics.mean_squared_error(Y_valid,Y_naive_pred))"
      ]
    },
    {
      "cell_type": "code",
      "execution_count": null,
      "id": "1d6b1699-8b8a-4397-87e6-51e85bb8783f",
      "metadata": {
        "id": "1d6b1699-8b8a-4397-87e6-51e85bb8783f"
      },
      "outputs": [],
      "source": [
        "#Arma un modelo secuencial sencillo con una capa flatten y una capa densa de 10\n",
        "model = keras.models.Sequential([\n",
        "    keras.layers.Flatten(input_shape=[50,1]),\n",
        "    keras.layers.Dense(10)\n",
        "])"
      ]
    },
    {
      "cell_type": "code",
      "execution_count": null,
      "id": "f0f1da83-b90a-487d-991d-1eacb569c3a8",
      "metadata": {
        "id": "f0f1da83-b90a-487d-991d-1eacb569c3a8",
        "outputId": "f102ff74-a116-4520-f998-541e4053d2d0"
      },
      "outputs": [
        {
          "name": "stdout",
          "output_type": "stream",
          "text": [
            "Epoch 1/20\n",
            "219/219 [==============================] - 2s 5ms/step - loss: 0.0894 - val_loss: 0.0263\n",
            "Epoch 2/20\n",
            "219/219 [==============================] - 1s 2ms/step - loss: 0.0196 - val_loss: 0.0141\n",
            "Epoch 3/20\n",
            "219/219 [==============================] - 1s 3ms/step - loss: 0.0128 - val_loss: 0.0107\n",
            "Epoch 4/20\n",
            "219/219 [==============================] - 0s 2ms/step - loss: 0.0106 - val_loss: 0.0096\n",
            "Epoch 5/20\n",
            "219/219 [==============================] - 1s 2ms/step - loss: 0.0097 - val_loss: 0.0088\n",
            "Epoch 6/20\n",
            "219/219 [==============================] - 0s 2ms/step - loss: 0.0090 - val_loss: 0.0084\n",
            "Epoch 7/20\n",
            "219/219 [==============================] - 0s 2ms/step - loss: 0.0084 - val_loss: 0.0078\n",
            "Epoch 8/20\n",
            "219/219 [==============================] - 1s 2ms/step - loss: 0.0079 - val_loss: 0.0074\n",
            "Epoch 9/20\n",
            "219/219 [==============================] - 0s 2ms/step - loss: 0.0075 - val_loss: 0.0069\n",
            "Epoch 10/20\n",
            "219/219 [==============================] - 1s 3ms/step - loss: 0.0071 - val_loss: 0.0066\n",
            "Epoch 11/20\n",
            "219/219 [==============================] - 0s 2ms/step - loss: 0.0067 - val_loss: 0.0063\n",
            "Epoch 12/20\n",
            "219/219 [==============================] - 0s 2ms/step - loss: 0.0064 - val_loss: 0.0060\n",
            "Epoch 13/20\n",
            "219/219 [==============================] - 0s 2ms/step - loss: 0.0060 - val_loss: 0.0057\n",
            "Epoch 14/20\n",
            "219/219 [==============================] - 1s 2ms/step - loss: 0.0058 - val_loss: 0.0056\n",
            "Epoch 15/20\n",
            "219/219 [==============================] - 0s 2ms/step - loss: 0.0056 - val_loss: 0.0052\n",
            "Epoch 16/20\n",
            "219/219 [==============================] - 1s 2ms/step - loss: 0.0053 - val_loss: 0.0051\n",
            "Epoch 17/20\n",
            "219/219 [==============================] - 0s 2ms/step - loss: 0.0052 - val_loss: 0.0050\n",
            "Epoch 18/20\n",
            "219/219 [==============================] - 1s 3ms/step - loss: 0.0050 - val_loss: 0.0048\n",
            "Epoch 19/20\n",
            "219/219 [==============================] - 1s 3ms/step - loss: 0.0048 - val_loss: 0.0047\n",
            "Epoch 20/20\n",
            "219/219 [==============================] - 1s 4ms/step - loss: 0.0047 - val_loss: 0.0046\n"
          ]
        }
      ],
      "source": [
        "# Compila con MSE y ADAM, ejecuta a 20 epocas\n",
        "model.compile(loss=\"mse\",optimizer=\"adam\")\n",
        "history=model.fit(X_train,Y_train, epochs = 20, validation_data = (X_valid,Y_valid))"
      ]
    },
    {
      "cell_type": "code",
      "execution_count": null,
      "id": "8e171568-a0e2-4274-b3d0-e5992ad18ea5",
      "metadata": {
        "id": "8e171568-a0e2-4274-b3d0-e5992ad18ea5"
      },
      "outputs": [],
      "source": [
        "# Ahora creamos un RNN que predice todos los siguientes 10 valores al mismo tiempo\n",
        "model = keras.models.Sequential([\n",
        "    keras.layers.SimpleRNN(20, return_sequences=True, input_shape=[None, 1]),\n",
        "    keras.layers.SimpleRNN(20),\n",
        "    keras.layers.Dense(10)\n",
        "])"
      ]
    },
    {
      "cell_type": "code",
      "execution_count": null,
      "id": "f4db1d66-5d16-43b7-8f41-14bca236dc7a",
      "metadata": {
        "id": "f4db1d66-5d16-43b7-8f41-14bca236dc7a"
      },
      "outputs": [],
      "source": [
        "#Compila con MSE, optimizador NADAM\n",
        "model.compile(loss=\"mse\", optimizer = \"adam\")"
      ]
    },
    {
      "cell_type": "code",
      "execution_count": null,
      "id": "c88c28cd-0f0f-42bb-80e5-c50640913b26",
      "metadata": {
        "id": "c88c28cd-0f0f-42bb-80e5-c50640913b26",
        "outputId": "ab747146-02d6-4974-8e99-baba235b92dc"
      },
      "outputs": [
        {
          "name": "stdout",
          "output_type": "stream",
          "text": [
            "Epoch 1/20\n",
            "219/219 [==============================] - 8s 29ms/step - loss: 0.0339 - val_loss: 0.0107\n",
            "Epoch 2/20\n",
            "219/219 [==============================] - 7s 30ms/step - loss: 0.0083 - val_loss: 0.0062\n",
            "Epoch 3/20\n",
            "219/219 [==============================] - 6s 27ms/step - loss: 0.0060 - val_loss: 0.0059\n",
            "Epoch 4/20\n",
            "219/219 [==============================] - 7s 30ms/step - loss: 0.0049 - val_loss: 0.0043\n",
            "Epoch 5/20\n",
            "219/219 [==============================] - 6s 26ms/step - loss: 0.0044 - val_loss: 0.0040\n",
            "Epoch 6/20\n",
            "219/219 [==============================] - 5s 23ms/step - loss: 0.0037 - val_loss: 0.0046\n",
            "Epoch 7/20\n",
            "219/219 [==============================] - 6s 27ms/step - loss: 0.0034 - val_loss: 0.0034\n",
            "Epoch 8/20\n",
            "219/219 [==============================] - 6s 26ms/step - loss: 0.0030 - val_loss: 0.0027\n",
            "Epoch 9/20\n",
            "219/219 [==============================] - 6s 26ms/step - loss: 0.0029 - val_loss: 0.0027\n",
            "Epoch 10/20\n",
            "219/219 [==============================] - 5s 24ms/step - loss: 0.0025 - val_loss: 0.0025\n",
            "Epoch 11/20\n",
            "219/219 [==============================] - 5s 24ms/step - loss: 0.0027 - val_loss: 0.0026\n",
            "Epoch 12/20\n",
            "219/219 [==============================] - 6s 29ms/step - loss: 0.0026 - val_loss: 0.0021\n",
            "Epoch 13/20\n",
            "219/219 [==============================] - 6s 26ms/step - loss: 0.0024 - val_loss: 0.0021\n",
            "Epoch 14/20\n",
            "219/219 [==============================] - 5s 24ms/step - loss: 0.0023 - val_loss: 0.0021\n",
            "Epoch 15/20\n",
            "219/219 [==============================] - 5s 24ms/step - loss: 0.0023 - val_loss: 0.0027\n",
            "Epoch 16/20\n",
            "219/219 [==============================] - 5s 23ms/step - loss: 0.0022 - val_loss: 0.0029\n",
            "Epoch 17/20\n",
            "219/219 [==============================] - 5s 23ms/step - loss: 0.0022 - val_loss: 0.0020\n",
            "Epoch 18/20\n",
            "219/219 [==============================] - 5s 23ms/step - loss: 0.0021 - val_loss: 0.0022\n",
            "Epoch 19/20\n",
            "219/219 [==============================] - 5s 25ms/step - loss: 0.0022 - val_loss: 0.0020\n",
            "Epoch 20/20\n",
            "219/219 [==============================] - 5s 23ms/step - loss: 0.0022 - val_loss: 0.0020\n"
          ]
        }
      ],
      "source": [
        "#Ejecuta a 20 épocas\n",
        "history = model.fit(X_train,Y_train, epochs = 20, validation_data = (X_valid,Y_valid))"
      ]
    },
    {
      "cell_type": "code",
      "execution_count": null,
      "id": "06cecd34-ae07-4716-9e0b-de962d1c4950",
      "metadata": {
        "id": "06cecd34-ae07-4716-9e0b-de962d1c4950"
      },
      "outputs": [],
      "source": [
        "#Genera una nueva serie de tiempo, asignasela a xnew y ynew, usaloas para hace runa prediccion ypred\n",
        "np.random.seed(43)\n",
        "\n",
        "series = generate_time_series(1, 50+10)\n",
        "X_new, Y_new = series[:,:50,:], series[:,-10:,:]\n",
        "Y_pred = model.predict(X_new)[...,np.newaxis]"
      ]
    },
    {
      "cell_type": "code",
      "execution_count": null,
      "id": "beb6a20e-3022-4654-80e8-f2676e6a729d",
      "metadata": {
        "id": "beb6a20e-3022-4654-80e8-f2676e6a729d",
        "outputId": "7ba14c5a-1e67-41d5-ecfb-00ce7430f129"
      },
      "outputs": [
        {
          "data": {
            "image/png": "[encoded data removed]",
            "text/plain": [
              "<Figure size 432x288 with 1 Axes>"
            ]
          },
          "metadata": {
            "needs_background": "light"
          },
          "output_type": "display_data"
        }
      ],
      "source": [
        "#Grafica tus forecasts multiples\n",
        "plot_multiple_forecasts(X_new,Y_new,Y_pred)\n",
        "plt.show()"
      ]
    },
    {
      "cell_type": "code",
      "execution_count": null,
      "id": "7be63b1d-cd19-42d3-9935-ccd5a80f3259",
      "metadata": {
        "id": "7be63b1d-cd19-42d3-9935-ccd5a80f3259",
        "outputId": "0a3a772f-08a2-4948-c903-404e87f8114a"
      },
      "outputs": [
        {
          "data": {
            "text/plain": [
              "array([[[-0.02507842],\n",
              "        [ 0.01174527],\n",
              "        [-0.02365482],\n",
              "        [-0.01887631],\n",
              "        [-0.00976056],\n",
              "        [-0.02467674],\n",
              "        [ 0.01505408],\n",
              "        [ 0.02145098],\n",
              "        [-0.03821154],\n",
              "        [ 0.02142729]]], dtype=float32)"
            ]
          },
          "execution_count": 60,
          "metadata": {},
          "output_type": "execute_result"
        }
      ],
      "source": [
        "Y_pred-Y_new"
      ]
    },
    {
      "cell_type": "markdown",
      "id": "e4c5a77c-bceb-4d9a-b64d-7d3d3c0e854b",
      "metadata": {
        "id": "e4c5a77c-bceb-4d9a-b64d-7d3d3c0e854b"
      },
      "source": [
        "### <span style=\"color:blue\">1.7 Creamos un modelo que predice los siguientes 10 pasos a a cada paso</span>\n"
      ]
    },
    {
      "cell_type": "code",
      "execution_count": null,
      "id": "28e8aa3b-49fb-4564-8838-03c51e2a3e2b",
      "metadata": {
        "id": "28e8aa3b-49fb-4564-8838-03c51e2a3e2b"
      },
      "outputs": [],
      "source": [
        "#Generamos nuestra serie de tiempo\n",
        "np.random.seed(42)\n",
        "\n",
        "n_steps = 50\n",
        "series = generate_time_series(10000, n_steps + 10)"
      ]
    },
    {
      "cell_type": "code",
      "execution_count": null,
      "id": "491971a1-f44a-4681-82da-de92f30e31d4",
      "metadata": {
        "id": "491971a1-f44a-4681-82da-de92f30e31d4"
      },
      "outputs": [],
      "source": [
        "#Asignamos a xtrain, xvalid y x test\n",
        "X_train = series[:7000, :n_steps]\n",
        "X_valid = series[7000:9000, :n_steps]\n",
        "X_test = series[9000:, :n_steps]"
      ]
    },
    {
      "cell_type": "code",
      "execution_count": null,
      "id": "2c798bdf-7476-4563-9323-5d57a324a850",
      "metadata": {
        "id": "2c798bdf-7476-4563-9323-5d57a324a850"
      },
      "outputs": [],
      "source": [
        "#Asignamos a ytrain, yvalid, y ytest\n",
        "Y = np.empty((10000,n_steps,10))"
      ]
    },
    {
      "cell_type": "code",
      "execution_count": null,
      "id": "3b7d37f0-24b7-4372-aea3-e903e493f297",
      "metadata": {
        "id": "3b7d37f0-24b7-4372-aea3-e903e493f297"
      },
      "outputs": [],
      "source": [
        "#Como va a funcionar le modelo\n",
        "for step_ahead in range(1,10+1):\n",
        "    Y[...,step_ahead-1] = series[...,step_ahead:step_ahead+n_steps,0]"
      ]
    },
    {
      "cell_type": "code",
      "execution_count": null,
      "id": "d449987b-da21-4791-960e-30bf88a0c68d",
      "metadata": {
        "id": "d449987b-da21-4791-960e-30bf88a0c68d"
      },
      "outputs": [],
      "source": [
        " Y_train = Y[:7000]\n",
        "Y_valid = Y[7000:9000]\n",
        "Y_test = Y[9000:]"
      ]
    },
    {
      "cell_type": "code",
      "execution_count": null,
      "id": "7c8176e1-5b3c-45c4-94c9-037cd8c7e2b1",
      "metadata": {
        "id": "7c8176e1-5b3c-45c4-94c9-037cd8c7e2b1",
        "outputId": "a652f50f-9084-47c5-9fb5-736d8c0779ee"
      },
      "outputs": [
        {
          "data": {
            "text/plain": [
              "(7000, 50, 10)"
            ]
          },
          "execution_count": 66,
          "metadata": {},
          "output_type": "execute_result"
        }
      ],
      "source": [
        "#Figura de tu modelo\n",
        "Y_train.shape"
      ]
    },
    {
      "cell_type": "code",
      "execution_count": null,
      "id": "aec8f15f-7d34-4b56-acdd-6cb258374cb5",
      "metadata": {
        "id": "aec8f15f-7d34-4b56-acdd-6cb258374cb5"
      },
      "outputs": [],
      "source": [
        "#Armamos nuestro RNN\n",
        "model = keras.models.Sequential([\n",
        "    keras.layers.SimpleRNN(20, return_sequences=True, input_shape=[None, 1]),\n",
        "    keras.layers.SimpleRNN(20, return_sequences=True),\n",
        "    keras.layers.TimeDistributed(keras.layers.Dense(10))\n",
        "])"
      ]
    },
    {
      "cell_type": "code",
      "execution_count": null,
      "id": "3f4b8ffe-cc21-4f4e-b7e5-c20a720f5aca",
      "metadata": {
        "id": "3f4b8ffe-cc21-4f4e-b7e5-c20a720f5aca"
      },
      "outputs": [],
      "source": [
        "#Define una función de útlimo paso\n",
        "def last_time_step_mse(Y_true, Y_pred):\n",
        "    return keras.metrics.mean_squared_error(Y_true[:, -1], Y_pred[:, -1])"
      ]
    },
    {
      "cell_type": "code",
      "execution_count": null,
      "id": "a4231208-adb3-4d51-b90f-dd68fb621a17",
      "metadata": {
        "id": "a4231208-adb3-4d51-b90f-dd68fb621a17",
        "outputId": "c0d6787c-2898-4271-fe44-467f8437da5b"
      },
      "outputs": [
        {
          "name": "stdout",
          "output_type": "stream",
          "text": [
            "Epoch 1/20\n",
            "219/219 [==============================] - 8s 24ms/step - loss: 0.0334 - last_time_step_mse: 0.0242 - val_loss: 0.0204 - val_last_time_step_mse: 0.0095\n",
            "Epoch 2/20\n",
            "219/219 [==============================] - 6s 27ms/step - loss: 0.0196 - last_time_step_mse: 0.0092 - val_loss: 0.0184 - val_last_time_step_mse: 0.0091\n",
            "Epoch 3/20\n",
            "219/219 [==============================] - 6s 29ms/step - loss: 0.0152 - last_time_step_mse: 0.0065 - val_loss: 0.0139 - val_last_time_step_mse: 0.0063\n",
            "Epoch 4/20\n",
            "219/219 [==============================] - 8s 37ms/step - loss: 0.0128 - last_time_step_mse: 0.0056 - val_loss: 0.0116 - val_last_time_step_mse: 0.0054\n",
            "Epoch 5/20\n",
            "219/219 [==============================] - 9s 39ms/step - loss: 0.0111 - last_time_step_mse: 0.0049 - val_loss: 0.0101 - val_last_time_step_mse: 0.0043\n",
            "Epoch 6/20\n",
            "219/219 [==============================] - 7s 30ms/step - loss: 0.0106 - last_time_step_mse: 0.0047 - val_loss: 0.0096 - val_last_time_step_mse: 0.0040\n",
            "Epoch 7/20\n",
            "219/219 [==============================] - 6s 28ms/step - loss: 0.0101 - last_time_step_mse: 0.0045 - val_loss: 0.0094 - val_last_time_step_mse: 0.0038\n",
            "Epoch 8/20\n",
            "219/219 [==============================] - 6s 26ms/step - loss: 0.0096 - last_time_step_mse: 0.0039 - val_loss: 0.0095 - val_last_time_step_mse: 0.0040\n",
            "Epoch 9/20\n",
            "219/219 [==============================] - 6s 29ms/step - loss: 0.0093 - last_time_step_mse: 0.0038 - val_loss: 0.0088 - val_last_time_step_mse: 0.0034\n",
            "Epoch 10/20\n",
            "219/219 [==============================] - 8s 35ms/step - loss: 0.0092 - last_time_step_mse: 0.0037 - val_loss: 0.0110 - val_last_time_step_mse: 0.0069\n",
            "Epoch 11/20\n",
            "219/219 [==============================] - 6s 25ms/step - loss: 0.0090 - last_time_step_mse: 0.0035 - val_loss: 0.0088 - val_last_time_step_mse: 0.0032\n",
            "Epoch 12/20\n",
            "219/219 [==============================] - 5s 23ms/step - loss: 0.0090 - last_time_step_mse: 0.0036 - val_loss: 0.0096 - val_last_time_step_mse: 0.0046\n",
            "Epoch 13/20\n",
            "219/219 [==============================] - 5s 23ms/step - loss: 0.0088 - last_time_step_mse: 0.0034 - val_loss: 0.0085 - val_last_time_step_mse: 0.0029\n",
            "Epoch 14/20\n",
            "219/219 [==============================] - 5s 23ms/step - loss: 0.0087 - last_time_step_mse: 0.0034 - val_loss: 0.0084 - val_last_time_step_mse: 0.0031\n",
            "Epoch 15/20\n",
            "219/219 [==============================] - 5s 24ms/step - loss: 0.0085 - last_time_step_mse: 0.0031 - val_loss: 0.0085 - val_last_time_step_mse: 0.0033\n",
            "Epoch 16/20\n",
            "219/219 [==============================] - 5s 23ms/step - loss: 0.0085 - last_time_step_mse: 0.0032 - val_loss: 0.0087 - val_last_time_step_mse: 0.0041\n",
            "Epoch 17/20\n",
            "219/219 [==============================] - 5s 23ms/step - loss: 0.0085 - last_time_step_mse: 0.0032 - val_loss: 0.0080 - val_last_time_step_mse: 0.0027\n",
            "Epoch 18/20\n",
            "219/219 [==============================] - 5s 23ms/step - loss: 0.0083 - last_time_step_mse: 0.0031 - val_loss: 0.0081 - val_last_time_step_mse: 0.0031\n",
            "Epoch 19/20\n",
            "219/219 [==============================] - 5s 22ms/step - loss: 0.0081 - last_time_step_mse: 0.0030 - val_loss: 0.0079 - val_last_time_step_mse: 0.0030\n",
            "Epoch 20/20\n",
            "219/219 [==============================] - 5s 23ms/step - loss: 0.0082 - last_time_step_mse: 0.0032 - val_loss: 0.0112 - val_last_time_step_mse: 0.0049\n"
          ]
        }
      ],
      "source": [
        "# Compila con MSE, ADAM\n",
        "model.compile(loss = \"mse\", optimizer = keras.optimizers.Adam(learning_rate=0.01), metrics = [last_time_step_mse])\n",
        "history = model.fit(X_train, Y_train, epochs = 20, validation_data=(X_valid,Y_valid))"
      ]
    },
    {
      "cell_type": "code",
      "execution_count": null,
      "id": "ea31a617-cf09-4f8b-8f21-d6b0bdf66d01",
      "metadata": {
        "id": "ea31a617-cf09-4f8b-8f21-d6b0bdf66d01"
      },
      "outputs": [],
      "source": [
        "#Ejecuta tu modelo a 20 épocas"
      ]
    },
    {
      "cell_type": "code",
      "execution_count": null,
      "id": "daee3496-a2a1-4553-8d24-effb8a28dc09",
      "metadata": {
        "id": "daee3496-a2a1-4553-8d24-effb8a28dc09"
      },
      "outputs": [],
      "source": [
        "#Genera tu serie de Tiempo"
      ]
    },
    {
      "cell_type": "code",
      "execution_count": null,
      "id": "62be689b-c9c7-44f7-857f-d082b4ccb424",
      "metadata": {
        "id": "62be689b-c9c7-44f7-857f-d082b4ccb424"
      },
      "outputs": [],
      "source": [
        "#Asígnala a XNew YNew, haz tu YPRED"
      ]
    },
    {
      "cell_type": "code",
      "execution_count": null,
      "id": "c85b3659-c188-4853-ac2c-9885e7b35234",
      "metadata": {
        "id": "c85b3659-c188-4853-ac2c-9885e7b35234"
      },
      "outputs": [],
      "source": [
        "#Grafica tus múltiples forecasts"
      ]
    },
    {
      "cell_type": "markdown",
      "id": "7c455eab-cf0b-43d3-8a28-60b190d2cc78",
      "metadata": {
        "id": "7c455eab-cf0b-43d3-8a28-60b190d2cc78"
      },
      "source": [
        "## <span style=\"color:green\">2. Manejando Secuencias largas </span>"
      ]
    },
    {
      "cell_type": "markdown",
      "id": "8a6e3795-52b8-4917-b9ff-17c771fabd89",
      "metadata": {
        "id": "8a6e3795-52b8-4917-b9ff-17c771fabd89"
      },
      "source": [
        "### <span style=\"color:blue\">2.1 RNN Profundos con Batch Norm </span>\n"
      ]
    },
    {
      "cell_type": "code",
      "execution_count": null,
      "id": "933b7d7e-b3aa-40cf-a23d-cad4364a507b",
      "metadata": {
        "id": "933b7d7e-b3aa-40cf-a23d-cad4364a507b"
      },
      "outputs": [],
      "source": [
        "#Arma un modelo con 2 capas de RNN, seguidas cada una de batchnorm, terminas con una Dense time distributed\n",
        "model = keras.models.Sequential([\n",
        "    keras.layers.SimpleRNN(20,return_sequences = True, input_shape = [None,1]),\n",
        "    keras.layers.BatchNormalization(),\n",
        "    keras.layers.SimpleRNN(20, return_sequences = True),\n",
        "    keras.layers.BatchNormalization(),\n",
        "    keras.layers.TimeDistributed(keras.layers.Dense(10))\n",
        "])"
      ]
    },
    {
      "cell_type": "code",
      "execution_count": null,
      "id": "88f00a77-0159-4a65-bd90-b91df77f2cef",
      "metadata": {
        "id": "88f00a77-0159-4a65-bd90-b91df77f2cef"
      },
      "outputs": [],
      "source": [
        "#Compila con MSE, NADAM\n",
        "model.compile(loss = \"mse\", optimizer = \"adam\", metrics = [last_time_step_mse])"
      ]
    },
    {
      "cell_type": "code",
      "execution_count": null,
      "id": "f277c943-efa4-4de4-8d38-22b1032cd325",
      "metadata": {
        "id": "f277c943-efa4-4de4-8d38-22b1032cd325",
        "outputId": "3e5b8b9d-bf00-4244-8c2b-116d016db201"
      },
      "outputs": [
        {
          "name": "stdout",
          "output_type": "stream",
          "text": [
            "Epoch 1/20\n",
            "219/219 [==============================] - 8s 25ms/step - loss: 0.1225 - last_time_step_mse: 0.1105 - val_loss: 0.1182 - val_last_time_step_mse: 0.1128\n",
            "Epoch 2/20\n",
            "219/219 [==============================] - 5s 23ms/step - loss: 0.0301 - last_time_step_mse: 0.0210 - val_loss: 0.0469 - val_last_time_step_mse: 0.0377\n",
            "Epoch 3/20\n",
            "219/219 [==============================] - 6s 28ms/step - loss: 0.0229 - last_time_step_mse: 0.0143 - val_loss: 0.0212 - val_last_time_step_mse: 0.0126\n",
            "Epoch 4/20\n",
            "219/219 [==============================] - 6s 29ms/step - loss: 0.0192 - last_time_step_mse: 0.0111 - val_loss: 0.0172 - val_last_time_step_mse: 0.0091\n",
            "Epoch 5/20\n",
            "219/219 [==============================] - 6s 27ms/step - loss: 0.0170 - last_time_step_mse: 0.0093 - val_loss: 0.0154 - val_last_time_step_mse: 0.0077\n",
            "Epoch 6/20\n",
            "219/219 [==============================] - 6s 27ms/step - loss: 0.0155 - last_time_step_mse: 0.0078 - val_loss: 0.0153 - val_last_time_step_mse: 0.0081\n",
            "Epoch 7/20\n",
            "219/219 [==============================] - 6s 29ms/step - loss: 0.0149 - last_time_step_mse: 0.0075 - val_loss: 0.0138 - val_last_time_step_mse: 0.0061\n",
            "Epoch 8/20\n",
            "219/219 [==============================] - 6s 28ms/step - loss: 0.0142 - last_time_step_mse: 0.0067 - val_loss: 0.0138 - val_last_time_step_mse: 0.0066\n",
            "Epoch 9/20\n",
            "219/219 [==============================] - 6s 27ms/step - loss: 0.0138 - last_time_step_mse: 0.0063 - val_loss: 0.0138 - val_last_time_step_mse: 0.0066\n",
            "Epoch 10/20\n",
            "219/219 [==============================] - 6s 30ms/step - loss: 0.0135 - last_time_step_mse: 0.0062 - val_loss: 0.0178 - val_last_time_step_mse: 0.0118\n",
            "Epoch 11/20\n",
            "219/219 [==============================] - 7s 32ms/step - loss: 0.0132 - last_time_step_mse: 0.0058 - val_loss: 0.0137 - val_last_time_step_mse: 0.0065\n",
            "Epoch 12/20\n",
            "219/219 [==============================] - 7s 34ms/step - loss: 0.0128 - last_time_step_mse: 0.0056 - val_loss: 0.0133 - val_last_time_step_mse: 0.0065\n",
            "Epoch 13/20\n",
            "219/219 [==============================] - 7s 30ms/step - loss: 0.0127 - last_time_step_mse: 0.0055 - val_loss: 0.0133 - val_last_time_step_mse: 0.0068\n",
            "Epoch 14/20\n",
            "219/219 [==============================] - 7s 31ms/step - loss: 0.0123 - last_time_step_mse: 0.0052 - val_loss: 0.0126 - val_last_time_step_mse: 0.0057\n",
            "Epoch 15/20\n",
            "219/219 [==============================] - 5s 24ms/step - loss: 0.0121 - last_time_step_mse: 0.0051 - val_loss: 0.0129 - val_last_time_step_mse: 0.0058\n",
            "Epoch 16/20\n",
            "219/219 [==============================] - 6s 27ms/step - loss: 0.0123 - last_time_step_mse: 0.0054 - val_loss: 0.0127 - val_last_time_step_mse: 0.0065\n",
            "Epoch 17/20\n",
            "219/219 [==============================] - 6s 26ms/step - loss: 0.0119 - last_time_step_mse: 0.0051 - val_loss: 0.0112 - val_last_time_step_mse: 0.0043\n",
            "Epoch 18/20\n",
            "219/219 [==============================] - 6s 25ms/step - loss: 0.0119 - last_time_step_mse: 0.0051 - val_loss: 0.0120 - val_last_time_step_mse: 0.0055\n",
            "Epoch 19/20\n",
            "219/219 [==============================] - 6s 26ms/step - loss: 0.0115 - last_time_step_mse: 0.0047 - val_loss: 0.0125 - val_last_time_step_mse: 0.0060\n",
            "Epoch 20/20\n",
            "219/219 [==============================] - 5s 24ms/step - loss: 0.0114 - last_time_step_mse: 0.0047 - val_loss: 0.0128 - val_last_time_step_mse: 0.0066\n"
          ]
        }
      ],
      "source": [
        "#Ejecuta a 20 épocas sobre tu XTrain y Ytrain\n",
        "history = model.fit(X_train, Y_train, epochs = 20, validation_data = (X_valid, Y_valid))"
      ]
    },
    {
      "cell_type": "markdown",
      "id": "a1605597-791d-4efd-9820-c182ff890ae1",
      "metadata": {
        "id": "a1605597-791d-4efd-9820-c182ff890ae1"
      },
      "source": [
        "### <span style=\"color:blue\">2.2 RNN Profundos con Layer Norm </span>"
      ]
    },
    {
      "cell_type": "code",
      "execution_count": null,
      "id": "7a2a01b7-2987-45ec-af2b-23b2d71ebb65",
      "metadata": {
        "id": "7a2a01b7-2987-45ec-af2b-23b2d71ebb65"
      },
      "outputs": [],
      "source": [
        "#Importa LayerNormalization de keras.layers\n",
        "from tensorflow.keras.layers import LayerNormalization"
      ]
    },
    {
      "cell_type": "code",
      "execution_count": null,
      "id": "dbcc393f-16cc-4f56-98ef-2d8c013bfee0",
      "metadata": {
        "id": "dbcc393f-16cc-4f56-98ef-2d8c013bfee0"
      },
      "outputs": [],
      "source": [
        "#Crea una clase que se llama LNSimpleRNNCELL\n",
        "class LNSimpleRNNCell(keras.layers.Layer):\n",
        "    def __init__(self, units, activation = \"tanh\", **kwargs):\n",
        "        super().__init__(**kwargs)\n",
        "        self.state_size = units\n",
        "        self.output_size = units\n",
        "        self.simple_rnn_cell = keras.layers.SimpleRNNCell(units, activation = None)\n",
        "        self.layer_norm = LayerNormalization()\n",
        "        self.activation = keras.activations.get(activation)\n",
        "    def get_initial_state(self,inputs = None, batch_size = None, dtype=None):\n",
        "        if inputs is not None:\n",
        "            batch_size = tf.shape(inputs)[0]\n",
        "            dtype = inptus.dtype\n",
        "        return [tf.zeros([batch_size, self.state_size], dtype=dtype)]\n",
        "    def call(self,inputs,states):\n",
        "        outputs, new_states = self.simple_rnn_cell(inputs,states)\n",
        "        norm_outputs = self.activation(self.layer_norm(outputs))\n",
        "        return norm_outputs, [norm_outputs]"
      ]
    },
    {
      "cell_type": "code",
      "execution_count": null,
      "id": "2a4b98f5-ce7b-4833-ba97-c05d14159e03",
      "metadata": {
        "id": "2a4b98f5-ce7b-4833-ba97-c05d14159e03"
      },
      "outputs": [],
      "source": [
        "#Crea un modelo secuencial de RNN con 2 de estas nuevas capas, y un time distributed Dense\n",
        "model = keras.models.Sequential([\n",
        "    keras.layers.RNN(LNSimpleRNNCell(20), return_sequences=True, input_shape=[None, 1]),\n",
        "    keras.layers.RNN(LNSimpleRNNCell(20), return_sequences=True),\n",
        "    keras.layers.TimeDistributed(keras.layers.Dense(10))\n",
        "])"
      ]
    },
    {
      "cell_type": "code",
      "execution_count": null,
      "id": "fba2c003-e2d5-4944-82c2-032a612e25e5",
      "metadata": {
        "id": "fba2c003-e2d5-4944-82c2-032a612e25e5"
      },
      "outputs": [],
      "source": [
        "#>Compila a MSE y ADAM\n",
        "model.compile(loss=\"mse\", optimizer=\"adam\", metrics=[last_time_step_mse])"
      ]
    },
    {
      "cell_type": "code",
      "execution_count": null,
      "id": "7df52ff9-8532-4a78-8c5f-1812c5417054",
      "metadata": {
        "id": "7df52ff9-8532-4a78-8c5f-1812c5417054",
        "outputId": "cb240e95-04a3-46ea-f0bb-ff45bbc7d024"
      },
      "outputs": [
        {
          "name": "stdout",
          "output_type": "stream",
          "text": [
            "Epoch 1/20\n",
            "219/219 [==============================] - 16s 56ms/step - loss: 0.1397 - last_time_step_mse: 0.1276 - val_loss: 0.0478 - val_last_time_step_mse: 0.0360\n",
            "Epoch 2/20\n",
            "219/219 [==============================] - 12s 53ms/step - loss: 0.0416 - last_time_step_mse: 0.0300 - val_loss: 0.0351 - val_last_time_step_mse: 0.0240\n",
            "Epoch 3/20\n",
            "219/219 [==============================] - 11s 52ms/step - loss: 0.0320 - last_time_step_mse: 0.0205 - val_loss: 0.0277 - val_last_time_step_mse: 0.0158\n",
            "Epoch 4/20\n",
            "219/219 [==============================] - 12s 54ms/step - loss: 0.0253 - last_time_step_mse: 0.0135 - val_loss: 0.0226 - val_last_time_step_mse: 0.0106\n",
            "Epoch 5/20\n",
            "219/219 [==============================] - 10s 46ms/step - loss: 0.0216 - last_time_step_mse: 0.0099 - val_loss: 0.0200 - val_last_time_step_mse: 0.0092\n",
            "Epoch 6/20\n",
            "219/219 [==============================] - 11s 52ms/step - loss: 0.0189 - last_time_step_mse: 0.0078 - val_loss: 0.0174 - val_last_time_step_mse: 0.0069\n",
            "Epoch 7/20\n",
            "219/219 [==============================] - 13s 60ms/step - loss: 0.0170 - last_time_step_mse: 0.0067 - val_loss: 0.0156 - val_last_time_step_mse: 0.0063\n",
            "Epoch 8/20\n",
            "219/219 [==============================] - 10s 48ms/step - loss: 0.0154 - last_time_step_mse: 0.0060 - val_loss: 0.0145 - val_last_time_step_mse: 0.0055\n",
            "Epoch 9/20\n",
            "219/219 [==============================] - 10s 47ms/step - loss: 0.0143 - last_time_step_mse: 0.0055 - val_loss: 0.0136 - val_last_time_step_mse: 0.0051\n",
            "Epoch 10/20\n",
            "219/219 [==============================] - 11s 50ms/step - loss: 0.0137 - last_time_step_mse: 0.0053 - val_loss: 0.0129 - val_last_time_step_mse: 0.0048\n",
            "Epoch 11/20\n",
            "219/219 [==============================] - 11s 52ms/step - loss: 0.0129 - last_time_step_mse: 0.0048 - val_loss: 0.0123 - val_last_time_step_mse: 0.0044\n",
            "Epoch 12/20\n",
            "219/219 [==============================] - 12s 55ms/step - loss: 0.0124 - last_time_step_mse: 0.0045 - val_loss: 0.0123 - val_last_time_step_mse: 0.0048\n",
            "Epoch 13/20\n",
            "219/219 [==============================] - 12s 55ms/step - loss: 0.0120 - last_time_step_mse: 0.0043 - val_loss: 0.0116 - val_last_time_step_mse: 0.0041\n",
            "Epoch 14/20\n",
            "219/219 [==============================] - 13s 58ms/step - loss: 0.0117 - last_time_step_mse: 0.0042 - val_loss: 0.0113 - val_last_time_step_mse: 0.0040\n",
            "Epoch 15/20\n",
            "219/219 [==============================] - 11s 52ms/step - loss: 0.0114 - last_time_step_mse: 0.0040 - val_loss: 0.0109 - val_last_time_step_mse: 0.0036\n",
            "Epoch 16/20\n",
            "219/219 [==============================] - 11s 52ms/step - loss: 0.0111 - last_time_step_mse: 0.0039 - val_loss: 0.0111 - val_last_time_step_mse: 0.0039\n",
            "Epoch 17/20\n",
            "219/219 [==============================] - 12s 55ms/step - loss: 0.0108 - last_time_step_mse: 0.0037 - val_loss: 0.0107 - val_last_time_step_mse: 0.0039\n",
            "Epoch 18/20\n",
            "219/219 [==============================] - 14s 66ms/step - loss: 0.0105 - last_time_step_mse: 0.0036 - val_loss: 0.0103 - val_last_time_step_mse: 0.0035\n",
            "Epoch 19/20\n",
            "219/219 [==============================] - 11s 51ms/step - loss: 0.0103 - last_time_step_mse: 0.0035 - val_loss: 0.0102 - val_last_time_step_mse: 0.0033\n",
            "Epoch 20/20\n",
            "219/219 [==============================] - 11s 49ms/step - loss: 0.0102 - last_time_step_mse: 0.0034 - val_loss: 0.0101 - val_last_time_step_mse: 0.0033\n"
          ]
        }
      ],
      "source": [
        "#History Model.Fit a 20 epocas\n",
        "history = model.fit(X_train, Y_train, epochs=20,\n",
        "                    validation_data=(X_valid, Y_valid))"
      ]
    },
    {
      "cell_type": "markdown",
      "id": "1e99f6b7-0905-4a8e-a934-b609013d9efd",
      "metadata": {
        "id": "1e99f6b7-0905-4a8e-a934-b609013d9efd"
      },
      "source": [
        "### <span style=\"color:blue\">2.3 LSTM (Long Short Term-Memory) </span>"
      ]
    },
    {
      "cell_type": "code",
      "execution_count": null,
      "id": "fa49b980-602f-4e9c-8015-f2bcedfab561",
      "metadata": {
        "id": "fa49b980-602f-4e9c-8015-f2bcedfab561"
      },
      "outputs": [],
      "source": [
        "#Arma un modelo con 2 LSTMS y un Dense time Dsitributed\n",
        "model = keras.models.Sequential([\n",
        "    keras.layers.LSTM(20,return_sequences=True, input_shape=[None,1]),\n",
        "    keras.layers.LSTM(20,return_sequences=True),\n",
        "    keras.layers.TimeDistributed(keras.layers.Dense(10))\n",
        "])"
      ]
    },
    {
      "cell_type": "code",
      "execution_count": null,
      "id": "846cdd3b-5aac-4ab2-b4cd-8a2fc797d15c",
      "metadata": {
        "id": "846cdd3b-5aac-4ab2-b4cd-8a2fc797d15c"
      },
      "outputs": [],
      "source": [
        "#Compila con MSE y ADAM\n",
        "model.compile(loss=\"mse\", optimizer=\"adam\", metrics=[last_time_step_mse])"
      ]
    },
    {
      "cell_type": "code",
      "execution_count": null,
      "id": "99afbd2a-a4c6-4e5e-93c1-54925b481e5d",
      "metadata": {
        "id": "99afbd2a-a4c6-4e5e-93c1-54925b481e5d",
        "outputId": "701ee7b9-1d70-47b1-f26a-356df1a47a04"
      },
      "outputs": [
        {
          "name": "stdout",
          "output_type": "stream",
          "text": [
            "Epoch 1/20\n",
            "219/219 [==============================] - 19s 65ms/step - loss: 0.0604 - last_time_step_mse: 0.0429 - val_loss: 0.0312 - val_last_time_step_mse: 0.0091\n",
            "Epoch 2/20\n",
            "219/219 [==============================] - 11s 49ms/step - loss: 0.0278 - last_time_step_mse: 0.0074 - val_loss: 0.0244 - val_last_time_step_mse: 0.0053\n",
            "Epoch 3/20\n",
            "219/219 [==============================] - 14s 63ms/step - loss: 0.0231 - last_time_step_mse: 0.0052 - val_loss: 0.0212 - val_last_time_step_mse: 0.0044\n",
            "Epoch 4/20\n",
            "219/219 [==============================] - 11s 52ms/step - loss: 0.0203 - last_time_step_mse: 0.0041 - val_loss: 0.0188 - val_last_time_step_mse: 0.0033\n",
            "Epoch 5/20\n",
            "219/219 [==============================] - 12s 54ms/step - loss: 0.0184 - last_time_step_mse: 0.0033 - val_loss: 0.0172 - val_last_time_step_mse: 0.0028\n",
            "Epoch 6/20\n",
            "219/219 [==============================] - 11s 51ms/step - loss: 0.0171 - last_time_step_mse: 0.0029 - val_loss: 0.0161 - val_last_time_step_mse: 0.0027\n",
            "Epoch 7/20\n",
            "219/219 [==============================] - 12s 54ms/step - loss: 0.0160 - last_time_step_mse: 0.0028 - val_loss: 0.0152 - val_last_time_step_mse: 0.0028\n",
            "Epoch 8/20\n",
            "219/219 [==============================] - 12s 55ms/step - loss: 0.0150 - last_time_step_mse: 0.0028 - val_loss: 0.0142 - val_last_time_step_mse: 0.0027\n",
            "Epoch 9/20\n",
            "219/219 [==============================] - 12s 55ms/step - loss: 0.0141 - last_time_step_mse: 0.0028 - val_loss: 0.0132 - val_last_time_step_mse: 0.0026\n",
            "Epoch 10/20\n",
            "219/219 [==============================] - 11s 50ms/step - loss: 0.0133 - last_time_step_mse: 0.0028 - val_loss: 0.0125 - val_last_time_step_mse: 0.0025\n",
            "Epoch 11/20\n",
            "219/219 [==============================] - 11s 52ms/step - loss: 0.0126 - last_time_step_mse: 0.0027 - val_loss: 0.0121 - val_last_time_step_mse: 0.0028\n",
            "Epoch 12/20\n",
            "219/219 [==============================] - 11s 49ms/step - loss: 0.0121 - last_time_step_mse: 0.0028 - val_loss: 0.0115 - val_last_time_step_mse: 0.0025\n",
            "Epoch 13/20\n",
            "219/219 [==============================] - 10s 46ms/step - loss: 0.0116 - last_time_step_mse: 0.0027 - val_loss: 0.0113 - val_last_time_step_mse: 0.0027\n",
            "Epoch 14/20\n",
            "219/219 [==============================] - 11s 49ms/step - loss: 0.0112 - last_time_step_mse: 0.0027 - val_loss: 0.0107 - val_last_time_step_mse: 0.0024\n",
            "Epoch 15/20\n",
            "219/219 [==============================] - 10s 48ms/step - loss: 0.0108 - last_time_step_mse: 0.0026 - val_loss: 0.0105 - val_last_time_step_mse: 0.0028\n",
            "Epoch 16/20\n",
            "219/219 [==============================] - 10s 47ms/step - loss: 0.0105 - last_time_step_mse: 0.0026 - val_loss: 0.0104 - val_last_time_step_mse: 0.0028\n",
            "Epoch 17/20\n",
            "219/219 [==============================] - 10s 48ms/step - loss: 0.0102 - last_time_step_mse: 0.0026 - val_loss: 0.0099 - val_last_time_step_mse: 0.0025\n",
            "Epoch 18/20\n",
            "219/219 [==============================] - 12s 55ms/step - loss: 0.0099 - last_time_step_mse: 0.0024 - val_loss: 0.0095 - val_last_time_step_mse: 0.0023\n",
            "Epoch 19/20\n",
            "219/219 [==============================] - 10s 47ms/step - loss: 0.0096 - last_time_step_mse: 0.0025 - val_loss: 0.0095 - val_last_time_step_mse: 0.0026\n",
            "Epoch 20/20\n",
            "219/219 [==============================] - 10s 45ms/step - loss: 0.0094 - last_time_step_mse: 0.0024 - val_loss: 0.0092 - val_last_time_step_mse: 0.0022\n"
          ]
        }
      ],
      "source": [
        "#Ejecuta a 20 épocas\n",
        "history = model.fit(X_train, Y_train, epochs=20,\n",
        "                    validation_data=(X_valid, Y_valid))"
      ]
    },
    {
      "cell_type": "code",
      "execution_count": null,
      "id": "98263669-3dd0-4b49-96ff-aaaa4bb8509f",
      "metadata": {
        "id": "98263669-3dd0-4b49-96ff-aaaa4bb8509f",
        "outputId": "95b80567-3b8b-4829-a3cd-5fa7554efd6b"
      },
      "outputs": [
        {
          "name": "stdout",
          "output_type": "stream",
          "text": [
            "63/63 [==============================] - 1s 10ms/step - loss: 0.0092 - last_time_step_mse: 0.0022\n"
          ]
        },
        {
          "data": {
            "text/plain": [
              "[0.009187659248709679, 0.0022120901849120855]"
            ]
          },
          "execution_count": 85,
          "metadata": {},
          "output_type": "execute_result"
        }
      ],
      "source": [
        "#Evalúa\n",
        "model.evaluate(X_valid, Y_valid)"
      ]
    },
    {
      "cell_type": "code",
      "execution_count": null,
      "id": "9ff14a06-8cf8-4797-b3ec-447068c1805a",
      "metadata": {
        "id": "9ff14a06-8cf8-4797-b3ec-447068c1805a",
        "outputId": "36f7d731-45e6-4506-f2fc-0c451384edbe"
      },
      "outputs": [
        {
          "data": {
            "image/png": "[encoded data removed]",
            "text/plain": [
              "<Figure size 432x288 with 1 Axes>"
            ]
          },
          "metadata": {
            "needs_background": "light"
          },
          "output_type": "display_data"
        }
      ],
      "source": [
        "#Grafica las curvas de Aprendizaje\n",
        "plot_learning_curves(history.history[\"loss\"], history.history[\"val_loss\"])\n",
        "plt.show()"
      ]
    },
    {
      "cell_type": "code",
      "execution_count": null,
      "id": "cb361617-683f-4f27-82e9-3708fc9b9fc8",
      "metadata": {
        "id": "cb361617-683f-4f27-82e9-3708fc9b9fc8"
      },
      "outputs": [],
      "source": [
        "#Arma tu esquema de generar series de tiempo, crear xnew y ynew, y probar con model.predict\n",
        "np.random.seed(43)\n",
        "\n",
        "series = generate_time_series(1, 50 + 10)\n",
        "X_new, Y_new = series[:, :50, :], series[:, 50:, :]\n",
        "Y_pred = model.predict(X_new)[:, -1][..., np.newaxis]"
      ]
    },
    {
      "cell_type": "code",
      "execution_count": null,
      "id": "19f8e5b0-b7cc-4b45-9450-8178e6abe2fa",
      "metadata": {
        "id": "19f8e5b0-b7cc-4b45-9450-8178e6abe2fa",
        "outputId": "cb7001ce-78ca-4eb3-9069-654daf609504"
      },
      "outputs": [
        {
          "data": {
            "image/png": "[encoded data removed]",
            "text/plain": [
              "<Figure size 432x288 with 1 Axes>"
            ]
          },
          "metadata": {
            "needs_background": "light"
          },
          "output_type": "display_data"
        }
      ],
      "source": [
        "#Grafica tus forecasts múltiples\n",
        "plot_multiple_forecasts(X_new, Y_new, Y_pred)\n",
        "plt.show()"
      ]
    },
    {
      "cell_type": "markdown",
      "id": "b40166ca-4892-4d16-9c69-da411aa9206c",
      "metadata": {
        "id": "b40166ca-4892-4d16-9c69-da411aa9206c"
      },
      "source": [
        "### <span style=\"color:blue\">2.4 GRU (Gated Recurrent Unit) </span>"
      ]
    },
    {
      "cell_type": "code",
      "execution_count": null,
      "id": "0209f07c-f02a-42f4-9902-70b00af88f4d",
      "metadata": {
        "id": "0209f07c-f02a-42f4-9902-70b00af88f4d"
      },
      "outputs": [],
      "source": [
        "#Arma un modelo con 2 GRUs y un Dense time Distributed\n",
        "model = keras.models.Sequential([\n",
        "    keras.layers.GRU(20, return_sequences=True, input_shape=[None,1]),\n",
        "    keras.layers.GRU(20, return_sequences=True),\n",
        "    keras.layers.TimeDistributed(keras.layers.Dense(10))\n",
        "])"
      ]
    },
    {
      "cell_type": "code",
      "execution_count": null,
      "id": "602c947a-033f-4b5e-8dff-37df0b33b30d",
      "metadata": {
        "id": "602c947a-033f-4b5e-8dff-37df0b33b30d"
      },
      "outputs": [],
      "source": [
        "#Compila con MSE y ADAM\n",
        "model.compile(loss=\"mse\", optimizer=\"adam\", metrics=[last_time_step_mse])"
      ]
    },
    {
      "cell_type": "code",
      "execution_count": null,
      "id": "ba2e582b-e597-490c-b1e0-8fc27043549d",
      "metadata": {
        "id": "ba2e582b-e597-490c-b1e0-8fc27043549d",
        "outputId": "7761e4f9-ee13-4086-d2ba-d9746831e399"
      },
      "outputs": [
        {
          "name": "stdout",
          "output_type": "stream",
          "text": [
            "Epoch 1/20\n",
            "219/219 [==============================] - 15s 48ms/step - loss: 0.0575 - last_time_step_mse: 0.0502 - val_loss: 0.0317 - val_last_time_step_mse: 0.0236\n",
            "Epoch 2/20\n",
            "219/219 [==============================] - 11s 49ms/step - loss: 0.0277 - last_time_step_mse: 0.0182 - val_loss: 0.0235 - val_last_time_step_mse: 0.0139\n",
            "Epoch 3/20\n",
            "219/219 [==============================] - 11s 50ms/step - loss: 0.0215 - last_time_step_mse: 0.0115 - val_loss: 0.0187 - val_last_time_step_mse: 0.0086\n",
            "Epoch 4/20\n",
            "219/219 [==============================] - 12s 53ms/step - loss: 0.0165 - last_time_step_mse: 0.0070 - val_loss: 0.0146 - val_last_time_step_mse: 0.0059\n",
            "Epoch 5/20\n",
            "219/219 [==============================] - 14s 64ms/step - loss: 0.0144 - last_time_step_mse: 0.0058 - val_loss: 0.0134 - val_last_time_step_mse: 0.0051\n",
            "Epoch 6/20\n",
            "219/219 [==============================] - 11s 50ms/step - loss: 0.0133 - last_time_step_mse: 0.0051 - val_loss: 0.0125 - val_last_time_step_mse: 0.0045\n",
            "Epoch 7/20\n",
            "219/219 [==============================] - 11s 49ms/step - loss: 0.0126 - last_time_step_mse: 0.0048 - val_loss: 0.0119 - val_last_time_step_mse: 0.0045\n",
            "Epoch 8/20\n",
            "219/219 [==============================] - 10s 45ms/step - loss: 0.0119 - last_time_step_mse: 0.0045 - val_loss: 0.0114 - val_last_time_step_mse: 0.0041\n",
            "Epoch 9/20\n",
            "219/219 [==============================] - 12s 53ms/step - loss: 0.0114 - last_time_step_mse: 0.0042 - val_loss: 0.0109 - val_last_time_step_mse: 0.0041\n",
            "Epoch 10/20\n",
            "219/219 [==============================] - 12s 53ms/step - loss: 0.0110 - last_time_step_mse: 0.0040 - val_loss: 0.0105 - val_last_time_step_mse: 0.0037\n",
            "Epoch 11/20\n",
            "219/219 [==============================] - 12s 55ms/step - loss: 0.0105 - last_time_step_mse: 0.0038 - val_loss: 0.0103 - val_last_time_step_mse: 0.0038\n",
            "Epoch 12/20\n",
            "219/219 [==============================] - 13s 60ms/step - loss: 0.0101 - last_time_step_mse: 0.0036 - val_loss: 0.0098 - val_last_time_step_mse: 0.0033\n",
            "Epoch 13/20\n",
            "219/219 [==============================] - 12s 56ms/step - loss: 0.0098 - last_time_step_mse: 0.0033 - val_loss: 0.0094 - val_last_time_step_mse: 0.0032\n",
            "Epoch 14/20\n",
            "219/219 [==============================] - 11s 49ms/step - loss: 0.0095 - last_time_step_mse: 0.0032 - val_loss: 0.0094 - val_last_time_step_mse: 0.0036\n",
            "Epoch 15/20\n",
            "219/219 [==============================] - 11s 51ms/step - loss: 0.0092 - last_time_step_mse: 0.0030 - val_loss: 0.0090 - val_last_time_step_mse: 0.0030\n",
            "Epoch 16/20\n",
            "219/219 [==============================] - 12s 54ms/step - loss: 0.0089 - last_time_step_mse: 0.0029 - val_loss: 0.0087 - val_last_time_step_mse: 0.0027\n",
            "Epoch 17/20\n",
            "219/219 [==============================] - 11s 52ms/step - loss: 0.0087 - last_time_step_mse: 0.0028 - val_loss: 0.0084 - val_last_time_step_mse: 0.0026\n",
            "Epoch 18/20\n",
            "219/219 [==============================] - 12s 55ms/step - loss: 0.0085 - last_time_step_mse: 0.0027 - val_loss: 0.0084 - val_last_time_step_mse: 0.0027\n",
            "Epoch 19/20\n",
            "219/219 [==============================] - 14s 64ms/step - loss: 0.0083 - last_time_step_mse: 0.0026 - val_loss: 0.0081 - val_last_time_step_mse: 0.0026\n",
            "Epoch 20/20\n",
            "219/219 [==============================] - 12s 57ms/step - loss: 0.0082 - last_time_step_mse: 0.0025 - val_loss: 0.0080 - val_last_time_step_mse: 0.0024\n"
          ]
        }
      ],
      "source": [
        "#Ejecuta a 20 épocas\n",
        "history = model.fit(X_train, Y_train, epochs=20,\n",
        "                    validation_data=(X_valid, Y_valid))"
      ]
    },
    {
      "cell_type": "code",
      "execution_count": null,
      "id": "e7cd99d9-0e15-4682-bae9-18d5b03fb4b6",
      "metadata": {
        "id": "e7cd99d9-0e15-4682-bae9-18d5b03fb4b6"
      },
      "outputs": [],
      "source": [
        "#Evalúa"
      ]
    },
    {
      "cell_type": "code",
      "execution_count": null,
      "id": "767c63e5-b913-4851-a277-081226eb360b",
      "metadata": {
        "id": "767c63e5-b913-4851-a277-081226eb360b"
      },
      "outputs": [],
      "source": [
        "#Grafica las curvas de Aprendizaje"
      ]
    },
    {
      "cell_type": "code",
      "execution_count": null,
      "id": "66d7fdc9-083e-4f75-85fc-447cf05efd59",
      "metadata": {
        "id": "66d7fdc9-083e-4f75-85fc-447cf05efd59"
      },
      "outputs": [],
      "source": [
        "#Arma tu esquema de generar series de tiempo, crear xnew y ynew, y probar con model.predict"
      ]
    },
    {
      "cell_type": "code",
      "execution_count": null,
      "id": "fcf2e027-1f0e-4d25-afad-e4fac8faa493",
      "metadata": {
        "id": "fcf2e027-1f0e-4d25-afad-e4fac8faa493"
      },
      "outputs": [],
      "source": [
        "#Grafica tus forecasts multiples"
      ]
    },
    {
      "cell_type": "markdown",
      "id": "d0fd93c3-a808-46f8-8a98-2c132ff75c6d",
      "metadata": {
        "id": "d0fd93c3-a808-46f8-8a98-2c132ff75c6d"
      },
      "source": [
        "### <span style=\"color:blue\">2.5 Capas Convolucionales para procesar Secuencias </span>\n"
      ]
    },
    {
      "cell_type": "code",
      "execution_count": null,
      "id": "3c80ff8c-8a59-48a5-b98d-b067a54d5963",
      "metadata": {
        "id": "3c80ff8c-8a59-48a5-b98d-b067a54d5963"
      },
      "outputs": [],
      "source": [
        "model = keras.models.Sequential([\n",
        "    keras.layers.Conv1D(filters = 20, kernel_size = 4, strides = 2, padding = \"valid\", input_shape=[None,1]),\n",
        "    keras.layers.GRU(20, return_sequences=True),\n",
        "    keras.layers.GRU(20, return_sequences=True),\n",
        "    keras.layers.TimeDistributed(keras.layers.Dense(10))\n",
        "])"
      ]
    },
    {
      "cell_type": "code",
      "execution_count": null,
      "id": "8b201af8-bc21-41a6-ad9f-d3a7373b3c7f",
      "metadata": {
        "id": "8b201af8-bc21-41a6-ad9f-d3a7373b3c7f",
        "outputId": "58589276-258a-414f-88a7-0a8e49fb8e7f"
      },
      "outputs": [
        {
          "name": "stdout",
          "output_type": "stream",
          "text": [
            "Epoch 1/20\n",
            "219/219 [==============================] - 13s 36ms/step - loss: 0.0483 - last_time_step_mse: 0.0410 - val_loss: 0.0226 - val_last_time_step_mse: 0.0149\n",
            "Epoch 2/20\n",
            "219/219 [==============================] - 6s 28ms/step - loss: 0.0163 - last_time_step_mse: 0.0104 - val_loss: 0.0120 - val_last_time_step_mse: 0.0066\n",
            "Epoch 3/20\n",
            "219/219 [==============================] - 6s 28ms/step - loss: 0.0115 - last_time_step_mse: 0.0065 - val_loss: 0.0104 - val_last_time_step_mse: 0.0055\n",
            "Epoch 4/20\n",
            "219/219 [==============================] - 7s 32ms/step - loss: 0.0099 - last_time_step_mse: 0.0051 - val_loss: 0.0089 - val_last_time_step_mse: 0.0043\n",
            "Epoch 5/20\n",
            "219/219 [==============================] - 6s 27ms/step - loss: 0.0086 - last_time_step_mse: 0.0040 - val_loss: 0.0080 - val_last_time_step_mse: 0.0034\n",
            "Epoch 6/20\n",
            "219/219 [==============================] - 8s 35ms/step - loss: 0.0077 - last_time_step_mse: 0.0033 - val_loss: 0.0072 - val_last_time_step_mse: 0.0030\n",
            "Epoch 7/20\n",
            "219/219 [==============================] - 6s 29ms/step - loss: 0.0071 - last_time_step_mse: 0.0029 - val_loss: 0.0067 - val_last_time_step_mse: 0.0027\n",
            "Epoch 8/20\n",
            "219/219 [==============================] - 6s 27ms/step - loss: 0.0066 - last_time_step_mse: 0.0026 - val_loss: 0.0064 - val_last_time_step_mse: 0.0026\n",
            "Epoch 9/20\n",
            "219/219 [==============================] - 7s 34ms/step - loss: 0.0063 - last_time_step_mse: 0.0025 - val_loss: 0.0060 - val_last_time_step_mse: 0.0023\n",
            "Epoch 10/20\n",
            "219/219 [==============================] - 8s 36ms/step - loss: 0.0060 - last_time_step_mse: 0.0024 - val_loss: 0.0058 - val_last_time_step_mse: 0.0022\n",
            "Epoch 11/20\n",
            "219/219 [==============================] - 6s 29ms/step - loss: 0.0058 - last_time_step_mse: 0.0023 - val_loss: 0.0056 - val_last_time_step_mse: 0.0022\n",
            "Epoch 12/20\n",
            "219/219 [==============================] - 7s 34ms/step - loss: 0.0056 - last_time_step_mse: 0.0022 - val_loss: 0.0054 - val_last_time_step_mse: 0.0021\n",
            "Epoch 13/20\n",
            "219/219 [==============================] - 7s 31ms/step - loss: 0.0054 - last_time_step_mse: 0.0021 - val_loss: 0.0053 - val_last_time_step_mse: 0.0021\n",
            "Epoch 14/20\n",
            "219/219 [==============================] - 7s 32ms/step - loss: 0.0053 - last_time_step_mse: 0.0021 - val_loss: 0.0052 - val_last_time_step_mse: 0.0020\n",
            "Epoch 15/20\n",
            "219/219 [==============================] - 8s 35ms/step - loss: 0.0052 - last_time_step_mse: 0.0021 - val_loss: 0.0051 - val_last_time_step_mse: 0.0021\n",
            "Epoch 16/20\n",
            "219/219 [==============================] - 7s 30ms/step - loss: 0.0051 - last_time_step_mse: 0.0020 - val_loss: 0.0050 - val_last_time_step_mse: 0.0020\n",
            "Epoch 17/20\n",
            "219/219 [==============================] - 7s 31ms/step - loss: 0.0050 - last_time_step_mse: 0.0020 - val_loss: 0.0049 - val_last_time_step_mse: 0.0020\n",
            "Epoch 18/20\n",
            "219/219 [==============================] - 8s 36ms/step - loss: 0.0050 - last_time_step_mse: 0.0020 - val_loss: 0.0049 - val_last_time_step_mse: 0.0020\n",
            "Epoch 19/20\n",
            "219/219 [==============================] - 7s 33ms/step - loss: 0.0049 - last_time_step_mse: 0.0020 - val_loss: 0.0048 - val_last_time_step_mse: 0.0019\n",
            "Epoch 20/20\n",
            "219/219 [==============================] - 7s 34ms/step - loss: 0.0048 - last_time_step_mse: 0.0019 - val_loss: 0.0047 - val_last_time_step_mse: 0.0018\n"
          ]
        }
      ],
      "source": [
        "model.compile(loss=\"mse\", optimizer=\"adam\", metrics=[last_time_step_mse])\n",
        "history = model.fit(X_train, Y_train[:, 3::2], epochs=20,\n",
        "                    validation_data=(X_valid, Y_valid[:, 3::2]))"
      ]
    }
  ],
  "metadata": {
    "kernelspec": {
      "display_name": "Python 3",
      "name": "python3"
    },
    "language_info": {
      "codemirror_mode": {
        "name": "ipython",
        "version": 3
      },
      "file_extension": ".py",
      "mimetype": "text/x-python",
      "name": "python",
      "nbconvert_exporter": "python",
      "pygments_lexer": "ipython3",
      "version": "3.9.7"
    },
    "colab": {
      "provenance": [],
      "gpuType": "V28",
      "include_colab_link": true
    },
    "accelerator": "TPU"
  },
  "nbformat": 4,
  "nbformat_minor": 5
}