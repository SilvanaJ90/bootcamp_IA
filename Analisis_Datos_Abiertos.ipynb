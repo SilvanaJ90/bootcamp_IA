{
  "nbformat": 4,
  "nbformat_minor": 0,
  "metadata": {
    "colab": {
      "provenance": [],
      "gpuType": "T4",
      "include_colab_link": true
    },
    "kernelspec": {
      "name": "python3",
      "display_name": "Python 3"
    },
    "language_info": {
      "name": "python"
    },
    "accelerator": "GPU"
  },
  "cells": [
    {
      "cell_type": "markdown",
      "metadata": {
        "id": "view-in-github",
        "colab_type": "text"
      },
      "source": [
        "<a href=\"https://colab.research.google.com/github/SilvanaJ90/usergioarboleda-bootcamp_IA/blob/main/Analisis_Datos_Abiertos.ipynb\" target=\"_parent\"><img src=\"https://colab.research.google.com/assets/colab-badge.svg\" alt=\"Open In Colab\"/></a>"
      ]
    },
    {
      "cell_type": "markdown",
      "source": [
        "# Análisis de Datos Abiertos\n",
        "## TalentoTech\n",
        "## Bootcamp de Inteligencia Artificial Nivel Innovador\n",
        "### Integrantes:  \n",
        "* Andrea Osorio\n",
        "* Luis Murcia\n",
        "* Silvana Jaramillo\n",
        "* Yeison Rodriguez\n",
        "\n",
        "\n"
      ],
      "metadata": {
        "id": "AbGEL5xVhVAB"
      }
    },
    {
      "cell_type": "markdown",
      "source": [
        "# **Entendimiento del proyecto:**\n",
        "\n",
        "\n",
        "* Analizar el rendimiento agrícola en el periodo 2011 en Cota, Cundinamarca, para una base de datos de 1000 registros, con relación a su área de siembra, área total, tipo de cultivo y producción.\n"
      ],
      "metadata": {
        "id": "KMA6HQXBFj9G"
      }
    },
    {
      "cell_type": "markdown",
      "source": [
        "# **Comprensión de los datos**\n",
        "\n",
        "Esta es una copia de los conjuntos de datos de Datos Abiertos Evaluaciones Agropecuarias por consenso DEPARTAMENTO DE BOYACÁ https://www.datos.gov.co/d/u958-pr9h/visualization"
      ],
      "metadata": {
        "id": "b0lXC1O2LCkf"
      }
    },
    {
      "cell_type": "code",
      "execution_count": null,
      "metadata": {
        "id": "AljgqisnYDLu",
        "colab": {
          "base_uri": "https://localhost:8080/"
        },
        "outputId": "a3500da7-1555-4dcc-8ab6-71f14779f237"
      },
      "outputs": [
        {
          "output_type": "stream",
          "name": "stdout",
          "text": [
            "Requirement already satisfied: pandas in /usr/local/lib/python3.10/dist-packages (2.0.3)\n",
            "Requirement already satisfied: python-dateutil>=2.8.2 in /usr/local/lib/python3.10/dist-packages (from pandas) (2.8.2)\n",
            "Requirement already satisfied: pytz>=2020.1 in /usr/local/lib/python3.10/dist-packages (from pandas) (2023.4)\n",
            "Requirement already satisfied: tzdata>=2022.1 in /usr/local/lib/python3.10/dist-packages (from pandas) (2024.1)\n",
            "Requirement already satisfied: numpy>=1.21.0 in /usr/local/lib/python3.10/dist-packages (from pandas) (1.25.2)\n",
            "Requirement already satisfied: six>=1.5 in /usr/local/lib/python3.10/dist-packages (from python-dateutil>=2.8.2->pandas) (1.16.0)\n"
          ]
        }
      ],
      "source": [
        "pip install pandas"
      ]
    },
    {
      "cell_type": "code",
      "source": [
        "!pip install matplotlib"
      ],
      "metadata": {
        "id": "QdgeXwTmxjCe",
        "colab": {
          "base_uri": "https://localhost:8080/"
        },
        "outputId": "cf906320-a35d-482a-969f-5efdc4d64e2d"
      },
      "execution_count": null,
      "outputs": [
        {
          "output_type": "stream",
          "name": "stdout",
          "text": [
            "Requirement already satisfied: matplotlib in /usr/local/lib/python3.10/dist-packages (3.7.1)\n",
            "Requirement already satisfied: contourpy>=1.0.1 in /usr/local/lib/python3.10/dist-packages (from matplotlib) (1.2.1)\n",
            "Requirement already satisfied: cycler>=0.10 in /usr/local/lib/python3.10/dist-packages (from matplotlib) (0.12.1)\n",
            "Requirement already satisfied: fonttools>=4.22.0 in /usr/local/lib/python3.10/dist-packages (from matplotlib) (4.51.0)\n",
            "Requirement already satisfied: kiwisolver>=1.0.1 in /usr/local/lib/python3.10/dist-packages (from matplotlib) (1.4.5)\n",
            "Requirement already satisfied: numpy>=1.20 in /usr/local/lib/python3.10/dist-packages (from matplotlib) (1.25.2)\n",
            "Requirement already satisfied: packaging>=20.0 in /usr/local/lib/python3.10/dist-packages (from matplotlib) (24.0)\n",
            "Requirement already satisfied: pillow>=6.2.0 in /usr/local/lib/python3.10/dist-packages (from matplotlib) (9.4.0)\n",
            "Requirement already satisfied: pyparsing>=2.3.1 in /usr/local/lib/python3.10/dist-packages (from matplotlib) (3.1.2)\n",
            "Requirement already satisfied: python-dateutil>=2.7 in /usr/local/lib/python3.10/dist-packages (from matplotlib) (2.8.2)\n",
            "Requirement already satisfied: six>=1.5 in /usr/local/lib/python3.10/dist-packages (from python-dateutil>=2.7->matplotlib) (1.16.0)\n"
          ]
        }
      ]
    },
    {
      "cell_type": "code",
      "source": [
        "pip install seaborn"
      ],
      "metadata": {
        "id": "D0G-gRYcAjng",
        "colab": {
          "base_uri": "https://localhost:8080/"
        },
        "outputId": "93e425df-9884-4d5b-b593-da687a1e314d"
      },
      "execution_count": null,
      "outputs": [
        {
          "output_type": "stream",
          "name": "stdout",
          "text": [
            "Requirement already satisfied: seaborn in /usr/local/lib/python3.10/dist-packages (0.13.1)\n",
            "Requirement already satisfied: numpy!=1.24.0,>=1.20 in /usr/local/lib/python3.10/dist-packages (from seaborn) (1.25.2)\n",
            "Requirement already satisfied: pandas>=1.2 in /usr/local/lib/python3.10/dist-packages (from seaborn) (2.0.3)\n",
            "Requirement already satisfied: matplotlib!=3.6.1,>=3.4 in /usr/local/lib/python3.10/dist-packages (from seaborn) (3.7.1)\n",
            "Requirement already satisfied: contourpy>=1.0.1 in /usr/local/lib/python3.10/dist-packages (from matplotlib!=3.6.1,>=3.4->seaborn) (1.2.1)\n",
            "Requirement already satisfied: cycler>=0.10 in /usr/local/lib/python3.10/dist-packages (from matplotlib!=3.6.1,>=3.4->seaborn) (0.12.1)\n",
            "Requirement already satisfied: fonttools>=4.22.0 in /usr/local/lib/python3.10/dist-packages (from matplotlib!=3.6.1,>=3.4->seaborn) (4.51.0)\n",
            "Requirement already satisfied: kiwisolver>=1.0.1 in /usr/local/lib/python3.10/dist-packages (from matplotlib!=3.6.1,>=3.4->seaborn) (1.4.5)\n",
            "Requirement already satisfied: packaging>=20.0 in /usr/local/lib/python3.10/dist-packages (from matplotlib!=3.6.1,>=3.4->seaborn) (24.0)\n",
            "Requirement already satisfied: pillow>=6.2.0 in /usr/local/lib/python3.10/dist-packages (from matplotlib!=3.6.1,>=3.4->seaborn) (9.4.0)\n",
            "Requirement already satisfied: pyparsing>=2.3.1 in /usr/local/lib/python3.10/dist-packages (from matplotlib!=3.6.1,>=3.4->seaborn) (3.1.2)\n",
            "Requirement already satisfied: python-dateutil>=2.7 in /usr/local/lib/python3.10/dist-packages (from matplotlib!=3.6.1,>=3.4->seaborn) (2.8.2)\n",
            "Requirement already satisfied: pytz>=2020.1 in /usr/local/lib/python3.10/dist-packages (from pandas>=1.2->seaborn) (2023.4)\n",
            "Requirement already satisfied: tzdata>=2022.1 in /usr/local/lib/python3.10/dist-packages (from pandas>=1.2->seaborn) (2024.1)\n",
            "Requirement already satisfied: six>=1.5 in /usr/local/lib/python3.10/dist-packages (from python-dateutil>=2.7->matplotlib!=3.6.1,>=3.4->seaborn) (1.16.0)\n"
          ]
        }
      ]
    },
    {
      "cell_type": "code",
      "source": [
        "# Leer los datos\n",
        "# Importar librerìas\n",
        "import pandas as pd\n",
        "import numpy as np\n",
        "import seaborn as sns\n",
        "import matplotlib.pyplot as plt\n",
        "\n",
        "\n",
        "# URL del conjunto de datos\n",
        "# url = \"https://www.datos.gov.co/resource/u958-pr9h.csv?$query=SELECT%0A%20%20%60tipo%60%2C%0A%20%20%60municipio%60%2C%0A%20%20%60cultivo%60%2C%0A%20%20%60periodo%60%2C%0A%20%20%60area_sembrada_ha%60%2C%0A%20%20%60area_cosechada_ha%60%2C%0A%20%20%60produccion_t%60%2C%0A%20%20%60rendimiento_t_ha%60%0AORDER%20BY%20%60periodo%60%20ASC%20NULL%20LAST\"\n",
        "url = \"https://www.datos.gov.co/resource/u958-pr9h.csv?$query=SELECT%0A%20%20%60tipo%60%2C%0A%20%20%60municipio%60%2C%0A%20%20%60cultivo%60%2C%0A%20%20%60periodo%60%2C%0A%20%20%60area_sembrada_ha%60%2C%0A%20%20%60area_cosechada_ha%60%2C%0A%20%20%60produccion_t%60%2C%0A%20%20%60rendimiento_t_ha%60%0AORDER%20BY%20%60periodo%60%20DESC%20NULL%20LAST\"\n",
        "\n",
        "# Cargar el conjunto de datos en un DataFrame de pandas\n",
        "df = pd.read_csv(url)\n",
        "\n",
        "# Mostrar las primeras filas del DataFrame para verificar que se haya cargado correctamente\n",
        "print(df.head())\n"
      ],
      "metadata": {
        "colab": {
          "base_uri": "https://localhost:8080/"
        },
        "id": "lX032BC1rFz2",
        "outputId": "5bc09d69-9016-4e5a-9da3-a8639a2b7d66"
      },
      "execution_count": null,
      "outputs": [
        {
          "output_type": "stream",
          "name": "stdout",
          "text": [
            "                    tipo  municipio           cultivo periodo  \\\n",
            "0  CULTIVOS TRANSITORIOS    Susacón             Trigo   2022B   \n",
            "1  CULTIVOS TRANSITORIOS    Chivatá            Arveja   2022B   \n",
            "2  CULTIVOS TRANSITORIOS  Siachoque  Otras hortalizas   2022B   \n",
            "3  CULTIVOS TRANSITORIOS     Soracá             Trigo   2022B   \n",
            "4  CULTIVOS TRANSITORIOS   Corrales  Cebolla De Bulbo   2022B   \n",
            "\n",
            "   area_sembrada_ha  area_cosechada_ha  produccion_t  rendimiento_t_ha  \n",
            "0              31.0               30.0         36.00               1.2  \n",
            "1               7.0                2.0          2.80               1.4  \n",
            "2               4.0                4.0         80.00              20.0  \n",
            "3               9.0                2.5          8.75               3.5  \n",
            "4              19.0               19.0        380.00              20.0  \n"
          ]
        }
      ]
    },
    {
      "cell_type": "code",
      "source": [
        "# Informaciòn de los atributos\n",
        "df.info()"
      ],
      "metadata": {
        "colab": {
          "base_uri": "https://localhost:8080/"
        },
        "id": "CWBRwF6mrln_",
        "outputId": "821d736c-937c-43c8-bd84-ce35bfc2ea44"
      },
      "execution_count": null,
      "outputs": [
        {
          "output_type": "stream",
          "name": "stdout",
          "text": [
            "<class 'pandas.core.frame.DataFrame'>\n",
            "RangeIndex: 1000 entries, 0 to 999\n",
            "Data columns (total 8 columns):\n",
            " #   Column             Non-Null Count  Dtype  \n",
            "---  ------             --------------  -----  \n",
            " 0   tipo               1000 non-null   object \n",
            " 1   municipio          1000 non-null   object \n",
            " 2   cultivo            1000 non-null   object \n",
            " 3   periodo            1000 non-null   object \n",
            " 4   area_sembrada_ha   1000 non-null   float64\n",
            " 5   area_cosechada_ha  1000 non-null   float64\n",
            " 6   produccion_t       1000 non-null   float64\n",
            " 7   rendimiento_t_ha   1000 non-null   float64\n",
            "dtypes: float64(4), object(4)\n",
            "memory usage: 62.6+ KB\n"
          ]
        }
      ]
    },
    {
      "cell_type": "code",
      "source": [
        "df_clear = df.astype({\"cultivo\": str})\n"
      ],
      "metadata": {
        "colab": {
          "base_uri": "https://localhost:8080/"
        },
        "id": "960JlHx2YVec",
        "outputId": "c27185a7-0beb-47af-b8ff-679c2dbe2f4d"
      },
      "execution_count": null,
      "outputs": [
        {
          "output_type": "stream",
          "name": "stdout",
          "text": [
            "0      <class 'str'>\n",
            "1      <class 'str'>\n",
            "2      <class 'str'>\n",
            "3      <class 'str'>\n",
            "4      <class 'str'>\n",
            "           ...      \n",
            "995    <class 'str'>\n",
            "996    <class 'str'>\n",
            "997    <class 'str'>\n",
            "998    <class 'str'>\n",
            "999    <class 'str'>\n",
            "Name: cultivo, Length: 1000, dtype: object\n"
          ]
        }
      ]
    },
    {
      "cell_type": "code",
      "source": [
        "# tamaño dataset\n",
        "df.shape"
      ],
      "metadata": {
        "colab": {
          "base_uri": "https://localhost:8080/"
        },
        "id": "Ntul_OGzM1gr",
        "outputId": "7a195a86-92b9-425d-ba57-3727deec3a1a"
      },
      "execution_count": null,
      "outputs": [
        {
          "output_type": "execute_result",
          "data": {
            "text/plain": [
              "(1000, 8)"
            ]
          },
          "metadata": {},
          "execution_count": 6
        }
      ]
    },
    {
      "cell_type": "code",
      "source": [
        "# leer columnas\n",
        "df.columns"
      ],
      "metadata": {
        "colab": {
          "base_uri": "https://localhost:8080/"
        },
        "id": "zMSBwjdlqfNJ",
        "outputId": "f69df32a-525b-46c9-abbe-8776067fbcbd"
      },
      "execution_count": null,
      "outputs": [
        {
          "output_type": "execute_result",
          "data": {
            "text/plain": [
              "Index(['tipo', 'municipio', 'cultivo', 'periodo', 'area_sembrada_ha',\n",
              "       'area_cosechada_ha', 'produccion_t', 'rendimiento_t_ha'],\n",
              "      dtype='object')"
            ]
          },
          "metadata": {},
          "execution_count": 7
        }
      ]
    },
    {
      "cell_type": "code",
      "source": [
        "print(type(df['cultivo'].value_counts()))\n",
        "crops_tags = df['cultivo'].value_counts().iloc[0:10]\n"
      ],
      "metadata": {
        "colab": {
          "base_uri": "https://localhost:8080/"
        },
        "id": "M9UYFJrUaemn",
        "outputId": "b952f027-25ef-4106-8b73-ba4f106e0971"
      },
      "execution_count": null,
      "outputs": [
        {
          "output_type": "stream",
          "name": "stdout",
          "text": [
            "<class 'pandas.core.series.Series'>\n"
          ]
        }
      ]
    },
    {
      "cell_type": "code",
      "source": [
        "tags_list = [k for k, v in crops_tags.items()]\n",
        "print(tags_list)"
      ],
      "metadata": {
        "colab": {
          "base_uri": "https://localhost:8080/"
        },
        "id": "_ZrdijuRb70K",
        "outputId": "dd35f885-e761-4281-8c3b-0d191529b0e0"
      },
      "execution_count": null,
      "outputs": [
        {
          "output_type": "stream",
          "name": "stdout",
          "text": [
            "['Maíz Amarillo Tradicional', 'Arveja', 'Papa', 'Frijol', 'Cebolla De Bulbo', 'Café', 'Tomate Invernadero', 'Yuca', 'Trigo', 'Haba']\n"
          ]
        }
      ]
    },
    {
      "cell_type": "code",
      "source": [
        "new_df = df[df[\"cultivo\"].isin(tags_list)]"
      ],
      "metadata": {
        "id": "INHOgAKJc2rG"
      },
      "execution_count": null,
      "outputs": []
    },
    {
      "cell_type": "code",
      "source": [
        "new_df.shape\n",
        "new_df = new_df.astype({\"area_sembrada_ha\": np.float32, \"area_cosechada_ha\": np.float32,\n",
        "                    \"produccion_t\": np.float32, \"rendimiento_t_ha\": np.float32})\n",
        "\n",
        "#new_df[\"area_sembrada_ha\"] = new_df[[\"area_sembrada_ha\"]].apply(pd.to_numeric)\n",
        "#new_df[\"area_cosechada_ha\"] = new_df[[\"area_cosechada_ha\"]].apply(pd.to_numeric)\n",
        "#new_df[\"produccion_t\"] = new_df[[\"produccion_t\"]].apply(pd.to_numeric)\n",
        "#new_df[\"rendimiento_t_ha\"] = new_df[[\"rendimiento_t_ha\"]].apply(pd.to_numeric)"
      ],
      "metadata": {
        "id": "IQhaMNGNdsqv"
      },
      "execution_count": null,
      "outputs": []
    },
    {
      "cell_type": "code",
      "source": [
        "new_df.info()"
      ],
      "metadata": {
        "colab": {
          "base_uri": "https://localhost:8080/"
        },
        "id": "qfK_-YFqcFad",
        "outputId": "38b077a3-4fc1-4cbc-ebd3-8c7d78e0d430"
      },
      "execution_count": null,
      "outputs": [
        {
          "output_type": "stream",
          "name": "stdout",
          "text": [
            "<class 'pandas.core.frame.DataFrame'>\n",
            "Index: 597 entries, 0 to 999\n",
            "Data columns (total 8 columns):\n",
            " #   Column             Non-Null Count  Dtype  \n",
            "---  ------             --------------  -----  \n",
            " 0   tipo               597 non-null    object \n",
            " 1   municipio          597 non-null    object \n",
            " 2   cultivo            597 non-null    object \n",
            " 3   periodo            597 non-null    object \n",
            " 4   area_sembrada_ha   597 non-null    float32\n",
            " 5   area_cosechada_ha  597 non-null    float32\n",
            " 6   produccion_t       597 non-null    float32\n",
            " 7   rendimiento_t_ha   597 non-null    float32\n",
            "dtypes: float32(4), object(4)\n",
            "memory usage: 32.6+ KB\n"
          ]
        }
      ]
    },
    {
      "cell_type": "code",
      "source": [
        "# Leer columnas de variables numericas\n",
        "new_df.select_dtypes(np.number).columns"
      ],
      "metadata": {
        "colab": {
          "base_uri": "https://localhost:8080/"
        },
        "id": "Q8hce2DnOyEl",
        "outputId": "8f05e032-d6f0-472c-9ca7-9d25a67e2952"
      },
      "execution_count": null,
      "outputs": [
        {
          "output_type": "execute_result",
          "data": {
            "text/plain": [
              "Index(['area_sembrada_ha', 'area_cosechada_ha', 'produccion_t',\n",
              "       'rendimiento_t_ha'],\n",
              "      dtype='object')"
            ]
          },
          "metadata": {},
          "execution_count": 50
        }
      ]
    },
    {
      "cell_type": "code",
      "source": [
        "# Describir datos estadisticos de variables numericas\n",
        "new_df.describe(include=np.number).round(2)"
      ],
      "metadata": {
        "colab": {
          "base_uri": "https://localhost:8080/",
          "height": 300
        },
        "id": "PU6y_Fu7QQYa",
        "outputId": "406722f1-39c6-4902-f822-7ee96844c8ab"
      },
      "execution_count": null,
      "outputs": [
        {
          "output_type": "execute_result",
          "data": {
            "text/plain": [
              "       area_sembrada_ha  area_cosechada_ha  produccion_t  rendimiento_t_ha\n",
              "count            597.00             597.00        597.00            597.00\n",
              "mean              73.82              72.16       1040.59              9.93\n",
              "std              239.98             209.47       4769.06             18.46\n",
              "min                0.00               0.00          0.00              0.00\n",
              "25%                3.00               5.00         10.47              1.03\n",
              "50%               12.00              17.00         42.06              1.68\n",
              "75%               50.00              50.00        252.43             14.00\n",
              "max             3400.00            2550.00      52800.00            120.00"
            ],
            "text/html": [
              "\n",
              "  <div id=\"df-89e98b40-89fe-41f5-8da2-1e70fecf0d21\" class=\"colab-df-container\">\n",
              "    <div>\n",
              "<style scoped>\n",
              "    .dataframe tbody tr th:only-of-type {\n",
              "        vertical-align: middle;\n",
              "    }\n",
              "\n",
              "    .dataframe tbody tr th {\n",
              "        vertical-align: top;\n",
              "    }\n",
              "\n",
              "    .dataframe thead th {\n",
              "        text-align: right;\n",
              "    }\n",
              "</style>\n",
              "<table border=\"1\" class=\"dataframe\">\n",
              "  <thead>\n",
              "    <tr style=\"text-align: right;\">\n",
              "      <th></th>\n",
              "      <th>area_sembrada_ha</th>\n",
              "      <th>area_cosechada_ha</th>\n",
              "      <th>produccion_t</th>\n",
              "      <th>rendimiento_t_ha</th>\n",
              "    </tr>\n",
              "  </thead>\n",
              "  <tbody>\n",
              "    <tr>\n",
              "      <th>count</th>\n",
              "      <td>597.00</td>\n",
              "      <td>597.00</td>\n",
              "      <td>597.00</td>\n",
              "      <td>597.00</td>\n",
              "    </tr>\n",
              "    <tr>\n",
              "      <th>mean</th>\n",
              "      <td>73.82</td>\n",
              "      <td>72.16</td>\n",
              "      <td>1040.59</td>\n",
              "      <td>9.93</td>\n",
              "    </tr>\n",
              "    <tr>\n",
              "      <th>std</th>\n",
              "      <td>239.98</td>\n",
              "      <td>209.47</td>\n",
              "      <td>4769.06</td>\n",
              "      <td>18.46</td>\n",
              "    </tr>\n",
              "    <tr>\n",
              "      <th>min</th>\n",
              "      <td>0.00</td>\n",
              "      <td>0.00</td>\n",
              "      <td>0.00</td>\n",
              "      <td>0.00</td>\n",
              "    </tr>\n",
              "    <tr>\n",
              "      <th>25%</th>\n",
              "      <td>3.00</td>\n",
              "      <td>5.00</td>\n",
              "      <td>10.47</td>\n",
              "      <td>1.03</td>\n",
              "    </tr>\n",
              "    <tr>\n",
              "      <th>50%</th>\n",
              "      <td>12.00</td>\n",
              "      <td>17.00</td>\n",
              "      <td>42.06</td>\n",
              "      <td>1.68</td>\n",
              "    </tr>\n",
              "    <tr>\n",
              "      <th>75%</th>\n",
              "      <td>50.00</td>\n",
              "      <td>50.00</td>\n",
              "      <td>252.43</td>\n",
              "      <td>14.00</td>\n",
              "    </tr>\n",
              "    <tr>\n",
              "      <th>max</th>\n",
              "      <td>3400.00</td>\n",
              "      <td>2550.00</td>\n",
              "      <td>52800.00</td>\n",
              "      <td>120.00</td>\n",
              "    </tr>\n",
              "  </tbody>\n",
              "</table>\n",
              "</div>\n",
              "    <div class=\"colab-df-buttons\">\n",
              "\n",
              "  <div class=\"colab-df-container\">\n",
              "    <button class=\"colab-df-convert\" onclick=\"convertToInteractive('df-89e98b40-89fe-41f5-8da2-1e70fecf0d21')\"\n",
              "            title=\"Convert this dataframe to an interactive table.\"\n",
              "            style=\"display:none;\">\n",
              "\n",
              "  <svg xmlns=\"http://www.w3.org/2000/svg\" height=\"24px\" viewBox=\"0 -960 960 960\">\n",
              "    <path d=\"M120-120v-720h720v720H120Zm60-500h600v-160H180v160Zm220 220h160v-160H400v160Zm0 220h160v-160H400v160ZM180-400h160v-160H180v160Zm440 0h160v-160H620v160ZM180-180h160v-160H180v160Zm440 0h160v-160H620v160Z\"/>\n",
              "  </svg>\n",
              "    </button>\n",
              "\n",
              "  <style>\n",
              "    .colab-df-container {\n",
              "      display:flex;\n",
              "      gap: 12px;\n",
              "    }\n",
              "\n",
              "    .colab-df-convert {\n",
              "      background-color: #E8F0FE;\n",
              "      border: none;\n",
              "      border-radius: 50%;\n",
              "      cursor: pointer;\n",
              "      display: none;\n",
              "      fill: #1967D2;\n",
              "      height: 32px;\n",
              "      padding: 0 0 0 0;\n",
              "      width: 32px;\n",
              "    }\n",
              "\n",
              "    .colab-df-convert:hover {\n",
              "      background-color: #E2EBFA;\n",
              "      box-shadow: 0px 1px 2px rgba(60, 64, 67, 0.3), 0px 1px 3px 1px rgba(60, 64, 67, 0.15);\n",
              "      fill: #174EA6;\n",
              "    }\n",
              "\n",
              "    .colab-df-buttons div {\n",
              "      margin-bottom: 4px;\n",
              "    }\n",
              "\n",
              "    [theme=dark] .colab-df-convert {\n",
              "      background-color: #3B4455;\n",
              "      fill: #D2E3FC;\n",
              "    }\n",
              "\n",
              "    [theme=dark] .colab-df-convert:hover {\n",
              "      background-color: #434B5C;\n",
              "      box-shadow: 0px 1px 3px 1px rgba(0, 0, 0, 0.15);\n",
              "      filter: drop-shadow(0px 1px 2px rgba(0, 0, 0, 0.3));\n",
              "      fill: #FFFFFF;\n",
              "    }\n",
              "  </style>\n",
              "\n",
              "    <script>\n",
              "      const buttonEl =\n",
              "        document.querySelector('#df-89e98b40-89fe-41f5-8da2-1e70fecf0d21 button.colab-df-convert');\n",
              "      buttonEl.style.display =\n",
              "        google.colab.kernel.accessAllowed ? 'block' : 'none';\n",
              "\n",
              "      async function convertToInteractive(key) {\n",
              "        const element = document.querySelector('#df-89e98b40-89fe-41f5-8da2-1e70fecf0d21');\n",
              "        const dataTable =\n",
              "          await google.colab.kernel.invokeFunction('convertToInteractive',\n",
              "                                                    [key], {});\n",
              "        if (!dataTable) return;\n",
              "\n",
              "        const docLinkHtml = 'Like what you see? Visit the ' +\n",
              "          '<a target=\"_blank\" href=https://colab.research.google.com/notebooks/data_table.ipynb>data table notebook</a>'\n",
              "          + ' to learn more about interactive tables.';\n",
              "        element.innerHTML = '';\n",
              "        dataTable['output_type'] = 'display_data';\n",
              "        await google.colab.output.renderOutput(dataTable, element);\n",
              "        const docLink = document.createElement('div');\n",
              "        docLink.innerHTML = docLinkHtml;\n",
              "        element.appendChild(docLink);\n",
              "      }\n",
              "    </script>\n",
              "  </div>\n",
              "\n",
              "\n",
              "<div id=\"df-8fbc8d56-e573-4aa7-bad0-b5cce18275f9\">\n",
              "  <button class=\"colab-df-quickchart\" onclick=\"quickchart('df-8fbc8d56-e573-4aa7-bad0-b5cce18275f9')\"\n",
              "            title=\"Suggest charts\"\n",
              "            style=\"display:none;\">\n",
              "\n",
              "<svg xmlns=\"http://www.w3.org/2000/svg\" height=\"24px\"viewBox=\"0 0 24 24\"\n",
              "     width=\"24px\">\n",
              "    <g>\n",
              "        <path d=\"M19 3H5c-1.1 0-2 .9-2 2v14c0 1.1.9 2 2 2h14c1.1 0 2-.9 2-2V5c0-1.1-.9-2-2-2zM9 17H7v-7h2v7zm4 0h-2V7h2v10zm4 0h-2v-4h2v4z\"/>\n",
              "    </g>\n",
              "</svg>\n",
              "  </button>\n",
              "\n",
              "<style>\n",
              "  .colab-df-quickchart {\n",
              "      --bg-color: #E8F0FE;\n",
              "      --fill-color: #1967D2;\n",
              "      --hover-bg-color: #E2EBFA;\n",
              "      --hover-fill-color: #174EA6;\n",
              "      --disabled-fill-color: #AAA;\n",
              "      --disabled-bg-color: #DDD;\n",
              "  }\n",
              "\n",
              "  [theme=dark] .colab-df-quickchart {\n",
              "      --bg-color: #3B4455;\n",
              "      --fill-color: #D2E3FC;\n",
              "      --hover-bg-color: #434B5C;\n",
              "      --hover-fill-color: #FFFFFF;\n",
              "      --disabled-bg-color: #3B4455;\n",
              "      --disabled-fill-color: #666;\n",
              "  }\n",
              "\n",
              "  .colab-df-quickchart {\n",
              "    background-color: var(--bg-color);\n",
              "    border: none;\n",
              "    border-radius: 50%;\n",
              "    cursor: pointer;\n",
              "    display: none;\n",
              "    fill: var(--fill-color);\n",
              "    height: 32px;\n",
              "    padding: 0;\n",
              "    width: 32px;\n",
              "  }\n",
              "\n",
              "  .colab-df-quickchart:hover {\n",
              "    background-color: var(--hover-bg-color);\n",
              "    box-shadow: 0 1px 2px rgba(60, 64, 67, 0.3), 0 1px 3px 1px rgba(60, 64, 67, 0.15);\n",
              "    fill: var(--button-hover-fill-color);\n",
              "  }\n",
              "\n",
              "  .colab-df-quickchart-complete:disabled,\n",
              "  .colab-df-quickchart-complete:disabled:hover {\n",
              "    background-color: var(--disabled-bg-color);\n",
              "    fill: var(--disabled-fill-color);\n",
              "    box-shadow: none;\n",
              "  }\n",
              "\n",
              "  .colab-df-spinner {\n",
              "    border: 2px solid var(--fill-color);\n",
              "    border-color: transparent;\n",
              "    border-bottom-color: var(--fill-color);\n",
              "    animation:\n",
              "      spin 1s steps(1) infinite;\n",
              "  }\n",
              "\n",
              "  @keyframes spin {\n",
              "    0% {\n",
              "      border-color: transparent;\n",
              "      border-bottom-color: var(--fill-color);\n",
              "      border-left-color: var(--fill-color);\n",
              "    }\n",
              "    20% {\n",
              "      border-color: transparent;\n",
              "      border-left-color: var(--fill-color);\n",
              "      border-top-color: var(--fill-color);\n",
              "    }\n",
              "    30% {\n",
              "      border-color: transparent;\n",
              "      border-left-color: var(--fill-color);\n",
              "      border-top-color: var(--fill-color);\n",
              "      border-right-color: var(--fill-color);\n",
              "    }\n",
              "    40% {\n",
              "      border-color: transparent;\n",
              "      border-right-color: var(--fill-color);\n",
              "      border-top-color: var(--fill-color);\n",
              "    }\n",
              "    60% {\n",
              "      border-color: transparent;\n",
              "      border-right-color: var(--fill-color);\n",
              "    }\n",
              "    80% {\n",
              "      border-color: transparent;\n",
              "      border-right-color: var(--fill-color);\n",
              "      border-bottom-color: var(--fill-color);\n",
              "    }\n",
              "    90% {\n",
              "      border-color: transparent;\n",
              "      border-bottom-color: var(--fill-color);\n",
              "    }\n",
              "  }\n",
              "</style>\n",
              "\n",
              "  <script>\n",
              "    async function quickchart(key) {\n",
              "      const quickchartButtonEl =\n",
              "        document.querySelector('#' + key + ' button');\n",
              "      quickchartButtonEl.disabled = true;  // To prevent multiple clicks.\n",
              "      quickchartButtonEl.classList.add('colab-df-spinner');\n",
              "      try {\n",
              "        const charts = await google.colab.kernel.invokeFunction(\n",
              "            'suggestCharts', [key], {});\n",
              "      } catch (error) {\n",
              "        console.error('Error during call to suggestCharts:', error);\n",
              "      }\n",
              "      quickchartButtonEl.classList.remove('colab-df-spinner');\n",
              "      quickchartButtonEl.classList.add('colab-df-quickchart-complete');\n",
              "    }\n",
              "    (() => {\n",
              "      let quickchartButtonEl =\n",
              "        document.querySelector('#df-8fbc8d56-e573-4aa7-bad0-b5cce18275f9 button');\n",
              "      quickchartButtonEl.style.display =\n",
              "        google.colab.kernel.accessAllowed ? 'block' : 'none';\n",
              "    })();\n",
              "  </script>\n",
              "</div>\n",
              "    </div>\n",
              "  </div>\n"
            ],
            "application/vnd.google.colaboratory.intrinsic+json": {
              "type": "dataframe",
              "summary": "{\n  \"name\": \"new_df\",\n  \"rows\": 8,\n  \"fields\": [\n    {\n      \"column\": \"area_sembrada_ha\",\n      \"properties\": {\n        \"dtype\": \"number\",\n        \"std\": 1170.3875174976388,\n        \"min\": 0.0,\n        \"max\": 3400.0,\n        \"num_unique_values\": 8,\n        \"samples\": [\n          73.82,\n          12.0,\n          597.0\n        ],\n        \"semantic_type\": \"\",\n        \"description\": \"\"\n      }\n    },\n    {\n      \"column\": \"area_cosechada_ha\",\n      \"properties\": {\n        \"dtype\": \"number\",\n        \"std\": 876.6011022195328,\n        \"min\": 0.0,\n        \"max\": 2550.0,\n        \"num_unique_values\": 8,\n        \"samples\": [\n          72.16,\n          17.0,\n          597.0\n        ],\n        \"semantic_type\": \"\",\n        \"description\": \"\"\n      }\n    },\n    {\n      \"column\": \"produccion_t\",\n      \"properties\": {\n        \"dtype\": \"number\",\n        \"std\": 18397.922257697966,\n        \"min\": 0.0,\n        \"max\": 52800.0,\n        \"num_unique_values\": 8,\n        \"samples\": [\n          1040.59,\n          42.06,\n          597.0\n        ],\n        \"semantic_type\": \"\",\n        \"description\": \"\"\n      }\n    },\n    {\n      \"column\": \"rendimiento_t_ha\",\n      \"properties\": {\n        \"dtype\": \"number\",\n        \"std\": 206.62205267105446,\n        \"min\": 0.0,\n        \"max\": 597.0,\n        \"num_unique_values\": 8,\n        \"samples\": [\n          9.93,\n          1.68,\n          597.0\n        ],\n        \"semantic_type\": \"\",\n        \"description\": \"\"\n      }\n    }\n  ]\n}"
            }
          },
          "metadata": {},
          "execution_count": 51
        }
      ]
    },
    {
      "cell_type": "code",
      "source": [
        "#Histogramas de las variables numericas\n",
        "\n",
        "plt.hist(new_df['rendimiento_t_ha'], bins=11, range=(0, 55))\n",
        "plt.title('Histograma de rendimiento')\n",
        "plt.xlabel('Rendimiento (Ton/ha)')\n",
        "plt.ylabel('Frecuencia')\n",
        "plt.show()"
      ],
      "metadata": {
        "colab": {
          "base_uri": "https://localhost:8080/",
          "height": 472
        },
        "id": "Xyn5Fbi_Yi2Z",
        "outputId": "e32902b1-96cf-44f1-9057-215d81217737"
      },
      "execution_count": null,
      "outputs": [
        {
          "output_type": "display_data",
          "data": {
            "text/plain": [
              "<Figure size 640x480 with 1 Axes>"
            ],
            "image/png": "[encoded data removed]"
          },
          "metadata": {}
        }
      ]
    },
    {
      "cell_type": "code",
      "execution_count": null,
      "metadata": {
        "id": "ROeHGyGGxq-T",
        "colab": {
          "base_uri": "https://localhost:8080/",
          "height": 1000
        },
        "outputId": "13a4b0cb-5c55-48ec-aa1b-ccf92662e0f4"
      },
      "outputs": [
        {
          "output_type": "execute_result",
          "data": {
            "text/plain": [
              "<seaborn.axisgrid.PairGrid at 0x7ac03def22f0>"
            ]
          },
          "metadata": {},
          "execution_count": 53
        },
        {
          "output_type": "display_data",
          "data": {
            "text/plain": [
              "<Figure size 1000x1000 with 20 Axes>"
            ],
            "image/png": "[encoded data removed]"
          },
          "metadata": {}
        }
      ],
      "source": [
        "# Graficar distribución de pares de variables\n",
        "sns.pairplot(new_df)"
      ]
    },
    {
      "cell_type": "markdown",
      "source": [
        "# **Preparación de los datos**"
      ],
      "metadata": {
        "id": "0uFMDCoSCe9Z"
      }
    },
    {
      "cell_type": "code",
      "source": [
        "# Revisar númer de valores duplicados\n",
        "new_df.duplicated().sum()"
      ],
      "metadata": {
        "colab": {
          "base_uri": "https://localhost:8080/"
        },
        "id": "_ICpJBmOCkvA",
        "outputId": "f0114220-17f4-4fe9-97a3-d4b57e48de7c"
      },
      "execution_count": null,
      "outputs": [
        {
          "output_type": "execute_result",
          "data": {
            "text/plain": [
              "0"
            ]
          },
          "metadata": {},
          "execution_count": 54
        }
      ]
    },
    {
      "cell_type": "code",
      "source": [
        "# Revisar valores faltantes\n",
        "new_df.isna().sum()"
      ],
      "metadata": {
        "colab": {
          "base_uri": "https://localhost:8080/"
        },
        "id": "JHaONFLSCeK7",
        "outputId": "74c12ebf-5b80-4070-d6f8-16fc698e5764"
      },
      "execution_count": null,
      "outputs": [
        {
          "output_type": "execute_result",
          "data": {
            "text/plain": [
              "tipo                 0\n",
              "municipio            0\n",
              "cultivo              0\n",
              "periodo              0\n",
              "area_sembrada_ha     0\n",
              "area_cosechada_ha    0\n",
              "produccion_t         0\n",
              "rendimiento_t_ha     0\n",
              "dtype: int64"
            ]
          },
          "metadata": {},
          "execution_count": 55
        }
      ]
    },
    {
      "cell_type": "code",
      "source": [
        "new_df['rendimiento_t_ha'].value_counts(dropna=False) #REVISAR DATOS FALTANTES"
      ],
      "metadata": {
        "colab": {
          "base_uri": "https://localhost:8080/"
        },
        "id": "gJKT01dCCMin",
        "outputId": "83188700-279c-49aa-b963-e237576616bd"
      },
      "execution_count": null,
      "outputs": [
        {
          "output_type": "execute_result",
          "data": {
            "text/plain": [
              "rendimiento_t_ha\n",
              "1.00     32\n",
              "1.50     24\n",
              "20.00    24\n",
              "1.40     22\n",
              "2.00     21\n",
              "         ..\n",
              "6.40      1\n",
              "0.82      1\n",
              "24.00     1\n",
              "3.27      1\n",
              "0.41      1\n",
              "Name: count, Length: 169, dtype: int64"
            ]
          },
          "metadata": {},
          "execution_count": 56
        }
      ]
    },
    {
      "cell_type": "code",
      "source": [
        "new_df['rendimiento_t_ha'].value_counts(dropna=True)"
      ],
      "metadata": {
        "colab": {
          "base_uri": "https://localhost:8080/"
        },
        "id": "bzKT8g14ETOV",
        "outputId": "da90b0f9-7355-4258-a13d-ac89b7f20f5c"
      },
      "execution_count": null,
      "outputs": [
        {
          "output_type": "execute_result",
          "data": {
            "text/plain": [
              "rendimiento_t_ha\n",
              "1.00     32\n",
              "1.50     24\n",
              "20.00    24\n",
              "1.40     22\n",
              "2.00     21\n",
              "         ..\n",
              "6.40      1\n",
              "0.82      1\n",
              "24.00     1\n",
              "3.27      1\n",
              "0.41      1\n",
              "Name: count, Length: 169, dtype: int64"
            ]
          },
          "metadata": {},
          "execution_count": 57
        }
      ]
    },
    {
      "cell_type": "code",
      "source": [
        "new_df.isnull()"
      ],
      "metadata": {
        "colab": {
          "base_uri": "https://localhost:8080/",
          "height": 423
        },
        "id": "_ceFXuizEex-",
        "outputId": "2560adba-9252-4f07-8c5c-1cdff1120c26"
      },
      "execution_count": null,
      "outputs": [
        {
          "output_type": "execute_result",
          "data": {
            "text/plain": [
              "      tipo  municipio  cultivo  periodo  area_sembrada_ha  area_cosechada_ha  \\\n",
              "0    False      False    False    False             False              False   \n",
              "1    False      False    False    False             False              False   \n",
              "3    False      False    False    False             False              False   \n",
              "4    False      False    False    False             False              False   \n",
              "5    False      False    False    False             False              False   \n",
              "..     ...        ...      ...      ...               ...                ...   \n",
              "992  False      False    False    False             False              False   \n",
              "993  False      False    False    False             False              False   \n",
              "997  False      False    False    False             False              False   \n",
              "998  False      False    False    False             False              False   \n",
              "999  False      False    False    False             False              False   \n",
              "\n",
              "     produccion_t  rendimiento_t_ha  \n",
              "0           False             False  \n",
              "1           False             False  \n",
              "3           False             False  \n",
              "4           False             False  \n",
              "5           False             False  \n",
              "..            ...               ...  \n",
              "992         False             False  \n",
              "993         False             False  \n",
              "997         False             False  \n",
              "998         False             False  \n",
              "999         False             False  \n",
              "\n",
              "[597 rows x 8 columns]"
            ],
            "text/html": [
              "\n",
              "  <div id=\"df-ade62a0e-bb13-4bea-aac8-c2eaa084d609\" class=\"colab-df-container\">\n",
              "    <div>\n",
              "<style scoped>\n",
              "    .dataframe tbody tr th:only-of-type {\n",
              "        vertical-align: middle;\n",
              "    }\n",
              "\n",
              "    .dataframe tbody tr th {\n",
              "        vertical-align: top;\n",
              "    }\n",
              "\n",
              "    .dataframe thead th {\n",
              "        text-align: right;\n",
              "    }\n",
              "</style>\n",
              "<table border=\"1\" class=\"dataframe\">\n",
              "  <thead>\n",
              "    <tr style=\"text-align: right;\">\n",
              "      <th></th>\n",
              "      <th>tipo</th>\n",
              "      <th>municipio</th>\n",
              "      <th>cultivo</th>\n",
              "      <th>periodo</th>\n",
              "      <th>area_sembrada_ha</th>\n",
              "      <th>area_cosechada_ha</th>\n",
              "      <th>produccion_t</th>\n",
              "      <th>rendimiento_t_ha</th>\n",
              "    </tr>\n",
              "  </thead>\n",
              "  <tbody>\n",
              "    <tr>\n",
              "      <th>0</th>\n",
              "      <td>False</td>\n",
              "      <td>False</td>\n",
              "      <td>False</td>\n",
              "      <td>False</td>\n",
              "      <td>False</td>\n",
              "      <td>False</td>\n",
              "      <td>False</td>\n",
              "      <td>False</td>\n",
              "    </tr>\n",
              "    <tr>\n",
              "      <th>1</th>\n",
              "      <td>False</td>\n",
              "      <td>False</td>\n",
              "      <td>False</td>\n",
              "      <td>False</td>\n",
              "      <td>False</td>\n",
              "      <td>False</td>\n",
              "      <td>False</td>\n",
              "      <td>False</td>\n",
              "    </tr>\n",
              "    <tr>\n",
              "      <th>3</th>\n",
              "      <td>False</td>\n",
              "      <td>False</td>\n",
              "      <td>False</td>\n",
              "      <td>False</td>\n",
              "      <td>False</td>\n",
              "      <td>False</td>\n",
              "      <td>False</td>\n",
              "      <td>False</td>\n",
              "    </tr>\n",
              "    <tr>\n",
              "      <th>4</th>\n",
              "      <td>False</td>\n",
              "      <td>False</td>\n",
              "      <td>False</td>\n",
              "      <td>False</td>\n",
              "      <td>False</td>\n",
              "      <td>False</td>\n",
              "      <td>False</td>\n",
              "      <td>False</td>\n",
              "    </tr>\n",
              "    <tr>\n",
              "      <th>5</th>\n",
              "      <td>False</td>\n",
              "      <td>False</td>\n",
              "      <td>False</td>\n",
              "      <td>False</td>\n",
              "      <td>False</td>\n",
              "      <td>False</td>\n",
              "      <td>False</td>\n",
              "      <td>False</td>\n",
              "    </tr>\n",
              "    <tr>\n",
              "      <th>...</th>\n",
              "      <td>...</td>\n",
              "      <td>...</td>\n",
              "      <td>...</td>\n",
              "      <td>...</td>\n",
              "      <td>...</td>\n",
              "      <td>...</td>\n",
              "      <td>...</td>\n",
              "      <td>...</td>\n",
              "    </tr>\n",
              "    <tr>\n",
              "      <th>992</th>\n",
              "      <td>False</td>\n",
              "      <td>False</td>\n",
              "      <td>False</td>\n",
              "      <td>False</td>\n",
              "      <td>False</td>\n",
              "      <td>False</td>\n",
              "      <td>False</td>\n",
              "      <td>False</td>\n",
              "    </tr>\n",
              "    <tr>\n",
              "      <th>993</th>\n",
              "      <td>False</td>\n",
              "      <td>False</td>\n",
              "      <td>False</td>\n",
              "      <td>False</td>\n",
              "      <td>False</td>\n",
              "      <td>False</td>\n",
              "      <td>False</td>\n",
              "      <td>False</td>\n",
              "    </tr>\n",
              "    <tr>\n",
              "      <th>997</th>\n",
              "      <td>False</td>\n",
              "      <td>False</td>\n",
              "      <td>False</td>\n",
              "      <td>False</td>\n",
              "      <td>False</td>\n",
              "      <td>False</td>\n",
              "      <td>False</td>\n",
              "      <td>False</td>\n",
              "    </tr>\n",
              "    <tr>\n",
              "      <th>998</th>\n",
              "      <td>False</td>\n",
              "      <td>False</td>\n",
              "      <td>False</td>\n",
              "      <td>False</td>\n",
              "      <td>False</td>\n",
              "      <td>False</td>\n",
              "      <td>False</td>\n",
              "      <td>False</td>\n",
              "    </tr>\n",
              "    <tr>\n",
              "      <th>999</th>\n",
              "      <td>False</td>\n",
              "      <td>False</td>\n",
              "      <td>False</td>\n",
              "      <td>False</td>\n",
              "      <td>False</td>\n",
              "      <td>False</td>\n",
              "      <td>False</td>\n",
              "      <td>False</td>\n",
              "    </tr>\n",
              "  </tbody>\n",
              "</table>\n",
              "<p>597 rows × 8 columns</p>\n",
              "</div>\n",
              "    <div class=\"colab-df-buttons\">\n",
              "\n",
              "  <div class=\"colab-df-container\">\n",
              "    <button class=\"colab-df-convert\" onclick=\"convertToInteractive('df-ade62a0e-bb13-4bea-aac8-c2eaa084d609')\"\n",
              "            title=\"Convert this dataframe to an interactive table.\"\n",
              "            style=\"display:none;\">\n",
              "\n",
              "  <svg xmlns=\"http://www.w3.org/2000/svg\" height=\"24px\" viewBox=\"0 -960 960 960\">\n",
              "    <path d=\"M120-120v-720h720v720H120Zm60-500h600v-160H180v160Zm220 220h160v-160H400v160Zm0 220h160v-160H400v160ZM180-400h160v-160H180v160Zm440 0h160v-160H620v160ZM180-180h160v-160H180v160Zm440 0h160v-160H620v160Z\"/>\n",
              "  </svg>\n",
              "    </button>\n",
              "\n",
              "  <style>\n",
              "    .colab-df-container {\n",
              "      display:flex;\n",
              "      gap: 12px;\n",
              "    }\n",
              "\n",
              "    .colab-df-convert {\n",
              "      background-color: #E8F0FE;\n",
              "      border: none;\n",
              "      border-radius: 50%;\n",
              "      cursor: pointer;\n",
              "      display: none;\n",
              "      fill: #1967D2;\n",
              "      height: 32px;\n",
              "      padding: 0 0 0 0;\n",
              "      width: 32px;\n",
              "    }\n",
              "\n",
              "    .colab-df-convert:hover {\n",
              "      background-color: #E2EBFA;\n",
              "      box-shadow: 0px 1px 2px rgba(60, 64, 67, 0.3), 0px 1px 3px 1px rgba(60, 64, 67, 0.15);\n",
              "      fill: #174EA6;\n",
              "    }\n",
              "\n",
              "    .colab-df-buttons div {\n",
              "      margin-bottom: 4px;\n",
              "    }\n",
              "\n",
              "    [theme=dark] .colab-df-convert {\n",
              "      background-color: #3B4455;\n",
              "      fill: #D2E3FC;\n",
              "    }\n",
              "\n",
              "    [theme=dark] .colab-df-convert:hover {\n",
              "      background-color: #434B5C;\n",
              "      box-shadow: 0px 1px 3px 1px rgba(0, 0, 0, 0.15);\n",
              "      filter: drop-shadow(0px 1px 2px rgba(0, 0, 0, 0.3));\n",
              "      fill: #FFFFFF;\n",
              "    }\n",
              "  </style>\n",
              "\n",
              "    <script>\n",
              "      const buttonEl =\n",
              "        document.querySelector('#df-ade62a0e-bb13-4bea-aac8-c2eaa084d609 button.colab-df-convert');\n",
              "      buttonEl.style.display =\n",
              "        google.colab.kernel.accessAllowed ? 'block' : 'none';\n",
              "\n",
              "      async function convertToInteractive(key) {\n",
              "        const element = document.querySelector('#df-ade62a0e-bb13-4bea-aac8-c2eaa084d609');\n",
              "        const dataTable =\n",
              "          await google.colab.kernel.invokeFunction('convertToInteractive',\n",
              "                                                    [key], {});\n",
              "        if (!dataTable) return;\n",
              "\n",
              "        const docLinkHtml = 'Like what you see? Visit the ' +\n",
              "          '<a target=\"_blank\" href=https://colab.research.google.com/notebooks/data_table.ipynb>data table notebook</a>'\n",
              "          + ' to learn more about interactive tables.';\n",
              "        element.innerHTML = '';\n",
              "        dataTable['output_type'] = 'display_data';\n",
              "        await google.colab.output.renderOutput(dataTable, element);\n",
              "        const docLink = document.createElement('div');\n",
              "        docLink.innerHTML = docLinkHtml;\n",
              "        element.appendChild(docLink);\n",
              "      }\n",
              "    </script>\n",
              "  </div>\n",
              "\n",
              "\n",
              "<div id=\"df-717df324-807c-4f07-acd7-624c73c6c5bc\">\n",
              "  <button class=\"colab-df-quickchart\" onclick=\"quickchart('df-717df324-807c-4f07-acd7-624c73c6c5bc')\"\n",
              "            title=\"Suggest charts\"\n",
              "            style=\"display:none;\">\n",
              "\n",
              "<svg xmlns=\"http://www.w3.org/2000/svg\" height=\"24px\"viewBox=\"0 0 24 24\"\n",
              "     width=\"24px\">\n",
              "    <g>\n",
              "        <path d=\"M19 3H5c-1.1 0-2 .9-2 2v14c0 1.1.9 2 2 2h14c1.1 0 2-.9 2-2V5c0-1.1-.9-2-2-2zM9 17H7v-7h2v7zm4 0h-2V7h2v10zm4 0h-2v-4h2v4z\"/>\n",
              "    </g>\n",
              "</svg>\n",
              "  </button>\n",
              "\n",
              "<style>\n",
              "  .colab-df-quickchart {\n",
              "      --bg-color: #E8F0FE;\n",
              "      --fill-color: #1967D2;\n",
              "      --hover-bg-color: #E2EBFA;\n",
              "      --hover-fill-color: #174EA6;\n",
              "      --disabled-fill-color: #AAA;\n",
              "      --disabled-bg-color: #DDD;\n",
              "  }\n",
              "\n",
              "  [theme=dark] .colab-df-quickchart {\n",
              "      --bg-color: #3B4455;\n",
              "      --fill-color: #D2E3FC;\n",
              "      --hover-bg-color: #434B5C;\n",
              "      --hover-fill-color: #FFFFFF;\n",
              "      --disabled-bg-color: #3B4455;\n",
              "      --disabled-fill-color: #666;\n",
              "  }\n",
              "\n",
              "  .colab-df-quickchart {\n",
              "    background-color: var(--bg-color);\n",
              "    border: none;\n",
              "    border-radius: 50%;\n",
              "    cursor: pointer;\n",
              "    display: none;\n",
              "    fill: var(--fill-color);\n",
              "    height: 32px;\n",
              "    padding: 0;\n",
              "    width: 32px;\n",
              "  }\n",
              "\n",
              "  .colab-df-quickchart:hover {\n",
              "    background-color: var(--hover-bg-color);\n",
              "    box-shadow: 0 1px 2px rgba(60, 64, 67, 0.3), 0 1px 3px 1px rgba(60, 64, 67, 0.15);\n",
              "    fill: var(--button-hover-fill-color);\n",
              "  }\n",
              "\n",
              "  .colab-df-quickchart-complete:disabled,\n",
              "  .colab-df-quickchart-complete:disabled:hover {\n",
              "    background-color: var(--disabled-bg-color);\n",
              "    fill: var(--disabled-fill-color);\n",
              "    box-shadow: none;\n",
              "  }\n",
              "\n",
              "  .colab-df-spinner {\n",
              "    border: 2px solid var(--fill-color);\n",
              "    border-color: transparent;\n",
              "    border-bottom-color: var(--fill-color);\n",
              "    animation:\n",
              "      spin 1s steps(1) infinite;\n",
              "  }\n",
              "\n",
              "  @keyframes spin {\n",
              "    0% {\n",
              "      border-color: transparent;\n",
              "      border-bottom-color: var(--fill-color);\n",
              "      border-left-color: var(--fill-color);\n",
              "    }\n",
              "    20% {\n",
              "      border-color: transparent;\n",
              "      border-left-color: var(--fill-color);\n",
              "      border-top-color: var(--fill-color);\n",
              "    }\n",
              "    30% {\n",
              "      border-color: transparent;\n",
              "      border-left-color: var(--fill-color);\n",
              "      border-top-color: var(--fill-color);\n",
              "      border-right-color: var(--fill-color);\n",
              "    }\n",
              "    40% {\n",
              "      border-color: transparent;\n",
              "      border-right-color: var(--fill-color);\n",
              "      border-top-color: var(--fill-color);\n",
              "    }\n",
              "    60% {\n",
              "      border-color: transparent;\n",
              "      border-right-color: var(--fill-color);\n",
              "    }\n",
              "    80% {\n",
              "      border-color: transparent;\n",
              "      border-right-color: var(--fill-color);\n",
              "      border-bottom-color: var(--fill-color);\n",
              "    }\n",
              "    90% {\n",
              "      border-color: transparent;\n",
              "      border-bottom-color: var(--fill-color);\n",
              "    }\n",
              "  }\n",
              "</style>\n",
              "\n",
              "  <script>\n",
              "    async function quickchart(key) {\n",
              "      const quickchartButtonEl =\n",
              "        document.querySelector('#' + key + ' button');\n",
              "      quickchartButtonEl.disabled = true;  // To prevent multiple clicks.\n",
              "      quickchartButtonEl.classList.add('colab-df-spinner');\n",
              "      try {\n",
              "        const charts = await google.colab.kernel.invokeFunction(\n",
              "            'suggestCharts', [key], {});\n",
              "      } catch (error) {\n",
              "        console.error('Error during call to suggestCharts:', error);\n",
              "      }\n",
              "      quickchartButtonEl.classList.remove('colab-df-spinner');\n",
              "      quickchartButtonEl.classList.add('colab-df-quickchart-complete');\n",
              "    }\n",
              "    (() => {\n",
              "      let quickchartButtonEl =\n",
              "        document.querySelector('#df-717df324-807c-4f07-acd7-624c73c6c5bc button');\n",
              "      quickchartButtonEl.style.display =\n",
              "        google.colab.kernel.accessAllowed ? 'block' : 'none';\n",
              "    })();\n",
              "  </script>\n",
              "</div>\n",
              "    </div>\n",
              "  </div>\n"
            ],
            "application/vnd.google.colaboratory.intrinsic+json": {
              "type": "dataframe",
              "summary": "{\n  \"name\": \"new_df\",\n  \"rows\": 597,\n  \"fields\": [\n    {\n      \"column\": \"tipo\",\n      \"properties\": {\n        \"dtype\": \"boolean\",\n        \"num_unique_values\": 1,\n        \"samples\": [\n          false\n        ],\n        \"semantic_type\": \"\",\n        \"description\": \"\"\n      }\n    },\n    {\n      \"column\": \"municipio\",\n      \"properties\": {\n        \"dtype\": \"boolean\",\n        \"num_unique_values\": 1,\n        \"samples\": [\n          false\n        ],\n        \"semantic_type\": \"\",\n        \"description\": \"\"\n      }\n    },\n    {\n      \"column\": \"cultivo\",\n      \"properties\": {\n        \"dtype\": \"boolean\",\n        \"num_unique_values\": 1,\n        \"samples\": [\n          false\n        ],\n        \"semantic_type\": \"\",\n        \"description\": \"\"\n      }\n    },\n    {\n      \"column\": \"periodo\",\n      \"properties\": {\n        \"dtype\": \"boolean\",\n        \"num_unique_values\": 1,\n        \"samples\": [\n          false\n        ],\n        \"semantic_type\": \"\",\n        \"description\": \"\"\n      }\n    },\n    {\n      \"column\": \"area_sembrada_ha\",\n      \"properties\": {\n        \"dtype\": \"boolean\",\n        \"num_unique_values\": 1,\n        \"samples\": [\n          false\n        ],\n        \"semantic_type\": \"\",\n        \"description\": \"\"\n      }\n    },\n    {\n      \"column\": \"area_cosechada_ha\",\n      \"properties\": {\n        \"dtype\": \"boolean\",\n        \"num_unique_values\": 1,\n        \"samples\": [\n          false\n        ],\n        \"semantic_type\": \"\",\n        \"description\": \"\"\n      }\n    },\n    {\n      \"column\": \"produccion_t\",\n      \"properties\": {\n        \"dtype\": \"boolean\",\n        \"num_unique_values\": 1,\n        \"samples\": [\n          false\n        ],\n        \"semantic_type\": \"\",\n        \"description\": \"\"\n      }\n    },\n    {\n      \"column\": \"rendimiento_t_ha\",\n      \"properties\": {\n        \"dtype\": \"boolean\",\n        \"num_unique_values\": 1,\n        \"samples\": [\n          false\n        ],\n        \"semantic_type\": \"\",\n        \"description\": \"\"\n      }\n    }\n  ]\n}"
            }
          },
          "metadata": {},
          "execution_count": 58
        }
      ]
    },
    {
      "cell_type": "code",
      "source": [
        "new_df.isnull().sum()"
      ],
      "metadata": {
        "colab": {
          "base_uri": "https://localhost:8080/"
        },
        "id": "Qi8EUK4tFFzV",
        "outputId": "eabf111e-85b4-45ca-c5b6-be89447366f7"
      },
      "execution_count": null,
      "outputs": [
        {
          "output_type": "execute_result",
          "data": {
            "text/plain": [
              "tipo                 0\n",
              "municipio            0\n",
              "cultivo              0\n",
              "periodo              0\n",
              "area_sembrada_ha     0\n",
              "area_cosechada_ha    0\n",
              "produccion_t         0\n",
              "rendimiento_t_ha     0\n",
              "dtype: int64"
            ]
          },
          "metadata": {},
          "execution_count": 59
        }
      ]
    },
    {
      "cell_type": "code",
      "source": [
        "new_df.isnull().sum().sum()"
      ],
      "metadata": {
        "colab": {
          "base_uri": "https://localhost:8080/"
        },
        "id": "qqotcH09GqQx",
        "outputId": "7d7e8e87-bcdf-456d-8932-37e6428c360e"
      },
      "execution_count": null,
      "outputs": [
        {
          "output_type": "execute_result",
          "data": {
            "text/plain": [
              "0"
            ]
          },
          "metadata": {},
          "execution_count": 60
        }
      ]
    },
    {
      "cell_type": "code",
      "source": [
        "(len(new_df)-new_df.count()).sum()"
      ],
      "metadata": {
        "colab": {
          "base_uri": "https://localhost:8080/"
        },
        "id": "FrxpszRvGsmx",
        "outputId": "ba0a9032-cd18-477c-fc06-c9d48dece2de"
      },
      "execution_count": null,
      "outputs": [
        {
          "output_type": "execute_result",
          "data": {
            "text/plain": [
              "0"
            ]
          },
          "metadata": {},
          "execution_count": 61
        }
      ]
    },
    {
      "cell_type": "code",
      "source": [
        "median_age=new_df['rendimiento_t_ha'].median(axis=0)\n",
        "\n",
        "median_age #calculo de la mediana"
      ],
      "metadata": {
        "colab": {
          "base_uri": "https://localhost:8080/"
        },
        "id": "G0JxJifOHqMr",
        "outputId": "0959fa10-5939-442c-ce98-22b4e67711d7"
      },
      "execution_count": null,
      "outputs": [
        {
          "output_type": "execute_result",
          "data": {
            "text/plain": [
              "1.68"
            ]
          },
          "metadata": {},
          "execution_count": 62
        }
      ]
    },
    {
      "cell_type": "code",
      "source": [
        "new_df['rendimiento_t_ha'].fillna(median_age,inplace=True)\n",
        "new_df['rendimiento_t_ha']"
      ],
      "metadata": {
        "colab": {
          "base_uri": "https://localhost:8080/"
        },
        "id": "1kVi-P2xKjpk",
        "outputId": "6010e016-2115-4ea5-f588-e8f111d24d69"
      },
      "execution_count": null,
      "outputs": [
        {
          "output_type": "execute_result",
          "data": {
            "text/plain": [
              "0       1.20\n",
              "1       1.40\n",
              "3       3.50\n",
              "4      20.00\n",
              "5       0.90\n",
              "       ...  \n",
              "992     0.78\n",
              "993     0.79\n",
              "997     1.18\n",
              "998     0.69\n",
              "999     0.41\n",
              "Name: rendimiento_t_ha, Length: 597, dtype: float32"
            ]
          },
          "metadata": {},
          "execution_count": 63
        }
      ]
    },
    {
      "cell_type": "code",
      "source": [
        "new_df.isnull().sum()"
      ],
      "metadata": {
        "colab": {
          "base_uri": "https://localhost:8080/"
        },
        "id": "yoM22lYzNtuc",
        "outputId": "e6976b04-f5d6-4c31-d65d-4c97cb41a7c5"
      },
      "execution_count": null,
      "outputs": [
        {
          "output_type": "execute_result",
          "data": {
            "text/plain": [
              "tipo                 0\n",
              "municipio            0\n",
              "cultivo              0\n",
              "periodo              0\n",
              "area_sembrada_ha     0\n",
              "area_cosechada_ha    0\n",
              "produccion_t         0\n",
              "rendimiento_t_ha     0\n",
              "dtype: int64"
            ]
          },
          "metadata": {},
          "execution_count": 64
        }
      ]
    },
    {
      "cell_type": "code",
      "source": [
        "new_df.info()"
      ],
      "metadata": {
        "id": "Mi3rLRaYSdLy",
        "outputId": "963cf382-fa60-4abe-9a2b-e1334f68b148",
        "colab": {
          "base_uri": "https://localhost:8080/"
        }
      },
      "execution_count": null,
      "outputs": [
        {
          "output_type": "stream",
          "name": "stdout",
          "text": [
            "<class 'pandas.core.frame.DataFrame'>\n",
            "Index: 597 entries, 0 to 999\n",
            "Data columns (total 8 columns):\n",
            " #   Column             Non-Null Count  Dtype  \n",
            "---  ------             --------------  -----  \n",
            " 0   tipo               597 non-null    object \n",
            " 1   municipio          597 non-null    object \n",
            " 2   cultivo            597 non-null    object \n",
            " 3   periodo            597 non-null    object \n",
            " 4   area_sembrada_ha   597 non-null    float32\n",
            " 5   area_cosechada_ha  597 non-null    float32\n",
            " 6   produccion_t       597 non-null    float32\n",
            " 7   rendimiento_t_ha   597 non-null    float32\n",
            "dtypes: float32(4), object(4)\n",
            "memory usage: 32.6+ KB\n"
          ]
        }
      ]
    },
    {
      "cell_type": "markdown",
      "source": [],
      "metadata": {
        "id": "5_xaEj_XYjWZ"
      }
    },
    {
      "cell_type": "code",
      "source": [
        "import pandas as pd\n",
        "\n",
        "# Calcular la frecuencia de cada categoría en la columna 'tipo'\n",
        "frecuencia_tipo = new_df['tipo'].value_counts()\n",
        "\n",
        "# Calcular la frecuencia de cada categoría en la columna 'municipio'\n",
        "frecuencia_municipio = new_df['municipio'].value_counts()\n",
        "\n",
        "# Calcular la frecuencia de cada categoría en la columna 'cultivo'\n",
        "frecuencia_cultivo = new_df['cultivo'].value_counts()\n",
        "\n",
        "# Calcular la frecuencia de cada categoría en la columna 'periodo'\n",
        "frecuencia_periodo = new_df['periodo'].value_counts()\n",
        "\n",
        "# Mostrar los resultados\n",
        "print(\"Frecuencia de cada categoría en la columna 'tipo':\")\n",
        "print(frecuencia_tipo)\n",
        "print(\"\\nFrecuencia de cada categoría en la columna 'municipio':\")\n",
        "print(frecuencia_municipio)\n",
        "print(\"\\nFrecuencia de cada categoría en la columna 'cultivo':\")\n",
        "print(frecuencia_cultivo)\n",
        "print(\"\\nFrecuencia de cada categoría en la columna 'periodo':\")\n",
        "print(frecuencia_periodo)\n"
      ],
      "metadata": {
        "id": "xDhau2uhYp5j",
        "colab": {
          "base_uri": "https://localhost:8080/"
        },
        "outputId": "b3bbf512-4867-460a-a6aa-7324e27f7ac7"
      },
      "execution_count": null,
      "outputs": [
        {
          "output_type": "stream",
          "name": "stdout",
          "text": [
            "Frecuencia de cada categoría en la columna 'tipo':\n",
            "tipo\n",
            "CULTIVOS TRANSITORIOS    554\n",
            "CULTIVOS PERMANENTES      43\n",
            "Name: count, dtype: int64\n",
            "\n",
            "Frecuencia de cada categoría en la columna 'municipio':\n",
            "municipio\n",
            "Chita         8\n",
            "Firavitoba    8\n",
            "Nobsa         8\n",
            "Pachavita     7\n",
            "Soatá         7\n",
            "             ..\n",
            "Zetaquira     2\n",
            "Sáchica       2\n",
            "Boyacá        2\n",
            "Pajarito      2\n",
            "Iza           1\n",
            "Name: count, Length: 122, dtype: int64\n",
            "\n",
            "Frecuencia de cada categoría en la columna 'cultivo':\n",
            "cultivo\n",
            "Maíz Amarillo Tradicional    106\n",
            "Arveja                        87\n",
            "Papa                          87\n",
            "Frijol                        85\n",
            "Cebolla De Bulbo              48\n",
            "Café                          43\n",
            "Tomate Invernadero            38\n",
            "Yuca                          38\n",
            "Trigo                         33\n",
            "Haba                          32\n",
            "Name: count, dtype: int64\n",
            "\n",
            "Frecuencia de cada categoría en la columna 'periodo':\n",
            "periodo\n",
            "2022B    554\n",
            "2022      43\n",
            "Name: count, dtype: int64\n"
          ]
        }
      ]
    },
    {
      "cell_type": "code",
      "source": [
        "# Agrupar por cultivo y calcular la productividad media\n",
        "productividad_promedio = new_df.groupby('cultivo')['rendimiento_t_ha'].mean().sort_values(ascending=False).head(10)\n",
        "\n",
        "# Crear el gráfico de barras\n",
        "plt.figure(figsize=(10, 6))\n",
        "productividad_promedio.plot(kind='bar', color='skyblue')\n",
        "plt.title('Top 10 de cultivos con mayor rendimiento promedio')\n",
        "plt.xlabel('Cultivo')\n",
        "plt.ylabel('Rendimiento (ton/ha)')\n",
        "plt.xticks(rotation=45, ha='right')  # Rotar etiquetas del eje x para mejor legibilidad\n",
        "plt.tight_layout()  # Ajustar diseño para evitar superposiciones\n",
        "plt.show()"
      ],
      "metadata": {
        "colab": {
          "base_uri": "https://localhost:8080/",
          "height": 607
        },
        "id": "51_sHyWD41P1",
        "outputId": "fc7efc01-bd7d-4202-f000-9f26182d6ed6"
      },
      "execution_count": null,
      "outputs": [
        {
          "output_type": "display_data",
          "data": {
            "text/plain": [
              "<Figure size 1000x600 with 1 Axes>"
            ],
            "image/png": "[encoded data removed]"
          },
          "metadata": {}
        }
      ]
    },
    {
      "cell_type": "code",
      "source": [
        "# Agrupar por cultivo y calcular la productividad media\n",
        "productividad_promedio = new_df.groupby('cultivo')['rendimiento_t_ha'].mean().sort_values(ascending=False).tail(10)\n",
        "\n",
        "# Crear el gráfico de barras\n",
        "plt.figure(figsize=(10, 6))\n",
        "productividad_promedio.plot(kind='bar', color='lightcoral')\n",
        "plt.title('Top 10 de cultivos con menor rendimiento promedio')\n",
        "plt.xlabel('Cultivo')\n",
        "plt.ylabel('Rendimiento (ton/ha)')\n",
        "plt.xticks(rotation=45, ha='right')  # Rotar etiquetas del eje x para mejor legibilidad\n",
        "plt.tight_layout()  # Ajustar diseño para evitar superposiciones\n",
        "plt.show()"
      ],
      "metadata": {
        "colab": {
          "base_uri": "https://localhost:8080/",
          "height": 607
        },
        "id": "OVjLpfuyBDWl",
        "outputId": "a4f84298-43a7-4392-a3c5-b7edcac03242"
      },
      "execution_count": null,
      "outputs": [
        {
          "output_type": "display_data",
          "data": {
            "text/plain": [
              "<Figure size 1000x600 with 1 Axes>"
            ],
            "image/png": "[encoded data removed]"
          },
          "metadata": {}
        }
      ]
    },
    {
      "cell_type": "code",
      "source": [
        "from sklearn.model_selection import train_test_split\n",
        "x_train, x_test, y_train, y_test = train_test_split(new_df[[\"tipo\", \"municipio\", \"periodo\", \"area_sembrada_ha\",\n",
        "                                                       \"area_cosechada_ha\", \"produccion_t\", \"rendimiento_t_ha\"]], new_df['cultivo'], test_size=0.25, random_state=42)"
      ],
      "metadata": {
        "id": "Ihhnlpt7eqKk"
      },
      "execution_count": null,
      "outputs": []
    },
    {
      "cell_type": "code",
      "source": [
        "x_train.shape\n",
        "x_test.shape"
      ],
      "metadata": {
        "colab": {
          "base_uri": "https://localhost:8080/"
        },
        "id": "VQ7H-GvniNTk",
        "outputId": "032a6eaa-459f-4537-e02d-0b6f3a863fd1"
      },
      "execution_count": null,
      "outputs": [
        {
          "output_type": "execute_result",
          "data": {
            "text/plain": [
              "(150, 7)"
            ]
          },
          "metadata": {},
          "execution_count": 70
        }
      ]
    },
    {
      "cell_type": "code",
      "source": [
        "new_df.info()"
      ],
      "metadata": {
        "colab": {
          "base_uri": "https://localhost:8080/"
        },
        "id": "LWALBbHPS73i",
        "outputId": "1e2abb33-3ee0-4b03-c099-44e6126eb4e3"
      },
      "execution_count": null,
      "outputs": [
        {
          "output_type": "stream",
          "name": "stdout",
          "text": [
            "<class 'pandas.core.frame.DataFrame'>\n",
            "Index: 597 entries, 0 to 999\n",
            "Data columns (total 8 columns):\n",
            " #   Column             Non-Null Count  Dtype  \n",
            "---  ------             --------------  -----  \n",
            " 0   tipo               597 non-null    object \n",
            " 1   municipio          597 non-null    object \n",
            " 2   cultivo            597 non-null    object \n",
            " 3   periodo            597 non-null    object \n",
            " 4   area_sembrada_ha   597 non-null    float32\n",
            " 5   area_cosechada_ha  597 non-null    float32\n",
            " 6   produccion_t       597 non-null    float32\n",
            " 7   rendimiento_t_ha   597 non-null    float32\n",
            "dtypes: float32(4), object(4)\n",
            "memory usage: 32.6+ KB\n"
          ]
        }
      ]
    },
    {
      "cell_type": "code",
      "source": [
        "import tensorflow as tf\n",
        "from tensorflow import keras\n",
        "tf.random.set_seed(42)\n",
        "np.random.seed(42)\n",
        "early_stopping_cb = keras.callbacks.EarlyStopping(patience = 20)\n",
        "\n",
        "\n",
        "model = keras.models.Sequential([\n",
        "    keras.layers.Flatten(input_shape=[7]),\n",
        "    keras.layers.Dense(300, activation=\"relu\"),\n",
        "    keras.layers.Dense(100, activation=\"relu\"),\n",
        "    keras.layers.Dense(10, activation=\"softmax\"),\n",
        "])"
      ],
      "metadata": {
        "id": "4TgNdww0jdQz"
      },
      "execution_count": null,
      "outputs": []
    },
    {
      "cell_type": "markdown",
      "source": [],
      "metadata": {
        "id": "cV7DAlGNSQUs"
      }
    },
    {
      "cell_type": "code",
      "source": [
        "model.compile(optimizer=\"adam\", loss=\"sparse_categorical_crossentropy\", metrics=[\"accuracy\"])"
      ],
      "metadata": {
        "id": "mZtGW0OlQ5KA"
      },
      "execution_count": null,
      "outputs": []
    },
    {
      "cell_type": "code",
      "source": [
        "x_test.info()"
      ],
      "metadata": {
        "colab": {
          "base_uri": "https://localhost:8080/"
        },
        "id": "qDNFIymDdyAs",
        "outputId": "fccbd24c-984e-419b-b041-01e684715079"
      },
      "execution_count": null,
      "outputs": [
        {
          "output_type": "stream",
          "name": "stdout",
          "text": [
            "<class 'pandas.core.frame.DataFrame'>\n",
            "Index: 150 entries, 152 to 973\n",
            "Data columns (total 7 columns):\n",
            " #   Column             Non-Null Count  Dtype  \n",
            "---  ------             --------------  -----  \n",
            " 0   tipo               150 non-null    object \n",
            " 1   municipio          150 non-null    object \n",
            " 2   periodo            150 non-null    object \n",
            " 3   area_sembrada_ha   150 non-null    float32\n",
            " 4   area_cosechada_ha  150 non-null    float32\n",
            " 5   produccion_t       150 non-null    float32\n",
            " 6   rendimiento_t_ha   150 non-null    float32\n",
            "dtypes: float32(4), object(3)\n",
            "memory usage: 7.0+ KB\n"
          ]
        }
      ]
    },
    {
      "cell_type": "code",
      "source": [
        "entrenamiento = model.fit(x_train, y_train, epochs=35, validation_data=(x_test, y_test))"
      ],
      "metadata": {
        "colab": {
          "base_uri": "https://localhost:8080/",
          "height": 297
        },
        "id": "PQ2oiPdfSf5j",
        "outputId": "24f67e51-c8d6-448e-eb23-ba996113dabf"
      },
      "execution_count": null,
      "outputs": [
        {
          "output_type": "error",
          "ename": "ValueError",
          "evalue": "Failed to convert a NumPy array to a Tensor (Unsupported object type float).",
          "traceback": [
            "\u001b[0;31m---------------------------------------------------------------------------\u001b[0m",
            "\u001b[0;31mValueError\u001b[0m                                Traceback (most recent call last)",
            "\u001b[0;32m<ipython-input-74-616e690bcc82>\u001b[0m in \u001b[0;36m<cell line: 1>\u001b[0;34m()\u001b[0m\n\u001b[0;32m----> 1\u001b[0;31m \u001b[0mentrenamiento\u001b[0m \u001b[0;34m=\u001b[0m \u001b[0mmodel\u001b[0m\u001b[0;34m.\u001b[0m\u001b[0mfit\u001b[0m\u001b[0;34m(\u001b[0m\u001b[0mx_train\u001b[0m\u001b[0;34m,\u001b[0m \u001b[0my_train\u001b[0m\u001b[0;34m,\u001b[0m \u001b[0mepochs\u001b[0m\u001b[0;34m=\u001b[0m\u001b[0;36m35\u001b[0m\u001b[0;34m,\u001b[0m \u001b[0mvalidation_data\u001b[0m\u001b[0;34m=\u001b[0m\u001b[0;34m(\u001b[0m\u001b[0mx_test\u001b[0m\u001b[0;34m,\u001b[0m \u001b[0my_test\u001b[0m\u001b[0;34m)\u001b[0m\u001b[0;34m)\u001b[0m\u001b[0;34m\u001b[0m\u001b[0;34m\u001b[0m\u001b[0m\n\u001b[0m",
            "\u001b[0;32m/usr/local/lib/python3.10/dist-packages/keras/src/utils/traceback_utils.py\u001b[0m in \u001b[0;36merror_handler\u001b[0;34m(*args, **kwargs)\u001b[0m\n\u001b[1;32m     68\u001b[0m             \u001b[0;31m# To get the full stack trace, call:\u001b[0m\u001b[0;34m\u001b[0m\u001b[0;34m\u001b[0m\u001b[0m\n\u001b[1;32m     69\u001b[0m             \u001b[0;31m# `tf.debugging.disable_traceback_filtering()`\u001b[0m\u001b[0;34m\u001b[0m\u001b[0;34m\u001b[0m\u001b[0m\n\u001b[0;32m---> 70\u001b[0;31m             \u001b[0;32mraise\u001b[0m \u001b[0me\u001b[0m\u001b[0;34m.\u001b[0m\u001b[0mwith_traceback\u001b[0m\u001b[0;34m(\u001b[0m\u001b[0mfiltered_tb\u001b[0m\u001b[0;34m)\u001b[0m \u001b[0;32mfrom\u001b[0m \u001b[0;32mNone\u001b[0m\u001b[0;34m\u001b[0m\u001b[0;34m\u001b[0m\u001b[0m\n\u001b[0m\u001b[1;32m     71\u001b[0m         \u001b[0;32mfinally\u001b[0m\u001b[0;34m:\u001b[0m\u001b[0;34m\u001b[0m\u001b[0;34m\u001b[0m\u001b[0m\n\u001b[1;32m     72\u001b[0m             \u001b[0;32mdel\u001b[0m \u001b[0mfiltered_tb\u001b[0m\u001b[0;34m\u001b[0m\u001b[0;34m\u001b[0m\u001b[0m\n",
            "\u001b[0;32m/usr/local/lib/python3.10/dist-packages/tensorflow/python/framework/constant_op.py\u001b[0m in \u001b[0;36mconvert_to_eager_tensor\u001b[0;34m(value, ctx, dtype)\u001b[0m\n\u001b[1;32m    101\u001b[0m       \u001b[0mdtype\u001b[0m \u001b[0;34m=\u001b[0m \u001b[0mdtypes\u001b[0m\u001b[0;34m.\u001b[0m\u001b[0mas_dtype\u001b[0m\u001b[0;34m(\u001b[0m\u001b[0mdtype\u001b[0m\u001b[0;34m)\u001b[0m\u001b[0;34m.\u001b[0m\u001b[0mas_datatype_enum\u001b[0m\u001b[0;34m\u001b[0m\u001b[0;34m\u001b[0m\u001b[0m\n\u001b[1;32m    102\u001b[0m   \u001b[0mctx\u001b[0m\u001b[0;34m.\u001b[0m\u001b[0mensure_initialized\u001b[0m\u001b[0;34m(\u001b[0m\u001b[0;34m)\u001b[0m\u001b[0;34m\u001b[0m\u001b[0;34m\u001b[0m\u001b[0m\n\u001b[0;32m--> 103\u001b[0;31m   \u001b[0;32mreturn\u001b[0m \u001b[0mops\u001b[0m\u001b[0;34m.\u001b[0m\u001b[0mEagerTensor\u001b[0m\u001b[0;34m(\u001b[0m\u001b[0mvalue\u001b[0m\u001b[0;34m,\u001b[0m \u001b[0mctx\u001b[0m\u001b[0;34m.\u001b[0m\u001b[0mdevice_name\u001b[0m\u001b[0;34m,\u001b[0m \u001b[0mdtype\u001b[0m\u001b[0;34m)\u001b[0m\u001b[0;34m\u001b[0m\u001b[0;34m\u001b[0m\u001b[0m\n\u001b[0m\u001b[1;32m    104\u001b[0m \u001b[0;34m\u001b[0m\u001b[0m\n\u001b[1;32m    105\u001b[0m \u001b[0;34m\u001b[0m\u001b[0m\n",
            "\u001b[0;31mValueError\u001b[0m: Failed to convert a NumPy array to a Tensor (Unsupported object type float)."
          ]
        }
      ]
    },
    {
      "cell_type": "code",
      "source": [
        "import pandas as pd\n",
        "import numpy as np\n",
        "model.evaluate(x_test,y_test)"
      ],
      "metadata": {
        "id": "w5a6_17Njoyy"
      },
      "execution_count": null,
      "outputs": []
    },
    {
      "cell_type": "code",
      "source": [
        "print(f\"y_train data type: {y_train.dtype}\")\n",
        "print(f\"y_test data type: {y_test.dtype}\")"
      ],
      "metadata": {
        "id": "-rMyMp4RSD0z"
      },
      "execution_count": null,
      "outputs": []
    }
  ]
}