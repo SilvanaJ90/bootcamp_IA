{
  "cells": [
    {
      "cell_type": "markdown",
      "metadata": {
        "id": "view-in-github",
        "colab_type": "text"
      },
      "source": [
        "<a href=\"https://colab.research.google.com/github/SilvanaJ90/usergioarboleda-bootcamp_IA/blob/main/modelos_tensor_flow.ipynb\" target=\"_parent\"><img src=\"https://colab.research.google.com/assets/colab-badge.svg\" alt=\"Open In Colab\"/></a>"
      ]
    },
    {
      "cell_type": "markdown",
      "id": "07b3fb39-408c-4b73-b0b1-02d4e3aa942e",
      "metadata": {
        "id": "07b3fb39-408c-4b73-b0b1-02d4e3aa942e"
      },
      "source": [
        "#Modelos con Tensorflow"
      ]
    },
    {
      "cell_type": "markdown",
      "id": "f9d98939-6d2c-4778-bb5f-6c5db1e7d2b8",
      "metadata": {
        "id": "f9d98939-6d2c-4778-bb5f-6c5db1e7d2b8"
      },
      "source": [
        "## <span style=\"color:green\">1.Inicio </span>"
      ]
    },
    {
      "cell_type": "markdown",
      "id": "a9e9da13-79d3-4490-85c0-b4015bb49f01",
      "metadata": {
        "id": "a9e9da13-79d3-4490-85c0-b4015bb49f01"
      },
      "source": [
        "Importando todo lo que necesitamos para trabajar con TensorFlow"
      ]
    },
    {
      "cell_type": "code",
      "execution_count": null,
      "id": "1162e9be-d860-4ccb-ae3f-23696c67485a",
      "metadata": {
        "id": "1162e9be-d860-4ccb-ae3f-23696c67485a"
      },
      "outputs": [],
      "source": [
        "#Numpy, Os, Matplotlib, Pandas\n",
        "import numpy as np\n",
        "import os\n",
        "import matplotlib as plt\n",
        "import pandas as pd"
      ]
    },
    {
      "cell_type": "code",
      "execution_count": null,
      "id": "58d44003-21dd-49af-9e97-0feda49e96d8",
      "metadata": {
        "id": "58d44003-21dd-49af-9e97-0feda49e96d8"
      },
      "outputs": [],
      "source": [
        "#Tensorflow, Keras\n",
        "import tensorflow as tf\n",
        "from tensorflow import keras"
      ]
    },
    {
      "cell_type": "code",
      "execution_count": null,
      "id": "38d9ee94-5b2d-4932-b9df-9a9e2c66d745",
      "metadata": {
        "id": "38d9ee94-5b2d-4932-b9df-9a9e2c66d745"
      },
      "outputs": [],
      "source": [
        "#Semillas de TF y Numpy a 42\n",
        "np.random.seed(42)\n",
        "tf.random.set_seed(42)"
      ]
    },
    {
      "cell_type": "code",
      "execution_count": null,
      "id": "eb23a147-aa73-4aa6-af5d-9975f230b21e",
      "metadata": {
        "id": "eb23a147-aa73-4aa6-af5d-9975f230b21e"
      },
      "outputs": [],
      "source": [
        "#Vamos a necesitar SKLearn para descargar el dataset de CaliforniaHousing\n",
        "import sklearn"
      ]
    },
    {
      "cell_type": "markdown",
      "id": "84bd85d3-077b-4608-9638-bf0ac6922864",
      "metadata": {
        "id": "84bd85d3-077b-4608-9638-bf0ac6922864"
      },
      "source": [
        "## <span style=\"color:green\">2. Usar TensorFlow con Numpy </span>"
      ]
    },
    {
      "cell_type": "markdown",
      "id": "3909fbcf-e978-4ab2-a37b-255bfa02cc8e",
      "metadata": {
        "id": "3909fbcf-e978-4ab2-a37b-255bfa02cc8e"
      },
      "source": [
        "Vamos a repasar un poco de como los tensores son muy similares a los arreglos de Numpy."
      ]
    },
    {
      "cell_type": "markdown",
      "id": "2b5b3ff3-bef1-463d-9f3d-33a8b590c8d1",
      "metadata": {
        "id": "2b5b3ff3-bef1-463d-9f3d-33a8b590c8d1"
      },
      "source": [
        "### <span style=\"color:blue\">2.1 Tensores</span>"
      ]
    },
    {
      "cell_type": "code",
      "execution_count": null,
      "id": "66168286-0bc7-4611-bab2-cd342dedc7be",
      "metadata": {
        "id": "66168286-0bc7-4611-bab2-cd342dedc7be",
        "outputId": "2ea63c54-e8da-4a61-d212-c0fb083b53cf"
      },
      "outputs": [
        {
          "name": "stderr",
          "output_type": "stream",
          "text": [
            "2022-06-16 12:42:16.616237: I tensorflow/core/platform/cpu_feature_guard.cc:151] This TensorFlow binary is optimized with oneAPI Deep Neural Network Library (oneDNN) to use the following CPU instructions in performance-critical operations:  AVX2 FMA\n",
            "To enable them in other operations, rebuild TensorFlow with the appropriate compiler flags.\n"
          ]
        },
        {
          "data": {
            "text/plain": [
              "<tf.Tensor: shape=(2, 3), dtype=int32, numpy=\n",
              "array([[4, 5, 6],\n",
              "       [7, 8, 9]], dtype=int32)>"
            ]
          },
          "execution_count": 5,
          "metadata": {},
          "output_type": "execute_result"
        }
      ],
      "source": [
        "#Ármate un tensor de 2 filas x 3 columnas de puros enteros\n",
        "tf.constant([[4,5,6],[7,8,9]])"
      ]
    },
    {
      "cell_type": "code",
      "execution_count": null,
      "id": "7953c004-d3e4-4a91-b6b0-a799e6298821",
      "metadata": {
        "id": "7953c004-d3e4-4a91-b6b0-a799e6298821"
      },
      "outputs": [],
      "source": [
        "#Ármate un tensor de 2 filas x 3 columans de puros floats, guárdalo en t\n",
        "t = tf.constant([[5.,6.,7.],[1.,2.,3.]])"
      ]
    },
    {
      "cell_type": "code",
      "execution_count": null,
      "id": "d17b1a61-894c-441d-a701-f40a41b87703",
      "metadata": {
        "id": "d17b1a61-894c-441d-a701-f40a41b87703",
        "outputId": "6abc526e-9592-4892-9315-0af951554bbc"
      },
      "outputs": [
        {
          "data": {
            "text/plain": [
              "<tf.Tensor: shape=(2, 3), dtype=float32, numpy=\n",
              "array([[5., 6., 7.],\n",
              "       [1., 2., 3.]], dtype=float32)>"
            ]
          },
          "execution_count": 7,
          "metadata": {},
          "output_type": "execute_result"
        }
      ],
      "source": [
        "t"
      ]
    },
    {
      "cell_type": "code",
      "execution_count": null,
      "id": "1965faca-2323-4080-b379-8ba79271783e",
      "metadata": {
        "id": "1965faca-2323-4080-b379-8ba79271783e",
        "outputId": "1c927197-4408-4635-e22f-a2bb2f0550c2"
      },
      "outputs": [
        {
          "data": {
            "text/plain": [
              "TensorShape([2, 3])"
            ]
          },
          "execution_count": 8,
          "metadata": {},
          "output_type": "execute_result"
        }
      ],
      "source": [
        "#Checa la shape de t\n",
        "t.shape"
      ]
    },
    {
      "cell_type": "code",
      "execution_count": null,
      "id": "e3159734-6343-4409-b8ae-ca0441a892f5",
      "metadata": {
        "id": "e3159734-6343-4409-b8ae-ca0441a892f5",
        "outputId": "1854e175-67b8-48d7-98ee-4aa3ff91926b"
      },
      "outputs": [
        {
          "data": {
            "text/plain": [
              "tf.float32"
            ]
          },
          "execution_count": 9,
          "metadata": {},
          "output_type": "execute_result"
        }
      ],
      "source": [
        "#Checa el dtype de t\n",
        "t.dtype"
      ]
    },
    {
      "cell_type": "markdown",
      "id": "a938b439-7378-44f3-9ffc-88b4bce53c07",
      "metadata": {
        "id": "a938b439-7378-44f3-9ffc-88b4bce53c07"
      },
      "source": [
        "### <span style=\"color:blue\">2.2 Indizar</span>"
      ]
    },
    {
      "cell_type": "code",
      "execution_count": null,
      "id": "ed330871-d4ec-45fb-a8e4-f0bc32743754",
      "metadata": {
        "id": "ed330871-d4ec-45fb-a8e4-f0bc32743754",
        "outputId": "c977d8bf-81e3-4165-bf69-e66ee586824e"
      },
      "outputs": [
        {
          "data": {
            "text/plain": [
              "<tf.Tensor: shape=(2, 2), dtype=float32, numpy=\n",
              "array([[6., 7.],\n",
              "       [2., 3.]], dtype=float32)>"
            ]
          },
          "execution_count": 10,
          "metadata": {},
          "output_type": "execute_result"
        }
      ],
      "source": [
        "#Jálate las columnas 1 y 2 (índice 0) de ambas filas\n",
        "t[:,1:]"
      ]
    },
    {
      "cell_type": "code",
      "execution_count": null,
      "id": "14bc5f78-161a-4333-87ca-ed78f5c085f5",
      "metadata": {
        "id": "14bc5f78-161a-4333-87ca-ed78f5c085f5",
        "outputId": "304ba17f-4632-4ef8-bd5b-1996217825cc"
      },
      "outputs": [
        {
          "data": {
            "text/plain": [
              "<tf.Tensor: shape=(2,), dtype=float32, numpy=array([1., 2.], dtype=float32)>"
            ]
          },
          "execution_count": 11,
          "metadata": {},
          "output_type": "execute_result"
        }
      ],
      "source": [
        "#Jálate las columnas 0 y 1 de la fila 2\n",
        "t[1,0:2]"
      ]
    },
    {
      "cell_type": "code",
      "execution_count": null,
      "id": "47c93130-fb0a-4812-9322-9d4a96f0cfd7",
      "metadata": {
        "id": "47c93130-fb0a-4812-9322-9d4a96f0cfd7",
        "outputId": "fb049534-5775-4dff-ac14-92d098b2eb60"
      },
      "outputs": [
        {
          "data": {
            "text/plain": [
              "<tf.Tensor: shape=(2,), dtype=float32, numpy=array([5., 6.], dtype=float32)>"
            ]
          },
          "execution_count": 12,
          "metadata": {},
          "output_type": "execute_result"
        }
      ],
      "source": [
        "#Jálate las columnas 0 y 2 de la fila 1\n",
        "t[0,0:2]"
      ]
    },
    {
      "cell_type": "markdown",
      "id": "33c1b53f-b8dd-4e94-bd83-282956104507",
      "metadata": {
        "id": "33c1b53f-b8dd-4e94-bd83-282956104507"
      },
      "source": [
        "### <span style=\"color:blue\">2.3 Operaciones</span>"
      ]
    },
    {
      "cell_type": "code",
      "execution_count": null,
      "id": "6e07754a-3c27-4a3f-bb4f-63cb90eb7445",
      "metadata": {
        "id": "6e07754a-3c27-4a3f-bb4f-63cb90eb7445",
        "outputId": "78b75771-6d2b-4e36-8267-42dfdd57be3a"
      },
      "outputs": [
        {
          "data": {
            "text/plain": [
              "<tf.Tensor: shape=(2, 3), dtype=float32, numpy=\n",
              "array([[15., 16., 17.],\n",
              "       [11., 12., 13.]], dtype=float32)>"
            ]
          },
          "execution_count": 13,
          "metadata": {},
          "output_type": "execute_result"
        }
      ],
      "source": [
        "#Súmale 10 a tu tensor t\n",
        "t+10"
      ]
    },
    {
      "cell_type": "code",
      "execution_count": null,
      "id": "6227e75c-5d57-459e-8380-46db0c2bd4fa",
      "metadata": {
        "id": "6227e75c-5d57-459e-8380-46db0c2bd4fa",
        "outputId": "82d3c614-7f1c-4c2d-ef1f-6528e0383d05"
      },
      "outputs": [
        {
          "data": {
            "text/plain": [
              "<tf.Tensor: shape=(2, 3), dtype=float32, numpy=\n",
              "array([[25., 36., 49.],\n",
              "       [ 1.,  4.,  9.]], dtype=float32)>"
            ]
          },
          "execution_count": 14,
          "metadata": {},
          "output_type": "execute_result"
        }
      ],
      "source": [
        "#Eleva al cuadrado tu tensor t\n",
        "tf.square(t)"
      ]
    },
    {
      "cell_type": "code",
      "execution_count": null,
      "id": "a284e751-60fc-40d1-9c0c-87a5286c9a2a",
      "metadata": {
        "id": "a284e751-60fc-40d1-9c0c-87a5286c9a2a",
        "outputId": "c9c08ede-a9b5-4656-bb86-c28e2af99d79"
      },
      "outputs": [
        {
          "data": {
            "text/plain": [
              "<tf.Tensor: shape=(2, 2), dtype=float32, numpy=\n",
              "array([[110.,  38.],\n",
              "       [ 38.,  14.]], dtype=float32)>"
            ]
          },
          "execution_count": 15,
          "metadata": {},
          "output_type": "execute_result"
        }
      ],
      "source": [
        "#Multiplica el tensor t por su transposición\n",
        "#Recuerda \"@\" multiplica 2 matrices en tensorflow\n",
        "t @ tf.transpose(t)"
      ]
    },
    {
      "cell_type": "code",
      "execution_count": null,
      "id": "f89cb695-a116-4918-835b-e53ac396f2cb",
      "metadata": {
        "id": "f89cb695-a116-4918-835b-e53ac396f2cb",
        "outputId": "345af7e6-f2cc-4d08-e513-420a41615889"
      },
      "outputs": [
        {
          "data": {
            "text/plain": [
              "<tf.Tensor: shape=(), dtype=float32, numpy=24.0>"
            ]
          },
          "execution_count": 16,
          "metadata": {},
          "output_type": "execute_result"
        }
      ],
      "source": [
        "#Saca la suma de los elementos de t\n",
        "tf.reduce_sum(t)"
      ]
    },
    {
      "cell_type": "code",
      "execution_count": null,
      "id": "4a65780b-7fad-4bef-bb42-4dc1201d7e00",
      "metadata": {
        "id": "4a65780b-7fad-4bef-bb42-4dc1201d7e00",
        "outputId": "3458f103-0ec6-4cdd-c5f9-f6267eb91513"
      },
      "outputs": [
        {
          "data": {
            "text/plain": [
              "<tf.Tensor: shape=(), dtype=float32, numpy=4.0>"
            ]
          },
          "execution_count": 17,
          "metadata": {},
          "output_type": "execute_result"
        }
      ],
      "source": [
        "#Saca el promedio de los elementos de t\n",
        "tf.reduce_mean(t)"
      ]
    },
    {
      "cell_type": "code",
      "execution_count": null,
      "id": "72187b0f-6ca1-449a-8f56-a3b024b63b6c",
      "metadata": {
        "id": "72187b0f-6ca1-449a-8f56-a3b024b63b6c",
        "outputId": "7b30997a-6f84-46c8-c159-e11193078fbd"
      },
      "outputs": [
        {
          "data": {
            "text/plain": [
              "<tf.Tensor: shape=(), dtype=float32, numpy=7.0>"
            ]
          },
          "execution_count": 18,
          "metadata": {},
          "output_type": "execute_result"
        }
      ],
      "source": [
        "#Saca el valor máximo de T\n",
        "tf.reduce_max(t)"
      ]
    },
    {
      "cell_type": "markdown",
      "id": "d862fc93-0bae-4e6f-b6c1-d5ef70ca1f20",
      "metadata": {
        "id": "d862fc93-0bae-4e6f-b6c1-d5ef70ca1f20"
      },
      "source": [
        "Se llama reduce_sum y asi por que su kernel de GPU usa un algoritmo de reducción que no garantiza el orden en que los elementos se suman"
      ]
    },
    {
      "cell_type": "markdown",
      "id": "cd32179f-1f5c-43b3-819a-c40f1a9e0780",
      "metadata": {
        "id": "cd32179f-1f5c-43b3-819a-c40f1a9e0780"
      },
      "source": [
        "### <span style=\"color:blue\">2.4 Tensores y Numpy</span>"
      ]
    },
    {
      "cell_type": "code",
      "execution_count": null,
      "id": "52d3ffa4-ba62-417c-9cde-39b71b8a4d44",
      "metadata": {
        "id": "52d3ffa4-ba62-417c-9cde-39b71b8a4d44"
      },
      "outputs": [],
      "source": [
        "#Crea un arreglo a de 1 fila x 3 columnas\n",
        "a = np.array([2.,4.,5.])"
      ]
    },
    {
      "cell_type": "code",
      "execution_count": null,
      "id": "793f131d-2b31-4b38-b3ca-949e90c8b139",
      "metadata": {
        "id": "793f131d-2b31-4b38-b3ca-949e90c8b139",
        "outputId": "22e54ba4-18c4-45fa-a407-1d6f99e5c0c3"
      },
      "outputs": [
        {
          "data": {
            "text/plain": [
              "<tf.Tensor: shape=(3,), dtype=float64, numpy=array([2., 4., 5.])>"
            ]
          },
          "execution_count": 20,
          "metadata": {},
          "output_type": "execute_result"
        }
      ],
      "source": [
        "#Conviértelo a un tf.constant\n",
        "tf.constant(a)"
      ]
    },
    {
      "cell_type": "code",
      "execution_count": null,
      "id": "f143045c-5c84-4dfb-ae85-81f8f28812e6",
      "metadata": {
        "id": "f143045c-5c84-4dfb-ae85-81f8f28812e6",
        "outputId": "a86c8f73-73cf-478b-e96e-6d92e15ee1c7"
      },
      "outputs": [
        {
          "data": {
            "text/plain": [
              "array([[5., 6., 7.],\n",
              "       [1., 2., 3.]], dtype=float32)"
            ]
          },
          "execution_count": 21,
          "metadata": {},
          "output_type": "execute_result"
        }
      ],
      "source": [
        "#ejecuta t.numpy\n",
        "t.numpy()"
      ]
    },
    {
      "cell_type": "code",
      "execution_count": null,
      "id": "6a4bf3ca-c715-40c3-bfbc-8eafd02f4287",
      "metadata": {
        "id": "6a4bf3ca-c715-40c3-bfbc-8eafd02f4287",
        "outputId": "0abee90a-4d69-4dc1-c9e6-43a6aa6509a6"
      },
      "outputs": [
        {
          "data": {
            "text/plain": [
              "<tf.Tensor: shape=(3,), dtype=float64, numpy=array([ 4., 16., 25.])>"
            ]
          },
          "execution_count": 22,
          "metadata": {},
          "output_type": "execute_result"
        }
      ],
      "source": [
        "#Saca cuadrado con tf a tu arreglo a\n",
        "tf.square(a)"
      ]
    },
    {
      "cell_type": "code",
      "execution_count": null,
      "id": "182a1973-d2a7-494e-bc23-087e9743a327",
      "metadata": {
        "id": "182a1973-d2a7-494e-bc23-087e9743a327",
        "outputId": "ffdc9330-cb7d-4f4a-e97c-8a7cfc8a033e"
      },
      "outputs": [
        {
          "data": {
            "text/plain": [
              "array([[25., 36., 49.],\n",
              "       [ 1.,  4.,  9.]], dtype=float32)"
            ]
          },
          "execution_count": 23,
          "metadata": {},
          "output_type": "execute_result"
        }
      ],
      "source": [
        "#Sácale cuadrado con np a tu tensor t\n",
        "np.square(t)"
      ]
    },
    {
      "cell_type": "code",
      "execution_count": null,
      "id": "66e6618f-ab97-4f91-af35-a52a49d5f084",
      "metadata": {
        "id": "66e6618f-ab97-4f91-af35-a52a49d5f084"
      },
      "outputs": [],
      "source": [
        "#Intenta sumar tu tensor entero con tu tensor float\n",
        "x = tf.constant([[1,2,3],[4,5,6]])"
      ]
    },
    {
      "cell_type": "code",
      "execution_count": null,
      "id": "91bc825e-95b1-4198-8cfb-c07afcd18865",
      "metadata": {
        "id": "91bc825e-95b1-4198-8cfb-c07afcd18865",
        "outputId": "1abdd25b-a04e-4d9a-e539-f92e7db7a6d3"
      },
      "outputs": [
        {
          "ename": "InvalidArgumentError",
          "evalue": "cannot compute AddV2 as input #1(zero-based) was expected to be a int32 tensor but is a float tensor [Op:AddV2]",
          "output_type": "error",
          "traceback": [
            "\u001b[0;31m---------------------------------------------------------------------------\u001b[0m",
            "\u001b[0;31mInvalidArgumentError\u001b[0m                      Traceback (most recent call last)",
            "\u001b[0;32m/var/folders/w0/0f7p8n8s1wb_4_r13y0p2xb80000gn/T/ipykernel_5633/2055835988.py\u001b[0m in \u001b[0;36m<module>\u001b[0;34m\u001b[0m\n\u001b[0;32m----> 1\u001b[0;31m \u001b[0mx\u001b[0m \u001b[0;34m+\u001b[0m \u001b[0mt\u001b[0m\u001b[0;34m\u001b[0m\u001b[0;34m\u001b[0m\u001b[0m\n\u001b[0m",
            "\u001b[0;32m~/.local/lib/python3.9/site-packages/tensorflow/python/util/traceback_utils.py\u001b[0m in \u001b[0;36merror_handler\u001b[0;34m(*args, **kwargs)\u001b[0m\n\u001b[1;32m    151\u001b[0m     \u001b[0;32mexcept\u001b[0m \u001b[0mException\u001b[0m \u001b[0;32mas\u001b[0m \u001b[0me\u001b[0m\u001b[0;34m:\u001b[0m\u001b[0;34m\u001b[0m\u001b[0;34m\u001b[0m\u001b[0m\n\u001b[1;32m    152\u001b[0m       \u001b[0mfiltered_tb\u001b[0m \u001b[0;34m=\u001b[0m \u001b[0m_process_traceback_frames\u001b[0m\u001b[0;34m(\u001b[0m\u001b[0me\u001b[0m\u001b[0;34m.\u001b[0m\u001b[0m__traceback__\u001b[0m\u001b[0;34m)\u001b[0m\u001b[0;34m\u001b[0m\u001b[0;34m\u001b[0m\u001b[0m\n\u001b[0;32m--> 153\u001b[0;31m       \u001b[0;32mraise\u001b[0m \u001b[0me\u001b[0m\u001b[0;34m.\u001b[0m\u001b[0mwith_traceback\u001b[0m\u001b[0;34m(\u001b[0m\u001b[0mfiltered_tb\u001b[0m\u001b[0;34m)\u001b[0m \u001b[0;32mfrom\u001b[0m \u001b[0;32mNone\u001b[0m\u001b[0;34m\u001b[0m\u001b[0;34m\u001b[0m\u001b[0m\n\u001b[0m\u001b[1;32m    154\u001b[0m     \u001b[0;32mfinally\u001b[0m\u001b[0;34m:\u001b[0m\u001b[0;34m\u001b[0m\u001b[0;34m\u001b[0m\u001b[0m\n\u001b[1;32m    155\u001b[0m       \u001b[0;32mdel\u001b[0m \u001b[0mfiltered_tb\u001b[0m\u001b[0;34m\u001b[0m\u001b[0;34m\u001b[0m\u001b[0m\n",
            "\u001b[0;32m~/.local/lib/python3.9/site-packages/tensorflow/python/framework/ops.py\u001b[0m in \u001b[0;36mraise_from_not_ok_status\u001b[0;34m(e, name)\u001b[0m\n\u001b[1;32m   7184\u001b[0m \u001b[0;32mdef\u001b[0m \u001b[0mraise_from_not_ok_status\u001b[0m\u001b[0;34m(\u001b[0m\u001b[0me\u001b[0m\u001b[0;34m,\u001b[0m \u001b[0mname\u001b[0m\u001b[0;34m)\u001b[0m\u001b[0;34m:\u001b[0m\u001b[0;34m\u001b[0m\u001b[0;34m\u001b[0m\u001b[0m\n\u001b[1;32m   7185\u001b[0m   \u001b[0me\u001b[0m\u001b[0;34m.\u001b[0m\u001b[0mmessage\u001b[0m \u001b[0;34m+=\u001b[0m \u001b[0;34m(\u001b[0m\u001b[0;34m\" name: \"\u001b[0m \u001b[0;34m+\u001b[0m \u001b[0mname\u001b[0m \u001b[0;32mif\u001b[0m \u001b[0mname\u001b[0m \u001b[0;32mis\u001b[0m \u001b[0;32mnot\u001b[0m \u001b[0;32mNone\u001b[0m \u001b[0;32melse\u001b[0m \u001b[0;34m\"\"\u001b[0m\u001b[0;34m)\u001b[0m\u001b[0;34m\u001b[0m\u001b[0;34m\u001b[0m\u001b[0m\n\u001b[0;32m-> 7186\u001b[0;31m   \u001b[0;32mraise\u001b[0m \u001b[0mcore\u001b[0m\u001b[0;34m.\u001b[0m\u001b[0m_status_to_exception\u001b[0m\u001b[0;34m(\u001b[0m\u001b[0me\u001b[0m\u001b[0;34m)\u001b[0m \u001b[0;32mfrom\u001b[0m \u001b[0;32mNone\u001b[0m  \u001b[0;31m# pylint: disable=protected-access\u001b[0m\u001b[0;34m\u001b[0m\u001b[0;34m\u001b[0m\u001b[0m\n\u001b[0m\u001b[1;32m   7187\u001b[0m \u001b[0;34m\u001b[0m\u001b[0m\n\u001b[1;32m   7188\u001b[0m \u001b[0;34m\u001b[0m\u001b[0m\n",
            "\u001b[0;31mInvalidArgumentError\u001b[0m: cannot compute AddV2 as input #1(zero-based) was expected to be a int32 tensor but is a float tensor [Op:AddV2]"
          ]
        }
      ],
      "source": [
        "x + t"
      ]
    },
    {
      "cell_type": "code",
      "execution_count": null,
      "id": "e659f64f-19a4-44db-a1f3-c999bf21ece2",
      "metadata": {
        "id": "e659f64f-19a4-44db-a1f3-c999bf21ece2"
      },
      "outputs": [],
      "source": [
        "#Si yo quisiera forzarla\n",
        "tf.cast(x, tf.float32)"
      ]
    },
    {
      "cell_type": "markdown",
      "id": "167fb2fe-e2f6-4aee-8a3e-fa796dac844f",
      "metadata": {
        "id": "167fb2fe-e2f6-4aee-8a3e-fa796dac844f"
      },
      "source": [
        "### <span style=\"color:blue\">2.5 Variables</span>"
      ]
    },
    {
      "cell_type": "code",
      "execution_count": null,
      "id": "0ded560c-8820-4c57-a543-6124b85ebdec",
      "metadata": {
        "id": "0ded560c-8820-4c57-a543-6124b85ebdec"
      },
      "outputs": [],
      "source": [
        "# Arma tu variable v a partir de un tensor de 2x3\n",
        "v = tf.Variable([[1,2,3],[4,5,6]])"
      ]
    },
    {
      "cell_type": "code",
      "execution_count": null,
      "id": "b828ca60-0645-4c7c-8f59-ef2ca67b0ec1",
      "metadata": {
        "id": "b828ca60-0645-4c7c-8f59-ef2ca67b0ec1",
        "outputId": "64b7804a-e11d-4b51-dcc1-76450690d087"
      },
      "outputs": [
        {
          "data": {
            "text/plain": [
              "<tf.Variable 'Variable:0' shape=(2, 3) dtype=int32, numpy=\n",
              "array([[1, 2, 3],\n",
              "       [4, 5, 6]], dtype=int32)>"
            ]
          },
          "execution_count": 27,
          "metadata": {},
          "output_type": "execute_result"
        }
      ],
      "source": [
        "v"
      ]
    },
    {
      "cell_type": "code",
      "execution_count": null,
      "id": "c53aede4-31ea-4eb7-9a77-40d0f9d87ee1",
      "metadata": {
        "id": "c53aede4-31ea-4eb7-9a77-40d0f9d87ee1",
        "outputId": "f3eb3f51-193a-452b-a7fe-6be4d72aa6fb"
      },
      "outputs": [
        {
          "data": {
            "text/plain": [
              "<tf.Variable 'UnreadVariable' shape=(2, 3) dtype=int32, numpy=\n",
              "array([[ 2,  4,  6],\n",
              "       [ 8, 10, 12]], dtype=int32)>"
            ]
          },
          "execution_count": 28,
          "metadata": {},
          "output_type": "execute_result"
        }
      ],
      "source": [
        "# Multiplica v x 2\n",
        "v.assign(2 *v)"
      ]
    },
    {
      "cell_type": "code",
      "execution_count": null,
      "id": "d4364e86-50f8-4ed9-8f0a-c16a2616f923",
      "metadata": {
        "id": "d4364e86-50f8-4ed9-8f0a-c16a2616f923",
        "outputId": "0d539340-a041-488c-8176-f4dc134d5828"
      },
      "outputs": [
        {
          "data": {
            "text/plain": [
              "<tf.Variable 'Variable:0' shape=(2, 3) dtype=int32, numpy=\n",
              "array([[ 2,  4,  6],\n",
              "       [ 8, 10, 12]], dtype=int32)>"
            ]
          },
          "execution_count": 29,
          "metadata": {},
          "output_type": "execute_result"
        }
      ],
      "source": [
        "v"
      ]
    },
    {
      "cell_type": "code",
      "execution_count": null,
      "id": "add68a16-a81b-4a9c-8fa5-5daa0d2fb924",
      "metadata": {
        "id": "add68a16-a81b-4a9c-8fa5-5daa0d2fb924",
        "outputId": "3c1ab5fd-7eec-40bd-cfaf-3d9a29d0482a"
      },
      "outputs": [
        {
          "data": {
            "text/plain": [
              "<tf.Variable 'UnreadVariable' shape=(2, 3) dtype=int32, numpy=\n",
              "array([[ 2, 80,  6],\n",
              "       [ 8, 10, 12]], dtype=int32)>"
            ]
          },
          "execution_count": 30,
          "metadata": {},
          "output_type": "execute_result"
        }
      ],
      "source": [
        "# Asígnale los valores 80 a la posición 1,2 de índice 0\n",
        "v[0,1].assign(80)"
      ]
    },
    {
      "cell_type": "code",
      "execution_count": null,
      "id": "ce7db9e1-029f-4c99-b9df-5a10da677c85",
      "metadata": {
        "id": "ce7db9e1-029f-4c99-b9df-5a10da677c85",
        "outputId": "bf200fab-8c93-4179-e319-982df20fe621"
      },
      "outputs": [
        {
          "data": {
            "text/plain": [
              "<tf.Variable 'UnreadVariable' shape=(2, 3) dtype=int32, numpy=\n",
              "array([[ 2, 80,  0],\n",
              "       [ 8, 10,  1]], dtype=int32)>"
            ]
          },
          "execution_count": 31,
          "metadata": {},
          "output_type": "execute_result"
        }
      ],
      "source": [
        "# Asígnale los valores 10,20 a la columna 2 (inidce 0)\n",
        "v[:,2].assign([0,1])"
      ]
    },
    {
      "cell_type": "markdown",
      "id": "c8f0d50f-0ae9-40c9-8299-4d8d0baaa9e7",
      "metadata": {
        "id": "c8f0d50f-0ae9-40c9-8299-4d8d0baaa9e7"
      },
      "source": [
        "¡Listo! Ya sabes todo lo básico de tensores."
      ]
    },
    {
      "cell_type": "markdown",
      "id": "4856c325-96bc-4606-beac-6a8e3c7d8835",
      "metadata": {
        "id": "4856c325-96bc-4606-beac-6a8e3c7d8835"
      },
      "source": [
        "## <span style=\"color:green\">3. Modelos Personalizados </span>"
      ]
    },
    {
      "cell_type": "markdown",
      "id": "f3cbe0a7-91d7-45ef-b80e-cedf2a72945d",
      "metadata": {
        "id": "f3cbe0a7-91d7-45ef-b80e-cedf2a72945d"
      },
      "source": [
        "### <span style=\"color:blue\">3.1 Funciones de Pérdida únicas</span>\n"
      ]
    },
    {
      "cell_type": "code",
      "execution_count": null,
      "id": "118d107e-e5e2-4f58-9aa7-735167571928",
      "metadata": {
        "id": "118d107e-e5e2-4f58-9aa7-735167571928"
      },
      "outputs": [],
      "source": [
        "#Bajar de sklearn: california housing, traintestsplit, standardscaler\n",
        "from sklearn.datasets import fetch_california_housing\n",
        "from sklearn.model_selection import train_test_split\n",
        "from sklearn.preprocessing import StandardScaler"
      ]
    },
    {
      "cell_type": "code",
      "execution_count": null,
      "id": "5427dde8-c028-4aaa-b851-ed3f455883f8",
      "metadata": {
        "id": "5427dde8-c028-4aaa-b851-ed3f455883f8"
      },
      "outputs": [],
      "source": [
        "#Arma tu train test split para separar train completo de test condiciones estándar\n",
        "housing = fetch_california_housing()\n",
        "X_train_full, X_test, y_train_full, y_test = train_test_split(housing.data, housing.target.reshape(-1,1), random_state=42)\n"
      ]
    },
    {
      "cell_type": "code",
      "execution_count": null,
      "id": "697db9ef-77d8-4dfb-9193-10f7d645c74f",
      "metadata": {
        "id": "697db9ef-77d8-4dfb-9193-10f7d645c74f"
      },
      "outputs": [],
      "source": [
        "#Arma tu train test split para separar validación y train\n",
        "X_train, X_valid, y_train, y_vadil = train_test_split(X_train_full, y_train_full, random_state=42)"
      ]
    },
    {
      "cell_type": "code",
      "execution_count": null,
      "id": "67861799-3b18-41a2-88fe-7afc776462a0",
      "metadata": {
        "id": "67861799-3b18-41a2-88fe-7afc776462a0"
      },
      "outputs": [],
      "source": [
        "#Usa standardscaler para escalar todos tus datos\n",
        "\n",
        "scaler = StandardScaler()\n",
        "X_train_scaled = scaler.fit_transform(X_train)\n",
        "X_valid_scaled = scaler.transform(X_valid)\n",
        "X_test_scaled = scaler.transform(X_test)"
      ]
    },
    {
      "cell_type": "markdown",
      "id": "9e88438b-6ed2-486f-a55f-52f21581991a",
      "metadata": {
        "id": "9e88438b-6ed2-486f-a55f-52f21581991a"
      },
      "source": [
        "$$\n",
        "L_{\\delta }(a)={\\begin{cases}{\\frac  {1}{2}}{a^{2}}&{\\text{para }}|a|\\leq \\delta ,\\\\\\delta (|a|-{\\frac  {1}{2}}\\delta ),&{\\text{si no.}}\\end{cases}}\n",
        "$$\n",
        "\n",
        "Esta es la función de pérdida Huber. Nos dice que Dan es superior. Nos dice que si el |dato| es menor o igual al umbral, usemos la mitad de su cuadrado; en caso de que no lo sea, usamos una función lineal de pérdida."
      ]
    },
    {
      "cell_type": "code",
      "execution_count": null,
      "id": "fd784124-54f5-4b63-a664-de0cf0111dff",
      "metadata": {
        "id": "fd784124-54f5-4b63-a664-de0cf0111dff"
      },
      "outputs": [],
      "source": [
        "#Ármar tu función de pérdida huber. Vas a necesitar conocer tf.where que, sinceramente, es una mentada de madre 😠 (pero todo sea por la implementación vectorizada)\n",
        "def huber_fn(y_true, y_pred):\n",
        "    error = y_true - y_pred\n",
        "    is_small_error = tf.abs(error)<1\n",
        "    squared_loss = tf.square(error) / 2\n",
        "    linear_loss = tf.abs(error)-.5\n",
        "    return tf.where(is_small_error, squared_loss, linear_loss)"
      ]
    },
    {
      "cell_type": "code",
      "execution_count": null,
      "id": "ef501a0b-03a5-45d1-aab1-2311d1d7b137",
      "metadata": {
        "id": "ef501a0b-03a5-45d1-aab1-2311d1d7b137"
      },
      "outputs": [],
      "source": [
        "#Ármar un modelo sequencial sencillito - 2 capas densas (30 y 1 neuronas), primer capa con activación selu y inicialización lecun_normal\n",
        "datos = X_train.shape[1:]\n",
        "\n",
        "model = keras.models.Sequential([\n",
        "    keras.layers.Dense(30, activation= \"selu\", kernel_initializer = \"lecun_normal\", input_shape = datos),\n",
        "    keras.layers.Dense(1)\n",
        "])"
      ]
    },
    {
      "cell_type": "code",
      "execution_count": null,
      "id": "5c0a414e-d362-4db7-9dd6-0a774b06c89d",
      "metadata": {
        "id": "5c0a414e-d362-4db7-9dd6-0a774b06c89d"
      },
      "outputs": [],
      "source": [
        "#Compila el modelo con tu pérdida huber, optimizador nadam y MAE de métrica\n",
        "model.compile(loss=huber_fn, optimizer=\"nadam\", metrics =[\"mae\"])"
      ]
    },
    {
      "cell_type": "code",
      "execution_count": null,
      "id": "db69c099-2c38-42be-81cd-13ad43581e37",
      "metadata": {
        "id": "db69c099-2c38-42be-81cd-13ad43581e37",
        "outputId": "5f18a1df-34eb-4020-e83e-178e218298df"
      },
      "outputs": [
        {
          "name": "stdout",
          "output_type": "stream",
          "text": [
            "Epoch 1/10\n",
            "363/363 [==============================] - 2s 3ms/step - loss: 0.6235 - mae: 0.9953 - val_loss: 0.2862 - val_mae: 0.5866\n",
            "Epoch 2/10\n",
            "363/363 [==============================] - 1s 2ms/step - loss: 0.2197 - mae: 0.5177 - val_loss: 0.2382 - val_mae: 0.5281\n",
            "Epoch 3/10\n",
            "363/363 [==============================] - 1s 2ms/step - loss: 0.2051 - mae: 0.4975 - val_loss: 0.2196 - val_mae: 0.5040\n",
            "Epoch 4/10\n",
            "363/363 [==============================] - 1s 2ms/step - loss: 0.2002 - mae: 0.4908 - val_loss: 0.2069 - val_mae: 0.4917\n",
            "Epoch 5/10\n",
            "363/363 [==============================] - 1s 2ms/step - loss: 0.1964 - mae: 0.4843 - val_loss: 0.1940 - val_mae: 0.4751\n",
            "Epoch 6/10\n",
            "363/363 [==============================] - 1s 2ms/step - loss: 0.1935 - mae: 0.4795 - val_loss: 0.1893 - val_mae: 0.4705\n",
            "Epoch 7/10\n",
            "363/363 [==============================] - 1s 2ms/step - loss: 0.1912 - mae: 0.4761 - val_loss: 0.1851 - val_mae: 0.4627\n",
            "Epoch 8/10\n",
            "363/363 [==============================] - 1s 2ms/step - loss: 0.1887 - mae: 0.4722 - val_loss: 0.1801 - val_mae: 0.4567\n",
            "Epoch 9/10\n",
            "363/363 [==============================] - 1s 2ms/step - loss: 0.1866 - mae: 0.4689 - val_loss: 0.1788 - val_mae: 0.4553\n",
            "Epoch 10/10\n",
            "363/363 [==============================] - 1s 4ms/step - loss: 0.1845 - mae: 0.4647 - val_loss: 0.1837 - val_mae: 0.4563\n"
          ]
        }
      ],
      "source": [
        "#Aplícale un fit a tu modelo mi valedor, 10 epoquitas, asegúrate de usar tus datasets escalados\n",
        "history = model.fit(X_train_scaled, y_train, epochs = 10, validation_data=(X_valid_scaled, y_vadil))"
      ]
    },
    {
      "cell_type": "code",
      "execution_count": null,
      "id": "b7d6c247-1375-4384-83b9-435252d71e26",
      "metadata": {
        "id": "b7d6c247-1375-4384-83b9-435252d71e26",
        "outputId": "83257810-9ec8-4b9c-bbdc-b1557d9342a0"
      },
      "outputs": [
        {
          "name": "stdout",
          "output_type": "stream",
          "text": [
            "162/162 [==============================] - 0s 2ms/step - loss: 0.1810 - mae: 0.4598\n"
          ]
        },
        {
          "data": {
            "text/plain": [
              "[0.18097291886806488, 0.4597509503364563]"
            ]
          },
          "execution_count": 40,
          "metadata": {},
          "output_type": "execute_result"
        }
      ],
      "source": [
        "#Evalúa los resultados de tu modelo - el chiste no es hacer un modelo chido, es que tu pérdida Huber personalizada te sirva\n",
        "model.evaluate(X_test_scaled, y_test)"
      ]
    },
    {
      "cell_type": "markdown",
      "id": "fa7165d3-e6ad-498a-89df-66eec5c07072",
      "metadata": {
        "id": "fa7165d3-e6ad-498a-89df-66eec5c07072"
      },
      "source": [
        "### <span style=\"color:blue\">3.2 Guardar y Cargar modelos personalizados</span>\n",
        "\n"
      ]
    },
    {
      "cell_type": "code",
      "execution_count": null,
      "id": "27c145b0-efbd-4d17-b499-a14e9c36c545",
      "metadata": {
        "id": "27c145b0-efbd-4d17-b499-a14e9c36c545"
      },
      "outputs": [],
      "source": [
        "# Guarda tu modelo anterior\n",
        "model.save(\"modelohuber.h5\")"
      ]
    },
    {
      "cell_type": "code",
      "execution_count": null,
      "id": "58e26123-5a68-4a46-b6c1-77220382a510",
      "metadata": {
        "id": "58e26123-5a68-4a46-b6c1-77220382a510"
      },
      "outputs": [],
      "source": [
        "# Carga el modelo anterior - revisa como tienes que agregarle codiguito extra para cargar tu función huber\n",
        "model = keras.models.load_model(\"modelohuber.h5\", custom_objects ={\"huber_fn\":huber_fn})"
      ]
    },
    {
      "cell_type": "code",
      "execution_count": null,
      "id": "abc2cfae-2696-4035-911d-62dd1c09803e",
      "metadata": {
        "id": "abc2cfae-2696-4035-911d-62dd1c09803e"
      },
      "outputs": [],
      "source": []
    },
    {
      "cell_type": "markdown",
      "id": "1de619af-ab05-498c-a85e-7d31650d6e97",
      "metadata": {
        "id": "1de619af-ab05-498c-a85e-7d31650d6e97"
      },
      "source": [
        "Nuestro error de Huber no nos deja cambiar el umbral actualmente, vamos a tener que cambiar eso construyendo una sub-clase nueva usando el API de Keras (no TF), que nos va a permitir alterarlo y lo mas importante, guardar nuestro modelo con el hiperparametro correcto"
      ]
    },
    {
      "cell_type": "code",
      "execution_count": null,
      "id": "9566708d-4e0d-48d6-bee1-37f9608dc2a6",
      "metadata": {
        "id": "9566708d-4e0d-48d6-bee1-37f9608dc2a6"
      },
      "outputs": [],
      "source": [
        "#Ármar la clase HuberLoss, que es una subclase de keras.losses.Loss, tendrá 3 defs - el init (constructor), el call (la carnita del código), el get_config (que te guarda tu hiperparámetro)\n",
        "class HuberLoss(keras.losses.Loss):\n",
        "    def __init__(self, umbral = 1.0, **kwargs):\n",
        "        self.umbral = umbral\n",
        "        super().__init__(**kwargs)\n",
        "    def call(self, y_true, y_pred):\n",
        "        error = y_true - y_pred\n",
        "        is_small_error = tf.abs(error) < self.umbral\n",
        "        squared_loss = tf.square(error) / 2\n",
        "        linear_loss = self.umbral * tf.abs(error) - self.umbral**2/2\n",
        "        return tf.where(is_small_error, squared_loss, linear_loss)\n",
        "    def get_config(self):\n",
        "        base_config = super().get_config()\n",
        "        return {**base_config, \"umbral\":self.umbral}\n"
      ]
    },
    {
      "cell_type": "code",
      "execution_count": null,
      "id": "91919a56-f129-41d2-be4c-da723ba69924",
      "metadata": {
        "id": "91919a56-f129-41d2-be4c-da723ba69924"
      },
      "outputs": [],
      "source": [
        "#OK,  a repetir todo. Cópiate el modelo anterior, misma arquitectura\n",
        "model = keras.models.Sequential([\n",
        "    keras.layers.Dense(30, activation= \"selu\", kernel_initializer = \"lecun_normal\", input_shape = datos),\n",
        "    keras.layers.Dense(1)\n",
        "])"
      ]
    },
    {
      "cell_type": "code",
      "execution_count": null,
      "id": "42a2c94c-9443-4072-96dd-33d72a1a9d88",
      "metadata": {
        "id": "42a2c94c-9443-4072-96dd-33d72a1a9d88"
      },
      "outputs": [],
      "source": [
        "#Compila el modelo con HuberLoss a 2. (importante que sea float), optimizador Nadam y metricas MAE\n",
        "model.compile(loss=HuberLoss(2.0), optimizer=\"nadam\", metrics =[\"mae\"])"
      ]
    },
    {
      "cell_type": "code",
      "execution_count": null,
      "id": "06e1ee3e-afe5-478f-8857-b5b1855f7276",
      "metadata": {
        "id": "06e1ee3e-afe5-478f-8857-b5b1855f7276",
        "outputId": "fc268df0-c0f8-4a98-85c5-31adba981242"
      },
      "outputs": [
        {
          "name": "stdout",
          "output_type": "stream",
          "text": [
            "Epoch 1/10\n",
            "363/363 [==============================] - 2s 3ms/step - loss: 0.7864 - mae: 0.9470 - val_loss: 0.4276 - val_mae: 0.6122\n",
            "Epoch 2/10\n",
            "363/363 [==============================] - 1s 2ms/step - loss: 0.2497 - mae: 0.5204 - val_loss: 0.3437 - val_mae: 0.5537\n",
            "Epoch 3/10\n",
            "363/363 [==============================] - 1s 2ms/step - loss: 0.2331 - mae: 0.5027 - val_loss: 0.2694 - val_mae: 0.5026\n",
            "Epoch 4/10\n",
            "363/363 [==============================] - 1s 2ms/step - loss: 0.2233 - mae: 0.4931 - val_loss: 0.2028 - val_mae: 0.4713\n",
            "Epoch 5/10\n",
            "363/363 [==============================] - 1s 2ms/step - loss: 0.2178 - mae: 0.4870 - val_loss: 0.2175 - val_mae: 0.4750\n",
            "Epoch 6/10\n",
            "363/363 [==============================] - 1s 2ms/step - loss: 0.2144 - mae: 0.4824 - val_loss: 0.2135 - val_mae: 0.4702\n",
            "Epoch 7/10\n",
            "363/363 [==============================] - 1s 2ms/step - loss: 0.2127 - mae: 0.4801 - val_loss: 0.2107 - val_mae: 0.4655\n",
            "Epoch 8/10\n",
            "363/363 [==============================] - 1s 3ms/step - loss: 0.2094 - mae: 0.4762 - val_loss: 0.2076 - val_mae: 0.4633\n",
            "Epoch 9/10\n",
            "363/363 [==============================] - 1s 2ms/step - loss: 0.2078 - mae: 0.4741 - val_loss: 0.2221 - val_mae: 0.4679\n",
            "Epoch 10/10\n",
            "363/363 [==============================] - 1s 3ms/step - loss: 0.2059 - mae: 0.4706 - val_loss: 0.1994 - val_mae: 0.4537\n"
          ]
        }
      ],
      "source": [
        "#Corre tu modelito, 10 epoquitas de nuevo\n",
        "history = model.fit(X_train_scaled, y_train, epochs = 10, validation_data=(X_valid_scaled, y_vadil))"
      ]
    },
    {
      "cell_type": "code",
      "execution_count": null,
      "id": "a98b1024-8876-475a-9bd6-2754fe019258",
      "metadata": {
        "id": "a98b1024-8876-475a-9bd6-2754fe019258"
      },
      "outputs": [],
      "source": [
        "#Guarda los resultados\n",
        "model.save(\"modelohuber.h5\")"
      ]
    },
    {
      "cell_type": "code",
      "execution_count": null,
      "id": "1f13c316-d58a-4bfc-8d68-8b7a5142c73b",
      "metadata": {
        "id": "1f13c316-d58a-4bfc-8d68-8b7a5142c73b"
      },
      "outputs": [],
      "source": [
        "#Cárgalos de nuevo\n",
        "model=keras.models.load_model(\"modelohuber.h5\",custom_objects = {\"HuberLoss\":HuberLoss})"
      ]
    },
    {
      "cell_type": "code",
      "execution_count": null,
      "id": "c4c8cbc3-7454-4ec5-b192-84d4984775d3",
      "metadata": {
        "id": "c4c8cbc3-7454-4ec5-b192-84d4984775d3",
        "outputId": "b0692bce-cbf2-4e60-a061-23e56bf7ef07"
      },
      "outputs": [
        {
          "data": {
            "text/plain": [
              "2.0"
            ]
          },
          "execution_count": 50,
          "metadata": {},
          "output_type": "execute_result"
        }
      ],
      "source": [
        "#Y revisa el threshold de la carga\n",
        "model.loss.umbral"
      ]
    },
    {
      "cell_type": "markdown",
      "id": "0b9dd20c-58d4-4d3e-b470-a8e181604ba4",
      "metadata": {
        "id": "0b9dd20c-58d4-4d3e-b470-a8e181604ba4"
      },
      "source": [
        "### <span style=\"color:blue\">3.3 Funciones personalizadas de Activación, inicialización regularización</span>"
      ]
    },
    {
      "cell_type": "code",
      "execution_count": null,
      "id": "9a17f4ea-b17a-45a8-ae3b-12ae281ec712",
      "metadata": {
        "id": "9a17f4ea-b17a-45a8-ae3b-12ae281ec712"
      },
      "outputs": [],
      "source": [
        "#Despeja el backend de Keras\n",
        "keras.backend.clear_session()"
      ]
    },
    {
      "cell_type": "markdown",
      "id": "0a66f99e-819e-433f-ba6a-dd67bba1706f",
      "metadata": {
        "id": "0a66f99e-819e-433f-ba6a-dd67bba1706f"
      },
      "source": [
        "$$\n",
        "f\\left(x\\right) = \\log\\left(1+\\exp\\left(x\\right)\\right)\n",
        "$$\n",
        "\n",
        "Está es la función de activación SoftPlus (suena a papel de baño🧻). Ponle atención porque la vas a programar."
      ]
    },
    {
      "cell_type": "code",
      "execution_count": null,
      "id": "ec9127fb-b3d6-406f-8613-c82a5aab22e7",
      "metadata": {
        "id": "ec9127fb-b3d6-406f-8613-c82a5aab22e7"
      },
      "outputs": [],
      "source": [
        "#Definete tu propia función de Softplus\n",
        "def mi_softplus(z):\n",
        "    return tf.math.log(tf.exp(z)+1.0)"
      ]
    },
    {
      "cell_type": "markdown",
      "id": "62c6716e-8c8a-4ca0-9ff5-67265b09544f",
      "metadata": {
        "id": "62c6716e-8c8a-4ca0-9ff5-67265b09544f"
      },
      "source": [
        "$$\n",
        "\\sigma = \\sqrt{\\frac{2}{n_{in}+n_{out}}}\n",
        "$$\n",
        "Esta es la desviación estándar en una inicialización de Glorot."
      ]
    },
    {
      "cell_type": "code",
      "execution_count": null,
      "id": "cd37f9b1-5616-486a-9780-23ccc1207925",
      "metadata": {
        "id": "cd37f9b1-5616-486a-9780-23ccc1207925"
      },
      "outputs": [],
      "source": [
        "#Defínete tu propio glorot initializer\n",
        "def mi_glorot(shape,dtype=tf.float32):\n",
        "    stddev = tf.sqrt(2./(shape[0] + shape[0]))\n",
        "    return tf.random.normal(shape,stddev=stddev, dtype=dtype)"
      ]
    },
    {
      "cell_type": "markdown",
      "id": "982f66c8-ce45-44a6-b43c-755ad19ed0e9",
      "metadata": {
        "id": "982f66c8-ce45-44a6-b43c-755ad19ed0e9"
      },
      "source": [
        "$$\n",
        "\\min _{w\\in \\mathbb {R} ^{p}}{\\frac {1}{n}}\\|{\\hat {X}}w-{\\hat {Y}}\\|^{2}+\\lambda \\|w\\|_{1}\n",
        "$$\n",
        "\n",
        "Esta cosa incomprensible es la regularización l1 (lasso). No está aqui para que la entiendas, está aquí para que la aprecies."
      ]
    },
    {
      "cell_type": "code",
      "execution_count": null,
      "id": "c28c99e7-6f6d-4e81-8deb-c7878f9efd0f",
      "metadata": {
        "id": "c28c99e7-6f6d-4e81-8deb-c7878f9efd0f"
      },
      "outputs": [],
      "source": [
        "#Ármate un regularizador l1\n",
        "def mil1(weights):\n",
        "    return tf.reduce_sum(tf.abs(0.01*weights))"
      ]
    },
    {
      "cell_type": "code",
      "execution_count": null,
      "id": "ac7bea4c-a718-46e2-8959-f09776d03835",
      "metadata": {
        "id": "ac7bea4c-a718-46e2-8959-f09776d03835"
      },
      "outputs": [],
      "source": [
        "#Ora si, ármese un modelo secuencial de 2 capas, la primera siendo una capa densa de 30 neuronas con selu  lecun normal, la segunda siendo una Densa de 1 neurona con tu activación, regularización y inicialización personalizadas\n",
        "model = keras.models.Sequential([\n",
        "    keras.layers.Dense(30, activation=\"selu\",kernel_initializer = \"lecun_normal\",input_shape=datos),\n",
        "    keras.layers.Dense(1,activation = mi_softplus,\n",
        "                      kernel_regularizer = mil1,\n",
        "                      kernel_initializer = mi_glorot),\n",
        "])"
      ]
    },
    {
      "cell_type": "code",
      "execution_count": null,
      "id": "1c272b1a-7499-47ec-9b96-af84aac12730",
      "metadata": {
        "id": "1c272b1a-7499-47ec-9b96-af84aac12730"
      },
      "outputs": [],
      "source": [
        "#Model compile mse, nadam, mae\n",
        "model.compile(loss=huber_fn, optimizer = \"nadam\", metrics=[\"mae\"])"
      ]
    },
    {
      "cell_type": "code",
      "execution_count": null,
      "id": "108b58bc-150e-4c56-8cc0-af9dd7e2e4cf",
      "metadata": {
        "id": "108b58bc-150e-4c56-8cc0-af9dd7e2e4cf",
        "outputId": "cd5ec3fe-dc6d-4578-cdd7-2f72a6fa2b2c"
      },
      "outputs": [
        {
          "name": "stdout",
          "output_type": "stream",
          "text": [
            "Epoch 1/10\n",
            "363/363 [==============================] - 2s 3ms/step - loss: 0.4698 - mae: 0.7296 - val_loss: 0.2551 - val_mae: 0.4648\n",
            "Epoch 2/10\n",
            "363/363 [==============================] - 1s 2ms/step - loss: 0.2578 - mae: 0.4741 - val_loss: 0.2358 - val_mae: 0.4474\n",
            "Epoch 3/10\n",
            "363/363 [==============================] - 1s 3ms/step - loss: 0.2456 - mae: 0.4662 - val_loss: 0.2263 - val_mae: 0.4413\n",
            "Epoch 4/10\n",
            "363/363 [==============================] - 1s 3ms/step - loss: 0.2381 - mae: 0.4636 - val_loss: 0.2197 - val_mae: 0.4399\n",
            "Epoch 5/10\n",
            "363/363 [==============================] - 1s 4ms/step - loss: 0.2322 - mae: 0.4613 - val_loss: 0.2148 - val_mae: 0.4384\n",
            "Epoch 6/10\n",
            "363/363 [==============================] - 1s 2ms/step - loss: 0.2275 - mae: 0.4599 - val_loss: 0.2110 - val_mae: 0.4365\n",
            "Epoch 7/10\n",
            "363/363 [==============================] - 1s 2ms/step - loss: 0.2236 - mae: 0.4583 - val_loss: 0.2086 - val_mae: 0.4376\n",
            "Epoch 8/10\n",
            "363/363 [==============================] - 1s 2ms/step - loss: 0.2205 - mae: 0.4573 - val_loss: 0.2055 - val_mae: 0.4367\n",
            "Epoch 9/10\n",
            "363/363 [==============================] - 1s 2ms/step - loss: 0.2174 - mae: 0.4562 - val_loss: 0.2026 - val_mae: 0.4350\n",
            "Epoch 10/10\n",
            "363/363 [==============================] - 1s 2ms/step - loss: 0.2148 - mae: 0.4551 - val_loss: 0.1996 - val_mae: 0.4323\n"
          ]
        }
      ],
      "source": [
        "#Fit\n",
        "history = model.fit(X_train_scaled, y_train, epochs = 10, validation_data=(X_valid_scaled, y_vadil))"
      ]
    },
    {
      "cell_type": "code",
      "execution_count": null,
      "id": "222047f5-8193-4e15-ba07-6e4f6a4542b3",
      "metadata": {
        "id": "222047f5-8193-4e15-ba07-6e4f6a4542b3"
      },
      "outputs": [],
      "source": [
        "#Guarda tu modelo\n",
        "model.save(\"partespersonalizadas.h5\")"
      ]
    },
    {
      "cell_type": "code",
      "execution_count": null,
      "id": "2cd65674-8201-49de-9dad-6fad4b8ae5c5",
      "metadata": {
        "id": "2cd65674-8201-49de-9dad-6fad4b8ae5c5"
      },
      "outputs": [],
      "source": [
        "#Carga tu modelo con todos tus implementos nuevos\n",
        "model = keras.models.load_model(\n",
        "    \"partespersonalizadas.h5\",\n",
        "    custom_objects={\n",
        "        \"mi_softplus\":mi_softplus,\n",
        "        \"mi_glorot\":mi_glorot,\n",
        "        \"mil1\":mil1,\n",
        "        \"huber_fn\":huber_fn\n",
        "    })"
      ]
    },
    {
      "cell_type": "markdown",
      "id": "127b1dca-ef2f-4618-9595-5e8488ae7196",
      "metadata": {
        "id": "127b1dca-ef2f-4618-9595-5e8488ae7196"
      },
      "source": [
        "Recuerda que no podrías guardar hiperparámetros en estas defs, tendrías que armar una clase nueva con una def de get_config"
      ]
    },
    {
      "cell_type": "markdown",
      "id": "90c2ccaa-99c0-47fb-b333-a1d0780cc412",
      "metadata": {
        "id": "90c2ccaa-99c0-47fb-b333-a1d0780cc412"
      },
      "source": [
        "### <span style=\"color:blue\">3.4 Métricas Personalizadas</span>"
      ]
    },
    {
      "cell_type": "code",
      "execution_count": null,
      "id": "5228f4b3-61df-4df6-8055-40a9606f9f3a",
      "metadata": {
        "id": "5228f4b3-61df-4df6-8055-40a9606f9f3a"
      },
      "outputs": [],
      "source": [
        "#Limpia el backend de Keras\n",
        "keras.backend.clear_session()"
      ]
    },
    {
      "cell_type": "code",
      "execution_count": null,
      "id": "ba27f93a-9cf1-481b-9916-45e6e9255402",
      "metadata": {
        "id": "ba27f93a-9cf1-481b-9916-45e6e9255402"
      },
      "outputs": [],
      "source": [
        "#Ármate de nuevo el mismo modelo que estamos reciclando ♻ desde hace rato\n",
        "model = keras.models.Sequential([\n",
        "    keras.layers.Dense(30, activation=\"selu\", kernel_initializer=\"lecun_normal\",\n",
        "                       input_shape=datos),\n",
        "    keras.layers.Dense(1),\n",
        "])"
      ]
    },
    {
      "cell_type": "code",
      "execution_count": null,
      "id": "a2a18c26-095b-43f3-b2dc-0b884873dece",
      "metadata": {
        "id": "a2a18c26-095b-43f3-b2dc-0b884873dece"
      },
      "outputs": [],
      "source": [
        "#Compilalo con pérdida mse, optimizador nadam y usa de métrica tu Huber Loss con 2.0\n",
        "model.compile(loss=\"mse\", optimizer=\"nadam\", metrics = [huber_fn])"
      ]
    },
    {
      "cell_type": "code",
      "execution_count": null,
      "id": "b423785e-84de-4a91-bdc3-4b0df7c8488f",
      "metadata": {
        "id": "b423785e-84de-4a91-bdc3-4b0df7c8488f",
        "outputId": "65821a29-eb6c-4d48-a27d-dee2ef9adccb"
      },
      "outputs": [
        {
          "name": "stdout",
          "output_type": "stream",
          "text": [
            "Epoch 1/10\n",
            "363/363 [==============================] - 2s 4ms/step - loss: 2.1827 - huber_fn: 0.6120 - val_loss: 31.2567 - val_huber_fn: 0.3512\n",
            "Epoch 2/10\n",
            "363/363 [==============================] - 1s 2ms/step - loss: 0.7473 - huber_fn: 0.2192 - val_loss: 22.6725 - val_huber_fn: 0.3166\n",
            "Epoch 3/10\n",
            "363/363 [==============================] - 1s 2ms/step - loss: 0.6409 - huber_fn: 0.2100 - val_loss: 14.8538 - val_huber_fn: 0.2855\n",
            "Epoch 4/10\n",
            "363/363 [==============================] - 1s 3ms/step - loss: 0.5598 - huber_fn: 0.2050 - val_loss: 8.1740 - val_huber_fn: 0.2562\n",
            "Epoch 5/10\n",
            "363/363 [==============================] - 1s 2ms/step - loss: 0.4991 - huber_fn: 0.2007 - val_loss: 4.0213 - val_huber_fn: 0.2309\n",
            "Epoch 6/10\n",
            "363/363 [==============================] - 1s 2ms/step - loss: 0.4587 - huber_fn: 0.1954 - val_loss: 2.1567 - val_huber_fn: 0.2112\n",
            "Epoch 7/10\n",
            "363/363 [==============================] - 1s 4ms/step - loss: 0.4397 - huber_fn: 0.1925 - val_loss: 1.2108 - val_huber_fn: 0.1995\n",
            "Epoch 8/10\n",
            "363/363 [==============================] - 2s 5ms/step - loss: 0.4297 - huber_fn: 0.1897 - val_loss: 0.7359 - val_huber_fn: 0.1887\n",
            "Epoch 9/10\n",
            "363/363 [==============================] - 1s 3ms/step - loss: 0.4215 - huber_fn: 0.1868 - val_loss: 0.6130 - val_huber_fn: 0.1835\n",
            "Epoch 10/10\n",
            "363/363 [==============================] - 1s 3ms/step - loss: 0.4167 - huber_fn: 0.1848 - val_loss: 0.5791 - val_huber_fn: 0.1808\n"
          ]
        }
      ],
      "source": [
        "#Corre tu modelo\n",
        "history = model.fit(X_train_scaled, y_train, epochs = 10, validation_data=(X_valid_scaled, y_vadil))"
      ]
    },
    {
      "cell_type": "markdown",
      "id": "a0e61888-e9f5-4b2f-a9ba-412eebe02186",
      "metadata": {
        "id": "a0e61888-e9f5-4b2f-a9ba-412eebe02186"
      },
      "source": [
        "### <span style=\"color:blue\">3.5 Métricas de Streaming </span>"
      ]
    },
    {
      "cell_type": "code",
      "execution_count": null,
      "id": "14cbd84b-86f6-455a-9338-158dd1dae904",
      "metadata": {
        "id": "14cbd84b-86f6-455a-9338-158dd1dae904"
      },
      "outputs": [],
      "source": [
        "#Usa este código para crear un Huber con threshold desde TF (no el que hicimos con Keras)\n",
        "def create_huber(threshold=1.0):\n",
        "    def huber_fn(y_true, y_pred):\n",
        "        error = y_true - y_pred\n",
        "        is_small_error = tf.abs(error) < threshold\n",
        "        squared_loss = tf.square(error) / 2\n",
        "        linear_loss  = threshold * tf.abs(error) - threshold**2 / 2\n",
        "        return tf.where(is_small_error, squared_loss, linear_loss)\n",
        "    return huber_fn"
      ]
    },
    {
      "cell_type": "code",
      "execution_count": null,
      "id": "1f9c7cc9-508e-4700-ac34-6d449a1f8d4e",
      "metadata": {
        "id": "1f9c7cc9-508e-4700-ac34-6d449a1f8d4e"
      },
      "outputs": [],
      "source": [
        "# Ahora si, vamos a armar nuestra clase streaming metric\n",
        "# Vas a necesitar un init en el que definias umbral, funcion huber, total y cuenta\n",
        "# Vas a necesitar una funcion para actualizar el estado en la que calcules la metrica y vayas actualizando el total y el count\n",
        "# Una función que te entregue el resultado de dividir el total entre la cuenta\n",
        "# Y tu get_config para guardar el umbral\n",
        "class HuberMetric(keras.metrics.Metric):\n",
        "    def __init__(self,umbral = 1.0, **kwargs):\n",
        "        super().__init__(**kwargs)\n",
        "        self.umbral = umbral\n",
        "        self.huber_fn = create_huber(umbral)\n",
        "        self.total = self.add_weight(\"total\", initializer = \"zeros\")\n",
        "        self.count = self.add_weight(\"counts\", initializer = \"zeros\")\n",
        "    def update_state(self,y_true,y_pred, sample_weight = None):\n",
        "        metric = self.huber_fn(y_true,y_pred)\n",
        "        self.total.assign_add(tf.reduce_sum(metric))\n",
        "        self.count.assign_add(tf.cast(tf.size(y_true), tf.float32))\n",
        "    def result(self):\n",
        "        return self.total/self.count\n",
        "    def get_config(self):\n",
        "        base_config = super().get_config()\n",
        "        return {**base_config, \"umbral\":self.umbral}\n",
        "\n"
      ]
    },
    {
      "cell_type": "code",
      "execution_count": null,
      "id": "7c564658-f68a-440c-b3c6-916ec8839af8",
      "metadata": {
        "id": "7c564658-f68a-440c-b3c6-916ec8839af8"
      },
      "outputs": [],
      "source": [
        "#Vamos probandola en vida real, despeja el backend de Keras\n",
        "keras.backend.clear_session()"
      ]
    },
    {
      "cell_type": "code",
      "execution_count": null,
      "id": "a3798386-b136-47fb-aac5-2b833be3a987",
      "metadata": {
        "id": "a3798386-b136-47fb-aac5-2b833be3a987"
      },
      "outputs": [],
      "source": [
        "# Arma tu modelo de siempre\n",
        "model = keras.models.Sequential([\n",
        "    keras.layers.Dense(30, activation=\"selu\", kernel_initializer=\"lecun_normal\",\n",
        "                       input_shape=datos),\n",
        "    keras.layers.Dense(1),\n",
        "])"
      ]
    },
    {
      "cell_type": "code",
      "execution_count": null,
      "id": "0b3aecf8-73d2-44bb-9e88-ae1c5245f46d",
      "metadata": {
        "id": "0b3aecf8-73d2-44bb-9e88-ae1c5245f46d"
      },
      "outputs": [],
      "source": [
        "# Compila con pérdida create_huber, optimizador Nadam y metricas la que acabas de armar\n",
        "model.compile(loss = create_huber(2.0), optimizer=\"nadam\", metrics = [HuberMetric(2.0)])"
      ]
    },
    {
      "cell_type": "code",
      "execution_count": null,
      "id": "23d3722b-a0d9-4d38-b53d-c65ccb13cf24",
      "metadata": {
        "id": "23d3722b-a0d9-4d38-b53d-c65ccb13cf24",
        "outputId": "9f81e10f-48cb-4316-bd56-2243d7176ef0"
      },
      "outputs": [
        {
          "name": "stdout",
          "output_type": "stream",
          "text": [
            "Epoch 1/10\n",
            "363/363 [==============================] - 3s 3ms/step - loss: 1.0250 - huber_metric_1: 1.0250\n",
            "Epoch 2/10\n",
            "363/363 [==============================] - 1s 3ms/step - loss: 0.2667 - huber_metric_1: 0.2667\n",
            "Epoch 3/10\n",
            "363/363 [==============================] - 1s 3ms/step - loss: 0.2344 - huber_metric_1: 0.2344\n",
            "Epoch 4/10\n",
            "363/363 [==============================] - 1s 3ms/step - loss: 0.2257 - huber_metric_1: 0.2257\n",
            "Epoch 5/10\n",
            "363/363 [==============================] - 1s 2ms/step - loss: 0.2201 - huber_metric_1: 0.2201\n",
            "Epoch 6/10\n",
            "363/363 [==============================] - 1s 2ms/step - loss: 0.2161 - huber_metric_1: 0.2161\n",
            "Epoch 7/10\n",
            "363/363 [==============================] - 1s 3ms/step - loss: 0.2135 - huber_metric_1: 0.2135\n",
            "Epoch 8/10\n",
            "363/363 [==============================] - 1s 2ms/step - loss: 0.2095 - huber_metric_1: 0.2095\n",
            "Epoch 9/10\n",
            "363/363 [==============================] - 1s 2ms/step - loss: 0.2067 - huber_metric_1: 0.2067\n",
            "Epoch 10/10\n",
            "363/363 [==============================] - 1s 2ms/step - loss: 0.2054 - huber_metric_1: 0.2054\n"
          ]
        },
        {
          "data": {
            "text/plain": [
              "<keras.callbacks.History at 0x7fde02d27dc0>"
            ]
          },
          "execution_count": 70,
          "metadata": {},
          "output_type": "execute_result"
        }
      ],
      "source": [
        "# Entrena a 10 epocas, vas a necesitar definir tu X Train y Y Train como tipo FLoat 32\n",
        "model.fit(X_train_scaled.astype(np.float32), y_train.astype(np.float32), epochs=10)"
      ]
    },
    {
      "cell_type": "code",
      "execution_count": null,
      "id": "4a12c20c-8e2b-48ba-8a37-e658632a8bb4",
      "metadata": {
        "id": "4a12c20c-8e2b-48ba-8a37-e658632a8bb4",
        "outputId": "9a4d4675-20fd-442e-b465-445e4325982f"
      },
      "outputs": [
        {
          "name": "stdout",
          "output_type": "stream",
          "text": [
            "162/162 [==============================] - 0s 2ms/step - loss: 0.2031 - huber_metric_1: 0.2031\n"
          ]
        },
        {
          "data": {
            "text/plain": [
              "[0.20312511920928955, 0.20312511920928955]"
            ]
          },
          "execution_count": 71,
          "metadata": {},
          "output_type": "execute_result"
        }
      ],
      "source": [
        "# Revisar resultados\n",
        "model.evaluate(X_test_scaled, y_test)"
      ]
    },
    {
      "cell_type": "markdown",
      "id": "74b9bbaf-1848-4253-8144-06a0b2fb4131",
      "metadata": {
        "id": "74b9bbaf-1848-4253-8144-06a0b2fb4131"
      },
      "source": [
        "### <span style=\"color:blue\">3.6 Capas Personalizadas </span>"
      ]
    },
    {
      "cell_type": "code",
      "execution_count": null,
      "id": "794fe45d-f015-4a74-b7fd-7fe531c3485e",
      "metadata": {
        "id": "794fe45d-f015-4a74-b7fd-7fe531c3485e"
      },
      "outputs": [],
      "source": [
        "#Despeja tu backend de Keras\n",
        "keras.backend.clear_session()"
      ]
    },
    {
      "cell_type": "code",
      "execution_count": null,
      "id": "f1f6aded-2241-4bf8-a4f9-fe6b73f28630",
      "metadata": {
        "id": "f1f6aded-2241-4bf8-a4f9-fe6b73f28630"
      },
      "outputs": [],
      "source": [
        "#s  - lo unico que hace es elevar e a la x\n",
        "exponencialcapa = keras.layers.Lambda(lambda x: tf.exp(x))"
      ]
    },
    {
      "cell_type": "code",
      "execution_count": null,
      "id": "8599fa0d-b3b4-4261-92f5-b79b8867deb4",
      "metadata": {
        "id": "8599fa0d-b3b4-4261-92f5-b79b8867deb4",
        "outputId": "84798c7c-b8be-4151-be2d-0f17f86441c7"
      },
      "outputs": [
        {
          "data": {
            "text/plain": [
              "<tf.Tensor: shape=(1,), dtype=float32, numpy=array([2.7182817], dtype=float32)>"
            ]
          },
          "execution_count": 74,
          "metadata": {},
          "output_type": "execute_result"
        }
      ],
      "source": [
        "exponencialcapa([1.])"
      ]
    },
    {
      "cell_type": "code",
      "execution_count": null,
      "id": "10598d6b-51fe-4a62-841f-08155404ec1c",
      "metadata": {
        "id": "10598d6b-51fe-4a62-841f-08155404ec1c"
      },
      "outputs": [],
      "source": [
        "# Ármate el mismo modelo de siempre pero pegale una capa exponencial al final\n",
        "model = keras.models.Sequential([\n",
        "    keras.layers.Dense(30, activation=\"relu\", input_shape=datos),\n",
        "    keras.layers.Dense(1),\n",
        "    exponencialcapa\n",
        "])"
      ]
    },
    {
      "cell_type": "code",
      "execution_count": null,
      "id": "12769fee-5361-44bf-b8ba-9fa7cdd98701",
      "metadata": {
        "id": "12769fee-5361-44bf-b8ba-9fa7cdd98701"
      },
      "outputs": [],
      "source": [
        "#Compila con pérdida mse y optimizador SGD\n",
        "model.compile(loss=\"mse\", optimizer=\"sgd\")"
      ]
    },
    {
      "cell_type": "code",
      "execution_count": null,
      "id": "e02ef563-f0b9-4af1-9ca8-64f5802bafb8",
      "metadata": {
        "id": "e02ef563-f0b9-4af1-9ca8-64f5802bafb8",
        "outputId": "e7cbe06c-0b3f-4423-ea41-ddae708342b6"
      },
      "outputs": [
        {
          "name": "stdout",
          "output_type": "stream",
          "text": [
            "Epoch 1/10\n",
            "363/363 [==============================] - 1s 2ms/step - loss: 1.7769 - val_loss: 0.4844\n",
            "Epoch 2/10\n",
            "363/363 [==============================] - 1s 2ms/step - loss: 0.4702 - val_loss: 0.3799\n",
            "Epoch 3/10\n",
            "363/363 [==============================] - 1s 2ms/step - loss: 0.4345 - val_loss: 0.3963\n",
            "Epoch 4/10\n",
            "363/363 [==============================] - 1s 2ms/step - loss: 0.4032 - val_loss: 0.3591\n",
            "Epoch 5/10\n",
            "363/363 [==============================] - 1s 2ms/step - loss: 0.3953 - val_loss: 0.3528\n",
            "Epoch 6/10\n",
            "363/363 [==============================] - 1s 2ms/step - loss: 0.5841 - val_loss: 5.3395\n",
            "Epoch 7/10\n",
            "363/363 [==============================] - 1s 2ms/step - loss: 4.1947 - val_loss: 2.5539\n",
            "Epoch 8/10\n",
            "363/363 [==============================] - 1s 2ms/step - loss: 1.1090 - val_loss: 0.7072\n",
            "Epoch 9/10\n",
            "363/363 [==============================] - 1s 2ms/step - loss: 0.6580 - val_loss: 0.6019\n",
            "Epoch 10/10\n",
            "363/363 [==============================] - 1s 2ms/step - loss: 0.5998 - val_loss: 0.5565\n"
          ]
        }
      ],
      "source": [
        "#Ejecuta y prueba, 10 epocas\n",
        "history = model.fit(X_train_scaled, y_train, epochs = 10, validation_data=(X_valid_scaled, y_vadil))"
      ]
    },
    {
      "cell_type": "code",
      "execution_count": null,
      "id": "b919b6eb-68ae-4ca5-83f2-cdf9eea0972c",
      "metadata": {
        "id": "b919b6eb-68ae-4ca5-83f2-cdf9eea0972c",
        "outputId": "75cae463-dbce-4387-865c-a3edb705b98a"
      },
      "outputs": [
        {
          "name": "stdout",
          "output_type": "stream",
          "text": [
            "162/162 [==============================] - 0s 1ms/step - loss: 0.5587\n"
          ]
        },
        {
          "data": {
            "text/plain": [
              "0.5587297081947327"
            ]
          },
          "execution_count": 79,
          "metadata": {},
          "output_type": "execute_result"
        }
      ],
      "source": [
        "model.evaluate(X_test_scaled, y_test)"
      ]
    },
    {
      "cell_type": "markdown",
      "id": "e6f52ffd-721f-47bd-93d3-36b5abd5082c",
      "metadata": {
        "id": "e6f52ffd-721f-47bd-93d3-36b5abd5082c"
      },
      "source": [
        "### <span style=\"color:blue\">3.7 Armando nuestra propia capa DENSE </span>\n"
      ]
    },
    {
      "cell_type": "markdown",
      "id": "f54873f2-f084-44b9-a764-aef03e06444a",
      "metadata": {
        "id": "f54873f2-f084-44b9-a764-aef03e06444a"
      },
      "source": [
        "Para armar nuestra propia capa dense necesitaremos una clase que herede de Keras.Layers.Layer Esta clase tendrá las siguientes 5 métodos:\n",
        "    <br>- El constructor inicial, que acepta todos los hiperpárametros como argumentos (units y activation). Kwargs recibe todo lo demás\n",
        "    <br>- Una función que le dará forma a la capa. Agregará las variables con el metodo add_weight. Keras necesita saber la cantidad de Neuronas en la capa anterior para crear la matriz de W's de conexión.\n",
        "    <br>- Una función que haga las operaciones necesarias - necesitará un argumento X que sean los inputs de la capa. Aplica la función de activación a la función lineal de xw + b\n",
        "    <br>- Una función que nos regrese la shape de los outputs de la capa\n",
        "    <br>- Y el get_config para guardar"
      ]
    },
    {
      "cell_type": "code",
      "execution_count": null,
      "id": "dc4044d8-93a4-4ba7-b3e3-b35faa06f05d",
      "metadata": {
        "id": "dc4044d8-93a4-4ba7-b3e3-b35faa06f05d"
      },
      "outputs": [],
      "source": [
        "#Armese su capa dense\n",
        "class Denso(keras.layers.Layer):\n",
        "    def __init__(self, units, activation=None, **kwargs):\n",
        "        super().__init__(**kwargs)\n",
        "        self.units=units\n",
        "        self.activation = keras.activations.get(activation)\n",
        "\n",
        "    def build(self,batch_input_shape):\n",
        "        self.kernel = self.add_weight(\n",
        "            name=\"kernel\", shape=[batch_input_shape[-1], self.units],\n",
        "            initializer = \"glorot_normal\")\n",
        "        self.bias = self.add_weight(name=\"bias\", shape=[self.units], initializer=\"zeros\")\n",
        "        super().build(batch_input_shape)\n",
        "\n",
        "    def call(self, X):\n",
        "        return self.activation(X @ self.kernel + self.bias)\n",
        "\n",
        "    def compute_output_shape(self, batch_input_shape):\n",
        "        return tf.TensorShape(batch_input_shape.as_list()[:-1]+[self.units])\n",
        "    def get_config(self):\n",
        "        base_config = super().get_config()\n",
        "        return {**base_config, \"units\":self.units, \"activation\":keras.activations.serialize(self.activation)}\n",
        "\n"
      ]
    },
    {
      "cell_type": "code",
      "execution_count": null,
      "id": "1df38ca5-8549-4b8f-9bb5-6133f04f9c43",
      "metadata": {
        "id": "1df38ca5-8549-4b8f-9bb5-6133f04f9c43"
      },
      "outputs": [],
      "source": [
        "#Despeja backend de keras\n",
        "keras.backend.clear_session()"
      ]
    },
    {
      "cell_type": "code",
      "execution_count": null,
      "id": "bccfbcbf-1d8e-4831-8ef3-76ee30efde69",
      "metadata": {
        "id": "bccfbcbf-1d8e-4831-8ef3-76ee30efde69"
      },
      "outputs": [],
      "source": [
        "#Arma el mismo modelo pero ahora usando Tu capa nueva (activación relu)\n",
        "model = keras.models.Sequential([\n",
        "    Denso(30, activation=\"relu\", input_shape=datos),\n",
        "    Denso(1)\n",
        "])"
      ]
    },
    {
      "cell_type": "code",
      "execution_count": null,
      "id": "0f8665b6-8ccb-467c-b835-65cace97084d",
      "metadata": {
        "id": "0f8665b6-8ccb-467c-b835-65cace97084d"
      },
      "outputs": [],
      "source": [
        "#Compila con MSE y NADAM\n",
        "model.compile(loss=\"mse\", optimizer=\"nadam\")\n"
      ]
    },
    {
      "cell_type": "code",
      "execution_count": null,
      "id": "543693ef-564c-4b32-b5f7-ff2b6553f511",
      "metadata": {
        "id": "543693ef-564c-4b32-b5f7-ff2b6553f511",
        "outputId": "527146d6-a50a-4094-afca-d2b4a8e2ec72"
      },
      "outputs": [
        {
          "name": "stdout",
          "output_type": "stream",
          "text": [
            "Epoch 1/10\n",
            "363/363 [==============================] - 2s 2ms/step - loss: 1.9191 - val_loss: 0.8107\n",
            "Epoch 2/10\n",
            "363/363 [==============================] - 1s 3ms/step - loss: 0.6184 - val_loss: 0.5070\n",
            "Epoch 3/10\n",
            "363/363 [==============================] - 1s 2ms/step - loss: 0.4903 - val_loss: 0.4486\n",
            "Epoch 4/10\n",
            "363/363 [==============================] - 1s 2ms/step - loss: 0.4360 - val_loss: 0.7409\n",
            "Epoch 5/10\n",
            "363/363 [==============================] - 1s 2ms/step - loss: 0.4114 - val_loss: 0.4056\n",
            "Epoch 6/10\n",
            "363/363 [==============================] - 1s 2ms/step - loss: 0.3975 - val_loss: 0.4459\n",
            "Epoch 7/10\n",
            "363/363 [==============================] - 1s 2ms/step - loss: 0.3884 - val_loss: 0.4905\n",
            "Epoch 8/10\n",
            "363/363 [==============================] - 1s 2ms/step - loss: 0.3819 - val_loss: 2.3621\n",
            "Epoch 9/10\n",
            "363/363 [==============================] - 1s 2ms/step - loss: 0.3799 - val_loss: 2.0988\n",
            "Epoch 10/10\n",
            "363/363 [==============================] - 1s 2ms/step - loss: 0.3865 - val_loss: 0.5418\n"
          ]
        }
      ],
      "source": [
        "#Fit y evalua (10 epocas)\n",
        "history = model.fit(X_train_scaled, y_train, epochs = 10, validation_data=(X_valid_scaled, y_vadil))"
      ]
    },
    {
      "cell_type": "code",
      "execution_count": null,
      "id": "afef6262-a2f7-4963-b7eb-e1348a16f6f1",
      "metadata": {
        "id": "afef6262-a2f7-4963-b7eb-e1348a16f6f1"
      },
      "outputs": [],
      "source": [
        "#Guarda tu modelo\n",
        "model.save(\"mymodel.h5\")"
      ]
    },
    {
      "cell_type": "code",
      "execution_count": null,
      "id": "073a4ba9-0e70-4001-b5ff-9574a48d64b0",
      "metadata": {
        "id": "073a4ba9-0e70-4001-b5ff-9574a48d64b0"
      },
      "outputs": [],
      "source": [
        "#Cargalo de nuevo\n",
        "model = keras.models.load_model(\"mymodel.h5\", custom_objects={\"Denso\":Denso})"
      ]
    },
    {
      "cell_type": "markdown",
      "id": "4cea3339-b429-4217-bb06-bbe900217181",
      "metadata": {
        "id": "4cea3339-b429-4217-bb06-bbe900217181"
      },
      "source": [
        "### <span style=\"color:blue\">3.8 Capa personalizada que opera diferente en prueba y entrenamiento </span>"
      ]
    },
    {
      "cell_type": "markdown",
      "id": "9fecdc51-7ea5-4509-bae9-3399660d5083",
      "metadata": {
        "id": "9fecdc51-7ea5-4509-bae9-3399660d5083"
      },
      "source": [
        "Para armar esta capa de Gaussian Noise vamos a necesitar una clase con los siguientes 3 Métodos:\n",
        "    <br> - EL cosntructor, donde cargamos la desviación estandar\n",
        "    <br> - La función de operación, donde se define el proceso si estas en entrenamiento o en prueba\n",
        "    <br> - Y la función que computa la salida"
      ]
    },
    {
      "cell_type": "code",
      "execution_count": null,
      "id": "b01a656c-7220-4f5b-969c-513ae8c45ace",
      "metadata": {
        "id": "b01a656c-7220-4f5b-969c-513ae8c45ace"
      },
      "outputs": [],
      "source": [
        "#Arma tu capa Gaussian Noise\n",
        "class AddGaussianNoise(keras.layers.Layer):\n",
        "    def __init__(self, stddev, **kwargs):\n",
        "        super().__init__(**kwargs)\n",
        "        self.stddev = stddev\n",
        "\n",
        "    def call(self, X, training=None):\n",
        "        if training:\n",
        "            noise = tf.random.normal(tf.shape(X), stddev=self.stddev)\n",
        "            return X + noise\n",
        "        else:\n",
        "            return X\n",
        "\n",
        "    def compute_output_shape(self, batch_input_shape):\n",
        "        return batch_input_shape"
      ]
    },
    {
      "cell_type": "code",
      "execution_count": null,
      "id": "9fcb4e73-edb1-4200-a9af-e0fb742f226f",
      "metadata": {
        "id": "9fcb4e73-edb1-4200-a9af-e0fb742f226f"
      },
      "outputs": [],
      "source": [
        "# Arma tu modelo perre, 3 capas (gaussian noise, dense30 con selu y dense1)\n",
        "\n",
        "model = keras.models.Sequential([\n",
        "    AddGaussianNoise(stddev=1.0),\n",
        "    keras.layers.Dense(30, activation=\"selu\"),\n",
        "    keras.layers.Dense(1)\n",
        "])"
      ]
    },
    {
      "cell_type": "code",
      "execution_count": null,
      "id": "e68c7e36-de9c-4aa0-98ff-99fdf2b309f0",
      "metadata": {
        "id": "e68c7e36-de9c-4aa0-98ff-99fdf2b309f0",
        "outputId": "51cb2a8b-4a36-46f5-8246-536c467db785"
      },
      "outputs": [
        {
          "name": "stdout",
          "output_type": "stream",
          "text": [
            "Epoch 1/2\n",
            "363/363 [==============================] - 2s 2ms/step - loss: 3.0622 - val_loss: 6.1281\n",
            "Epoch 2/2\n",
            "363/363 [==============================] - 1s 2ms/step - loss: 1.0551 - val_loss: 2.9391\n",
            "162/162 [==============================] - 0s 1ms/step - loss: 0.7645\n"
          ]
        },
        {
          "data": {
            "text/plain": [
              "0.7644515633583069"
            ]
          },
          "execution_count": 89,
          "metadata": {},
          "output_type": "execute_result"
        }
      ],
      "source": [
        "# Compila con MSE y NADAM\n",
        "\n",
        "model.compile(loss=\"mse\", optimizer=\"nadam\")\n",
        "model.fit(X_train_scaled, y_train, epochs=2,\n",
        "          validation_data=(X_valid_scaled, y_vadil))\n",
        "model.evaluate(X_test_scaled, y_test)"
      ]
    },
    {
      "cell_type": "code",
      "execution_count": null,
      "id": "f4bb9982-f4e9-4489-8e25-efc712fda953",
      "metadata": {
        "id": "f4bb9982-f4e9-4489-8e25-efc712fda953"
      },
      "outputs": [],
      "source": [
        "# Corre tu modelo y Evalúa"
      ]
    },
    {
      "cell_type": "markdown",
      "id": "b4b4917b-22b1-4fbd-abce-c94fd9cd360b",
      "metadata": {
        "id": "b4b4917b-22b1-4fbd-abce-c94fd9cd360b"
      },
      "source": [
        "### <span style=\"color:blue\"> 3.9 Modelos Personalizados </span>\n"
      ]
    },
    {
      "cell_type": "code",
      "execution_count": null,
      "id": "1e7925fc-6826-4e22-a443-b491e24e5410",
      "metadata": {
        "id": "1e7925fc-6826-4e22-a443-b491e24e5410"
      },
      "outputs": [],
      "source": [
        "#Comenzamos copiando x de prueba escalda a otra variable\n",
        "X_new_scaled = X_test_scaled\n"
      ]
    },
    {
      "cell_type": "code",
      "execution_count": null,
      "id": "e62e63fe-8441-4645-8c6d-9c5392203220",
      "metadata": {
        "id": "e62e63fe-8441-4645-8c6d-9c5392203220"
      },
      "outputs": [],
      "source": [
        "#Vamos a comenzar haciendo la parte del bloque residual del modelo - En este necesitamos 2 capas densas y un operación de suma que suma sus ingresos a sus salidas.\n",
        "#Necesitamos 2 metodos, constructor y ejecución : en el constructor definimos nuestras capas densas (con un for), y en la ejecución las corremos y hacemos la suma de ingresos y salidas\n",
        "class ResidualBlock(keras.layers.Layer):\n",
        "    def __init__(self, n_layers, n_neurons, **kwargs):\n",
        "        super().__init__(**kwargs)\n",
        "        self.hidden = [keras.layers.Dense(n_neurons, activation=\"elu\",\n",
        "                                          kernel_initializer=\"he_normal\")\n",
        "                       for _ in range(n_layers)]\n",
        "\n",
        "    def call(self, inputs):\n",
        "        Z = inputs\n",
        "        for layer in self.hidden:\n",
        "            Z = layer(Z)\n",
        "        return inputs + Z"
      ]
    },
    {
      "cell_type": "code",
      "execution_count": null,
      "id": "8d5dd942-95db-49ce-888f-1d64f204b52d",
      "metadata": {
        "id": "8d5dd942-95db-49ce-888f-1d64f204b52d"
      },
      "outputs": [],
      "source": [
        "# Ahora creamos el modelo  de verdad - necesitamos 2 metodos - el constructor (donde ararmos las capas) y la ejecución (donde pasamos los datos por las capas)\n",
        "class ResidualRegressor(keras.models.Model):\n",
        "    def __init__(self, output_dim, **kwargs):\n",
        "        super().__init__(**kwargs)\n",
        "        self.hidden1 = keras.layers.Dense(30, activation=\"elu\",\n",
        "                                          kernel_initializer=\"he_normal\")\n",
        "        self.block1 = ResidualBlock(2, 30)\n",
        "        self.block2 = ResidualBlock(2, 30)\n",
        "        self.out = keras.layers.Dense(output_dim)\n",
        "\n",
        "    def call(self, inputs):\n",
        "        Z = self.hidden1(inputs)\n",
        "        for _ in range(1 + 3):\n",
        "            Z = self.block1(Z)\n",
        "        Z = self.block2(Z)\n",
        "        return self.out(Z)"
      ]
    },
    {
      "cell_type": "code",
      "execution_count": null,
      "id": "e238bbcc-103f-4b4a-98c4-b68dd116c542",
      "metadata": {
        "id": "e238bbcc-103f-4b4a-98c4-b68dd116c542"
      },
      "outputs": [],
      "source": [
        "# Despeja el backend\n",
        "keras.backend.clear_session()"
      ]
    },
    {
      "cell_type": "code",
      "execution_count": null,
      "id": "e094b116-ad99-4af8-81d0-d58cfa9f28be",
      "metadata": {
        "id": "e094b116-ad99-4af8-81d0-d58cfa9f28be"
      },
      "outputs": [],
      "source": [
        "#Arma tu modelo pero usa la clase que acabas de hcaer\n",
        "model = ResidualRegressor(1)"
      ]
    },
    {
      "cell_type": "code",
      "execution_count": null,
      "id": "96a0a282-19ca-4b1f-bfcf-06d0a6d72587",
      "metadata": {
        "id": "96a0a282-19ca-4b1f-bfcf-06d0a6d72587"
      },
      "outputs": [],
      "source": [
        "#Compila, loss de mse y optimizer de nadam\n",
        "model.compile(loss=\"mse\", optimizer=\"nadam\")"
      ]
    },
    {
      "cell_type": "code",
      "execution_count": null,
      "id": "f8a77919-01a8-4875-8714-3c749928c52d",
      "metadata": {
        "id": "f8a77919-01a8-4875-8714-3c749928c52d",
        "outputId": "cf9f74e7-4d57-4352-9996-fdcc2bf4760c"
      },
      "outputs": [
        {
          "name": "stdout",
          "output_type": "stream",
          "text": [
            "Epoch 1/5\n",
            "363/363 [==============================] - 2s 2ms/step - loss: 472.6624\n",
            "Epoch 2/5\n",
            "363/363 [==============================] - 1s 2ms/step - loss: 8.9004\n",
            "Epoch 3/5\n",
            "363/363 [==============================] - 1s 2ms/step - loss: 2.5409\n",
            "Epoch 4/5\n",
            "363/363 [==============================] - 1s 3ms/step - loss: 1.9583\n",
            "Epoch 5/5\n",
            "363/363 [==============================] - 1s 2ms/step - loss: 1.7884\n"
          ]
        }
      ],
      "source": [
        "# Ejecuta tu modelo\n",
        "history = model.fit(X_train_scaled, y_train, epochs=5)"
      ]
    },
    {
      "cell_type": "code",
      "execution_count": null,
      "id": "ccc0d7cd-2ec5-4f84-8963-61a001723c0f",
      "metadata": {
        "id": "ccc0d7cd-2ec5-4f84-8963-61a001723c0f",
        "outputId": "eb132714-0519-469e-b4f5-edb9f7bf6c81"
      },
      "outputs": [
        {
          "name": "stdout",
          "output_type": "stream",
          "text": [
            "162/162 [==============================] - 0s 1ms/step - loss: 3.9619\n"
          ]
        }
      ],
      "source": [
        "# evaluar tu modelo.\n",
        "score = model.evaluate(X_test_scaled, y_test)\n"
      ]
    },
    {
      "cell_type": "code",
      "execution_count": null,
      "id": "b1f1ca59-59a5-447a-adb3-584e0089ed96",
      "metadata": {
        "id": "b1f1ca59-59a5-447a-adb3-584e0089ed96",
        "outputId": "6e6086ff-a83c-4e31-b853-757cbba676fa"
      },
      "outputs": [
        {
          "name": "stderr",
          "output_type": "stream",
          "text": [
            "2022-06-16 16:44:37.011145: W tensorflow/python/util/util.cc:368] Sets are not currently considered sequences, but this may change in the future, so consider avoiding using them.\n",
            "WARNING:absl:Found untraced functions such as dense_1_layer_call_fn, dense_1_layer_call_and_return_conditional_losses, dense_2_layer_call_fn, dense_2_layer_call_and_return_conditional_losses, dense_3_layer_call_fn while saving (showing 5 of 8). These functions will not be directly callable after loading.\n"
          ]
        },
        {
          "name": "stdout",
          "output_type": "stream",
          "text": [
            "INFO:tensorflow:Assets written to: my_custom_model.ckpt/assets\n"
          ]
        },
        {
          "name": "stderr",
          "output_type": "stream",
          "text": [
            "INFO:tensorflow:Assets written to: my_custom_model.ckpt/assets\n"
          ]
        }
      ],
      "source": [
        "#Guarda el modelo\n",
        "model.save(\"my_custom_model.ckpt\")\n"
      ]
    },
    {
      "cell_type": "code",
      "execution_count": null,
      "id": "5b42c5a6-fc27-422f-a900-71b7bb5422b6",
      "metadata": {
        "id": "5b42c5a6-fc27-422f-a900-71b7bb5422b6"
      },
      "outputs": [],
      "source": [
        "#Cargar el modelo\n",
        "model = keras.models.load_model(\"my_custom_model.ckpt\")\n"
      ]
    },
    {
      "cell_type": "markdown",
      "id": "41fe1776-dbd9-4f80-8631-7d201ce87fec",
      "metadata": {
        "id": "41fe1776-dbd9-4f80-8631-7d201ce87fec"
      },
      "source": [
        "Con esto puedes armar basicamente cualquier modelo que encuentres en un paper ahora si"
      ]
    }
  ],
  "metadata": {
    "kernelspec": {
      "display_name": "Python 3 (ipykernel)",
      "language": "python",
      "name": "python3"
    },
    "language_info": {
      "codemirror_mode": {
        "name": "ipython",
        "version": 3
      },
      "file_extension": ".py",
      "mimetype": "text/x-python",
      "name": "python",
      "nbconvert_exporter": "python",
      "pygments_lexer": "ipython3",
      "version": "3.9.7"
    },
    "colab": {
      "provenance": [],
      "include_colab_link": true
    }
  },
  "nbformat": 4,
  "nbformat_minor": 5
}