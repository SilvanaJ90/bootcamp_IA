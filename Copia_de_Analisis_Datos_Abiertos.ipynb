{
  "nbformat": 4,
  "nbformat_minor": 0,
  "metadata": {
    "colab": {
      "provenance": [],
      "gpuType": "T4",
      "include_colab_link": true
    },
    "kernelspec": {
      "name": "python3",
      "display_name": "Python 3"
    },
    "language_info": {
      "name": "python"
    },
    "accelerator": "GPU"
  },
  "cells": [
    {
      "cell_type": "markdown",
      "metadata": {
        "id": "view-in-github",
        "colab_type": "text"
      },
      "source": [
        "<a href=\"https://colab.research.google.com/github/SilvanaJ90/usergioarboleda-bootcamp_IA/blob/main/Copia_de_Analisis_Datos_Abiertos.ipynb\" target=\"_parent\"><img src=\"https://colab.research.google.com/assets/colab-badge.svg\" alt=\"Open In Colab\"/></a>"
      ]
    },
    {
      "cell_type": "markdown",
      "source": [
        "# Análisis de Datos Abiertos\n",
        "## TalentoTech\n",
        "## Bootcamp de Inteligencia Artificial Nivel Innovador\n",
        "### Integrantes:  \n",
        "* Andrea Osorio\n",
        "* Luis Murcia\n",
        "* Silvana Jaramillo\n",
        "* Yeison Rodriguez\n",
        "\n",
        "\n"
      ],
      "metadata": {
        "id": "AbGEL5xVhVAB"
      }
    },
    {
      "cell_type": "markdown",
      "source": [
        "# **Entendimiento del proyecto:**\n",
        "\n",
        "\n",
        "* Analizar el rendimiento agrícola en el periodo 2022 , Cundinamarca, para una base de datos de 2342 registros, con relación a su área de siembra, área total, tipo de cultivo y producción.\n"
      ],
      "metadata": {
        "id": "KMA6HQXBFj9G"
      }
    },
    {
      "cell_type": "markdown",
      "source": [
        "# **Comprensión de los datos**\n",
        "\n",
        "Esta es una copia de los conjuntos de datos de Datos Abiertos Evaluaciones Agropecuarias por consenso DEPARTAMENTO DE CUNDINAMARCA  https://mapas1.cundinamarca.gov.co/dependencias/secagricultura/informacion-de-interes/estadisticas_agropecuarias"
      ],
      "metadata": {
        "id": "b0lXC1O2LCkf"
      }
    },
    {
      "cell_type": "code",
      "source": [
        "from google.colab import drive\n",
        "drive.mount('/content/drive')"
      ],
      "metadata": {
        "colab": {
          "base_uri": "https://localhost:8080/"
        },
        "id": "0dZnZZvKVuSr",
        "outputId": "b711a44e-a769-49fc-a18b-d85fa4509b12"
      },
      "execution_count": 66,
      "outputs": [
        {
          "output_type": "stream",
          "name": "stdout",
          "text": [
            "Drive already mounted at /content/drive; to attempt to forcibly remount, call drive.mount(\"/content/drive\", force_remount=True).\n"
          ]
        }
      ]
    },
    {
      "cell_type": "code",
      "source": [
        "# Leer los datos\n",
        "# Importar librerìas\n",
        "import pandas as pd\n",
        "import numpy as np\n",
        "import seaborn as sns\n",
        "import matplotlib.pyplot as plt\n",
        "from tensorflow.keras.utils import to_categorical\n",
        "from sklearn.preprocessing import OneHotEncoder, StandardScaler\n",
        "\n",
        "\n",
        "# URL del conjunto de datos\n",
        "# url = \"https://www.datos.gov.co/resource/u958-pr9h.csv?$query=SELECT%0A%20%20%60tipo%60%2C%0A%20%20%60municipio%60%2C%0A%20%20%60cultivo%60%2C%0A%20%20%60periodo%60%2C%0A%20%20%60area_sembrada_ha%60%2C%0A%20%20%60area_cosechada_ha%60%2C%0A%20%20%60produccion_t%60%2C%0A%20%20%60rendimiento_t_ha%60%0AORDER%20BY%20%60periodo%60%20ASC%20NULL%20LAST\"\n",
        "#url = \"https://www.datos.gov.co/resource/u958-pr9h.csv?$query=SELECT%0A%20%20%60tipo%60%2C%0A%20%20%60municipio%60%2C%0A%20%20%60cultivo%60%2C%0A%20%20%60periodo%60%2C%0A%20%20%60area_sembrada_ha%60%2C%0A%20%20%60area_cosechada_ha%60%2C%0A%20%20%60produccion_t%60%2C%0A%20%20%60rendimiento_t_ha%60%0AORDER%20BY%20%60periodo%60%20DESC%20NULL%20LAST\"\n",
        "\n",
        "\n",
        "# Cargar el conjunto de datos en un DataFrame de pandas\n",
        "df = pd.read_excel('/content/drive/MyDrive/dataset/Libro 2.xlsx')\n",
        "\n",
        "# Mostrar las primeras filas del DataFrame para verificar que se haya cargado correctamente\n",
        "print(df.head())\n"
      ],
      "metadata": {
        "colab": {
          "base_uri": "https://localhost:8080/"
        },
        "id": "lX032BC1rFz2",
        "outputId": "8bea7d46-56f0-4982-cfea-1a93364085e9"
      },
      "execution_count": 67,
      "outputs": [
        {
          "output_type": "stream",
          "name": "stdout",
          "text": [
            "   Departamento PROVINCIA  Código Dane municipio Municipio  \\\n",
            "0  Cundinamarca  ALMEIDAS                  25183  Chocontá   \n",
            "1  Cundinamarca  ALMEIDAS                  25183  Chocontá   \n",
            "2  Cundinamarca  ALMEIDAS                  25183  Chocontá   \n",
            "3  Cundinamarca  ALMEIDAS                  25183  Chocontá   \n",
            "4  Cundinamarca  ALMEIDAS                  25183  Chocontá   \n",
            "\n",
            "  Desagregación cultivo           Cultivo Ciclo del cultivo Grupo cultivo  \\\n",
            "0                Arveja            Arveja       Transitorio   Leguminosas   \n",
            "1                Arveja            Arveja       Transitorio   Leguminosas   \n",
            "2                 Avena             Avena       Transitorio      Cereales   \n",
            "3                 Avena             Avena       Transitorio      Cereales   \n",
            "4      Cebolla De Bulbo  Cebolla De Bulbo       Transitorio    Hortalizas   \n",
            "\n",
            "             Subgrupo   Año Periodo  Área sembrada (ha)  Área cosechada (ha)  \\\n",
            "0         Leguminosas  2022   2022A               160.0                150.0   \n",
            "1         Leguminosas  2022   2022B                10.0                 10.0   \n",
            "2            Cereales  2022   2022A               360.0                330.0   \n",
            "3            Cereales  2022   2022B               100.0                100.0   \n",
            "4  Hortalizas de raíz  2022   2022B                 4.0                  4.0   \n",
            "\n",
            "   Producción (t)  Rendimiento (t/ha)  Código del cultivo  \\\n",
            "0          1050.0                 7.0             1060100   \n",
            "1            70.0                 7.0             1060100   \n",
            "2           792.0                 2.4             1010200   \n",
            "3           240.0                 2.4             1010200   \n",
            "4           160.0                40.0             1051100   \n",
            "\n",
            "  Nombre científico del cultivo Estado físico del cultivo  \n",
            "0                 Pisum sativum                 En fresco  \n",
            "1                 Pisum sativum                 En fresco  \n",
            "2                  Avena sativa                 En fresco  \n",
            "3                  Avena sativa                 En fresco  \n",
            "4                   Allium cepa                 En fresco  \n"
          ]
        }
      ]
    },
    {
      "cell_type": "code",
      "source": [
        "# Informaciòn de los atributos\n",
        "df.info()"
      ],
      "metadata": {
        "colab": {
          "base_uri": "https://localhost:8080/"
        },
        "id": "CWBRwF6mrln_",
        "outputId": "67188623-2633-4bb5-98e2-508070d40d58"
      },
      "execution_count": 68,
      "outputs": [
        {
          "output_type": "stream",
          "name": "stdout",
          "text": [
            "<class 'pandas.core.frame.DataFrame'>\n",
            "RangeIndex: 2343 entries, 0 to 2342\n",
            "Data columns (total 18 columns):\n",
            " #   Column                         Non-Null Count  Dtype  \n",
            "---  ------                         --------------  -----  \n",
            " 0   Departamento                   2343 non-null   object \n",
            " 1   PROVINCIA                      2343 non-null   object \n",
            " 2   Código Dane municipio          2343 non-null   int64  \n",
            " 3   Municipio                      2343 non-null   object \n",
            " 4   Desagregación cultivo          2343 non-null   object \n",
            " 5   Cultivo                        2343 non-null   object \n",
            " 6   Ciclo del cultivo              2343 non-null   object \n",
            " 7   Grupo cultivo                  2343 non-null   object \n",
            " 8   Subgrupo                       2343 non-null   object \n",
            " 9   Año                            2343 non-null   int64  \n",
            " 10  Periodo                        2343 non-null   object \n",
            " 11  Área sembrada (ha)             2343 non-null   float64\n",
            " 12  Área cosechada (ha)            2343 non-null   float64\n",
            " 13  Producción (t)                 2343 non-null   float64\n",
            " 14  Rendimiento (t/ha)             2343 non-null   float64\n",
            " 15  Código del cultivo             2343 non-null   int64  \n",
            " 16  Nombre científico del cultivo  2343 non-null   object \n",
            " 17  Estado físico del cultivo      2343 non-null   object \n",
            "dtypes: float64(4), int64(3), object(11)\n",
            "memory usage: 329.6+ KB\n"
          ]
        }
      ]
    },
    {
      "cell_type": "code",
      "source": [
        "# tamaño dataset\n",
        "df.shape"
      ],
      "metadata": {
        "colab": {
          "base_uri": "https://localhost:8080/"
        },
        "id": "Ntul_OGzM1gr",
        "outputId": "c1ca1590-6f1d-4925-8e98-56c0e17e088e"
      },
      "execution_count": 69,
      "outputs": [
        {
          "output_type": "execute_result",
          "data": {
            "text/plain": [
              "(2343, 18)"
            ]
          },
          "metadata": {},
          "execution_count": 69
        }
      ]
    },
    {
      "cell_type": "code",
      "source": [
        "# leer columnas\n",
        "df.columns"
      ],
      "metadata": {
        "colab": {
          "base_uri": "https://localhost:8080/"
        },
        "id": "zMSBwjdlqfNJ",
        "outputId": "996711ce-62c1-476f-bd7b-ed95005093cb"
      },
      "execution_count": 70,
      "outputs": [
        {
          "output_type": "execute_result",
          "data": {
            "text/plain": [
              "Index(['Departamento', 'PROVINCIA', 'Código Dane municipio', 'Municipio',\n",
              "       'Desagregación cultivo', 'Cultivo', 'Ciclo del cultivo',\n",
              "       'Grupo cultivo', 'Subgrupo', 'Año', 'Periodo', 'Área sembrada (ha)',\n",
              "       'Área cosechada (ha)', 'Producción (t)', 'Rendimiento (t/ha)',\n",
              "       'Código del cultivo', 'Nombre científico del cultivo',\n",
              "       'Estado físico del cultivo'],\n",
              "      dtype='object')"
            ]
          },
          "metadata": {},
          "execution_count": 70
        }
      ]
    },
    {
      "cell_type": "code",
      "source": [
        "df.columns = df.columns.str.lower()\n"
      ],
      "metadata": {
        "id": "nO3M8HvCkSgE"
      },
      "execution_count": 71,
      "outputs": []
    },
    {
      "cell_type": "code",
      "source": [
        "df.columns"
      ],
      "metadata": {
        "colab": {
          "base_uri": "https://localhost:8080/"
        },
        "id": "wCnxgLMx4LL9",
        "outputId": "b2e654b4-85b3-4521-95ac-1712381e0fbd"
      },
      "execution_count": 72,
      "outputs": [
        {
          "output_type": "execute_result",
          "data": {
            "text/plain": [
              "Index(['departamento', 'provincia', 'código dane municipio', 'municipio',\n",
              "       'desagregación cultivo', 'cultivo', 'ciclo del cultivo',\n",
              "       'grupo cultivo', 'subgrupo', 'año', 'periodo', 'área sembrada (ha)',\n",
              "       'área cosechada (ha)', 'producción (t)', 'rendimiento (t/ha)',\n",
              "       'código del cultivo', 'nombre científico del cultivo',\n",
              "       'estado físico del cultivo'],\n",
              "      dtype='object')"
            ]
          },
          "metadata": {},
          "execution_count": 72
        }
      ]
    },
    {
      "cell_type": "code",
      "source": [
        "print(type(df['cultivo'].value_counts()))\n",
        "crops_tags = df['cultivo'].value_counts().iloc[0:10]\n"
      ],
      "metadata": {
        "colab": {
          "base_uri": "https://localhost:8080/"
        },
        "id": "M9UYFJrUaemn",
        "outputId": "42ed6dac-8311-4c74-8726-4e2ae0aed2e3"
      },
      "execution_count": 73,
      "outputs": [
        {
          "output_type": "stream",
          "name": "stdout",
          "text": [
            "<class 'pandas.core.series.Series'>\n"
          ]
        }
      ]
    },
    {
      "cell_type": "code",
      "source": [
        "tags_list = [k for k, v in crops_tags.items()]\n",
        "print(tags_list)"
      ],
      "metadata": {
        "colab": {
          "base_uri": "https://localhost:8080/"
        },
        "id": "_ZrdijuRb70K",
        "outputId": "d8eb9a7d-70f7-4d46-dd64-db43b623edb5"
      },
      "execution_count": 74,
      "outputs": [
        {
          "output_type": "stream",
          "name": "stdout",
          "text": [
            "['Maíz', 'Papa', 'Arveja', 'Frijol', 'Tomate', 'Yuca', 'Aguacate', 'Café', 'Limón', 'Plátano']\n"
          ]
        }
      ]
    },
    {
      "cell_type": "code",
      "source": [
        "df = df[df[\"cultivo\"].isin(tags_list)]"
      ],
      "metadata": {
        "id": "INHOgAKJc2rG"
      },
      "execution_count": 75,
      "outputs": []
    },
    {
      "cell_type": "code",
      "source": [
        "df.info()"
      ],
      "metadata": {
        "id": "qfK_-YFqcFad",
        "colab": {
          "base_uri": "https://localhost:8080/"
        },
        "outputId": "396549ec-47c8-4c72-e362-ef11ac478bef"
      },
      "execution_count": 76,
      "outputs": [
        {
          "output_type": "stream",
          "name": "stdout",
          "text": [
            "<class 'pandas.core.frame.DataFrame'>\n",
            "Index: 1237 entries, 0 to 2331\n",
            "Data columns (total 18 columns):\n",
            " #   Column                         Non-Null Count  Dtype  \n",
            "---  ------                         --------------  -----  \n",
            " 0   departamento                   1237 non-null   object \n",
            " 1   provincia                      1237 non-null   object \n",
            " 2   código dane municipio          1237 non-null   int64  \n",
            " 3   municipio                      1237 non-null   object \n",
            " 4   desagregación cultivo          1237 non-null   object \n",
            " 5   cultivo                        1237 non-null   object \n",
            " 6   ciclo del cultivo              1237 non-null   object \n",
            " 7   grupo cultivo                  1237 non-null   object \n",
            " 8   subgrupo                       1237 non-null   object \n",
            " 9   año                            1237 non-null   int64  \n",
            " 10  periodo                        1237 non-null   object \n",
            " 11  área sembrada (ha)             1237 non-null   float64\n",
            " 12  área cosechada (ha)            1237 non-null   float64\n",
            " 13  producción (t)                 1237 non-null   float64\n",
            " 14  rendimiento (t/ha)             1237 non-null   float64\n",
            " 15  código del cultivo             1237 non-null   int64  \n",
            " 16  nombre científico del cultivo  1237 non-null   object \n",
            " 17  estado físico del cultivo      1237 non-null   object \n",
            "dtypes: float64(4), int64(3), object(11)\n",
            "memory usage: 183.6+ KB\n"
          ]
        }
      ]
    },
    {
      "cell_type": "code",
      "source": [
        "selected_columns = ['área sembrada (ha)', 'rendimiento (t/ha)', 'área cosechada (ha)', 'producción (t)']\n",
        "\n",
        "# Verificar si las columnas existen en el DataFrame\n",
        "for col in selected_columns:\n",
        "    if col not in df.columns:\n",
        "        print(f\"Columna '{col}' no encontrada en el DataFrame\")\n",
        "\n",
        "# Calcular la correlación solo entre las columnas seleccionadas\n",
        "correlation_matrix = df[selected_columns].corr()\n",
        "\n",
        "# Mostrar la matriz de correlación\n",
        "print(correlation_matrix)\n"
      ],
      "metadata": {
        "colab": {
          "base_uri": "https://localhost:8080/"
        },
        "id": "KTpz3O4ERswk",
        "outputId": "06830267-09ef-4b58-aa0b-e1f1d07635c7"
      },
      "execution_count": 77,
      "outputs": [
        {
          "output_type": "stream",
          "name": "stdout",
          "text": [
            "                     área sembrada (ha)  rendimiento (t/ha)  \\\n",
            "área sembrada (ha)             1.000000            0.032633   \n",
            "rendimiento (t/ha)             0.032633            1.000000   \n",
            "área cosechada (ha)            0.894860            0.035427   \n",
            "producción (t)                 0.872624            0.120791   \n",
            "\n",
            "                     área cosechada (ha)  producción (t)  \n",
            "área sembrada (ha)              0.894860        0.872624  \n",
            "rendimiento (t/ha)              0.035427        0.120791  \n",
            "área cosechada (ha)             1.000000        0.910523  \n",
            "producción (t)                  0.910523        1.000000  \n"
          ]
        }
      ]
    },
    {
      "cell_type": "markdown",
      "source": [
        "Dado que\n",
        "\n",
        "*   area_sembrada_ha\n",
        "*   area_cosechada_ha\n",
        "*   produccion_t\n",
        "\n",
        "Los 3 tienen correlacioenes mayores a 0.9, por lo tanto me voy a quedar solo area_cosechada_ha.\n",
        "\n"
      ],
      "metadata": {
        "id": "UGEyTSPnXRuw"
      }
    },
    {
      "cell_type": "code",
      "source": [
        "# Leer columnas de variables numericas\n",
        "df.select_dtypes(np.number).columns"
      ],
      "metadata": {
        "colab": {
          "base_uri": "https://localhost:8080/"
        },
        "id": "Q8hce2DnOyEl",
        "outputId": "3818de38-aa09-4f05-cfeb-c5b818a2fdff"
      },
      "execution_count": 78,
      "outputs": [
        {
          "output_type": "execute_result",
          "data": {
            "text/plain": [
              "Index(['código dane municipio', 'año', 'área sembrada (ha)',\n",
              "       'área cosechada (ha)', 'producción (t)', 'rendimiento (t/ha)',\n",
              "       'código del cultivo'],\n",
              "      dtype='object')"
            ]
          },
          "metadata": {},
          "execution_count": 78
        }
      ]
    },
    {
      "cell_type": "code",
      "source": [
        "# Describir datos estadisticos de variables numericas\n",
        "df.describe(include=np.number).round(2)"
      ],
      "metadata": {
        "colab": {
          "base_uri": "https://localhost:8080/",
          "height": 300
        },
        "id": "PU6y_Fu7QQYa",
        "outputId": "f8280746-4eac-4e2e-d730-c3d882f79d0a"
      },
      "execution_count": 79,
      "outputs": [
        {
          "output_type": "execute_result",
          "data": {
            "text/plain": [
              "       código dane municipio     año  área sembrada (ha)  área cosechada (ha)  \\\n",
              "count                1237.00  1237.0             1237.00              1237.00   \n",
              "mean                25496.98  2022.0              125.17               115.68   \n",
              "std                   263.02     0.0              469.28               443.41   \n",
              "min                 25001.00  2022.0                0.00                 0.00   \n",
              "25%                 25293.00  2022.0                7.00                 6.00   \n",
              "50%                 25491.00  2022.0               20.00                17.00   \n",
              "75%                 25769.00  2022.0               90.00                80.00   \n",
              "max                 25899.00  2022.0             8000.00              7570.00   \n",
              "\n",
              "       producción (t)  rendimiento (t/ha)  código del cultivo  \n",
              "count         1237.00             1237.00             1237.00  \n",
              "mean          1492.95               10.87          1261649.98  \n",
              "std           8741.84               14.97           408187.71  \n",
              "min              0.00                0.00          1010401.00  \n",
              "25%             24.50                1.50          1010404.00  \n",
              "50%            120.00                7.00          1060200.00  \n",
              "75%            567.00               14.70          1081001.00  \n",
              "max         174000.00              150.00          2045802.00  "
            ],
            "text/html": [
              "\n",
              "  <div id=\"df-fa704bcb-2b9f-4412-a7bb-443e1890d3c0\" class=\"colab-df-container\">\n",
              "    <div>\n",
              "<style scoped>\n",
              "    .dataframe tbody tr th:only-of-type {\n",
              "        vertical-align: middle;\n",
              "    }\n",
              "\n",
              "    .dataframe tbody tr th {\n",
              "        vertical-align: top;\n",
              "    }\n",
              "\n",
              "    .dataframe thead th {\n",
              "        text-align: right;\n",
              "    }\n",
              "</style>\n",
              "<table border=\"1\" class=\"dataframe\">\n",
              "  <thead>\n",
              "    <tr style=\"text-align: right;\">\n",
              "      <th></th>\n",
              "      <th>código dane municipio</th>\n",
              "      <th>año</th>\n",
              "      <th>área sembrada (ha)</th>\n",
              "      <th>área cosechada (ha)</th>\n",
              "      <th>producción (t)</th>\n",
              "      <th>rendimiento (t/ha)</th>\n",
              "      <th>código del cultivo</th>\n",
              "    </tr>\n",
              "  </thead>\n",
              "  <tbody>\n",
              "    <tr>\n",
              "      <th>count</th>\n",
              "      <td>1237.00</td>\n",
              "      <td>1237.0</td>\n",
              "      <td>1237.00</td>\n",
              "      <td>1237.00</td>\n",
              "      <td>1237.00</td>\n",
              "      <td>1237.00</td>\n",
              "      <td>1237.00</td>\n",
              "    </tr>\n",
              "    <tr>\n",
              "      <th>mean</th>\n",
              "      <td>25496.98</td>\n",
              "      <td>2022.0</td>\n",
              "      <td>125.17</td>\n",
              "      <td>115.68</td>\n",
              "      <td>1492.95</td>\n",
              "      <td>10.87</td>\n",
              "      <td>1261649.98</td>\n",
              "    </tr>\n",
              "    <tr>\n",
              "      <th>std</th>\n",
              "      <td>263.02</td>\n",
              "      <td>0.0</td>\n",
              "      <td>469.28</td>\n",
              "      <td>443.41</td>\n",
              "      <td>8741.84</td>\n",
              "      <td>14.97</td>\n",
              "      <td>408187.71</td>\n",
              "    </tr>\n",
              "    <tr>\n",
              "      <th>min</th>\n",
              "      <td>25001.00</td>\n",
              "      <td>2022.0</td>\n",
              "      <td>0.00</td>\n",
              "      <td>0.00</td>\n",
              "      <td>0.00</td>\n",
              "      <td>0.00</td>\n",
              "      <td>1010401.00</td>\n",
              "    </tr>\n",
              "    <tr>\n",
              "      <th>25%</th>\n",
              "      <td>25293.00</td>\n",
              "      <td>2022.0</td>\n",
              "      <td>7.00</td>\n",
              "      <td>6.00</td>\n",
              "      <td>24.50</td>\n",
              "      <td>1.50</td>\n",
              "      <td>1010404.00</td>\n",
              "    </tr>\n",
              "    <tr>\n",
              "      <th>50%</th>\n",
              "      <td>25491.00</td>\n",
              "      <td>2022.0</td>\n",
              "      <td>20.00</td>\n",
              "      <td>17.00</td>\n",
              "      <td>120.00</td>\n",
              "      <td>7.00</td>\n",
              "      <td>1060200.00</td>\n",
              "    </tr>\n",
              "    <tr>\n",
              "      <th>75%</th>\n",
              "      <td>25769.00</td>\n",
              "      <td>2022.0</td>\n",
              "      <td>90.00</td>\n",
              "      <td>80.00</td>\n",
              "      <td>567.00</td>\n",
              "      <td>14.70</td>\n",
              "      <td>1081001.00</td>\n",
              "    </tr>\n",
              "    <tr>\n",
              "      <th>max</th>\n",
              "      <td>25899.00</td>\n",
              "      <td>2022.0</td>\n",
              "      <td>8000.00</td>\n",
              "      <td>7570.00</td>\n",
              "      <td>174000.00</td>\n",
              "      <td>150.00</td>\n",
              "      <td>2045802.00</td>\n",
              "    </tr>\n",
              "  </tbody>\n",
              "</table>\n",
              "</div>\n",
              "    <div class=\"colab-df-buttons\">\n",
              "\n",
              "  <div class=\"colab-df-container\">\n",
              "    <button class=\"colab-df-convert\" onclick=\"convertToInteractive('df-fa704bcb-2b9f-4412-a7bb-443e1890d3c0')\"\n",
              "            title=\"Convert this dataframe to an interactive table.\"\n",
              "            style=\"display:none;\">\n",
              "\n",
              "  <svg xmlns=\"http://www.w3.org/2000/svg\" height=\"24px\" viewBox=\"0 -960 960 960\">\n",
              "    <path d=\"M120-120v-720h720v720H120Zm60-500h600v-160H180v160Zm220 220h160v-160H400v160Zm0 220h160v-160H400v160ZM180-400h160v-160H180v160Zm440 0h160v-160H620v160ZM180-180h160v-160H180v160Zm440 0h160v-160H620v160Z\"/>\n",
              "  </svg>\n",
              "    </button>\n",
              "\n",
              "  <style>\n",
              "    .colab-df-container {\n",
              "      display:flex;\n",
              "      gap: 12px;\n",
              "    }\n",
              "\n",
              "    .colab-df-convert {\n",
              "      background-color: #E8F0FE;\n",
              "      border: none;\n",
              "      border-radius: 50%;\n",
              "      cursor: pointer;\n",
              "      display: none;\n",
              "      fill: #1967D2;\n",
              "      height: 32px;\n",
              "      padding: 0 0 0 0;\n",
              "      width: 32px;\n",
              "    }\n",
              "\n",
              "    .colab-df-convert:hover {\n",
              "      background-color: #E2EBFA;\n",
              "      box-shadow: 0px 1px 2px rgba(60, 64, 67, 0.3), 0px 1px 3px 1px rgba(60, 64, 67, 0.15);\n",
              "      fill: #174EA6;\n",
              "    }\n",
              "\n",
              "    .colab-df-buttons div {\n",
              "      margin-bottom: 4px;\n",
              "    }\n",
              "\n",
              "    [theme=dark] .colab-df-convert {\n",
              "      background-color: #3B4455;\n",
              "      fill: #D2E3FC;\n",
              "    }\n",
              "\n",
              "    [theme=dark] .colab-df-convert:hover {\n",
              "      background-color: #434B5C;\n",
              "      box-shadow: 0px 1px 3px 1px rgba(0, 0, 0, 0.15);\n",
              "      filter: drop-shadow(0px 1px 2px rgba(0, 0, 0, 0.3));\n",
              "      fill: #FFFFFF;\n",
              "    }\n",
              "  </style>\n",
              "\n",
              "    <script>\n",
              "      const buttonEl =\n",
              "        document.querySelector('#df-fa704bcb-2b9f-4412-a7bb-443e1890d3c0 button.colab-df-convert');\n",
              "      buttonEl.style.display =\n",
              "        google.colab.kernel.accessAllowed ? 'block' : 'none';\n",
              "\n",
              "      async function convertToInteractive(key) {\n",
              "        const element = document.querySelector('#df-fa704bcb-2b9f-4412-a7bb-443e1890d3c0');\n",
              "        const dataTable =\n",
              "          await google.colab.kernel.invokeFunction('convertToInteractive',\n",
              "                                                    [key], {});\n",
              "        if (!dataTable) return;\n",
              "\n",
              "        const docLinkHtml = 'Like what you see? Visit the ' +\n",
              "          '<a target=\"_blank\" href=https://colab.research.google.com/notebooks/data_table.ipynb>data table notebook</a>'\n",
              "          + ' to learn more about interactive tables.';\n",
              "        element.innerHTML = '';\n",
              "        dataTable['output_type'] = 'display_data';\n",
              "        await google.colab.output.renderOutput(dataTable, element);\n",
              "        const docLink = document.createElement('div');\n",
              "        docLink.innerHTML = docLinkHtml;\n",
              "        element.appendChild(docLink);\n",
              "      }\n",
              "    </script>\n",
              "  </div>\n",
              "\n",
              "\n",
              "<div id=\"df-2f784174-e3cf-4af7-b00a-f78b4448a685\">\n",
              "  <button class=\"colab-df-quickchart\" onclick=\"quickchart('df-2f784174-e3cf-4af7-b00a-f78b4448a685')\"\n",
              "            title=\"Suggest charts\"\n",
              "            style=\"display:none;\">\n",
              "\n",
              "<svg xmlns=\"http://www.w3.org/2000/svg\" height=\"24px\"viewBox=\"0 0 24 24\"\n",
              "     width=\"24px\">\n",
              "    <g>\n",
              "        <path d=\"M19 3H5c-1.1 0-2 .9-2 2v14c0 1.1.9 2 2 2h14c1.1 0 2-.9 2-2V5c0-1.1-.9-2-2-2zM9 17H7v-7h2v7zm4 0h-2V7h2v10zm4 0h-2v-4h2v4z\"/>\n",
              "    </g>\n",
              "</svg>\n",
              "  </button>\n",
              "\n",
              "<style>\n",
              "  .colab-df-quickchart {\n",
              "      --bg-color: #E8F0FE;\n",
              "      --fill-color: #1967D2;\n",
              "      --hover-bg-color: #E2EBFA;\n",
              "      --hover-fill-color: #174EA6;\n",
              "      --disabled-fill-color: #AAA;\n",
              "      --disabled-bg-color: #DDD;\n",
              "  }\n",
              "\n",
              "  [theme=dark] .colab-df-quickchart {\n",
              "      --bg-color: #3B4455;\n",
              "      --fill-color: #D2E3FC;\n",
              "      --hover-bg-color: #434B5C;\n",
              "      --hover-fill-color: #FFFFFF;\n",
              "      --disabled-bg-color: #3B4455;\n",
              "      --disabled-fill-color: #666;\n",
              "  }\n",
              "\n",
              "  .colab-df-quickchart {\n",
              "    background-color: var(--bg-color);\n",
              "    border: none;\n",
              "    border-radius: 50%;\n",
              "    cursor: pointer;\n",
              "    display: none;\n",
              "    fill: var(--fill-color);\n",
              "    height: 32px;\n",
              "    padding: 0;\n",
              "    width: 32px;\n",
              "  }\n",
              "\n",
              "  .colab-df-quickchart:hover {\n",
              "    background-color: var(--hover-bg-color);\n",
              "    box-shadow: 0 1px 2px rgba(60, 64, 67, 0.3), 0 1px 3px 1px rgba(60, 64, 67, 0.15);\n",
              "    fill: var(--button-hover-fill-color);\n",
              "  }\n",
              "\n",
              "  .colab-df-quickchart-complete:disabled,\n",
              "  .colab-df-quickchart-complete:disabled:hover {\n",
              "    background-color: var(--disabled-bg-color);\n",
              "    fill: var(--disabled-fill-color);\n",
              "    box-shadow: none;\n",
              "  }\n",
              "\n",
              "  .colab-df-spinner {\n",
              "    border: 2px solid var(--fill-color);\n",
              "    border-color: transparent;\n",
              "    border-bottom-color: var(--fill-color);\n",
              "    animation:\n",
              "      spin 1s steps(1) infinite;\n",
              "  }\n",
              "\n",
              "  @keyframes spin {\n",
              "    0% {\n",
              "      border-color: transparent;\n",
              "      border-bottom-color: var(--fill-color);\n",
              "      border-left-color: var(--fill-color);\n",
              "    }\n",
              "    20% {\n",
              "      border-color: transparent;\n",
              "      border-left-color: var(--fill-color);\n",
              "      border-top-color: var(--fill-color);\n",
              "    }\n",
              "    30% {\n",
              "      border-color: transparent;\n",
              "      border-left-color: var(--fill-color);\n",
              "      border-top-color: var(--fill-color);\n",
              "      border-right-color: var(--fill-color);\n",
              "    }\n",
              "    40% {\n",
              "      border-color: transparent;\n",
              "      border-right-color: var(--fill-color);\n",
              "      border-top-color: var(--fill-color);\n",
              "    }\n",
              "    60% {\n",
              "      border-color: transparent;\n",
              "      border-right-color: var(--fill-color);\n",
              "    }\n",
              "    80% {\n",
              "      border-color: transparent;\n",
              "      border-right-color: var(--fill-color);\n",
              "      border-bottom-color: var(--fill-color);\n",
              "    }\n",
              "    90% {\n",
              "      border-color: transparent;\n",
              "      border-bottom-color: var(--fill-color);\n",
              "    }\n",
              "  }\n",
              "</style>\n",
              "\n",
              "  <script>\n",
              "    async function quickchart(key) {\n",
              "      const quickchartButtonEl =\n",
              "        document.querySelector('#' + key + ' button');\n",
              "      quickchartButtonEl.disabled = true;  // To prevent multiple clicks.\n",
              "      quickchartButtonEl.classList.add('colab-df-spinner');\n",
              "      try {\n",
              "        const charts = await google.colab.kernel.invokeFunction(\n",
              "            'suggestCharts', [key], {});\n",
              "      } catch (error) {\n",
              "        console.error('Error during call to suggestCharts:', error);\n",
              "      }\n",
              "      quickchartButtonEl.classList.remove('colab-df-spinner');\n",
              "      quickchartButtonEl.classList.add('colab-df-quickchart-complete');\n",
              "    }\n",
              "    (() => {\n",
              "      let quickchartButtonEl =\n",
              "        document.querySelector('#df-2f784174-e3cf-4af7-b00a-f78b4448a685 button');\n",
              "      quickchartButtonEl.style.display =\n",
              "        google.colab.kernel.accessAllowed ? 'block' : 'none';\n",
              "    })();\n",
              "  </script>\n",
              "</div>\n",
              "\n",
              "    </div>\n",
              "  </div>\n"
            ],
            "application/vnd.google.colaboratory.intrinsic+json": {
              "type": "dataframe",
              "summary": "{\n  \"name\": \"df\",\n  \"rows\": 8,\n  \"fields\": [\n    {\n      \"column\": \"c\\u00f3digo dane municipio\",\n      \"properties\": {\n        \"dtype\": \"number\",\n        \"std\": 11459.37868012049,\n        \"min\": 263.02,\n        \"max\": 25899.0,\n        \"num_unique_values\": 8,\n        \"samples\": [\n          25496.98,\n          25491.0,\n          1237.0\n        ],\n        \"semantic_type\": \"\",\n        \"description\": \"\"\n      }\n    },\n    {\n      \"column\": \"a\\u00f1o\",\n      \"properties\": {\n        \"dtype\": \"number\",\n        \"std\": 728.9721604521573,\n        \"min\": 0.0,\n        \"max\": 2022.0,\n        \"num_unique_values\": 3,\n        \"samples\": [\n          1237.0,\n          2022.0,\n          0.0\n        ],\n        \"semantic_type\": \"\",\n        \"description\": \"\"\n      }\n    },\n    {\n      \"column\": \"\\u00e1rea sembrada (ha)\",\n      \"properties\": {\n        \"dtype\": \"number\",\n        \"std\": 2762.0683779677947,\n        \"min\": 0.0,\n        \"max\": 8000.0,\n        \"num_unique_values\": 8,\n        \"samples\": [\n          125.17,\n          20.0,\n          1237.0\n        ],\n        \"semantic_type\": \"\",\n        \"description\": \"\"\n      }\n    },\n    {\n      \"column\": \"\\u00e1rea cosechada (ha)\",\n      \"properties\": {\n        \"dtype\": \"number\",\n        \"std\": 2614.3513293245555,\n        \"min\": 0.0,\n        \"max\": 7570.0,\n        \"num_unique_values\": 8,\n        \"samples\": [\n          115.68,\n          17.0,\n          1237.0\n        ],\n        \"semantic_type\": \"\",\n        \"description\": \"\"\n      }\n    },\n    {\n      \"column\": \"producci\\u00f3n (t)\",\n      \"properties\": {\n        \"dtype\": \"number\",\n        \"std\": 60972.46233240413,\n        \"min\": 0.0,\n        \"max\": 174000.0,\n        \"num_unique_values\": 8,\n        \"samples\": [\n          1492.95,\n          120.0,\n          1237.0\n        ],\n        \"semantic_type\": \"\",\n        \"description\": \"\"\n      }\n    },\n    {\n      \"column\": \"rendimiento (t/ha)\",\n      \"properties\": {\n        \"dtype\": \"number\",\n        \"std\": 430.1996608884895,\n        \"min\": 0.0,\n        \"max\": 1237.0,\n        \"num_unique_values\": 8,\n        \"samples\": [\n          10.87,\n          7.0,\n          1237.0\n        ],\n        \"semantic_type\": \"\",\n        \"description\": \"\"\n      }\n    },\n    {\n      \"column\": \"c\\u00f3digo del cultivo\",\n      \"properties\": {\n        \"dtype\": \"number\",\n        \"std\": 599821.3784920045,\n        \"min\": 1237.0,\n        \"max\": 2045802.0,\n        \"num_unique_values\": 8,\n        \"samples\": [\n          1261649.98,\n          1060200.0,\n          1237.0\n        ],\n        \"semantic_type\": \"\",\n        \"description\": \"\"\n      }\n    }\n  ]\n}"
            }
          },
          "metadata": {},
          "execution_count": 79
        }
      ]
    },
    {
      "cell_type": "code",
      "source": [
        "#Histogramas de las variables numericas\n",
        "\n",
        "plt.hist(df['rendimiento (t/ha)'], bins=11, range=(0, 55))\n",
        "plt.title('Histograma de rendimiento')\n",
        "plt.xlabel('Rendimiento (Ton/ha)')\n",
        "plt.ylabel('Frecuencia')\n",
        "plt.show()"
      ],
      "metadata": {
        "colab": {
          "base_uri": "https://localhost:8080/",
          "height": 472
        },
        "id": "Xyn5Fbi_Yi2Z",
        "outputId": "86adf7ec-f593-44dd-8611-9b237e02b696"
      },
      "execution_count": 80,
      "outputs": [
        {
          "output_type": "display_data",
          "data": {
            "text/plain": [
              "<Figure size 640x480 with 1 Axes>"
            ],
            "image/png": "[encoded data removed]"
          },
          "metadata": {}
        }
      ]
    },
    {
      "cell_type": "markdown",
      "source": [
        "# **Preparación de los datos**"
      ],
      "metadata": {
        "id": "0uFMDCoSCe9Z"
      }
    },
    {
      "cell_type": "code",
      "source": [
        "# Revisar númer de valores duplicados\n",
        "df.duplicated().sum()"
      ],
      "metadata": {
        "colab": {
          "base_uri": "https://localhost:8080/"
        },
        "id": "_ICpJBmOCkvA",
        "outputId": "0d7f42a3-01c1-4aba-e08c-b07c9b8cdd08"
      },
      "execution_count": 81,
      "outputs": [
        {
          "output_type": "execute_result",
          "data": {
            "text/plain": [
              "0"
            ]
          },
          "metadata": {},
          "execution_count": 81
        }
      ]
    },
    {
      "cell_type": "code",
      "source": [
        "# Revisar valores faltantes\n",
        "df.isna().sum()"
      ],
      "metadata": {
        "colab": {
          "base_uri": "https://localhost:8080/"
        },
        "id": "JHaONFLSCeK7",
        "outputId": "37b96872-02d2-4398-bf2c-c449fa92dbed"
      },
      "execution_count": 82,
      "outputs": [
        {
          "output_type": "execute_result",
          "data": {
            "text/plain": [
              "departamento                     0\n",
              "provincia                        0\n",
              "código dane municipio            0\n",
              "municipio                        0\n",
              "desagregación cultivo            0\n",
              "cultivo                          0\n",
              "ciclo del cultivo                0\n",
              "grupo cultivo                    0\n",
              "subgrupo                         0\n",
              "año                              0\n",
              "periodo                          0\n",
              "área sembrada (ha)               0\n",
              "área cosechada (ha)              0\n",
              "producción (t)                   0\n",
              "rendimiento (t/ha)               0\n",
              "código del cultivo               0\n",
              "nombre científico del cultivo    0\n",
              "estado físico del cultivo        0\n",
              "dtype: int64"
            ]
          },
          "metadata": {},
          "execution_count": 82
        }
      ]
    },
    {
      "cell_type": "code",
      "source": [
        "df['rendimiento (t/ha)'].value_counts(dropna=False) #REVISAR DATOS FALTANTES"
      ],
      "metadata": {
        "colab": {
          "base_uri": "https://localhost:8080/"
        },
        "id": "gJKT01dCCMin",
        "outputId": "10a820c9-29cc-4913-e4cf-66cc6f0c6b07"
      },
      "execution_count": 83,
      "outputs": [
        {
          "output_type": "execute_result",
          "data": {
            "text/plain": [
              "rendimiento (t/ha)\n",
              "10.00    86\n",
              "8.00     78\n",
              "7.00     69\n",
              "1.50     66\n",
              "20.00    45\n",
              "         ..\n",
              "0.67      1\n",
              "0.97      1\n",
              "70.00     1\n",
              "21.50     1\n",
              "2.20      1\n",
              "Name: count, Length: 176, dtype: int64"
            ]
          },
          "metadata": {},
          "execution_count": 83
        }
      ]
    },
    {
      "cell_type": "code",
      "source": [
        "df['rendimiento (t/ha)'].value_counts(dropna=True)"
      ],
      "metadata": {
        "colab": {
          "base_uri": "https://localhost:8080/"
        },
        "id": "bzKT8g14ETOV",
        "outputId": "066d429e-9c61-457f-9714-1ffee8170b82"
      },
      "execution_count": 84,
      "outputs": [
        {
          "output_type": "execute_result",
          "data": {
            "text/plain": [
              "rendimiento (t/ha)\n",
              "10.00    86\n",
              "8.00     78\n",
              "7.00     69\n",
              "1.50     66\n",
              "20.00    45\n",
              "         ..\n",
              "0.67      1\n",
              "0.97      1\n",
              "70.00     1\n",
              "21.50     1\n",
              "2.20      1\n",
              "Name: count, Length: 176, dtype: int64"
            ]
          },
          "metadata": {},
          "execution_count": 84
        }
      ]
    },
    {
      "cell_type": "code",
      "source": [
        "df.isnull()"
      ],
      "metadata": {
        "colab": {
          "base_uri": "https://localhost:8080/",
          "height": 476
        },
        "id": "_ceFXuizEex-",
        "outputId": "7180784f-8998-47aa-881d-96ec138b3712"
      },
      "execution_count": 85,
      "outputs": [
        {
          "output_type": "execute_result",
          "data": {
            "text/plain": [
              "      departamento  provincia  código dane municipio  municipio  \\\n",
              "0            False      False                  False      False   \n",
              "1            False      False                  False      False   \n",
              "7            False      False                  False      False   \n",
              "8            False      False                  False      False   \n",
              "9            False      False                  False      False   \n",
              "...            ...        ...                    ...        ...   \n",
              "2327         False      False                  False      False   \n",
              "2328         False      False                  False      False   \n",
              "2329         False      False                  False      False   \n",
              "2330         False      False                  False      False   \n",
              "2331         False      False                  False      False   \n",
              "\n",
              "      desagregación cultivo  cultivo  ciclo del cultivo  grupo cultivo  \\\n",
              "0                     False    False              False          False   \n",
              "1                     False    False              False          False   \n",
              "7                     False    False              False          False   \n",
              "8                     False    False              False          False   \n",
              "9                     False    False              False          False   \n",
              "...                     ...      ...                ...            ...   \n",
              "2327                  False    False              False          False   \n",
              "2328                  False    False              False          False   \n",
              "2329                  False    False              False          False   \n",
              "2330                  False    False              False          False   \n",
              "2331                  False    False              False          False   \n",
              "\n",
              "      subgrupo    año  periodo  área sembrada (ha)  área cosechada (ha)  \\\n",
              "0        False  False    False               False                False   \n",
              "1        False  False    False               False                False   \n",
              "7        False  False    False               False                False   \n",
              "8        False  False    False               False                False   \n",
              "9        False  False    False               False                False   \n",
              "...        ...    ...      ...                 ...                  ...   \n",
              "2327     False  False    False               False                False   \n",
              "2328     False  False    False               False                False   \n",
              "2329     False  False    False               False                False   \n",
              "2330     False  False    False               False                False   \n",
              "2331     False  False    False               False                False   \n",
              "\n",
              "      producción (t)  rendimiento (t/ha)  código del cultivo  \\\n",
              "0              False               False               False   \n",
              "1              False               False               False   \n",
              "7              False               False               False   \n",
              "8              False               False               False   \n",
              "9              False               False               False   \n",
              "...              ...                 ...                 ...   \n",
              "2327           False               False               False   \n",
              "2328           False               False               False   \n",
              "2329           False               False               False   \n",
              "2330           False               False               False   \n",
              "2331           False               False               False   \n",
              "\n",
              "      nombre científico del cultivo  estado físico del cultivo  \n",
              "0                             False                      False  \n",
              "1                             False                      False  \n",
              "7                             False                      False  \n",
              "8                             False                      False  \n",
              "9                             False                      False  \n",
              "...                             ...                        ...  \n",
              "2327                          False                      False  \n",
              "2328                          False                      False  \n",
              "2329                          False                      False  \n",
              "2330                          False                      False  \n",
              "2331                          False                      False  \n",
              "\n",
              "[1237 rows x 18 columns]"
            ],
            "text/html": [
              "\n",
              "  <div id=\"df-10972e2d-6817-4ca1-b5e5-50295ee0d17a\" class=\"colab-df-container\">\n",
              "    <div>\n",
              "<style scoped>\n",
              "    .dataframe tbody tr th:only-of-type {\n",
              "        vertical-align: middle;\n",
              "    }\n",
              "\n",
              "    .dataframe tbody tr th {\n",
              "        vertical-align: top;\n",
              "    }\n",
              "\n",
              "    .dataframe thead th {\n",
              "        text-align: right;\n",
              "    }\n",
              "</style>\n",
              "<table border=\"1\" class=\"dataframe\">\n",
              "  <thead>\n",
              "    <tr style=\"text-align: right;\">\n",
              "      <th></th>\n",
              "      <th>departamento</th>\n",
              "      <th>provincia</th>\n",
              "      <th>código dane municipio</th>\n",
              "      <th>municipio</th>\n",
              "      <th>desagregación cultivo</th>\n",
              "      <th>cultivo</th>\n",
              "      <th>ciclo del cultivo</th>\n",
              "      <th>grupo cultivo</th>\n",
              "      <th>subgrupo</th>\n",
              "      <th>año</th>\n",
              "      <th>periodo</th>\n",
              "      <th>área sembrada (ha)</th>\n",
              "      <th>área cosechada (ha)</th>\n",
              "      <th>producción (t)</th>\n",
              "      <th>rendimiento (t/ha)</th>\n",
              "      <th>código del cultivo</th>\n",
              "      <th>nombre científico del cultivo</th>\n",
              "      <th>estado físico del cultivo</th>\n",
              "    </tr>\n",
              "  </thead>\n",
              "  <tbody>\n",
              "    <tr>\n",
              "      <th>0</th>\n",
              "      <td>False</td>\n",
              "      <td>False</td>\n",
              "      <td>False</td>\n",
              "      <td>False</td>\n",
              "      <td>False</td>\n",
              "      <td>False</td>\n",
              "      <td>False</td>\n",
              "      <td>False</td>\n",
              "      <td>False</td>\n",
              "      <td>False</td>\n",
              "      <td>False</td>\n",
              "      <td>False</td>\n",
              "      <td>False</td>\n",
              "      <td>False</td>\n",
              "      <td>False</td>\n",
              "      <td>False</td>\n",
              "      <td>False</td>\n",
              "      <td>False</td>\n",
              "    </tr>\n",
              "    <tr>\n",
              "      <th>1</th>\n",
              "      <td>False</td>\n",
              "      <td>False</td>\n",
              "      <td>False</td>\n",
              "      <td>False</td>\n",
              "      <td>False</td>\n",
              "      <td>False</td>\n",
              "      <td>False</td>\n",
              "      <td>False</td>\n",
              "      <td>False</td>\n",
              "      <td>False</td>\n",
              "      <td>False</td>\n",
              "      <td>False</td>\n",
              "      <td>False</td>\n",
              "      <td>False</td>\n",
              "      <td>False</td>\n",
              "      <td>False</td>\n",
              "      <td>False</td>\n",
              "      <td>False</td>\n",
              "    </tr>\n",
              "    <tr>\n",
              "      <th>7</th>\n",
              "      <td>False</td>\n",
              "      <td>False</td>\n",
              "      <td>False</td>\n",
              "      <td>False</td>\n",
              "      <td>False</td>\n",
              "      <td>False</td>\n",
              "      <td>False</td>\n",
              "      <td>False</td>\n",
              "      <td>False</td>\n",
              "      <td>False</td>\n",
              "      <td>False</td>\n",
              "      <td>False</td>\n",
              "      <td>False</td>\n",
              "      <td>False</td>\n",
              "      <td>False</td>\n",
              "      <td>False</td>\n",
              "      <td>False</td>\n",
              "      <td>False</td>\n",
              "    </tr>\n",
              "    <tr>\n",
              "      <th>8</th>\n",
              "      <td>False</td>\n",
              "      <td>False</td>\n",
              "      <td>False</td>\n",
              "      <td>False</td>\n",
              "      <td>False</td>\n",
              "      <td>False</td>\n",
              "      <td>False</td>\n",
              "      <td>False</td>\n",
              "      <td>False</td>\n",
              "      <td>False</td>\n",
              "      <td>False</td>\n",
              "      <td>False</td>\n",
              "      <td>False</td>\n",
              "      <td>False</td>\n",
              "      <td>False</td>\n",
              "      <td>False</td>\n",
              "      <td>False</td>\n",
              "      <td>False</td>\n",
              "    </tr>\n",
              "    <tr>\n",
              "      <th>9</th>\n",
              "      <td>False</td>\n",
              "      <td>False</td>\n",
              "      <td>False</td>\n",
              "      <td>False</td>\n",
              "      <td>False</td>\n",
              "      <td>False</td>\n",
              "      <td>False</td>\n",
              "      <td>False</td>\n",
              "      <td>False</td>\n",
              "      <td>False</td>\n",
              "      <td>False</td>\n",
              "      <td>False</td>\n",
              "      <td>False</td>\n",
              "      <td>False</td>\n",
              "      <td>False</td>\n",
              "      <td>False</td>\n",
              "      <td>False</td>\n",
              "      <td>False</td>\n",
              "    </tr>\n",
              "    <tr>\n",
              "      <th>...</th>\n",
              "      <td>...</td>\n",
              "      <td>...</td>\n",
              "      <td>...</td>\n",
              "      <td>...</td>\n",
              "      <td>...</td>\n",
              "      <td>...</td>\n",
              "      <td>...</td>\n",
              "      <td>...</td>\n",
              "      <td>...</td>\n",
              "      <td>...</td>\n",
              "      <td>...</td>\n",
              "      <td>...</td>\n",
              "      <td>...</td>\n",
              "      <td>...</td>\n",
              "      <td>...</td>\n",
              "      <td>...</td>\n",
              "      <td>...</td>\n",
              "      <td>...</td>\n",
              "    </tr>\n",
              "    <tr>\n",
              "      <th>2327</th>\n",
              "      <td>False</td>\n",
              "      <td>False</td>\n",
              "      <td>False</td>\n",
              "      <td>False</td>\n",
              "      <td>False</td>\n",
              "      <td>False</td>\n",
              "      <td>False</td>\n",
              "      <td>False</td>\n",
              "      <td>False</td>\n",
              "      <td>False</td>\n",
              "      <td>False</td>\n",
              "      <td>False</td>\n",
              "      <td>False</td>\n",
              "      <td>False</td>\n",
              "      <td>False</td>\n",
              "      <td>False</td>\n",
              "      <td>False</td>\n",
              "      <td>False</td>\n",
              "    </tr>\n",
              "    <tr>\n",
              "      <th>2328</th>\n",
              "      <td>False</td>\n",
              "      <td>False</td>\n",
              "      <td>False</td>\n",
              "      <td>False</td>\n",
              "      <td>False</td>\n",
              "      <td>False</td>\n",
              "      <td>False</td>\n",
              "      <td>False</td>\n",
              "      <td>False</td>\n",
              "      <td>False</td>\n",
              "      <td>False</td>\n",
              "      <td>False</td>\n",
              "      <td>False</td>\n",
              "      <td>False</td>\n",
              "      <td>False</td>\n",
              "      <td>False</td>\n",
              "      <td>False</td>\n",
              "      <td>False</td>\n",
              "    </tr>\n",
              "    <tr>\n",
              "      <th>2329</th>\n",
              "      <td>False</td>\n",
              "      <td>False</td>\n",
              "      <td>False</td>\n",
              "      <td>False</td>\n",
              "      <td>False</td>\n",
              "      <td>False</td>\n",
              "      <td>False</td>\n",
              "      <td>False</td>\n",
              "      <td>False</td>\n",
              "      <td>False</td>\n",
              "      <td>False</td>\n",
              "      <td>False</td>\n",
              "      <td>False</td>\n",
              "      <td>False</td>\n",
              "      <td>False</td>\n",
              "      <td>False</td>\n",
              "      <td>False</td>\n",
              "      <td>False</td>\n",
              "    </tr>\n",
              "    <tr>\n",
              "      <th>2330</th>\n",
              "      <td>False</td>\n",
              "      <td>False</td>\n",
              "      <td>False</td>\n",
              "      <td>False</td>\n",
              "      <td>False</td>\n",
              "      <td>False</td>\n",
              "      <td>False</td>\n",
              "      <td>False</td>\n",
              "      <td>False</td>\n",
              "      <td>False</td>\n",
              "      <td>False</td>\n",
              "      <td>False</td>\n",
              "      <td>False</td>\n",
              "      <td>False</td>\n",
              "      <td>False</td>\n",
              "      <td>False</td>\n",
              "      <td>False</td>\n",
              "      <td>False</td>\n",
              "    </tr>\n",
              "    <tr>\n",
              "      <th>2331</th>\n",
              "      <td>False</td>\n",
              "      <td>False</td>\n",
              "      <td>False</td>\n",
              "      <td>False</td>\n",
              "      <td>False</td>\n",
              "      <td>False</td>\n",
              "      <td>False</td>\n",
              "      <td>False</td>\n",
              "      <td>False</td>\n",
              "      <td>False</td>\n",
              "      <td>False</td>\n",
              "      <td>False</td>\n",
              "      <td>False</td>\n",
              "      <td>False</td>\n",
              "      <td>False</td>\n",
              "      <td>False</td>\n",
              "      <td>False</td>\n",
              "      <td>False</td>\n",
              "    </tr>\n",
              "  </tbody>\n",
              "</table>\n",
              "<p>1237 rows × 18 columns</p>\n",
              "</div>\n",
              "    <div class=\"colab-df-buttons\">\n",
              "\n",
              "  <div class=\"colab-df-container\">\n",
              "    <button class=\"colab-df-convert\" onclick=\"convertToInteractive('df-10972e2d-6817-4ca1-b5e5-50295ee0d17a')\"\n",
              "            title=\"Convert this dataframe to an interactive table.\"\n",
              "            style=\"display:none;\">\n",
              "\n",
              "  <svg xmlns=\"http://www.w3.org/2000/svg\" height=\"24px\" viewBox=\"0 -960 960 960\">\n",
              "    <path d=\"M120-120v-720h720v720H120Zm60-500h600v-160H180v160Zm220 220h160v-160H400v160Zm0 220h160v-160H400v160ZM180-400h160v-160H180v160Zm440 0h160v-160H620v160ZM180-180h160v-160H180v160Zm440 0h160v-160H620v160Z\"/>\n",
              "  </svg>\n",
              "    </button>\n",
              "\n",
              "  <style>\n",
              "    .colab-df-container {\n",
              "      display:flex;\n",
              "      gap: 12px;\n",
              "    }\n",
              "\n",
              "    .colab-df-convert {\n",
              "      background-color: #E8F0FE;\n",
              "      border: none;\n",
              "      border-radius: 50%;\n",
              "      cursor: pointer;\n",
              "      display: none;\n",
              "      fill: #1967D2;\n",
              "      height: 32px;\n",
              "      padding: 0 0 0 0;\n",
              "      width: 32px;\n",
              "    }\n",
              "\n",
              "    .colab-df-convert:hover {\n",
              "      background-color: #E2EBFA;\n",
              "      box-shadow: 0px 1px 2px rgba(60, 64, 67, 0.3), 0px 1px 3px 1px rgba(60, 64, 67, 0.15);\n",
              "      fill: #174EA6;\n",
              "    }\n",
              "\n",
              "    .colab-df-buttons div {\n",
              "      margin-bottom: 4px;\n",
              "    }\n",
              "\n",
              "    [theme=dark] .colab-df-convert {\n",
              "      background-color: #3B4455;\n",
              "      fill: #D2E3FC;\n",
              "    }\n",
              "\n",
              "    [theme=dark] .colab-df-convert:hover {\n",
              "      background-color: #434B5C;\n",
              "      box-shadow: 0px 1px 3px 1px rgba(0, 0, 0, 0.15);\n",
              "      filter: drop-shadow(0px 1px 2px rgba(0, 0, 0, 0.3));\n",
              "      fill: #FFFFFF;\n",
              "    }\n",
              "  </style>\n",
              "\n",
              "    <script>\n",
              "      const buttonEl =\n",
              "        document.querySelector('#df-10972e2d-6817-4ca1-b5e5-50295ee0d17a button.colab-df-convert');\n",
              "      buttonEl.style.display =\n",
              "        google.colab.kernel.accessAllowed ? 'block' : 'none';\n",
              "\n",
              "      async function convertToInteractive(key) {\n",
              "        const element = document.querySelector('#df-10972e2d-6817-4ca1-b5e5-50295ee0d17a');\n",
              "        const dataTable =\n",
              "          await google.colab.kernel.invokeFunction('convertToInteractive',\n",
              "                                                    [key], {});\n",
              "        if (!dataTable) return;\n",
              "\n",
              "        const docLinkHtml = 'Like what you see? Visit the ' +\n",
              "          '<a target=\"_blank\" href=https://colab.research.google.com/notebooks/data_table.ipynb>data table notebook</a>'\n",
              "          + ' to learn more about interactive tables.';\n",
              "        element.innerHTML = '';\n",
              "        dataTable['output_type'] = 'display_data';\n",
              "        await google.colab.output.renderOutput(dataTable, element);\n",
              "        const docLink = document.createElement('div');\n",
              "        docLink.innerHTML = docLinkHtml;\n",
              "        element.appendChild(docLink);\n",
              "      }\n",
              "    </script>\n",
              "  </div>\n",
              "\n",
              "\n",
              "<div id=\"df-7c3bd183-a83b-49a3-86cb-51f520187111\">\n",
              "  <button class=\"colab-df-quickchart\" onclick=\"quickchart('df-7c3bd183-a83b-49a3-86cb-51f520187111')\"\n",
              "            title=\"Suggest charts\"\n",
              "            style=\"display:none;\">\n",
              "\n",
              "<svg xmlns=\"http://www.w3.org/2000/svg\" height=\"24px\"viewBox=\"0 0 24 24\"\n",
              "     width=\"24px\">\n",
              "    <g>\n",
              "        <path d=\"M19 3H5c-1.1 0-2 .9-2 2v14c0 1.1.9 2 2 2h14c1.1 0 2-.9 2-2V5c0-1.1-.9-2-2-2zM9 17H7v-7h2v7zm4 0h-2V7h2v10zm4 0h-2v-4h2v4z\"/>\n",
              "    </g>\n",
              "</svg>\n",
              "  </button>\n",
              "\n",
              "<style>\n",
              "  .colab-df-quickchart {\n",
              "      --bg-color: #E8F0FE;\n",
              "      --fill-color: #1967D2;\n",
              "      --hover-bg-color: #E2EBFA;\n",
              "      --hover-fill-color: #174EA6;\n",
              "      --disabled-fill-color: #AAA;\n",
              "      --disabled-bg-color: #DDD;\n",
              "  }\n",
              "\n",
              "  [theme=dark] .colab-df-quickchart {\n",
              "      --bg-color: #3B4455;\n",
              "      --fill-color: #D2E3FC;\n",
              "      --hover-bg-color: #434B5C;\n",
              "      --hover-fill-color: #FFFFFF;\n",
              "      --disabled-bg-color: #3B4455;\n",
              "      --disabled-fill-color: #666;\n",
              "  }\n",
              "\n",
              "  .colab-df-quickchart {\n",
              "    background-color: var(--bg-color);\n",
              "    border: none;\n",
              "    border-radius: 50%;\n",
              "    cursor: pointer;\n",
              "    display: none;\n",
              "    fill: var(--fill-color);\n",
              "    height: 32px;\n",
              "    padding: 0;\n",
              "    width: 32px;\n",
              "  }\n",
              "\n",
              "  .colab-df-quickchart:hover {\n",
              "    background-color: var(--hover-bg-color);\n",
              "    box-shadow: 0 1px 2px rgba(60, 64, 67, 0.3), 0 1px 3px 1px rgba(60, 64, 67, 0.15);\n",
              "    fill: var(--button-hover-fill-color);\n",
              "  }\n",
              "\n",
              "  .colab-df-quickchart-complete:disabled,\n",
              "  .colab-df-quickchart-complete:disabled:hover {\n",
              "    background-color: var(--disabled-bg-color);\n",
              "    fill: var(--disabled-fill-color);\n",
              "    box-shadow: none;\n",
              "  }\n",
              "\n",
              "  .colab-df-spinner {\n",
              "    border: 2px solid var(--fill-color);\n",
              "    border-color: transparent;\n",
              "    border-bottom-color: var(--fill-color);\n",
              "    animation:\n",
              "      spin 1s steps(1) infinite;\n",
              "  }\n",
              "\n",
              "  @keyframes spin {\n",
              "    0% {\n",
              "      border-color: transparent;\n",
              "      border-bottom-color: var(--fill-color);\n",
              "      border-left-color: var(--fill-color);\n",
              "    }\n",
              "    20% {\n",
              "      border-color: transparent;\n",
              "      border-left-color: var(--fill-color);\n",
              "      border-top-color: var(--fill-color);\n",
              "    }\n",
              "    30% {\n",
              "      border-color: transparent;\n",
              "      border-left-color: var(--fill-color);\n",
              "      border-top-color: var(--fill-color);\n",
              "      border-right-color: var(--fill-color);\n",
              "    }\n",
              "    40% {\n",
              "      border-color: transparent;\n",
              "      border-right-color: var(--fill-color);\n",
              "      border-top-color: var(--fill-color);\n",
              "    }\n",
              "    60% {\n",
              "      border-color: transparent;\n",
              "      border-right-color: var(--fill-color);\n",
              "    }\n",
              "    80% {\n",
              "      border-color: transparent;\n",
              "      border-right-color: var(--fill-color);\n",
              "      border-bottom-color: var(--fill-color);\n",
              "    }\n",
              "    90% {\n",
              "      border-color: transparent;\n",
              "      border-bottom-color: var(--fill-color);\n",
              "    }\n",
              "  }\n",
              "</style>\n",
              "\n",
              "  <script>\n",
              "    async function quickchart(key) {\n",
              "      const quickchartButtonEl =\n",
              "        document.querySelector('#' + key + ' button');\n",
              "      quickchartButtonEl.disabled = true;  // To prevent multiple clicks.\n",
              "      quickchartButtonEl.classList.add('colab-df-spinner');\n",
              "      try {\n",
              "        const charts = await google.colab.kernel.invokeFunction(\n",
              "            'suggestCharts', [key], {});\n",
              "      } catch (error) {\n",
              "        console.error('Error during call to suggestCharts:', error);\n",
              "      }\n",
              "      quickchartButtonEl.classList.remove('colab-df-spinner');\n",
              "      quickchartButtonEl.classList.add('colab-df-quickchart-complete');\n",
              "    }\n",
              "    (() => {\n",
              "      let quickchartButtonEl =\n",
              "        document.querySelector('#df-7c3bd183-a83b-49a3-86cb-51f520187111 button');\n",
              "      quickchartButtonEl.style.display =\n",
              "        google.colab.kernel.accessAllowed ? 'block' : 'none';\n",
              "    })();\n",
              "  </script>\n",
              "</div>\n",
              "\n",
              "    </div>\n",
              "  </div>\n"
            ],
            "application/vnd.google.colaboratory.intrinsic+json": {
              "type": "dataframe",
              "summary": "{\n  \"name\": \"df\",\n  \"rows\": 1237,\n  \"fields\": [\n    {\n      \"column\": \"departamento\",\n      \"properties\": {\n        \"dtype\": \"boolean\",\n        \"num_unique_values\": 1,\n        \"samples\": [\n          false\n        ],\n        \"semantic_type\": \"\",\n        \"description\": \"\"\n      }\n    },\n    {\n      \"column\": \"provincia\",\n      \"properties\": {\n        \"dtype\": \"boolean\",\n        \"num_unique_values\": 1,\n        \"samples\": [\n          false\n        ],\n        \"semantic_type\": \"\",\n        \"description\": \"\"\n      }\n    },\n    {\n      \"column\": \"c\\u00f3digo dane municipio\",\n      \"properties\": {\n        \"dtype\": \"boolean\",\n        \"num_unique_values\": 1,\n        \"samples\": [\n          false\n        ],\n        \"semantic_type\": \"\",\n        \"description\": \"\"\n      }\n    },\n    {\n      \"column\": \"municipio\",\n      \"properties\": {\n        \"dtype\": \"boolean\",\n        \"num_unique_values\": 1,\n        \"samples\": [\n          false\n        ],\n        \"semantic_type\": \"\",\n        \"description\": \"\"\n      }\n    },\n    {\n      \"column\": \"desagregaci\\u00f3n cultivo\",\n      \"properties\": {\n        \"dtype\": \"boolean\",\n        \"num_unique_values\": 1,\n        \"samples\": [\n          false\n        ],\n        \"semantic_type\": \"\",\n        \"description\": \"\"\n      }\n    },\n    {\n      \"column\": \"cultivo\",\n      \"properties\": {\n        \"dtype\": \"boolean\",\n        \"num_unique_values\": 1,\n        \"samples\": [\n          false\n        ],\n        \"semantic_type\": \"\",\n        \"description\": \"\"\n      }\n    },\n    {\n      \"column\": \"ciclo del cultivo\",\n      \"properties\": {\n        \"dtype\": \"boolean\",\n        \"num_unique_values\": 1,\n        \"samples\": [\n          false\n        ],\n        \"semantic_type\": \"\",\n        \"description\": \"\"\n      }\n    },\n    {\n      \"column\": \"grupo cultivo\",\n      \"properties\": {\n        \"dtype\": \"boolean\",\n        \"num_unique_values\": 1,\n        \"samples\": [\n          false\n        ],\n        \"semantic_type\": \"\",\n        \"description\": \"\"\n      }\n    },\n    {\n      \"column\": \"subgrupo\",\n      \"properties\": {\n        \"dtype\": \"boolean\",\n        \"num_unique_values\": 1,\n        \"samples\": [\n          false\n        ],\n        \"semantic_type\": \"\",\n        \"description\": \"\"\n      }\n    },\n    {\n      \"column\": \"a\\u00f1o\",\n      \"properties\": {\n        \"dtype\": \"boolean\",\n        \"num_unique_values\": 1,\n        \"samples\": [\n          false\n        ],\n        \"semantic_type\": \"\",\n        \"description\": \"\"\n      }\n    },\n    {\n      \"column\": \"periodo\",\n      \"properties\": {\n        \"dtype\": \"boolean\",\n        \"num_unique_values\": 1,\n        \"samples\": [\n          false\n        ],\n        \"semantic_type\": \"\",\n        \"description\": \"\"\n      }\n    },\n    {\n      \"column\": \"\\u00e1rea sembrada (ha)\",\n      \"properties\": {\n        \"dtype\": \"boolean\",\n        \"num_unique_values\": 1,\n        \"samples\": [\n          false\n        ],\n        \"semantic_type\": \"\",\n        \"description\": \"\"\n      }\n    },\n    {\n      \"column\": \"\\u00e1rea cosechada (ha)\",\n      \"properties\": {\n        \"dtype\": \"boolean\",\n        \"num_unique_values\": 1,\n        \"samples\": [\n          false\n        ],\n        \"semantic_type\": \"\",\n        \"description\": \"\"\n      }\n    },\n    {\n      \"column\": \"producci\\u00f3n (t)\",\n      \"properties\": {\n        \"dtype\": \"boolean\",\n        \"num_unique_values\": 1,\n        \"samples\": [\n          false\n        ],\n        \"semantic_type\": \"\",\n        \"description\": \"\"\n      }\n    },\n    {\n      \"column\": \"rendimiento (t/ha)\",\n      \"properties\": {\n        \"dtype\": \"boolean\",\n        \"num_unique_values\": 1,\n        \"samples\": [\n          false\n        ],\n        \"semantic_type\": \"\",\n        \"description\": \"\"\n      }\n    },\n    {\n      \"column\": \"c\\u00f3digo del cultivo\",\n      \"properties\": {\n        \"dtype\": \"boolean\",\n        \"num_unique_values\": 1,\n        \"samples\": [\n          false\n        ],\n        \"semantic_type\": \"\",\n        \"description\": \"\"\n      }\n    },\n    {\n      \"column\": \"nombre cient\\u00edfico del cultivo\",\n      \"properties\": {\n        \"dtype\": \"boolean\",\n        \"num_unique_values\": 1,\n        \"samples\": [\n          false\n        ],\n        \"semantic_type\": \"\",\n        \"description\": \"\"\n      }\n    },\n    {\n      \"column\": \"estado f\\u00edsico del cultivo\",\n      \"properties\": {\n        \"dtype\": \"boolean\",\n        \"num_unique_values\": 1,\n        \"samples\": [\n          false\n        ],\n        \"semantic_type\": \"\",\n        \"description\": \"\"\n      }\n    }\n  ]\n}"
            }
          },
          "metadata": {},
          "execution_count": 85
        }
      ]
    },
    {
      "cell_type": "code",
      "source": [
        "df.isnull().sum()"
      ],
      "metadata": {
        "colab": {
          "base_uri": "https://localhost:8080/"
        },
        "id": "Qi8EUK4tFFzV",
        "outputId": "d31db244-8152-4bb3-d9be-e243cfe37fa4"
      },
      "execution_count": 86,
      "outputs": [
        {
          "output_type": "execute_result",
          "data": {
            "text/plain": [
              "departamento                     0\n",
              "provincia                        0\n",
              "código dane municipio            0\n",
              "municipio                        0\n",
              "desagregación cultivo            0\n",
              "cultivo                          0\n",
              "ciclo del cultivo                0\n",
              "grupo cultivo                    0\n",
              "subgrupo                         0\n",
              "año                              0\n",
              "periodo                          0\n",
              "área sembrada (ha)               0\n",
              "área cosechada (ha)              0\n",
              "producción (t)                   0\n",
              "rendimiento (t/ha)               0\n",
              "código del cultivo               0\n",
              "nombre científico del cultivo    0\n",
              "estado físico del cultivo        0\n",
              "dtype: int64"
            ]
          },
          "metadata": {},
          "execution_count": 86
        }
      ]
    },
    {
      "cell_type": "code",
      "source": [
        "df.isnull().sum().sum()"
      ],
      "metadata": {
        "colab": {
          "base_uri": "https://localhost:8080/"
        },
        "id": "qqotcH09GqQx",
        "outputId": "8aa61774-62b8-4354-cec0-3442f1f66938"
      },
      "execution_count": 87,
      "outputs": [
        {
          "output_type": "execute_result",
          "data": {
            "text/plain": [
              "0"
            ]
          },
          "metadata": {},
          "execution_count": 87
        }
      ]
    },
    {
      "cell_type": "code",
      "source": [
        "(len(df)-df.count()).sum()"
      ],
      "metadata": {
        "colab": {
          "base_uri": "https://localhost:8080/"
        },
        "id": "FrxpszRvGsmx",
        "outputId": "ab801776-f8c7-47e2-f80c-fb9d10d475d1"
      },
      "execution_count": 88,
      "outputs": [
        {
          "output_type": "execute_result",
          "data": {
            "text/plain": [
              "0"
            ]
          },
          "metadata": {},
          "execution_count": 88
        }
      ]
    },
    {
      "cell_type": "code",
      "source": [
        "median_age=df['rendimiento (t/ha)'].median(axis=0)\n",
        "\n",
        "median_age #calculo de la mediana"
      ],
      "metadata": {
        "colab": {
          "base_uri": "https://localhost:8080/"
        },
        "id": "G0JxJifOHqMr",
        "outputId": "9554bf2e-da22-4744-e2ef-93b19797ba74"
      },
      "execution_count": 89,
      "outputs": [
        {
          "output_type": "execute_result",
          "data": {
            "text/plain": [
              "7.0"
            ]
          },
          "metadata": {},
          "execution_count": 89
        }
      ]
    },
    {
      "cell_type": "code",
      "source": [
        "df['rendimiento (t/ha)'].fillna(median_age,inplace=True)\n",
        "df['rendimiento (t/ha)']"
      ],
      "metadata": {
        "colab": {
          "base_uri": "https://localhost:8080/"
        },
        "id": "1kVi-P2xKjpk",
        "outputId": "aa44e43a-2bd6-4628-a4d9-51ab94a99e78"
      },
      "execution_count": 90,
      "outputs": [
        {
          "output_type": "execute_result",
          "data": {
            "text/plain": [
              "0        7.0\n",
              "1        7.0\n",
              "7       30.0\n",
              "8       30.0\n",
              "9       19.0\n",
              "        ... \n",
              "2327     2.2\n",
              "2328    18.0\n",
              "2329    18.0\n",
              "2330    14.0\n",
              "2331    14.0\n",
              "Name: rendimiento (t/ha), Length: 1237, dtype: float64"
            ]
          },
          "metadata": {},
          "execution_count": 90
        }
      ]
    },
    {
      "cell_type": "code",
      "source": [
        "df.isnull().sum()"
      ],
      "metadata": {
        "colab": {
          "base_uri": "https://localhost:8080/"
        },
        "id": "yoM22lYzNtuc",
        "outputId": "3b1a060d-2a34-4d3b-aa98-e16887a624ed"
      },
      "execution_count": 91,
      "outputs": [
        {
          "output_type": "execute_result",
          "data": {
            "text/plain": [
              "departamento                     0\n",
              "provincia                        0\n",
              "código dane municipio            0\n",
              "municipio                        0\n",
              "desagregación cultivo            0\n",
              "cultivo                          0\n",
              "ciclo del cultivo                0\n",
              "grupo cultivo                    0\n",
              "subgrupo                         0\n",
              "año                              0\n",
              "periodo                          0\n",
              "área sembrada (ha)               0\n",
              "área cosechada (ha)              0\n",
              "producción (t)                   0\n",
              "rendimiento (t/ha)               0\n",
              "código del cultivo               0\n",
              "nombre científico del cultivo    0\n",
              "estado físico del cultivo        0\n",
              "dtype: int64"
            ]
          },
          "metadata": {},
          "execution_count": 91
        }
      ]
    },
    {
      "cell_type": "code",
      "source": [
        "df.info()"
      ],
      "metadata": {
        "id": "Mi3rLRaYSdLy",
        "outputId": "5ac6b727-0738-4fdb-a1e3-4660ebaf496f",
        "colab": {
          "base_uri": "https://localhost:8080/"
        }
      },
      "execution_count": 92,
      "outputs": [
        {
          "output_type": "stream",
          "name": "stdout",
          "text": [
            "<class 'pandas.core.frame.DataFrame'>\n",
            "Index: 1237 entries, 0 to 2331\n",
            "Data columns (total 18 columns):\n",
            " #   Column                         Non-Null Count  Dtype  \n",
            "---  ------                         --------------  -----  \n",
            " 0   departamento                   1237 non-null   object \n",
            " 1   provincia                      1237 non-null   object \n",
            " 2   código dane municipio          1237 non-null   int64  \n",
            " 3   municipio                      1237 non-null   object \n",
            " 4   desagregación cultivo          1237 non-null   object \n",
            " 5   cultivo                        1237 non-null   object \n",
            " 6   ciclo del cultivo              1237 non-null   object \n",
            " 7   grupo cultivo                  1237 non-null   object \n",
            " 8   subgrupo                       1237 non-null   object \n",
            " 9   año                            1237 non-null   int64  \n",
            " 10  periodo                        1237 non-null   object \n",
            " 11  área sembrada (ha)             1237 non-null   float64\n",
            " 12  área cosechada (ha)            1237 non-null   float64\n",
            " 13  producción (t)                 1237 non-null   float64\n",
            " 14  rendimiento (t/ha)             1237 non-null   float64\n",
            " 15  código del cultivo             1237 non-null   int64  \n",
            " 16  nombre científico del cultivo  1237 non-null   object \n",
            " 17  estado físico del cultivo      1237 non-null   object \n",
            "dtypes: float64(4), int64(3), object(11)\n",
            "memory usage: 183.6+ KB\n"
          ]
        }
      ]
    },
    {
      "cell_type": "code",
      "source": [
        "print(df['municipio'].dtype)"
      ],
      "metadata": {
        "colab": {
          "base_uri": "https://localhost:8080/"
        },
        "id": "Z1kuroCo3tRF",
        "outputId": "17ef62e3-cfc4-47d8-d30d-722a2bd90f3d"
      },
      "execution_count": 93,
      "outputs": [
        {
          "output_type": "stream",
          "name": "stdout",
          "text": [
            "object\n"
          ]
        }
      ]
    },
    {
      "cell_type": "markdown",
      "source": [],
      "metadata": {
        "id": "5_xaEj_XYjWZ"
      }
    },
    {
      "cell_type": "code",
      "source": [
        "import pandas as pd\n",
        "\n",
        "\n",
        "# Calcular la frecuencia de cada categoría en la columna 'municipio'\n",
        "frecuencia_municipio = df['municipio'].value_counts()\n",
        "\n",
        "# Calcular la frecuencia de cada categoría en la columna 'cultivo'\n",
        "frecuencia_cultivo = df['cultivo'].value_counts()\n",
        "\n",
        "# Calcular la frecuencia de cada categoría en la columna 'periodo'\n",
        "frecuencia_periodo = df['periodo'].value_counts()\n",
        "\n",
        "# Mostrar los resultados\n",
        "\n",
        "print(\"\\nFrecuencia de cada categoría en la columna 'municipio':\")\n",
        "print(frecuencia_municipio)\n",
        "print(\"\\nFrecuencia de cada categoría en la columna 'cultivo':\")\n",
        "print(frecuencia_cultivo)\n",
        "print(\"\\nFrecuencia de cada categoría en la columna 'periodo':\")\n",
        "print(frecuencia_periodo)\n"
      ],
      "metadata": {
        "id": "xDhau2uhYp5j",
        "colab": {
          "base_uri": "https://localhost:8080/"
        },
        "outputId": "002d0802-17ca-47de-9f7c-2d9176f75aa0"
      },
      "execution_count": 94,
      "outputs": [
        {
          "output_type": "stream",
          "name": "stdout",
          "text": [
            "\n",
            "Frecuencia de cada categoría en la columna 'municipio':\n",
            "municipio\n",
            "Pacho           20\n",
            "San Cayetano    19\n",
            "Manta           18\n",
            "Quipile         18\n",
            "Pandi           18\n",
            "                ..\n",
            "Chipaque         5\n",
            "Tocancipá        5\n",
            "Cogua            4\n",
            "Nariño           4\n",
            "Guataquí         3\n",
            "Name: count, Length: 116, dtype: int64\n",
            "\n",
            "Frecuencia de cada categoría en la columna 'cultivo':\n",
            "cultivo\n",
            "Maíz        322\n",
            "Papa        192\n",
            "Arveja      139\n",
            "Frijol      129\n",
            "Tomate      113\n",
            "Yuca         76\n",
            "Aguacate     71\n",
            "Café         70\n",
            "Limón        66\n",
            "Plátano      59\n",
            "Name: count, dtype: int64\n",
            "\n",
            "Frecuencia de cada categoría en la columna 'periodo':\n",
            "periodo\n",
            "2022A    499\n",
            "2022B    472\n",
            "2022     266\n",
            "Name: count, dtype: int64\n"
          ]
        }
      ]
    },
    {
      "cell_type": "code",
      "source": [
        "# Agrupar por cultivo y calcular la productividad media\n",
        "productividad_promedio = df.groupby('cultivo')['rendimiento (t/ha)'].mean().sort_values(ascending=False).head(10)\n",
        "\n",
        "# Crear el gráfico de barras\n",
        "plt.figure(figsize=(10, 6))\n",
        "ax = productividad_promedio.plot(kind='bar', color='skyblue')\n",
        "\n",
        "\n",
        "plt.title('Top 10 de cultivos con mayor rendimiento promedio')\n",
        "plt.xlabel('Cultivo')\n",
        "plt.ylabel('Rendimiento (t/ha)')\n",
        "plt.xticks(rotation=45, ha='right')\n",
        "plt.tight_layout()\n",
        "plt.show()"
      ],
      "metadata": {
        "colab": {
          "base_uri": "https://localhost:8080/",
          "height": 607
        },
        "id": "fRZPWI1gFxLL",
        "outputId": "b2ee450c-c7c5-4166-868e-2bcf90882e36"
      },
      "execution_count": 95,
      "outputs": [
        {
          "output_type": "display_data",
          "data": {
            "text/plain": [
              "<Figure size 1000x600 with 1 Axes>"
            ],
            "image/png": "[encoded data removed]"
          },
          "metadata": {}
        }
      ]
    },
    {
      "cell_type": "code",
      "source": [
        "df_numeric = df[[\"área cosechada (ha)\", \"rendimiento (t/ha)\"]]\n",
        "\n",
        "# Calculate the correlation matrix\n",
        "df_numeric.corr()"
      ],
      "metadata": {
        "colab": {
          "base_uri": "https://localhost:8080/",
          "height": 112
        },
        "id": "mohMd1VZYEhu",
        "outputId": "2470313e-d663-4b70-da80-191062a8ea2b"
      },
      "execution_count": 96,
      "outputs": [
        {
          "output_type": "execute_result",
          "data": {
            "text/plain": [
              "                     área cosechada (ha)  rendimiento (t/ha)\n",
              "área cosechada (ha)             1.000000            0.035427\n",
              "rendimiento (t/ha)              0.035427            1.000000"
            ],
            "text/html": [
              "\n",
              "  <div id=\"df-f7fbe4d1-b35f-4402-8a7a-f285f29abda7\" class=\"colab-df-container\">\n",
              "    <div>\n",
              "<style scoped>\n",
              "    .dataframe tbody tr th:only-of-type {\n",
              "        vertical-align: middle;\n",
              "    }\n",
              "\n",
              "    .dataframe tbody tr th {\n",
              "        vertical-align: top;\n",
              "    }\n",
              "\n",
              "    .dataframe thead th {\n",
              "        text-align: right;\n",
              "    }\n",
              "</style>\n",
              "<table border=\"1\" class=\"dataframe\">\n",
              "  <thead>\n",
              "    <tr style=\"text-align: right;\">\n",
              "      <th></th>\n",
              "      <th>área cosechada (ha)</th>\n",
              "      <th>rendimiento (t/ha)</th>\n",
              "    </tr>\n",
              "  </thead>\n",
              "  <tbody>\n",
              "    <tr>\n",
              "      <th>área cosechada (ha)</th>\n",
              "      <td>1.000000</td>\n",
              "      <td>0.035427</td>\n",
              "    </tr>\n",
              "    <tr>\n",
              "      <th>rendimiento (t/ha)</th>\n",
              "      <td>0.035427</td>\n",
              "      <td>1.000000</td>\n",
              "    </tr>\n",
              "  </tbody>\n",
              "</table>\n",
              "</div>\n",
              "    <div class=\"colab-df-buttons\">\n",
              "\n",
              "  <div class=\"colab-df-container\">\n",
              "    <button class=\"colab-df-convert\" onclick=\"convertToInteractive('df-f7fbe4d1-b35f-4402-8a7a-f285f29abda7')\"\n",
              "            title=\"Convert this dataframe to an interactive table.\"\n",
              "            style=\"display:none;\">\n",
              "\n",
              "  <svg xmlns=\"http://www.w3.org/2000/svg\" height=\"24px\" viewBox=\"0 -960 960 960\">\n",
              "    <path d=\"M120-120v-720h720v720H120Zm60-500h600v-160H180v160Zm220 220h160v-160H400v160Zm0 220h160v-160H400v160ZM180-400h160v-160H180v160Zm440 0h160v-160H620v160ZM180-180h160v-160H180v160Zm440 0h160v-160H620v160Z\"/>\n",
              "  </svg>\n",
              "    </button>\n",
              "\n",
              "  <style>\n",
              "    .colab-df-container {\n",
              "      display:flex;\n",
              "      gap: 12px;\n",
              "    }\n",
              "\n",
              "    .colab-df-convert {\n",
              "      background-color: #E8F0FE;\n",
              "      border: none;\n",
              "      border-radius: 50%;\n",
              "      cursor: pointer;\n",
              "      display: none;\n",
              "      fill: #1967D2;\n",
              "      height: 32px;\n",
              "      padding: 0 0 0 0;\n",
              "      width: 32px;\n",
              "    }\n",
              "\n",
              "    .colab-df-convert:hover {\n",
              "      background-color: #E2EBFA;\n",
              "      box-shadow: 0px 1px 2px rgba(60, 64, 67, 0.3), 0px 1px 3px 1px rgba(60, 64, 67, 0.15);\n",
              "      fill: #174EA6;\n",
              "    }\n",
              "\n",
              "    .colab-df-buttons div {\n",
              "      margin-bottom: 4px;\n",
              "    }\n",
              "\n",
              "    [theme=dark] .colab-df-convert {\n",
              "      background-color: #3B4455;\n",
              "      fill: #D2E3FC;\n",
              "    }\n",
              "\n",
              "    [theme=dark] .colab-df-convert:hover {\n",
              "      background-color: #434B5C;\n",
              "      box-shadow: 0px 1px 3px 1px rgba(0, 0, 0, 0.15);\n",
              "      filter: drop-shadow(0px 1px 2px rgba(0, 0, 0, 0.3));\n",
              "      fill: #FFFFFF;\n",
              "    }\n",
              "  </style>\n",
              "\n",
              "    <script>\n",
              "      const buttonEl =\n",
              "        document.querySelector('#df-f7fbe4d1-b35f-4402-8a7a-f285f29abda7 button.colab-df-convert');\n",
              "      buttonEl.style.display =\n",
              "        google.colab.kernel.accessAllowed ? 'block' : 'none';\n",
              "\n",
              "      async function convertToInteractive(key) {\n",
              "        const element = document.querySelector('#df-f7fbe4d1-b35f-4402-8a7a-f285f29abda7');\n",
              "        const dataTable =\n",
              "          await google.colab.kernel.invokeFunction('convertToInteractive',\n",
              "                                                    [key], {});\n",
              "        if (!dataTable) return;\n",
              "\n",
              "        const docLinkHtml = 'Like what you see? Visit the ' +\n",
              "          '<a target=\"_blank\" href=https://colab.research.google.com/notebooks/data_table.ipynb>data table notebook</a>'\n",
              "          + ' to learn more about interactive tables.';\n",
              "        element.innerHTML = '';\n",
              "        dataTable['output_type'] = 'display_data';\n",
              "        await google.colab.output.renderOutput(dataTable, element);\n",
              "        const docLink = document.createElement('div');\n",
              "        docLink.innerHTML = docLinkHtml;\n",
              "        element.appendChild(docLink);\n",
              "      }\n",
              "    </script>\n",
              "  </div>\n",
              "\n",
              "\n",
              "<div id=\"df-42b01741-88c1-4d21-8748-ec3b3b5c3332\">\n",
              "  <button class=\"colab-df-quickchart\" onclick=\"quickchart('df-42b01741-88c1-4d21-8748-ec3b3b5c3332')\"\n",
              "            title=\"Suggest charts\"\n",
              "            style=\"display:none;\">\n",
              "\n",
              "<svg xmlns=\"http://www.w3.org/2000/svg\" height=\"24px\"viewBox=\"0 0 24 24\"\n",
              "     width=\"24px\">\n",
              "    <g>\n",
              "        <path d=\"M19 3H5c-1.1 0-2 .9-2 2v14c0 1.1.9 2 2 2h14c1.1 0 2-.9 2-2V5c0-1.1-.9-2-2-2zM9 17H7v-7h2v7zm4 0h-2V7h2v10zm4 0h-2v-4h2v4z\"/>\n",
              "    </g>\n",
              "</svg>\n",
              "  </button>\n",
              "\n",
              "<style>\n",
              "  .colab-df-quickchart {\n",
              "      --bg-color: #E8F0FE;\n",
              "      --fill-color: #1967D2;\n",
              "      --hover-bg-color: #E2EBFA;\n",
              "      --hover-fill-color: #174EA6;\n",
              "      --disabled-fill-color: #AAA;\n",
              "      --disabled-bg-color: #DDD;\n",
              "  }\n",
              "\n",
              "  [theme=dark] .colab-df-quickchart {\n",
              "      --bg-color: #3B4455;\n",
              "      --fill-color: #D2E3FC;\n",
              "      --hover-bg-color: #434B5C;\n",
              "      --hover-fill-color: #FFFFFF;\n",
              "      --disabled-bg-color: #3B4455;\n",
              "      --disabled-fill-color: #666;\n",
              "  }\n",
              "\n",
              "  .colab-df-quickchart {\n",
              "    background-color: var(--bg-color);\n",
              "    border: none;\n",
              "    border-radius: 50%;\n",
              "    cursor: pointer;\n",
              "    display: none;\n",
              "    fill: var(--fill-color);\n",
              "    height: 32px;\n",
              "    padding: 0;\n",
              "    width: 32px;\n",
              "  }\n",
              "\n",
              "  .colab-df-quickchart:hover {\n",
              "    background-color: var(--hover-bg-color);\n",
              "    box-shadow: 0 1px 2px rgba(60, 64, 67, 0.3), 0 1px 3px 1px rgba(60, 64, 67, 0.15);\n",
              "    fill: var(--button-hover-fill-color);\n",
              "  }\n",
              "\n",
              "  .colab-df-quickchart-complete:disabled,\n",
              "  .colab-df-quickchart-complete:disabled:hover {\n",
              "    background-color: var(--disabled-bg-color);\n",
              "    fill: var(--disabled-fill-color);\n",
              "    box-shadow: none;\n",
              "  }\n",
              "\n",
              "  .colab-df-spinner {\n",
              "    border: 2px solid var(--fill-color);\n",
              "    border-color: transparent;\n",
              "    border-bottom-color: var(--fill-color);\n",
              "    animation:\n",
              "      spin 1s steps(1) infinite;\n",
              "  }\n",
              "\n",
              "  @keyframes spin {\n",
              "    0% {\n",
              "      border-color: transparent;\n",
              "      border-bottom-color: var(--fill-color);\n",
              "      border-left-color: var(--fill-color);\n",
              "    }\n",
              "    20% {\n",
              "      border-color: transparent;\n",
              "      border-left-color: var(--fill-color);\n",
              "      border-top-color: var(--fill-color);\n",
              "    }\n",
              "    30% {\n",
              "      border-color: transparent;\n",
              "      border-left-color: var(--fill-color);\n",
              "      border-top-color: var(--fill-color);\n",
              "      border-right-color: var(--fill-color);\n",
              "    }\n",
              "    40% {\n",
              "      border-color: transparent;\n",
              "      border-right-color: var(--fill-color);\n",
              "      border-top-color: var(--fill-color);\n",
              "    }\n",
              "    60% {\n",
              "      border-color: transparent;\n",
              "      border-right-color: var(--fill-color);\n",
              "    }\n",
              "    80% {\n",
              "      border-color: transparent;\n",
              "      border-right-color: var(--fill-color);\n",
              "      border-bottom-color: var(--fill-color);\n",
              "    }\n",
              "    90% {\n",
              "      border-color: transparent;\n",
              "      border-bottom-color: var(--fill-color);\n",
              "    }\n",
              "  }\n",
              "</style>\n",
              "\n",
              "  <script>\n",
              "    async function quickchart(key) {\n",
              "      const quickchartButtonEl =\n",
              "        document.querySelector('#' + key + ' button');\n",
              "      quickchartButtonEl.disabled = true;  // To prevent multiple clicks.\n",
              "      quickchartButtonEl.classList.add('colab-df-spinner');\n",
              "      try {\n",
              "        const charts = await google.colab.kernel.invokeFunction(\n",
              "            'suggestCharts', [key], {});\n",
              "      } catch (error) {\n",
              "        console.error('Error during call to suggestCharts:', error);\n",
              "      }\n",
              "      quickchartButtonEl.classList.remove('colab-df-spinner');\n",
              "      quickchartButtonEl.classList.add('colab-df-quickchart-complete');\n",
              "    }\n",
              "    (() => {\n",
              "      let quickchartButtonEl =\n",
              "        document.querySelector('#df-42b01741-88c1-4d21-8748-ec3b3b5c3332 button');\n",
              "      quickchartButtonEl.style.display =\n",
              "        google.colab.kernel.accessAllowed ? 'block' : 'none';\n",
              "    })();\n",
              "  </script>\n",
              "</div>\n",
              "\n",
              "    </div>\n",
              "  </div>\n"
            ],
            "application/vnd.google.colaboratory.intrinsic+json": {
              "type": "dataframe",
              "summary": "{\n  \"name\": \"df_numeric\",\n  \"rows\": 2,\n  \"fields\": [\n    {\n      \"column\": \"\\u00e1rea cosechada (ha)\",\n      \"properties\": {\n        \"dtype\": \"number\",\n        \"std\": 0.6820560942355199,\n        \"min\": 0.03542702123290589,\n        \"max\": 1.0,\n        \"num_unique_values\": 2,\n        \"samples\": [\n          0.03542702123290589,\n          1.0\n        ],\n        \"semantic_type\": \"\",\n        \"description\": \"\"\n      }\n    },\n    {\n      \"column\": \"rendimiento (t/ha)\",\n      \"properties\": {\n        \"dtype\": \"number\",\n        \"std\": 0.6820560942355199,\n        \"min\": 0.03542702123290589,\n        \"max\": 1.0,\n        \"num_unique_values\": 2,\n        \"samples\": [\n          1.0,\n          0.03542702123290589\n        ],\n        \"semantic_type\": \"\",\n        \"description\": \"\"\n      }\n    }\n  ]\n}"
            }
          },
          "metadata": {},
          "execution_count": 96
        }
      ]
    },
    {
      "cell_type": "code",
      "source": [
        "new_df = df.copy()"
      ],
      "metadata": {
        "id": "m7OGkyFthLtY"
      },
      "execution_count": 97,
      "outputs": []
    },
    {
      "cell_type": "code",
      "source": [
        "new_df.columns"
      ],
      "metadata": {
        "colab": {
          "base_uri": "https://localhost:8080/"
        },
        "id": "gEn4x3sJht_u",
        "outputId": "bf5c8e68-68f8-474f-8ca4-b987589c718b"
      },
      "execution_count": 98,
      "outputs": [
        {
          "output_type": "execute_result",
          "data": {
            "text/plain": [
              "Index(['departamento', 'provincia', 'código dane municipio', 'municipio',\n",
              "       'desagregación cultivo', 'cultivo', 'ciclo del cultivo',\n",
              "       'grupo cultivo', 'subgrupo', 'año', 'periodo', 'área sembrada (ha)',\n",
              "       'área cosechada (ha)', 'producción (t)', 'rendimiento (t/ha)',\n",
              "       'código del cultivo', 'nombre científico del cultivo',\n",
              "       'estado físico del cultivo'],\n",
              "      dtype='object')"
            ]
          },
          "metadata": {},
          "execution_count": 98
        }
      ]
    },
    {
      "cell_type": "code",
      "source": [
        "new_df = new_df.astype({\"área sembrada (ha)\": np.float32, \"área cosechada (ha)\": np.float32,\n",
        "                    \"producción (t)\": np.float32, \"rendimiento (t/ha)\": np.float32})\n",
        "from sklearn.preprocessing import LabelEncoder\n",
        "\n",
        "le = LabelEncoder()\n",
        "\n",
        "new_df['cultivo'] = le.fit_transform(new_df['cultivo'])\n",
        "new_df['municipio'] = le.fit_transform(new_df['municipio'])\n",
        "new_df['periodo'] = le.fit_transform(new_df['periodo'])"
      ],
      "metadata": {
        "id": "IQhaMNGNdsqv"
      },
      "execution_count": 99,
      "outputs": []
    },
    {
      "cell_type": "code",
      "source": [
        "from sklearn.model_selection import train_test_split\n",
        "x_train, x_test, y_train, y_test = train_test_split(new_df[[\"municipio\", \"periodo\", \"área cosechada (ha)\",\n",
        "                                                             \"rendimiento (t/ha)\"]], df['cultivo'], test_size=0.25, random_state=42)\n"
      ],
      "metadata": {
        "id": "Ihhnlpt7eqKk"
      },
      "execution_count": 100,
      "outputs": []
    },
    {
      "cell_type": "code",
      "source": [
        "from sklearn.preprocessing import StandardScaler\n",
        "scaler = StandardScaler()\n",
        "x_train = scaler.fit_transform(x_train)\n",
        "x_test = scaler.transform(x_test)\n"
      ],
      "metadata": {
        "id": "rbMtmgBplwGV"
      },
      "execution_count": 101,
      "outputs": []
    },
    {
      "cell_type": "code",
      "source": [
        "print(x_train.shape,x_test.shape)"
      ],
      "metadata": {
        "colab": {
          "base_uri": "https://localhost:8080/"
        },
        "id": "VQ7H-GvniNTk",
        "outputId": "67b8d065-87b7-4917-f485-864ad99406ec"
      },
      "execution_count": 102,
      "outputs": [
        {
          "output_type": "stream",
          "name": "stdout",
          "text": [
            "(927, 4) (310, 4)\n"
          ]
        }
      ]
    },
    {
      "cell_type": "code",
      "source": [
        "y_train.value_counts()"
      ],
      "metadata": {
        "colab": {
          "base_uri": "https://localhost:8080/"
        },
        "id": "LHhEcgmrVA1P",
        "outputId": "f303d66d-d62b-43ac-9402-1b9be873d407"
      },
      "execution_count": 103,
      "outputs": [
        {
          "output_type": "execute_result",
          "data": {
            "text/plain": [
              "cultivo\n",
              "Maíz        242\n",
              "Papa        142\n",
              "Arveja      107\n",
              "Frijol      100\n",
              "Tomate       87\n",
              "Yuca         55\n",
              "Aguacate     55\n",
              "Café         49\n",
              "Limón        47\n",
              "Plátano      43\n",
              "Name: count, dtype: int64"
            ]
          },
          "metadata": {},
          "execution_count": 103
        }
      ]
    },
    {
      "cell_type": "code",
      "source": [
        "x_train.shape[1]"
      ],
      "metadata": {
        "colab": {
          "base_uri": "https://localhost:8080/"
        },
        "id": "Cbr-czS5Ypz1",
        "outputId": "56e616d4-e426-4e94-f0e4-bc6e8d82d673"
      },
      "execution_count": 104,
      "outputs": [
        {
          "output_type": "execute_result",
          "data": {
            "text/plain": [
              "4"
            ]
          },
          "metadata": {},
          "execution_count": 104
        }
      ]
    },
    {
      "cell_type": "code",
      "source": [
        "import tensorflow as tf\n",
        "from tensorflow import keras\n",
        "tf.random.set_seed(42)\n",
        "np.random.seed(42)\n",
        "early_stopping_cb = keras.callbacks.EarlyStopping(patience = 20)\n",
        "\n",
        "\n",
        "model = keras.models.Sequential([\n",
        "    keras.layers.Flatten(input_shape=(x_train.shape[1],)),\n",
        "    keras.layers.Dense(300, activation=\"relu\"),\n",
        "    keras.layers.Dense(200, activation=\"relu\"),\n",
        "    keras.layers.Dense(150, activation=\"relu\"),\n",
        "    keras.layers.Dense(50, activation=\"relu\"),\n",
        "    keras.layers.Dense(10, activation=\"softmax\"),\n",
        "])\n",
        "\n"
      ],
      "metadata": {
        "id": "4TgNdww0jdQz"
      },
      "execution_count": 105,
      "outputs": []
    },
    {
      "cell_type": "markdown",
      "source": [],
      "metadata": {
        "id": "cV7DAlGNSQUs"
      }
    },
    {
      "cell_type": "code",
      "source": [
        "model.summary()"
      ],
      "metadata": {
        "id": "mZtGW0OlQ5KA",
        "colab": {
          "base_uri": "https://localhost:8080/"
        },
        "outputId": "ead18744-cfd3-4e67-8ddd-f7560da2c7d9"
      },
      "execution_count": 106,
      "outputs": [
        {
          "output_type": "stream",
          "name": "stdout",
          "text": [
            "Model: \"sequential_1\"\n",
            "_________________________________________________________________\n",
            " Layer (type)                Output Shape              Param #   \n",
            "=================================================================\n",
            " flatten_1 (Flatten)         (None, 4)                 0         \n",
            "                                                                 \n",
            " dense_5 (Dense)             (None, 300)               1500      \n",
            "                                                                 \n",
            " dense_6 (Dense)             (None, 200)               60200     \n",
            "                                                                 \n",
            " dense_7 (Dense)             (None, 150)               30150     \n",
            "                                                                 \n",
            " dense_8 (Dense)             (None, 50)                7550      \n",
            "                                                                 \n",
            " dense_9 (Dense)             (None, 10)                510       \n",
            "                                                                 \n",
            "=================================================================\n",
            "Total params: 99910 (390.27 KB)\n",
            "Trainable params: 99910 (390.27 KB)\n",
            "Non-trainable params: 0 (0.00 Byte)\n",
            "_________________________________________________________________\n"
          ]
        }
      ]
    },
    {
      "cell_type": "code",
      "source": [
        "model.compile(loss=\"sparse_categorical_crossentropy\",\n",
        "              optimizer=\"sgd\",\n",
        "              metrics=[\"accuracy\"])"
      ],
      "metadata": {
        "id": "kh8r3yY0UxNL"
      },
      "execution_count": 107,
      "outputs": []
    },
    {
      "cell_type": "code",
      "source": [
        "label_encoder = LabelEncoder()\n",
        "y_train_encoded = label_encoder.fit_transform(y_train)\n",
        "y_test_encoded = label_encoder.transform(y_test)\n",
        "\n",
        "history = model.fit(x_train,\n",
        "                      y_train_encoded,\n",
        "                      epochs=100,\n",
        "                      validation_data=(x_test, y_test_encoded)\n",
        "                      )"
      ],
      "metadata": {
        "colab": {
          "base_uri": "https://localhost:8080/"
        },
        "id": "yy9mJU9nirWi",
        "outputId": "fdde30d4-7efb-4bd9-c988-1b182aedaa68"
      },
      "execution_count": 108,
      "outputs": [
        {
          "output_type": "stream",
          "name": "stdout",
          "text": [
            "Epoch 1/100\n",
            "29/29 [==============================] - 1s 11ms/step - loss: 2.2966 - accuracy: 0.2050 - val_loss: 2.2806 - val_accuracy: 0.2871\n",
            "Epoch 2/100\n",
            "29/29 [==============================] - 0s 4ms/step - loss: 2.2527 - accuracy: 0.2859 - val_loss: 2.2346 - val_accuracy: 0.2968\n",
            "Epoch 3/100\n",
            "29/29 [==============================] - 0s 5ms/step - loss: 2.2065 - accuracy: 0.2913 - val_loss: 2.1920 - val_accuracy: 0.2903\n",
            "Epoch 4/100\n",
            "29/29 [==============================] - 0s 4ms/step - loss: 2.1628 - accuracy: 0.2923 - val_loss: 2.1490 - val_accuracy: 0.2903\n",
            "Epoch 5/100\n",
            "29/29 [==============================] - 0s 6ms/step - loss: 2.1171 - accuracy: 0.2977 - val_loss: 2.1025 - val_accuracy: 0.2935\n",
            "Epoch 6/100\n",
            "29/29 [==============================] - 0s 5ms/step - loss: 2.0683 - accuracy: 0.3010 - val_loss: 2.0519 - val_accuracy: 0.3032\n",
            "Epoch 7/100\n",
            "29/29 [==============================] - 0s 4ms/step - loss: 2.0163 - accuracy: 0.3042 - val_loss: 1.9984 - val_accuracy: 0.3065\n",
            "Epoch 8/100\n",
            "29/29 [==============================] - 0s 5ms/step - loss: 1.9624 - accuracy: 0.3128 - val_loss: 1.9434 - val_accuracy: 0.3129\n",
            "Epoch 9/100\n",
            "29/29 [==============================] - 0s 5ms/step - loss: 1.9082 - accuracy: 0.3215 - val_loss: 1.8889 - val_accuracy: 0.3258\n",
            "Epoch 10/100\n",
            "29/29 [==============================] - 0s 5ms/step - loss: 1.8551 - accuracy: 0.3279 - val_loss: 1.8360 - val_accuracy: 0.3323\n",
            "Epoch 11/100\n",
            "29/29 [==============================] - 0s 5ms/step - loss: 1.8035 - accuracy: 0.3463 - val_loss: 1.7848 - val_accuracy: 0.3452\n",
            "Epoch 12/100\n",
            "29/29 [==============================] - 0s 7ms/step - loss: 1.7533 - accuracy: 0.3668 - val_loss: 1.7348 - val_accuracy: 0.3677\n",
            "Epoch 13/100\n",
            "29/29 [==============================] - 0s 5ms/step - loss: 1.7042 - accuracy: 0.4035 - val_loss: 1.6859 - val_accuracy: 0.3935\n",
            "Epoch 14/100\n",
            "29/29 [==============================] - 0s 5ms/step - loss: 1.6565 - accuracy: 0.4293 - val_loss: 1.6384 - val_accuracy: 0.4452\n",
            "Epoch 15/100\n",
            "29/29 [==============================] - 0s 5ms/step - loss: 1.6107 - accuracy: 0.4585 - val_loss: 1.5924 - val_accuracy: 0.4774\n",
            "Epoch 16/100\n",
            "29/29 [==============================] - 0s 4ms/step - loss: 1.5671 - accuracy: 0.4768 - val_loss: 1.5479 - val_accuracy: 0.4903\n",
            "Epoch 17/100\n",
            "29/29 [==============================] - 0s 4ms/step - loss: 1.5253 - accuracy: 0.4898 - val_loss: 1.5061 - val_accuracy: 0.5032\n",
            "Epoch 18/100\n",
            "29/29 [==============================] - 0s 5ms/step - loss: 1.4865 - accuracy: 0.4962 - val_loss: 1.4663 - val_accuracy: 0.5065\n",
            "Epoch 19/100\n",
            "29/29 [==============================] - 0s 5ms/step - loss: 1.4494 - accuracy: 0.4995 - val_loss: 1.4283 - val_accuracy: 0.5194\n",
            "Epoch 20/100\n",
            "29/29 [==============================] - 0s 5ms/step - loss: 1.4146 - accuracy: 0.5070 - val_loss: 1.3927 - val_accuracy: 0.5226\n",
            "Epoch 21/100\n",
            "29/29 [==============================] - 0s 5ms/step - loss: 1.3819 - accuracy: 0.5092 - val_loss: 1.3597 - val_accuracy: 0.5226\n",
            "Epoch 22/100\n",
            "29/29 [==============================] - 0s 5ms/step - loss: 1.3522 - accuracy: 0.5146 - val_loss: 1.3288 - val_accuracy: 0.5258\n",
            "Epoch 23/100\n",
            "29/29 [==============================] - 0s 4ms/step - loss: 1.3223 - accuracy: 0.5243 - val_loss: 1.2986 - val_accuracy: 0.5355\n",
            "Epoch 24/100\n",
            "29/29 [==============================] - 0s 5ms/step - loss: 1.2955 - accuracy: 0.5361 - val_loss: 1.2712 - val_accuracy: 0.5516\n",
            "Epoch 25/100\n",
            "29/29 [==============================] - 0s 5ms/step - loss: 1.2698 - accuracy: 0.5426 - val_loss: 1.2451 - val_accuracy: 0.5677\n",
            "Epoch 26/100\n",
            "29/29 [==============================] - 0s 6ms/step - loss: 1.2466 - accuracy: 0.5534 - val_loss: 1.2199 - val_accuracy: 0.5645\n",
            "Epoch 27/100\n",
            "29/29 [==============================] - 0s 8ms/step - loss: 1.2242 - accuracy: 0.5556 - val_loss: 1.1972 - val_accuracy: 0.5677\n",
            "Epoch 28/100\n",
            "29/29 [==============================] - 0s 7ms/step - loss: 1.2035 - accuracy: 0.5523 - val_loss: 1.1762 - val_accuracy: 0.5613\n",
            "Epoch 29/100\n",
            "29/29 [==============================] - 0s 8ms/step - loss: 1.1857 - accuracy: 0.5502 - val_loss: 1.1565 - val_accuracy: 0.5613\n",
            "Epoch 30/100\n",
            "29/29 [==============================] - 0s 8ms/step - loss: 1.1675 - accuracy: 0.5437 - val_loss: 1.1375 - val_accuracy: 0.5645\n",
            "Epoch 31/100\n",
            "29/29 [==============================] - 0s 8ms/step - loss: 1.1522 - accuracy: 0.5523 - val_loss: 1.1208 - val_accuracy: 0.5581\n",
            "Epoch 32/100\n",
            "29/29 [==============================] - 0s 6ms/step - loss: 1.1365 - accuracy: 0.5469 - val_loss: 1.1065 - val_accuracy: 0.5516\n",
            "Epoch 33/100\n",
            "29/29 [==============================] - 0s 7ms/step - loss: 1.1229 - accuracy: 0.5415 - val_loss: 1.0927 - val_accuracy: 0.5581\n",
            "Epoch 34/100\n",
            "29/29 [==============================] - 0s 7ms/step - loss: 1.1116 - accuracy: 0.5405 - val_loss: 1.0785 - val_accuracy: 0.5548\n",
            "Epoch 35/100\n",
            "29/29 [==============================] - 0s 8ms/step - loss: 1.1007 - accuracy: 0.5415 - val_loss: 1.0662 - val_accuracy: 0.5452\n",
            "Epoch 36/100\n",
            "29/29 [==============================] - 0s 7ms/step - loss: 1.0902 - accuracy: 0.5405 - val_loss: 1.0554 - val_accuracy: 0.5484\n",
            "Epoch 37/100\n",
            "29/29 [==============================] - 0s 8ms/step - loss: 1.0805 - accuracy: 0.5405 - val_loss: 1.0456 - val_accuracy: 0.5452\n",
            "Epoch 38/100\n",
            "29/29 [==============================] - 0s 8ms/step - loss: 1.0717 - accuracy: 0.5372 - val_loss: 1.0364 - val_accuracy: 0.5516\n",
            "Epoch 39/100\n",
            "29/29 [==============================] - 0s 8ms/step - loss: 1.0632 - accuracy: 0.5394 - val_loss: 1.0266 - val_accuracy: 0.5484\n",
            "Epoch 40/100\n",
            "29/29 [==============================] - 0s 7ms/step - loss: 1.0560 - accuracy: 0.5383 - val_loss: 1.0191 - val_accuracy: 0.5419\n",
            "Epoch 41/100\n",
            "29/29 [==============================] - 0s 8ms/step - loss: 1.0494 - accuracy: 0.5372 - val_loss: 1.0130 - val_accuracy: 0.5452\n",
            "Epoch 42/100\n",
            "29/29 [==============================] - 0s 5ms/step - loss: 1.0411 - accuracy: 0.5426 - val_loss: 1.0060 - val_accuracy: 0.5516\n",
            "Epoch 43/100\n",
            "29/29 [==============================] - 0s 5ms/step - loss: 1.0351 - accuracy: 0.5351 - val_loss: 0.9988 - val_accuracy: 0.5645\n",
            "Epoch 44/100\n",
            "29/29 [==============================] - 0s 4ms/step - loss: 1.0298 - accuracy: 0.5448 - val_loss: 0.9904 - val_accuracy: 0.5581\n",
            "Epoch 45/100\n",
            "29/29 [==============================] - 0s 6ms/step - loss: 1.0225 - accuracy: 0.5491 - val_loss: 0.9843 - val_accuracy: 0.5581\n",
            "Epoch 46/100\n",
            "29/29 [==============================] - 0s 4ms/step - loss: 1.0149 - accuracy: 0.5502 - val_loss: 0.9801 - val_accuracy: 0.5935\n",
            "Epoch 47/100\n",
            "29/29 [==============================] - 0s 5ms/step - loss: 1.0131 - accuracy: 0.5642 - val_loss: 0.9735 - val_accuracy: 0.5710\n",
            "Epoch 48/100\n",
            "29/29 [==============================] - 0s 6ms/step - loss: 1.0068 - accuracy: 0.5502 - val_loss: 0.9649 - val_accuracy: 0.5742\n",
            "Epoch 49/100\n",
            "29/29 [==============================] - 0s 5ms/step - loss: 1.0003 - accuracy: 0.5502 - val_loss: 0.9609 - val_accuracy: 0.5645\n",
            "Epoch 50/100\n",
            "29/29 [==============================] - 0s 4ms/step - loss: 0.9967 - accuracy: 0.5534 - val_loss: 0.9584 - val_accuracy: 0.5710\n",
            "Epoch 51/100\n",
            "29/29 [==============================] - 0s 5ms/step - loss: 0.9920 - accuracy: 0.5653 - val_loss: 0.9528 - val_accuracy: 0.5742\n",
            "Epoch 52/100\n",
            "29/29 [==============================] - 0s 5ms/step - loss: 0.9881 - accuracy: 0.5556 - val_loss: 0.9469 - val_accuracy: 0.5871\n",
            "Epoch 53/100\n",
            "29/29 [==============================] - 0s 4ms/step - loss: 0.9843 - accuracy: 0.5631 - val_loss: 0.9431 - val_accuracy: 0.6065\n",
            "Epoch 54/100\n",
            "29/29 [==============================] - 0s 6ms/step - loss: 0.9809 - accuracy: 0.5663 - val_loss: 0.9415 - val_accuracy: 0.5871\n",
            "Epoch 55/100\n",
            "29/29 [==============================] - 0s 4ms/step - loss: 0.9779 - accuracy: 0.5707 - val_loss: 0.9354 - val_accuracy: 0.5839\n",
            "Epoch 56/100\n",
            "29/29 [==============================] - 0s 6ms/step - loss: 0.9713 - accuracy: 0.5685 - val_loss: 0.9335 - val_accuracy: 0.5871\n",
            "Epoch 57/100\n",
            "29/29 [==============================] - 0s 5ms/step - loss: 0.9706 - accuracy: 0.5609 - val_loss: 0.9292 - val_accuracy: 0.6000\n",
            "Epoch 58/100\n",
            "29/29 [==============================] - 0s 6ms/step - loss: 0.9651 - accuracy: 0.5739 - val_loss: 0.9257 - val_accuracy: 0.5806\n",
            "Epoch 59/100\n",
            "29/29 [==============================] - 0s 5ms/step - loss: 0.9619 - accuracy: 0.5588 - val_loss: 0.9201 - val_accuracy: 0.6032\n",
            "Epoch 60/100\n",
            "29/29 [==============================] - 0s 5ms/step - loss: 0.9593 - accuracy: 0.5663 - val_loss: 0.9205 - val_accuracy: 0.6194\n",
            "Epoch 61/100\n",
            "29/29 [==============================] - 0s 5ms/step - loss: 0.9540 - accuracy: 0.5825 - val_loss: 0.9149 - val_accuracy: 0.6032\n",
            "Epoch 62/100\n",
            "29/29 [==============================] - 0s 5ms/step - loss: 0.9533 - accuracy: 0.5771 - val_loss: 0.9148 - val_accuracy: 0.6194\n",
            "Epoch 63/100\n",
            "29/29 [==============================] - 0s 5ms/step - loss: 0.9506 - accuracy: 0.5728 - val_loss: 0.9112 - val_accuracy: 0.6161\n",
            "Epoch 64/100\n",
            "29/29 [==============================] - 0s 4ms/step - loss: 0.9466 - accuracy: 0.5847 - val_loss: 0.9068 - val_accuracy: 0.6097\n",
            "Epoch 65/100\n",
            "29/29 [==============================] - 0s 6ms/step - loss: 0.9421 - accuracy: 0.5761 - val_loss: 0.9088 - val_accuracy: 0.6258\n",
            "Epoch 66/100\n",
            "29/29 [==============================] - 0s 5ms/step - loss: 0.9411 - accuracy: 0.5825 - val_loss: 0.9083 - val_accuracy: 0.6161\n",
            "Epoch 67/100\n",
            "29/29 [==============================] - 0s 5ms/step - loss: 0.9357 - accuracy: 0.5922 - val_loss: 0.9015 - val_accuracy: 0.6097\n",
            "Epoch 68/100\n",
            "29/29 [==============================] - 0s 4ms/step - loss: 0.9368 - accuracy: 0.5836 - val_loss: 0.8974 - val_accuracy: 0.6161\n",
            "Epoch 69/100\n",
            "29/29 [==============================] - 0s 6ms/step - loss: 0.9328 - accuracy: 0.5793 - val_loss: 0.9000 - val_accuracy: 0.6226\n",
            "Epoch 70/100\n",
            "29/29 [==============================] - 0s 5ms/step - loss: 0.9327 - accuracy: 0.5868 - val_loss: 0.8924 - val_accuracy: 0.6258\n",
            "Epoch 71/100\n",
            "29/29 [==============================] - 0s 6ms/step - loss: 0.9289 - accuracy: 0.5814 - val_loss: 0.8943 - val_accuracy: 0.6387\n",
            "Epoch 72/100\n",
            "29/29 [==============================] - 0s 5ms/step - loss: 0.9261 - accuracy: 0.6009 - val_loss: 0.8884 - val_accuracy: 0.6161\n",
            "Epoch 73/100\n",
            "29/29 [==============================] - 0s 9ms/step - loss: 0.9248 - accuracy: 0.5922 - val_loss: 0.8932 - val_accuracy: 0.6226\n",
            "Epoch 74/100\n",
            "29/29 [==============================] - 0s 9ms/step - loss: 0.9226 - accuracy: 0.5879 - val_loss: 0.8870 - val_accuracy: 0.6419\n",
            "Epoch 75/100\n",
            "29/29 [==============================] - 0s 10ms/step - loss: 0.9193 - accuracy: 0.5944 - val_loss: 0.8865 - val_accuracy: 0.6129\n",
            "Epoch 76/100\n",
            "29/29 [==============================] - 0s 9ms/step - loss: 0.9176 - accuracy: 0.6019 - val_loss: 0.8820 - val_accuracy: 0.6161\n",
            "Epoch 77/100\n",
            "29/29 [==============================] - 0s 7ms/step - loss: 0.9145 - accuracy: 0.5955 - val_loss: 0.8769 - val_accuracy: 0.6226\n",
            "Epoch 78/100\n",
            "29/29 [==============================] - 0s 8ms/step - loss: 0.9113 - accuracy: 0.5890 - val_loss: 0.8764 - val_accuracy: 0.6355\n",
            "Epoch 79/100\n",
            "29/29 [==============================] - 0s 10ms/step - loss: 0.9107 - accuracy: 0.6041 - val_loss: 0.8741 - val_accuracy: 0.6387\n",
            "Epoch 80/100\n",
            "29/29 [==============================] - 0s 9ms/step - loss: 0.9069 - accuracy: 0.6009 - val_loss: 0.8695 - val_accuracy: 0.6290\n",
            "Epoch 81/100\n",
            "29/29 [==============================] - 0s 9ms/step - loss: 0.9072 - accuracy: 0.6052 - val_loss: 0.8678 - val_accuracy: 0.6323\n",
            "Epoch 82/100\n",
            "29/29 [==============================] - 0s 9ms/step - loss: 0.9037 - accuracy: 0.6084 - val_loss: 0.8645 - val_accuracy: 0.6226\n",
            "Epoch 83/100\n",
            "29/29 [==============================] - 0s 8ms/step - loss: 0.9033 - accuracy: 0.6084 - val_loss: 0.8636 - val_accuracy: 0.6387\n",
            "Epoch 84/100\n",
            "29/29 [==============================] - 0s 7ms/step - loss: 0.9016 - accuracy: 0.6063 - val_loss: 0.8637 - val_accuracy: 0.6226\n",
            "Epoch 85/100\n",
            "29/29 [==============================] - 0s 9ms/step - loss: 0.8993 - accuracy: 0.6073 - val_loss: 0.8628 - val_accuracy: 0.6258\n",
            "Epoch 86/100\n",
            "29/29 [==============================] - 0s 9ms/step - loss: 0.8946 - accuracy: 0.6095 - val_loss: 0.8621 - val_accuracy: 0.6387\n",
            "Epoch 87/100\n",
            "29/29 [==============================] - 0s 16ms/step - loss: 0.8913 - accuracy: 0.6192 - val_loss: 0.8583 - val_accuracy: 0.6323\n",
            "Epoch 88/100\n",
            "29/29 [==============================] - 0s 11ms/step - loss: 0.8880 - accuracy: 0.6192 - val_loss: 0.8596 - val_accuracy: 0.6290\n",
            "Epoch 89/100\n",
            "29/29 [==============================] - 0s 5ms/step - loss: 0.8888 - accuracy: 0.6127 - val_loss: 0.8587 - val_accuracy: 0.6355\n",
            "Epoch 90/100\n",
            "29/29 [==============================] - 0s 4ms/step - loss: 0.8908 - accuracy: 0.6138 - val_loss: 0.8537 - val_accuracy: 0.6323\n",
            "Epoch 91/100\n",
            "29/29 [==============================] - 0s 6ms/step - loss: 0.8879 - accuracy: 0.6149 - val_loss: 0.8511 - val_accuracy: 0.6387\n",
            "Epoch 92/100\n",
            "29/29 [==============================] - 0s 5ms/step - loss: 0.8827 - accuracy: 0.6289 - val_loss: 0.8493 - val_accuracy: 0.6516\n",
            "Epoch 93/100\n",
            "29/29 [==============================] - 0s 4ms/step - loss: 0.8827 - accuracy: 0.6268 - val_loss: 0.8451 - val_accuracy: 0.6484\n",
            "Epoch 94/100\n",
            "29/29 [==============================] - 0s 4ms/step - loss: 0.8765 - accuracy: 0.6170 - val_loss: 0.8540 - val_accuracy: 0.6484\n",
            "Epoch 95/100\n",
            "29/29 [==============================] - 0s 6ms/step - loss: 0.8763 - accuracy: 0.6268 - val_loss: 0.8434 - val_accuracy: 0.6387\n",
            "Epoch 96/100\n",
            "29/29 [==============================] - 0s 8ms/step - loss: 0.8739 - accuracy: 0.6321 - val_loss: 0.8395 - val_accuracy: 0.6355\n",
            "Epoch 97/100\n",
            "29/29 [==============================] - 0s 9ms/step - loss: 0.8690 - accuracy: 0.6278 - val_loss: 0.8382 - val_accuracy: 0.6484\n",
            "Epoch 98/100\n",
            "29/29 [==============================] - 0s 8ms/step - loss: 0.8686 - accuracy: 0.6311 - val_loss: 0.8416 - val_accuracy: 0.6484\n",
            "Epoch 99/100\n",
            "29/29 [==============================] - 0s 7ms/step - loss: 0.8653 - accuracy: 0.6300 - val_loss: 0.8344 - val_accuracy: 0.6484\n",
            "Epoch 100/100\n",
            "29/29 [==============================] - 0s 7ms/step - loss: 0.8627 - accuracy: 0.6365 - val_loss: 0.8292 - val_accuracy: 0.6548\n"
          ]
        }
      ]
    },
    {
      "cell_type": "code",
      "source": [
        "model.save('agricola.h5')"
      ],
      "metadata": {
        "colab": {
          "base_uri": "https://localhost:8080/"
        },
        "id": "9bvBB3_mbglH",
        "outputId": "c82b9a96-392e-49c7-cef9-7f29b9ccf8ac"
      },
      "execution_count": 109,
      "outputs": [
        {
          "output_type": "stream",
          "name": "stderr",
          "text": [
            "/usr/local/lib/python3.10/dist-packages/keras/src/engine/training.py:3103: UserWarning: You are saving your model as an HDF5 file via `model.save()`. This file format is considered legacy. We recommend using instead the native Keras format, e.g. `model.save('my_model.keras')`.\n",
            "  saving_api.save_model(\n"
          ]
        }
      ]
    },
    {
      "cell_type": "code",
      "source": [
        "# Evaluación del Modelo\n",
        "test_loss, test_acc = model.evaluate(x_test, y_test_encoded)\n",
        "print(f\"Test accuracy: {test_acc:.2f}\")"
      ],
      "metadata": {
        "colab": {
          "base_uri": "https://localhost:8080/"
        },
        "id": "F4cnXU63Xe7A",
        "outputId": "4c549b5a-5234-45bf-a774-22cdc29c1dc2"
      },
      "execution_count": 110,
      "outputs": [
        {
          "output_type": "stream",
          "name": "stdout",
          "text": [
            "10/10 [==============================] - 0s 2ms/step - loss: 0.8292 - accuracy: 0.6548\n",
            "Test accuracy: 0.65\n"
          ]
        }
      ]
    },
    {
      "cell_type": "code",
      "source": [
        "import matplotlib.pyplot as plt\n",
        "plt.plot(history.history['accuracy'])\n",
        "plt.plot(history.history['val_accuracy'])\n",
        "plt.title('Model accuracy')\n",
        "plt.ylabel('Accuracy')\n",
        "plt.xlabel('Epoch')\n",
        "plt.legend(['Train', 'Test'], loc='upper left')\n",
        "plt.show()"
      ],
      "metadata": {
        "colab": {
          "base_uri": "https://localhost:8080/",
          "height": 472
        },
        "id": "5QosbHJ-QtGL",
        "outputId": "5c055de9-a0f2-48fb-aca2-e4269bf33c61"
      },
      "execution_count": 111,
      "outputs": [
        {
          "output_type": "display_data",
          "data": {
            "text/plain": [
              "<Figure size 640x480 with 1 Axes>"
            ],
            "image/png": "[encoded data removed]"
          },
          "metadata": {}
        }
      ]
    },
    {
      "cell_type": "code",
      "source": [
        "\n",
        "model.evaluate(x_test,y_test_encoded)"
      ],
      "metadata": {
        "id": "w5a6_17Njoyy",
        "colab": {
          "base_uri": "https://localhost:8080/"
        },
        "outputId": "4ab74256-84fc-49ec-e9f8-22fa428f7c3d"
      },
      "execution_count": 112,
      "outputs": [
        {
          "output_type": "stream",
          "name": "stdout",
          "text": [
            "10/10 [==============================] - 0s 2ms/step - loss: 0.8292 - accuracy: 0.6548\n"
          ]
        },
        {
          "output_type": "execute_result",
          "data": {
            "text/plain": [
              "[0.8292378187179565, 0.6548386812210083]"
            ]
          },
          "metadata": {},
          "execution_count": 112
        }
      ]
    },
    {
      "cell_type": "code",
      "source": [
        "print(df.columns)"
      ],
      "metadata": {
        "colab": {
          "base_uri": "https://localhost:8080/"
        },
        "id": "jR9RHwyPaQLV",
        "outputId": "d3174d43-4dc6-4bfb-fcdc-325e969dd947"
      },
      "execution_count": 113,
      "outputs": [
        {
          "output_type": "stream",
          "name": "stdout",
          "text": [
            "Index(['departamento', 'provincia', 'código dane municipio', 'municipio',\n",
            "       'desagregación cultivo', 'cultivo', 'ciclo del cultivo',\n",
            "       'grupo cultivo', 'subgrupo', 'año', 'periodo', 'área sembrada (ha)',\n",
            "       'área cosechada (ha)', 'producción (t)', 'rendimiento (t/ha)',\n",
            "       'código del cultivo', 'nombre científico del cultivo',\n",
            "       'estado físico del cultivo'],\n",
            "      dtype='object')\n"
          ]
        }
      ]
    },
    {
      "cell_type": "code",
      "source": [
        "# ver la predicion del rendimiento del cultivo segun el modelo\n",
        "input_features = ['cultivo', 'rendimiento (t/ha)', 'área cosechada (ha)', 'área sembrada (ha)']\n",
        "\n",
        "# Crear un DataFrame con las columnas seleccionadas\n",
        "model_input_df = df[input_features].copy()\n",
        "\n",
        "# Convertir 'cultivo' a valores categóricos numéricos\n",
        "model_input_df['cultivo'] = model_input_df['cultivo'].astype('category')\n",
        "cultivo_categories = model_input_df['cultivo'].cat.categories\n",
        "model_input_df['cultivo'] = model_input_df['cultivo'].cat.codes\n",
        "\n",
        "# Cargar el modelo previamente entrenado\n",
        "model = load_model('/content/agricola.h5')\n",
        "\n",
        "# Realizar las predicciones\n",
        "predictions = model.predict(model_input_df)\n",
        "\n",
        "# Asegurarse de que las predicciones sean unidimensionales\n",
        "if predictions.ndim > 1:\n",
        "    predictions = predictions[:, 0]\n",
        "\n",
        "# Añadir las predicciones al DataFrame original\n",
        "df['predicted_yield'] = predictions\n",
        "\n",
        "# Convertir los valores numéricos de 'cultivo' de vuelta a categorías ANTES de agregar las predicciones\n",
        "df['cultivo'] = pd.Categorical.from_codes(model_input_df['cultivo'], categories=cultivo_categories) # Use the codes from the model input\n",
        "\n",
        "# Agrupar por cultivo y calcular la productividad media\n",
        "productividad_promedio = df.groupby('cultivo')['predicted_yield'].mean().sort_values(ascending=False).head(10)\n",
        "\n",
        "# Crear el gráfico de barras\n",
        "plt.figure(figsize=(10, 6))\n",
        "ax = productividad_promedio.plot(kind='bar', color='salmon')\n",
        "\n",
        "plt.title('Top 10 de cultivos con mayor rendimiento promedio')\n",
        "plt.xlabel('Cultivo')\n",
        "plt.ylabel('Rendimiento Predicho (t/ha)')\n",
        "plt.xticks(rotation=45, ha='right')\n",
        "plt.tight_layout()\n",
        "plt.show()"
      ],
      "metadata": {
        "colab": {
          "base_uri": "https://localhost:8080/",
          "height": 624
        },
        "id": "PmbLlN1-dQXf",
        "outputId": "df4e959a-28e2-44e5-acaf-86a1839b5b9b"
      },
      "execution_count": 117,
      "outputs": [
        {
          "output_type": "stream",
          "name": "stdout",
          "text": [
            "39/39 [==============================] - 0s 2ms/step\n"
          ]
        },
        {
          "output_type": "display_data",
          "data": {
            "text/plain": [
              "<Figure size 1000x600 with 1 Axes>"
            ],
            "image/png": "[encoded data removed]"
          },
          "metadata": {}
        }
      ]
    },
    {
      "cell_type": "code",
      "source": [
        "# ver la predicion del rendimiento del cultivo segun el modelo\n",
        "input_features = ['cultivo', 'rendimiento (t/ha)', 'área cosechada (ha)', 'área sembrada (ha)']\n",
        "\n",
        "# Crear un DataFrame con las columnas seleccionadas\n",
        "model_input_df = df[input_features].copy()\n",
        "\n",
        "# Convertir 'cultivo' a valores categóricos numéricos\n",
        "model_input_df['cultivo'] = model_input_df['cultivo'].astype('category')\n",
        "cultivo_categories = model_input_df['cultivo'].cat.categories\n",
        "model_input_df['cultivo'] = model_input_df['cultivo'].cat.codes\n",
        "\n",
        "# Cargar el modelo previamente entrenado\n",
        "model = load_model('/content/agricola.h5')\n",
        "\n",
        "# Realizar las predicciones\n",
        "predictions = model.predict(model_input_df)\n",
        "\n",
        "# Asegurarse de que las predicciones sean unidimensionales\n",
        "if predictions.ndim > 1:\n",
        "    predictions = predictions[:, 0]\n",
        "\n",
        "# Añadir las predicciones al DataFrame original\n",
        "df['predicted_yield'] = predictions\n",
        "\n",
        "# Agrupar por municipio y calcular la productividad media\n",
        "# Asegúrate de que 'municipio' esté en el DataFrame df\n",
        "productividad_por_municipio = df.groupby('municipio')['predicted_yield'].mean().sort_values(ascending=False).head(10)\n",
        "\n",
        "# Crear el gráfico de barras\n",
        "plt.figure(figsize=(12, 8))\n",
        "ax = productividad_por_municipio.plot(kind='bar', color='lightgray')\n",
        "\n",
        "plt.title('Top 10 de municipios con mayor rendimiento promedio')\n",
        "plt.xlabel('Municipio')\n",
        "plt.ylabel('Rendimiento Predicho (t/ha)')\n",
        "plt.xticks(rotation=45, ha='right')\n",
        "plt.tight_layout()\n",
        "plt.show()\n"
      ],
      "metadata": {
        "colab": {
          "base_uri": "https://localhost:8080/",
          "height": 824
        },
        "id": "Dtpf6tz1eMaG",
        "outputId": "231ef9fb-0a8a-4af3-80af-a9634855c6f0"
      },
      "execution_count": 118,
      "outputs": [
        {
          "output_type": "stream",
          "name": "stdout",
          "text": [
            "39/39 [==============================] - 0s 2ms/step\n"
          ]
        },
        {
          "output_type": "display_data",
          "data": {
            "text/plain": [
              "<Figure size 1200x800 with 1 Axes>"
            ],
            "image/png": "[encoded data removed]"
          },
          "metadata": {}
        }
      ]
    }
  ]
}