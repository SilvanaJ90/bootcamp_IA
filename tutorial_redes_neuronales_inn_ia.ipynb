{
  "cells": [
    {
      "cell_type": "markdown",
      "metadata": {
        "id": "view-in-github",
        "colab_type": "text"
      },
      "source": [
        "<a href=\"https://colab.research.google.com/github/SilvanaJ90/usergioarboleda-bootcamp_IA/blob/main/tutorial_redes_neuronales_inn_ia.ipynb\" target=\"_parent\"><img src=\"https://colab.research.google.com/assets/colab-badge.svg\" alt=\"Open In Colab\"/></a>"
      ]
    },
    {
      "cell_type": "markdown",
      "id": "34400f71-e76a-4fd9-a840-860fbf6f37c1",
      "metadata": {
        "id": "34400f71-e76a-4fd9-a840-860fbf6f37c1"
      },
      "source": [
        "# Introducción a las Redes Neuronales Artificiales"
      ]
    },
    {
      "cell_type": "markdown",
      "id": "b9d52252-ae3d-4642-a40d-1d1d97ce8683",
      "metadata": {
        "id": "b9d52252-ae3d-4642-a40d-1d1d97ce8683"
      },
      "source": [
        "## <span style=\"color:green\">1.Descargar e Importar Tensorflow </span>"
      ]
    },
    {
      "cell_type": "code",
      "execution_count": 2,
      "id": "a3ae65de-4db5-43b4-88ae-9fef9d5f89a2",
      "metadata": {
        "id": "a3ae65de-4db5-43b4-88ae-9fef9d5f89a2"
      },
      "outputs": [],
      "source": [
        "#Importar tensorflow\n",
        "import tensorflow as tf"
      ]
    },
    {
      "cell_type": "code",
      "execution_count": 42,
      "id": "030e09a7-e990-4ab4-8b78-2fe8d58daaab",
      "metadata": {
        "id": "030e09a7-e990-4ab4-8b78-2fe8d58daaab"
      },
      "outputs": [],
      "source": [
        "#Traer a Keras y acostumbrése\n",
        "from tensorflow import keras"
      ]
    },
    {
      "cell_type": "code",
      "execution_count": 4,
      "id": "29c411df-b7b1-411d-8013-3dce5983cc9a",
      "metadata": {
        "id": "29c411df-b7b1-411d-8013-3dce5983cc9a",
        "outputId": "1e8a1191-8ec0-4feb-b7b9-96b30952c650",
        "colab": {
          "base_uri": "https://localhost:8080/",
          "height": 35
        }
      },
      "outputs": [
        {
          "output_type": "execute_result",
          "data": {
            "text/plain": [
              "'2.15.0'"
            ],
            "application/vnd.google.colaboratory.intrinsic+json": {
              "type": "string"
            }
          },
          "metadata": {},
          "execution_count": 4
        }
      ],
      "source": [
        "tf.__version__"
      ]
    },
    {
      "cell_type": "code",
      "source": [
        "print(tf.keras)"
      ],
      "metadata": {
        "id": "aczlxbUEla6j",
        "outputId": "15ca4f39-d0c4-4bfd-a48c-3f1d906bd491",
        "colab": {
          "base_uri": "https://localhost:8080/"
        }
      },
      "id": "aczlxbUEla6j",
      "execution_count": 5,
      "outputs": [
        {
          "output_type": "stream",
          "name": "stdout",
          "text": [
            "<KerasLazyLoader>\n"
          ]
        }
      ]
    },
    {
      "cell_type": "markdown",
      "id": "b0d934ec-9458-4510-ad34-cd359b63652a",
      "metadata": {
        "id": "b0d934ec-9458-4510-ad34-cd359b63652a"
      },
      "source": [
        "## <span style=\"color:green\">2. Crear Un Clasificador De Imágenes Usando Una API Secuencial </span>"
      ]
    },
    {
      "cell_type": "markdown",
      "id": "036f35db-e56c-49f7-a3cb-703fb350bfd2",
      "metadata": {
        "id": "036f35db-e56c-49f7-a3cb-703fb350bfd2"
      },
      "source": [
        "### <span style=\"color:blue\">2.1 Utilizar Keras para cargar el dataset</span>"
      ]
    },
    {
      "cell_type": "code",
      "execution_count": 7,
      "id": "a5864de9-b71e-4ab8-a413-1e83b74648a9",
      "metadata": {
        "id": "a5864de9-b71e-4ab8-a413-1e83b74648a9"
      },
      "outputs": [],
      "source": [
        "#llamar cifar10\n",
        "cifar10 = keras.datasets.cifar10"
      ]
    },
    {
      "cell_type": "code",
      "execution_count": 8,
      "id": "a44189a2-8ff3-4ce7-96fd-2d730726ee70",
      "metadata": {
        "id": "a44189a2-8ff3-4ce7-96fd-2d730726ee70",
        "outputId": "6ca60583-deb2-4c4c-daf7-d6226d0a2e19",
        "colab": {
          "base_uri": "https://localhost:8080/"
        }
      },
      "outputs": [
        {
          "output_type": "stream",
          "name": "stdout",
          "text": [
            "Downloading data from https://www.cs.toronto.edu/~kriz/cifar-10-python.tar.gz\n",
            "170498071/170498071 [==============================] - 2s 0us/step\n"
          ]
        }
      ],
      "source": [
        "#Descargar los datos (solo es para este set de datos, en la vida real tus archivos pueden estar en otros formatos)\n",
        "#Recuerden que x son las imágenes y \"y\" la etiqueta de esa imagen\n",
        "(x_train_completo,y_train_completo),(x_test,y_test) = cifar10.load_data()"
      ]
    },
    {
      "cell_type": "code",
      "execution_count": 9,
      "id": "dc796b1b-ed73-4a90-8626-a68b78f35f90",
      "metadata": {
        "id": "dc796b1b-ed73-4a90-8626-a68b78f35f90",
        "outputId": "12b542d3-8231-41e2-d979-e87efd381148",
        "colab": {
          "base_uri": "https://localhost:8080/"
        }
      },
      "outputs": [
        {
          "output_type": "execute_result",
          "data": {
            "text/plain": [
              "(50000, 32, 32, 3)"
            ]
          },
          "metadata": {},
          "execution_count": 9
        }
      ],
      "source": [
        "#Sacar shape de los datos\n",
        "x_train_completo.shape"
      ]
    },
    {
      "cell_type": "markdown",
      "id": "f0210064-5867-498f-b985-333ae467f87d",
      "metadata": {
        "id": "f0210064-5867-498f-b985-333ae467f87d"
      },
      "source": [
        "Arrojará (No. de imagénes, pixeles x pixeles, componentes RBG)"
      ]
    },
    {
      "cell_type": "code",
      "execution_count": 10,
      "id": "e9acae8c-ffd4-4d3c-8e5e-4feea89539d3",
      "metadata": {
        "id": "e9acae8c-ffd4-4d3c-8e5e-4feea89539d3"
      },
      "outputs": [],
      "source": [
        "#Escalar los valores de x (dividir todo entre 255)\n",
        "x_valid,x_train = x_train_completo[:5000]/255,x_train_completo[5000:]/255"
      ]
    },
    {
      "cell_type": "code",
      "execution_count": 11,
      "id": "86af540d-35c5-47cd-ba9b-872ddf77e8af",
      "metadata": {
        "id": "86af540d-35c5-47cd-ba9b-872ddf77e8af"
      },
      "outputs": [],
      "source": [
        "#Escalar los valores de y (dividir todo entre 255)\n",
        "y_valid,y_train = y_train_completo[:5000]/255,y_train_completo[5000:]/255"
      ]
    },
    {
      "cell_type": "code",
      "execution_count": 12,
      "id": "e4d01859-0401-4af2-b5dc-a320331c481a",
      "metadata": {
        "id": "e4d01859-0401-4af2-b5dc-a320331c481a"
      },
      "outputs": [],
      "source": [
        "#Ajustar x_test\n",
        "x_test=x_test/255"
      ]
    },
    {
      "cell_type": "code",
      "execution_count": 13,
      "id": "0d642df0-2a0d-4484-b7eb-8a8cb006b2ee",
      "metadata": {
        "id": "0d642df0-2a0d-4484-b7eb-8a8cb006b2ee"
      },
      "outputs": [],
      "source": [
        "#Nombrar las clasificaciones de los datos (las pueden poner en inglés si lo prefieren)\n",
        "nombres_clase = [\"avion\", \"coche\", \"pajaro\", \"gato\", \"venado\", \"perro\", \"rana\", \"caballo\", \"barco\", \"camion\"]"
      ]
    },
    {
      "cell_type": "code",
      "execution_count": 14,
      "id": "6b09c86a-8298-43d7-86d0-0737d5286a8b",
      "metadata": {
        "id": "6b09c86a-8298-43d7-86d0-0737d5286a8b",
        "outputId": "0a8bd01d-b395-40d1-ad20-177a8e8077ee",
        "colab": {
          "base_uri": "https://localhost:8080/",
          "height": 35
        }
      },
      "outputs": [
        {
          "output_type": "execute_result",
          "data": {
            "text/plain": [
              "'avion'"
            ],
            "application/vnd.google.colaboratory.intrinsic+json": {
              "type": "string"
            }
          },
          "metadata": {},
          "execution_count": 14
        }
      ],
      "source": [
        "#Probar con algún ejemplo de nombres de clase\n",
        "nombres_clase[int(y_test[10][0])]"
      ]
    },
    {
      "cell_type": "code",
      "execution_count": 15,
      "id": "68a816a4-ebb7-4b02-b27a-a0691195c30f",
      "metadata": {
        "id": "68a816a4-ebb7-4b02-b27a-a0691195c30f",
        "outputId": "7e184b85-c25b-4c4b-a80e-ba6983eea11a",
        "colab": {
          "base_uri": "https://localhost:8080/",
          "height": 35
        }
      },
      "outputs": [
        {
          "output_type": "execute_result",
          "data": {
            "text/plain": [
              "'gato'"
            ],
            "application/vnd.google.colaboratory.intrinsic+json": {
              "type": "string"
            }
          },
          "metadata": {},
          "execution_count": 15
        }
      ],
      "source": [
        "#Probar con otro ejemplo\n",
        "nombres_clase[int(y_test[0][0])]"
      ]
    },
    {
      "cell_type": "markdown",
      "id": "70132342-0a24-4de9-85a7-dcdec5250cd4",
      "metadata": {
        "id": "70132342-0a24-4de9-85a7-dcdec5250cd4"
      },
      "source": [
        "### <span style=\"color:blue\">2.2 Crear el Modelo </span>"
      ]
    },
    {
      "cell_type": "code",
      "execution_count": 16,
      "id": "25b05c78-75ce-4f42-b4c5-b0b511c8fe2a",
      "metadata": {
        "id": "25b05c78-75ce-4f42-b4c5-b0b511c8fe2a"
      },
      "outputs": [],
      "source": [
        "#importar matplotlib\n",
        "import matplotlib.pyplot as plt\n",
        "import numpy as np"
      ]
    },
    {
      "cell_type": "code",
      "execution_count": 17,
      "id": "68e5cce0-af3e-4466-8847-4f9ff3f15e7f",
      "metadata": {
        "id": "68e5cce0-af3e-4466-8847-4f9ff3f15e7f",
        "outputId": "c7b0f527-1cd8-4d82-fa3b-85a562af2772",
        "colab": {
          "base_uri": "https://localhost:8080/",
          "height": 447
        }
      },
      "outputs": [
        {
          "output_type": "execute_result",
          "data": {
            "text/plain": [
              "<matplotlib.image.AxesImage at 0x7bfd607d6680>"
            ]
          },
          "metadata": {},
          "execution_count": 17
        },
        {
          "output_type": "display_data",
          "data": {
            "text/plain": [
              "<Figure size 640x480 with 1 Axes>"
            ],
            "image/png": "[encoded data removed]"
          },
          "metadata": {}
        }
      ],
      "source": [
        "#visualizar la imagen (como humano)\n",
        "plt.imshow(np.squeeze(x_test[0]))"
      ]
    },
    {
      "cell_type": "markdown",
      "id": "e9e6685a-4bca-4a31-b60e-c472b10cea58",
      "metadata": {
        "id": "e9e6685a-4bca-4a31-b60e-c472b10cea58"
      },
      "source": [
        "se supone es un gato jugando con una pata :/"
      ]
    },
    {
      "cell_type": "code",
      "execution_count": 18,
      "id": "bdaa7af4-316d-4e80-a5f4-f0af5f3b1da7",
      "metadata": {
        "id": "bdaa7af4-316d-4e80-a5f4-f0af5f3b1da7"
      },
      "outputs": [],
      "source": [
        "#Crear el objeto para el modelo secuencial de Kera\n",
        "model = keras.models.Sequential()"
      ]
    },
    {
      "cell_type": "code",
      "execution_count": 20,
      "id": "f90d99a4-af3f-440b-9575-e3ae6362dbd7",
      "metadata": {
        "id": "f90d99a4-af3f-440b-9575-e3ae6362dbd7"
      },
      "outputs": [],
      "source": [
        "#Agregar la primera capa que son las neuronas de recepción (3072 neuronas)\n",
        "model.add(keras.layers.Flatten(input_shape=[32,32,3]))\n",
        "#Agregar Capa densa de 300 neuronas con una función de activación ReLU\n",
        "model.add(keras.layers.Dense(300,activation=\"relu\"))\n",
        "#Agregar capa densa de 100 neuronas con ReLU\n",
        "model.add(keras.layers.Dense(100,activation=\"relu\"))\n",
        "#Agregar capa densa de 10 neuronas (10 categorías) con Sotmax (para tener probabilidad)\n",
        "model.add(keras.layers.Dense(10,activation=\"softmax\"))"
      ]
    },
    {
      "cell_type": "code",
      "execution_count": 21,
      "id": "9457c48a-1568-4319-8603-93f0e4fe2b1b",
      "metadata": {
        "id": "9457c48a-1568-4319-8603-93f0e4fe2b1b",
        "outputId": "6e7a32f7-2b07-45ee-87eb-0a5dc1fe7db6",
        "colab": {
          "base_uri": "https://localhost:8080/"
        }
      },
      "outputs": [
        {
          "output_type": "stream",
          "name": "stdout",
          "text": [
            "Model: \"sequential\"\n",
            "_________________________________________________________________\n",
            " Layer (type)                Output Shape              Param #   \n",
            "=================================================================\n",
            " flatten (Flatten)           (None, 3072)              0         \n",
            "                                                                 \n",
            " dense (Dense)               (None, 300)               921900    \n",
            "                                                                 \n",
            " dense_1 (Dense)             (None, 100)               30100     \n",
            "                                                                 \n",
            " dense_2 (Dense)             (None, 10)                1010      \n",
            "                                                                 \n",
            "=================================================================\n",
            "Total params: 953010 (3.64 MB)\n",
            "Trainable params: 953010 (3.64 MB)\n",
            "Non-trainable params: 0 (0.00 Byte)\n",
            "_________________________________________________________________\n"
          ]
        }
      ],
      "source": [
        "#vemos la visión del modelo que armamos\n",
        "model.summary()"
      ]
    },
    {
      "cell_type": "code",
      "execution_count": 22,
      "id": "3c718d3a-636e-4fc4-9426-15ac2e45d1a2",
      "metadata": {
        "id": "3c718d3a-636e-4fc4-9426-15ac2e45d1a2",
        "outputId": "f253de16-081f-4804-88b9-2a81ec4c48c9",
        "colab": {
          "base_uri": "https://localhost:8080/"
        }
      },
      "outputs": [
        {
          "output_type": "execute_result",
          "data": {
            "text/plain": [
              "[<keras.src.layers.reshaping.flatten.Flatten at 0x7bfcfd56a680>,\n",
              " <keras.src.layers.core.dense.Dense at 0x7bfcfd569c30>,\n",
              " <keras.src.layers.core.dense.Dense at 0x7bfcfd5698d0>,\n",
              " <keras.src.layers.core.dense.Dense at 0x7bfcfd569960>]"
            ]
          },
          "metadata": {},
          "execution_count": 22
        }
      ],
      "source": [
        "#otra manera de ver las capas...\n",
        "model.layers"
      ]
    },
    {
      "cell_type": "code",
      "execution_count": 23,
      "id": "0214f5f9-9529-452f-9889-011db0b8cd74",
      "metadata": {
        "id": "0214f5f9-9529-452f-9889-011db0b8cd74"
      },
      "outputs": [],
      "source": [
        "#en caso de que quiera ocultar una capa\n",
        "oculta1=model.layers[1]"
      ]
    },
    {
      "cell_type": "code",
      "execution_count": 24,
      "id": "63f93331-0905-4433-a831-332c81d4961e",
      "metadata": {
        "id": "63f93331-0905-4433-a831-332c81d4961e",
        "outputId": "7e468c4a-ca78-4a4e-fbe8-899c46b387cf",
        "colab": {
          "base_uri": "https://localhost:8080/",
          "height": 35
        }
      },
      "outputs": [
        {
          "output_type": "execute_result",
          "data": {
            "text/plain": [
              "'dense'"
            ],
            "application/vnd.google.colaboratory.intrinsic+json": {
              "type": "string"
            }
          },
          "metadata": {},
          "execution_count": 24
        }
      ],
      "source": [
        "oculta1.name"
      ]
    },
    {
      "cell_type": "code",
      "execution_count": 25,
      "id": "c84667b1-9667-4fe9-848b-ddb593909cd4",
      "metadata": {
        "id": "c84667b1-9667-4fe9-848b-ddb593909cd4"
      },
      "outputs": [],
      "source": [
        "#ver los pesos de la red neuronal\n",
        "pesos, bias = oculta1.get_weights()"
      ]
    },
    {
      "cell_type": "code",
      "execution_count": 26,
      "id": "16cf39b9-1e0d-4b7b-8295-5c969ac7f919",
      "metadata": {
        "id": "16cf39b9-1e0d-4b7b-8295-5c969ac7f919",
        "outputId": "5c8301b4-b27f-46b9-f1cb-4075bc55be4f",
        "colab": {
          "base_uri": "https://localhost:8080/"
        }
      },
      "outputs": [
        {
          "output_type": "execute_result",
          "data": {
            "text/plain": [
              "array([[-0.04075965, -0.00143493, -0.00597616, ...,  0.03671164,\n",
              "         0.01341635, -0.01214607],\n",
              "       [ 0.01619072,  0.03799785, -0.02018998, ..., -0.00303333,\n",
              "        -0.03993684,  0.03814892],\n",
              "       [-0.01506439,  0.04024315, -0.00585894, ...,  0.0238528 ,\n",
              "        -0.01693865,  0.03635772],\n",
              "       ...,\n",
              "       [ 0.01405448, -0.0193889 , -0.01308157, ..., -0.00101438,\n",
              "        -0.00975193,  0.03634217],\n",
              "       [-0.03234527,  0.01354305, -0.02926583, ..., -0.0191346 ,\n",
              "         0.00614794, -0.03707264],\n",
              "       [-0.00599894, -0.00776666,  0.03851501, ...,  0.01278815,\n",
              "        -0.01919011, -0.03791812]], dtype=float32)"
            ]
          },
          "metadata": {},
          "execution_count": 26
        }
      ],
      "source": [
        "pesos"
      ]
    },
    {
      "cell_type": "code",
      "execution_count": 27,
      "id": "159410a2-3e6a-446d-b244-80bc029ef28c",
      "metadata": {
        "id": "159410a2-3e6a-446d-b244-80bc029ef28c",
        "outputId": "e3677c2b-1275-44e8-9d12-4a74837d5faa",
        "colab": {
          "base_uri": "https://localhost:8080/"
        }
      },
      "outputs": [
        {
          "output_type": "execute_result",
          "data": {
            "text/plain": [
              "(3072, 300)"
            ]
          },
          "metadata": {},
          "execution_count": 27
        }
      ],
      "source": [
        "#la primera capa entran 3072 datos y escupe 300\n",
        "pesos.shape"
      ]
    },
    {
      "cell_type": "code",
      "execution_count": 28,
      "id": "5f131b55-05f8-4ff5-bbb6-5023071c3a46",
      "metadata": {
        "id": "5f131b55-05f8-4ff5-bbb6-5023071c3a46",
        "outputId": "97ac8963-0f64-4dd3-e6c1-8a6becfa6c8c",
        "colab": {
          "base_uri": "https://localhost:8080/"
        }
      },
      "outputs": [
        {
          "output_type": "execute_result",
          "data": {
            "text/plain": [
              "(300,)"
            ]
          },
          "metadata": {},
          "execution_count": 28
        }
      ],
      "source": [
        "#lo mismo es con los bias...\n",
        "bias.shape"
      ]
    },
    {
      "cell_type": "code",
      "execution_count": 29,
      "id": "dd06afff-0f4f-463f-97f4-752235603595",
      "metadata": {
        "id": "dd06afff-0f4f-463f-97f4-752235603595",
        "outputId": "86f85e78-ec76-4e8e-a4c9-600083d1f250",
        "colab": {
          "base_uri": "https://localhost:8080/"
        }
      },
      "outputs": [
        {
          "output_type": "execute_result",
          "data": {
            "text/plain": [
              "array([0., 0., 0., 0., 0., 0., 0., 0., 0., 0., 0., 0., 0., 0., 0., 0., 0.,\n",
              "       0., 0., 0., 0., 0., 0., 0., 0., 0., 0., 0., 0., 0., 0., 0., 0., 0.,\n",
              "       0., 0., 0., 0., 0., 0., 0., 0., 0., 0., 0., 0., 0., 0., 0., 0., 0.,\n",
              "       0., 0., 0., 0., 0., 0., 0., 0., 0., 0., 0., 0., 0., 0., 0., 0., 0.,\n",
              "       0., 0., 0., 0., 0., 0., 0., 0., 0., 0., 0., 0., 0., 0., 0., 0., 0.,\n",
              "       0., 0., 0., 0., 0., 0., 0., 0., 0., 0., 0., 0., 0., 0., 0., 0., 0.,\n",
              "       0., 0., 0., 0., 0., 0., 0., 0., 0., 0., 0., 0., 0., 0., 0., 0., 0.,\n",
              "       0., 0., 0., 0., 0., 0., 0., 0., 0., 0., 0., 0., 0., 0., 0., 0., 0.,\n",
              "       0., 0., 0., 0., 0., 0., 0., 0., 0., 0., 0., 0., 0., 0., 0., 0., 0.,\n",
              "       0., 0., 0., 0., 0., 0., 0., 0., 0., 0., 0., 0., 0., 0., 0., 0., 0.,\n",
              "       0., 0., 0., 0., 0., 0., 0., 0., 0., 0., 0., 0., 0., 0., 0., 0., 0.,\n",
              "       0., 0., 0., 0., 0., 0., 0., 0., 0., 0., 0., 0., 0., 0., 0., 0., 0.,\n",
              "       0., 0., 0., 0., 0., 0., 0., 0., 0., 0., 0., 0., 0., 0., 0., 0., 0.,\n",
              "       0., 0., 0., 0., 0., 0., 0., 0., 0., 0., 0., 0., 0., 0., 0., 0., 0.,\n",
              "       0., 0., 0., 0., 0., 0., 0., 0., 0., 0., 0., 0., 0., 0., 0., 0., 0.,\n",
              "       0., 0., 0., 0., 0., 0., 0., 0., 0., 0., 0., 0., 0., 0., 0., 0., 0.,\n",
              "       0., 0., 0., 0., 0., 0., 0., 0., 0., 0., 0., 0., 0., 0., 0., 0., 0.,\n",
              "       0., 0., 0., 0., 0., 0., 0., 0., 0., 0., 0.], dtype=float32)"
            ]
          },
          "metadata": {},
          "execution_count": 29
        }
      ],
      "source": [
        "#desplegar los bias que están inicializados en 0\n",
        "bias"
      ]
    },
    {
      "cell_type": "code",
      "execution_count": 31,
      "id": "1265370f-9ba2-4670-89c6-77e10bac8c6a",
      "metadata": {
        "id": "1265370f-9ba2-4670-89c6-77e10bac8c6a"
      },
      "outputs": [],
      "source": [
        "#Otra manera de hacer el modelo (Es cuestión de gusto chicas y chicos)\n",
        "model = keras.models.Sequential([\n",
        "    keras.layers.Flatten(input_shape=[32,32, 3]),\n",
        "    keras.layers.Dense(300, activation=\"relu\"),\n",
        "    keras.layers.Dense(100, activation=\"relu\"),\n",
        "    keras.layers.Dense(10, activation=\"softmax\"),\n",
        "])"
      ]
    },
    {
      "cell_type": "markdown",
      "id": "2242eab3-8865-48b7-a4aa-5a162c68e55d",
      "metadata": {
        "id": "2242eab3-8865-48b7-a4aa-5a162c68e55d"
      },
      "source": [
        "### <span style=\"color:blue\">2.3 Compilando el modelo </span>"
      ]
    },
    {
      "cell_type": "code",
      "execution_count": 32,
      "id": "0aa04734-7039-4d4e-bb50-77d86cad52b0",
      "metadata": {
        "id": "0aa04734-7039-4d4e-bb50-77d86cad52b0"
      },
      "outputs": [],
      "source": [
        "#compilar el modelo con optimizador SGD (Stochastic Gradient Descent) y una función de pérdida sparse_categorical_crossentropy\n",
        "model.compile(optimizer=\"adam\",\n",
        "              loss=\"sparse_categorical_crossentropy\",\n",
        "              metrics=[\"accuracy\"])"
      ]
    },
    {
      "cell_type": "markdown",
      "id": "2e6dd375-1c28-4af7-abfc-34b652391f40",
      "metadata": {
        "id": "2e6dd375-1c28-4af7-abfc-34b652391f40"
      },
      "source": [
        "### <span style=\"color:blue\">2.4 Entrenar y Evaluar el Modelo </span>"
      ]
    },
    {
      "cell_type": "markdown",
      "id": "de6e6cf4-86a5-4de7-ba9d-f1227acad8e2",
      "metadata": {
        "id": "de6e6cf4-86a5-4de7-ba9d-f1227acad8e2"
      },
      "source": [
        "### <span style=\"color:blue\">2.5 Tratando de Arreglar el Fracaso </span>"
      ]
    },
    {
      "cell_type": "code",
      "execution_count": 33,
      "id": "75f668f3-6d56-4b81-99b8-dd4ccbd0a102",
      "metadata": {
        "id": "75f668f3-6d56-4b81-99b8-dd4ccbd0a102"
      },
      "outputs": [],
      "source": [
        "#Importar pandas y numpy\n",
        "import pandas as pd\n",
        "import numpy as np"
      ]
    },
    {
      "cell_type": "code",
      "source": [],
      "metadata": {
        "id": "ek6XJH3E0y4s"
      },
      "id": "ek6XJH3E0y4s",
      "execution_count": 52,
      "outputs": []
    },
    {
      "cell_type": "code",
      "execution_count": 34,
      "metadata": {
        "id": "ce33e920-7e49-4c52-8ae4-53aab7ba5cc2",
        "outputId": "48a03d45-fa5d-43df-ca50-1aaf3e720eb9",
        "colab": {
          "base_uri": "https://localhost:8080/"
        }
      },
      "outputs": [
        {
          "output_type": "stream",
          "name": "stdout",
          "text": [
            "Epoch 1/35\n",
            "1407/1407 [==============================] - 28s 19ms/step - loss: 0.0017 - accuracy: 0.0998 - val_loss: 0.0000e+00 - val_accuracy: 0.1010\n",
            "Epoch 2/35\n",
            "1407/1407 [==============================] - 26s 19ms/step - loss: 1.1788e-09 - accuracy: 0.0999 - val_loss: 0.0000e+00 - val_accuracy: 0.1010\n",
            "Epoch 3/35\n",
            "1407/1407 [==============================] - 27s 19ms/step - loss: 8.4770e-10 - accuracy: 0.0999 - val_loss: 0.0000e+00 - val_accuracy: 0.1010\n",
            "Epoch 4/35\n",
            "1407/1407 [==============================] - 26s 18ms/step - loss: 6.2253e-10 - accuracy: 0.0999 - val_loss: 0.0000e+00 - val_accuracy: 0.1010\n",
            "Epoch 5/35\n",
            "1407/1407 [==============================] - 26s 18ms/step - loss: 4.4769e-10 - accuracy: 0.0999 - val_loss: 0.0000e+00 - val_accuracy: 0.1010\n",
            "Epoch 6/35\n",
            "1407/1407 [==============================] - 26s 18ms/step - loss: 3.1259e-10 - accuracy: 0.0999 - val_loss: 0.0000e+00 - val_accuracy: 0.1010\n",
            "Epoch 7/35\n",
            "1407/1407 [==============================] - 26s 18ms/step - loss: 2.2517e-10 - accuracy: 0.0999 - val_loss: 0.0000e+00 - val_accuracy: 0.1010\n",
            "Epoch 8/35\n",
            "1407/1407 [==============================] - 26s 18ms/step - loss: 1.6159e-10 - accuracy: 0.0999 - val_loss: 0.0000e+00 - val_accuracy: 0.1010\n",
            "Epoch 9/35\n",
            "1407/1407 [==============================] - 26s 19ms/step - loss: 1.1921e-10 - accuracy: 0.0999 - val_loss: 0.0000e+00 - val_accuracy: 0.1010\n",
            "Epoch 10/35\n",
            "1407/1407 [==============================] - 28s 20ms/step - loss: 9.5367e-11 - accuracy: 0.0999 - val_loss: 0.0000e+00 - val_accuracy: 0.1010\n",
            "Epoch 11/35\n",
            "1407/1407 [==============================] - 27s 20ms/step - loss: 7.4175e-11 - accuracy: 0.0999 - val_loss: 0.0000e+00 - val_accuracy: 0.1010\n",
            "Epoch 12/35\n",
            "1407/1407 [==============================] - 28s 20ms/step - loss: 6.0929e-11 - accuracy: 0.0999 - val_loss: 0.0000e+00 - val_accuracy: 0.1010\n",
            "Epoch 13/35\n",
            "1407/1407 [==============================] - 27s 19ms/step - loss: 4.5035e-11 - accuracy: 0.0999 - val_loss: 0.0000e+00 - val_accuracy: 0.1010\n",
            "Epoch 14/35\n",
            "1407/1407 [==============================] - 29s 21ms/step - loss: 3.9736e-11 - accuracy: 0.0999 - val_loss: 0.0000e+00 - val_accuracy: 0.1010\n",
            "Epoch 15/35\n",
            "1407/1407 [==============================] - 26s 18ms/step - loss: 3.1789e-11 - accuracy: 0.0999 - val_loss: 0.0000e+00 - val_accuracy: 0.1010\n",
            "Epoch 16/35\n",
            "1407/1407 [==============================] - 26s 19ms/step - loss: 3.1789e-11 - accuracy: 0.0999 - val_loss: 0.0000e+00 - val_accuracy: 0.1010\n",
            "Epoch 17/35\n",
            "1407/1407 [==============================] - 26s 19ms/step - loss: 2.6491e-11 - accuracy: 0.0999 - val_loss: 0.0000e+00 - val_accuracy: 0.1010\n",
            "Epoch 18/35\n",
            "1407/1407 [==============================] - 26s 19ms/step - loss: 2.3842e-11 - accuracy: 0.0999 - val_loss: 0.0000e+00 - val_accuracy: 0.1010\n",
            "Epoch 19/35\n",
            "1407/1407 [==============================] - 26s 19ms/step - loss: 1.8544e-11 - accuracy: 0.0999 - val_loss: 0.0000e+00 - val_accuracy: 0.1010\n",
            "Epoch 20/35\n",
            "1407/1407 [==============================] - 26s 18ms/step - loss: 1.8544e-11 - accuracy: 0.0999 - val_loss: 0.0000e+00 - val_accuracy: 0.1010\n",
            "Epoch 21/35\n",
            "1407/1407 [==============================] - 27s 19ms/step - loss: 1.3245e-11 - accuracy: 0.0999 - val_loss: 0.0000e+00 - val_accuracy: 0.1010\n",
            "Epoch 22/35\n",
            "1407/1407 [==============================] - 27s 19ms/step - loss: 1.3245e-11 - accuracy: 0.0999 - val_loss: 0.0000e+00 - val_accuracy: 0.1010\n",
            "Epoch 23/35\n",
            "1407/1407 [==============================] - 27s 19ms/step - loss: 1.3245e-11 - accuracy: 0.0999 - val_loss: 0.0000e+00 - val_accuracy: 0.1010\n",
            "Epoch 24/35\n",
            "1407/1407 [==============================] - 26s 19ms/step - loss: 1.0596e-11 - accuracy: 0.0999 - val_loss: 0.0000e+00 - val_accuracy: 0.1010\n",
            "Epoch 25/35\n",
            "1407/1407 [==============================] - 26s 19ms/step - loss: 1.0596e-11 - accuracy: 0.0999 - val_loss: 0.0000e+00 - val_accuracy: 0.1010\n",
            "Epoch 26/35\n",
            "1407/1407 [==============================] - 27s 19ms/step - loss: 7.9473e-12 - accuracy: 0.0999 - val_loss: 0.0000e+00 - val_accuracy: 0.1010\n",
            "Epoch 27/35\n",
            "1407/1407 [==============================] - 27s 19ms/step - loss: 7.9473e-12 - accuracy: 0.0999 - val_loss: 0.0000e+00 - val_accuracy: 0.1010\n",
            "Epoch 28/35\n",
            "1407/1407 [==============================] - 27s 19ms/step - loss: 7.9473e-12 - accuracy: 0.0999 - val_loss: 0.0000e+00 - val_accuracy: 0.1010\n",
            "Epoch 29/35\n",
            "1407/1407 [==============================] - 26s 19ms/step - loss: 7.9473e-12 - accuracy: 0.0999 - val_loss: 0.0000e+00 - val_accuracy: 0.1010\n",
            "Epoch 30/35\n",
            "1407/1407 [==============================] - 27s 19ms/step - loss: 7.9473e-12 - accuracy: 0.0999 - val_loss: 0.0000e+00 - val_accuracy: 0.1010\n",
            "Epoch 31/35\n",
            "1407/1407 [==============================] - 26s 19ms/step - loss: 7.9473e-12 - accuracy: 0.0999 - val_loss: 0.0000e+00 - val_accuracy: 0.1010\n",
            "Epoch 32/35\n",
            "1407/1407 [==============================] - 27s 19ms/step - loss: 7.9473e-12 - accuracy: 0.0999 - val_loss: 0.0000e+00 - val_accuracy: 0.1010\n",
            "Epoch 33/35\n",
            "1407/1407 [==============================] - 26s 19ms/step - loss: 5.2982e-12 - accuracy: 0.0999 - val_loss: 0.0000e+00 - val_accuracy: 0.1010\n",
            "Epoch 34/35\n",
            "1407/1407 [==============================] - 26s 19ms/step - loss: 5.2982e-12 - accuracy: 0.0999 - val_loss: 0.0000e+00 - val_accuracy: 0.1010\n",
            "Epoch 35/35\n",
            "1407/1407 [==============================] - 27s 19ms/step - loss: 5.2982e-12 - accuracy: 0.0999 - val_loss: 0.0000e+00 - val_accuracy: 0.1010\n"
          ]
        }
      ],
      "source": [
        "#Entrenarlo durante 35 epochs\n",
        "entrenamiento = model.fit(x_train, y_train, epochs=35, validation_data=(x_valid, y_valid))"
      ],
      "id": "ce33e920-7e49-4c52-8ae4-53aab7ba5cc2"
    },
    {
      "cell_type": "code",
      "execution_count": 36,
      "id": "d5b5c22a-2cac-4b74-90ee-f862b490c66b",
      "metadata": {
        "id": "d5b5c22a-2cac-4b74-90ee-f862b490c66b",
        "outputId": "55c048dd-cddb-4536-a3b1-8df22e87eb3f",
        "colab": {
          "base_uri": "https://localhost:8080/",
          "height": 435
        }
      },
      "outputs": [
        {
          "output_type": "display_data",
          "data": {
            "text/plain": [
              "<Figure size 640x480 with 1 Axes>"
            ],
            "image/png": "[encoded data removed]"
          },
          "metadata": {}
        }
      ],
      "source": [
        "#Armar un dataframe de los datos del modelo que armamos y lo gráficamos\n",
        "pd.DataFrame(entrenamiento.history).plot()\n",
        "plt.grid()\n",
        "plt.gca().set_ylim(0,0.12)\n",
        "plt.show()"
      ]
    },
    {
      "cell_type": "markdown",
      "id": "87d242f2-4e48-408a-8a8b-da8ef989cb1f",
      "metadata": {
        "id": "87d242f2-4e48-408a-8a8b-da8ef989cb1f"
      },
      "source": [
        "Así se ve un modelo que no sirve"
      ]
    },
    {
      "cell_type": "code",
      "execution_count": 37,
      "id": "7da7cc2b-cb1d-41c0-bdd6-24c5a398a125",
      "metadata": {
        "id": "7da7cc2b-cb1d-41c0-bdd6-24c5a398a125",
        "outputId": "561309df-6dc5-4682-8da1-2c1b6fa25707",
        "colab": {
          "base_uri": "https://localhost:8080/"
        }
      },
      "outputs": [
        {
          "output_type": "stream",
          "name": "stdout",
          "text": [
            "313/313 [==============================] - 2s 5ms/step - loss: 146.3077 - accuracy: 0.1000\n"
          ]
        },
        {
          "output_type": "execute_result",
          "data": {
            "text/plain": [
              "[146.3077392578125, 0.10000000149011612]"
            ]
          },
          "metadata": {},
          "execution_count": 37
        }
      ],
      "source": [
        "#Ver la calificación de nuestro modelo feo\n",
        "model.evaluate(x_test,y_test)"
      ]
    },
    {
      "cell_type": "code",
      "source": [
        "!pip install keras"
      ],
      "metadata": {
        "id": "TY0mRHCLu-OA",
        "outputId": "806ec628-c631-4b4f-8b79-251823b5fbc3",
        "colab": {
          "base_uri": "https://localhost:8080/"
        }
      },
      "id": "TY0mRHCLu-OA",
      "execution_count": 44,
      "outputs": [
        {
          "output_type": "stream",
          "name": "stdout",
          "text": [
            "Requirement already satisfied: keras in /usr/local/lib/python3.10/dist-packages (2.15.0)\n"
          ]
        }
      ]
    },
    {
      "cell_type": "code",
      "execution_count": 51,
      "id": "20d08828-10e7-4540-b110-0368eb62cfcd",
      "metadata": {
        "id": "20d08828-10e7-4540-b110-0368eb62cfcd",
        "outputId": "72e263bd-fa74-4078-bc02-04f3221c40db",
        "colab": {
          "base_uri": "https://localhost:8080/"
        }
      },
      "outputs": [
        {
          "output_type": "stream",
          "name": "stdout",
          "text": [
            "45000 train samples\n",
            "10000 test samples\n",
            "5000 validation samples\n"
          ]
        }
      ],
      "source": [
        "#Cambiar resultados a Encriptación uno caliente\n",
        "from tensorflow.keras.utils import to_categorical\n",
        "\n",
        "#Manera complicada de decir que habrá 10 clases\n",
        "num_classes = len(np.unique(y_train))\n",
        "#Esto convertirá en encriptación uno caliente y le tengo que decir que hay 10 clases\n",
        "y_train = tf.keras.utils.to_categorical(y_train_completo,num_classes)\n",
        "y_test = tf.keras.utils.to_categorical(y_test,num_classes)\n",
        "\n",
        "\n",
        "#Cambiar el tipo de datos\n",
        "x_train = x_train_completo.astype('float32')\n",
        "x_test = x_test.astype('float32')\n",
        "x_train /= 255\n",
        "x_test /= 255\n",
        "\n",
        "(x_train, x_valid) = x_train[5000:], x_train[:5000]\n",
        "(y_train, y_valid) = y_train[5000:], y_train[:5000]\n",
        "\n",
        "#Imprimir como queda para visualizarlo\n",
        "print(x_train.shape[0], 'train samples')\n",
        "print(x_test.shape[0], 'test samples')\n",
        "print(x_valid.shape[0], 'validation samples')\n"
      ]
    },
    {
      "cell_type": "code",
      "execution_count": 52,
      "id": "da41885a-662e-472f-ad44-cae98de54c39",
      "metadata": {
        "id": "da41885a-662e-472f-ad44-cae98de54c39"
      },
      "outputs": [],
      "source": [
        "#Volver hacer el modelo ahora\n",
        "model = keras.models.Sequential()"
      ]
    },
    {
      "cell_type": "code",
      "execution_count": 53,
      "id": "a18f5086-592a-4091-ba4a-06fd6d41e06f",
      "metadata": {
        "id": "a18f5086-592a-4091-ba4a-06fd6d41e06f"
      },
      "outputs": [],
      "source": [
        "#Por flojos para abreviar la red y no poner \"keras.layers\"\n",
        "from keras.layers import Dense,Flatten"
      ]
    },
    {
      "cell_type": "code",
      "execution_count": 54,
      "id": "b6322b15-8b60-47da-98ce-45e6f9092f8e",
      "metadata": {
        "id": "b6322b15-8b60-47da-98ce-45e6f9092f8e"
      },
      "outputs": [],
      "source": [
        "#capa de entrada\n",
        "model.add(Flatten(input_shape = x_train.shape[1:]))"
      ]
    },
    {
      "cell_type": "code",
      "execution_count": 55,
      "id": "1f1404b9-e78b-4541-90be-bd27bd09ee69",
      "metadata": {
        "id": "1f1404b9-e78b-4541-90be-bd27bd09ee69"
      },
      "outputs": [],
      "source": [
        "#Crea capitas como ya sabes :bb\n",
        "model.add(Dense(1000, activation='relu'))\n",
        "model.add(Dense(512, activation='relu'))\n",
        "model.add(Dense(10, activation='softmax'))"
      ]
    },
    {
      "cell_type": "code",
      "execution_count": 56,
      "id": "2f141d04-cc7e-4d6d-a124-530d24e9b094",
      "metadata": {
        "id": "2f141d04-cc7e-4d6d-a124-530d24e9b094"
      },
      "outputs": [],
      "source": [
        "#Compilar el modelo donde los resultados ya no son esparsos por la encriptación uno caliente\n",
        "#Intentemos otro optimizador que no conocemos (aún)\n",
        "model.compile(loss=\"categorical_crossentropy\",optimizer=\"rmsprop\",metrics=[\"accuracy\"])"
      ]
    },
    {
      "cell_type": "code",
      "execution_count": 57,
      "id": "e964ce0b-4815-4258-aa58-5542e8c2f0b6",
      "metadata": {
        "id": "e964ce0b-4815-4258-aa58-5542e8c2f0b6",
        "outputId": "03072ef4-f177-4320-f059-c544c9651f70",
        "colab": {
          "base_uri": "https://localhost:8080/"
        }
      },
      "outputs": [
        {
          "output_type": "stream",
          "name": "stdout",
          "text": [
            "Model: \"sequential_4\"\n",
            "_________________________________________________________________\n",
            " Layer (type)                Output Shape              Param #   \n",
            "=================================================================\n",
            " flatten_4 (Flatten)         (None, 3072)              0         \n",
            "                                                                 \n",
            " dense_8 (Dense)             (None, 1000)              3073000   \n",
            "                                                                 \n",
            " dense_9 (Dense)             (None, 512)               512512    \n",
            "                                                                 \n",
            " dense_10 (Dense)            (None, 10)                5130      \n",
            "                                                                 \n",
            "=================================================================\n",
            "Total params: 3590642 (13.70 MB)\n",
            "Trainable params: 3590642 (13.70 MB)\n",
            "Non-trainable params: 0 (0.00 Byte)\n",
            "_________________________________________________________________\n"
          ]
        }
      ],
      "source": [
        "#Checa como va tu modelo con summary()\n",
        "model.summary()"
      ]
    },
    {
      "cell_type": "code",
      "execution_count": 58,
      "id": "dd947b9c-95bd-400b-bc0c-b1b139bd3cc5",
      "metadata": {
        "id": "dd947b9c-95bd-400b-bc0c-b1b139bd3cc5",
        "outputId": "20f879b8-f9d0-422d-c780-d515d4ec4af6",
        "colab": {
          "base_uri": "https://localhost:8080/"
        }
      },
      "outputs": [
        {
          "output_type": "stream",
          "name": "stdout",
          "text": [
            "Epoch 1/10\n",
            "1407/1407 [==============================] - 78s 55ms/step - loss: 1.9503 - accuracy: 0.3052 - val_loss: 1.7385 - val_accuracy: 0.3764\n",
            "Epoch 2/10\n",
            "1407/1407 [==============================] - 71s 50ms/step - loss: 1.7269 - accuracy: 0.3825 - val_loss: 1.6837 - val_accuracy: 0.3902\n",
            "Epoch 3/10\n",
            "1407/1407 [==============================] - 72s 51ms/step - loss: 1.6552 - accuracy: 0.4128 - val_loss: 1.7563 - val_accuracy: 0.3806\n",
            "Epoch 4/10\n",
            "1407/1407 [==============================] - 70s 50ms/step - loss: 1.6114 - accuracy: 0.4321 - val_loss: 1.8945 - val_accuracy: 0.3754\n",
            "Epoch 5/10\n",
            "1407/1407 [==============================] - 78s 55ms/step - loss: 1.5833 - accuracy: 0.4404 - val_loss: 1.7306 - val_accuracy: 0.3978\n",
            "Epoch 6/10\n",
            "1407/1407 [==============================] - 72s 51ms/step - loss: 1.5623 - accuracy: 0.4455 - val_loss: 1.7453 - val_accuracy: 0.4090\n",
            "Epoch 7/10\n",
            "1407/1407 [==============================] - 72s 51ms/step - loss: 1.5470 - accuracy: 0.4522 - val_loss: 1.7061 - val_accuracy: 0.4212\n",
            "Epoch 8/10\n",
            "1407/1407 [==============================] - 73s 52ms/step - loss: 1.5395 - accuracy: 0.4583 - val_loss: 1.8324 - val_accuracy: 0.3762\n",
            "Epoch 9/10\n",
            "1407/1407 [==============================] - 73s 52ms/step - loss: 1.5281 - accuracy: 0.4628 - val_loss: 1.7602 - val_accuracy: 0.3950\n",
            "Epoch 10/10\n",
            "1407/1407 [==============================] - 73s 52ms/step - loss: 1.5294 - accuracy: 0.4626 - val_loss: 1.7250 - val_accuracy: 0.4064\n"
          ]
        }
      ],
      "source": [
        "#AHORA SI a correr el model\n",
        "hist = model.fit(x_train,y_train,epochs=10,validation_data=(x_valid,y_valid))"
      ]
    },
    {
      "cell_type": "code",
      "execution_count": 59,
      "id": "d09d823e-1b34-405b-b4e6-cf99a8dcede1",
      "metadata": {
        "id": "d09d823e-1b34-405b-b4e6-cf99a8dcede1",
        "outputId": "17522fc5-d8d8-42fd-8ad1-19988b74e0cb",
        "colab": {
          "base_uri": "https://localhost:8080/",
          "height": 430
        }
      },
      "outputs": [
        {
          "output_type": "display_data",
          "data": {
            "text/plain": [
              "<Figure size 640x480 with 1 Axes>"
            ],
            "image/png": "[encoded data removed]"
          },
          "metadata": {}
        }
      ],
      "source": [
        "#Hacer gráfica otra vez\n",
        "pd.DataFrame(hist.history).plot()\n",
        "plt.grid()\n",
        "#plt.gca().set_ylim(0,0.12)\n",
        "plt.show()"
      ]
    },
    {
      "cell_type": "markdown",
      "id": "7837bec2-363e-4ba8-9c47-6794fa0ac29b",
      "metadata": {
        "id": "7837bec2-363e-4ba8-9c47-6794fa0ac29b"
      },
      "source": [
        "La pérdida va disminuyendo y asertividad va subiendo conforme pasan las epochs. No mucho pero es mejora :)"
      ]
    },
    {
      "cell_type": "code",
      "execution_count": 60,
      "id": "d27846f8-6a9b-4f50-83bc-cccee8163353",
      "metadata": {
        "id": "d27846f8-6a9b-4f50-83bc-cccee8163353",
        "outputId": "75d25c8b-0e11-454c-b94b-f7cf37cfe346",
        "colab": {
          "base_uri": "https://localhost:8080/"
        }
      },
      "outputs": [
        {
          "output_type": "stream",
          "name": "stdout",
          "text": [
            "313/313 [==============================] - 4s 14ms/step - loss: 4.5329 - accuracy: 0.1000\n"
          ]
        },
        {
          "output_type": "execute_result",
          "data": {
            "text/plain": [
              "[4.532882213592529, 0.10000000149011612]"
            ]
          },
          "metadata": {},
          "execution_count": 60
        }
      ],
      "source": [
        "#Vamos a calificar el modelo\n",
        "model.evaluate(x_test,y_test)"
      ]
    },
    {
      "cell_type": "markdown",
      "id": "9250fe8a-c32d-448b-ab59-928c75998d6f",
      "metadata": {
        "id": "9250fe8a-c32d-448b-ab59-928c75998d6f"
      },
      "source": [
        "### <span style=\"color:blue\">2.6 Hacer predicciones </span>"
      ]
    },
    {
      "cell_type": "code",
      "execution_count": 61,
      "id": "103d338c-ba34-4b7d-b6f5-66b7c1067ac4",
      "metadata": {
        "id": "103d338c-ba34-4b7d-b6f5-66b7c1067ac4"
      },
      "outputs": [],
      "source": [
        "#Hagamos un set de datos nuevo donde pasemos una imagen que queramos evaluar\n",
        "x_nuevo = x_test[9:10]"
      ]
    },
    {
      "cell_type": "code",
      "execution_count": 62,
      "id": "40720949-1ba5-4064-88ae-bbbdcfa94702",
      "metadata": {
        "id": "40720949-1ba5-4064-88ae-bbbdcfa94702",
        "outputId": "d9bdf6d2-49ee-4906-b559-041df45cb93a",
        "colab": {
          "base_uri": "https://localhost:8080/",
          "height": 447
        }
      },
      "outputs": [
        {
          "output_type": "execute_result",
          "data": {
            "text/plain": [
              "<matplotlib.image.AxesImage at 0x7bfcf99a9480>"
            ]
          },
          "metadata": {},
          "execution_count": 62
        },
        {
          "output_type": "display_data",
          "data": {
            "text/plain": [
              "<Figure size 640x480 with 1 Axes>"
            ],
            "image/png": "[encoded data removed]"
          },
          "metadata": {}
        }
      ],
      "source": [
        "#quiero ver la imagen\n",
        "plt.imshow(np.squeeze(x_nuevo[0]*255))"
      ]
    },
    {
      "cell_type": "code",
      "execution_count": 63,
      "id": "ac212367-278d-442e-8a88-8282328bc4d6",
      "metadata": {
        "id": "ac212367-278d-442e-8a88-8282328bc4d6",
        "outputId": "8fcfff6b-84ff-4fb0-c00d-a4b2cb69ca94",
        "colab": {
          "base_uri": "https://localhost:8080/"
        }
      },
      "outputs": [
        {
          "output_type": "stream",
          "name": "stdout",
          "text": [
            "1/1 [==============================] - 0s 141ms/step\n"
          ]
        },
        {
          "output_type": "execute_result",
          "data": {
            "text/plain": [
              "array([[0.  , 0.  , 0.12, 0.05, 0.22, 0.01, 0.58, 0.01, 0.  , 0.  ]],\n",
              "      dtype=float32)"
            ]
          },
          "metadata": {},
          "execution_count": 63
        }
      ],
      "source": [
        "#Sacamos las probabilidades de que sea cada cosa\n",
        "y_proba = model.predict(x_nuevo)\n",
        "y_proba.round(2)"
      ]
    },
    {
      "cell_type": "code",
      "execution_count": 64,
      "id": "728dba3a-ead7-47f0-8711-b79362ad85cf",
      "metadata": {
        "id": "728dba3a-ead7-47f0-8711-b79362ad85cf",
        "outputId": "9420ca23-f98b-47fc-c367-a3b9e10b405c",
        "colab": {
          "base_uri": "https://localhost:8080/"
        }
      },
      "outputs": [
        {
          "output_type": "execute_result",
          "data": {
            "text/plain": [
              "['avion',\n",
              " 'coche',\n",
              " 'pajaro',\n",
              " 'gato',\n",
              " 'venado',\n",
              " 'perro',\n",
              " 'rana',\n",
              " 'caballo',\n",
              " 'barco',\n",
              " 'camion']"
            ]
          },
          "metadata": {},
          "execution_count": 64
        }
      ],
      "source": [
        "#recordamos nuestras clasificaciones\n",
        "nombres_clase"
      ]
    },
    {
      "cell_type": "markdown",
      "id": "ceda198d-ee6f-46e3-bff1-3b14cc3d6315",
      "metadata": {
        "id": "ceda198d-ee6f-46e3-bff1-3b14cc3d6315"
      },
      "source": [
        "Evalúa los ejemplos que pruebes y ve si el clasificador aserto o no"
      ]
    }
  ],
  "metadata": {
    "kernelspec": {
      "display_name": "Python 3 (ipykernel)",
      "language": "python",
      "name": "python3"
    },
    "language_info": {
      "codemirror_mode": {
        "name": "ipython",
        "version": 3
      },
      "file_extension": ".py",
      "mimetype": "text/x-python",
      "name": "python",
      "nbconvert_exporter": "python",
      "pygments_lexer": "ipython3",
      "version": "3.9.7"
    },
    "colab": {
      "provenance": [],
      "include_colab_link": true
    }
  },
  "nbformat": 4,
  "nbformat_minor": 5
}