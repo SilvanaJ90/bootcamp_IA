{
  "nbformat": 4,
  "nbformat_minor": 0,
  "metadata": {
    "colab": {
      "provenance": [],
      "gpuType": "T4",
      "include_colab_link": true
    },
    "kernelspec": {
      "name": "python3",
      "display_name": "Python 3"
    },
    "language_info": {
      "name": "python"
    },
    "accelerator": "GPU"
  },
  "cells": [
    {
      "cell_type": "markdown",
      "metadata": {
        "id": "view-in-github",
        "colab_type": "text"
      },
      "source": [
        "<a href=\"https://colab.research.google.com/github/SilvanaJ90/usergioarboleda-bootcamp_IA/blob/main/Semana_2_Clase_viernes_Mejoramiento_de_red_neuronal_profunda.ipynb\" target=\"_parent\"><img src=\"https://colab.research.google.com/assets/colab-badge.svg\" alt=\"Open In Colab\"/></a>"
      ]
    },
    {
      "cell_type": "markdown",
      "source": [
        "# Redes profundas."
      ],
      "metadata": {
        "id": "ZO_KJUS0Ozj9"
      }
    },
    {
      "cell_type": "markdown",
      "source": [
        "# 1. Introducción. 🏳\n",
        "\n",
        "La semana pasada nos dedicamos a introducir redes neuronales y fracasamos en la\n",
        "clasificación de imágenes del set datos CIFAR10. La verdad es que esto fue principalmente porque la red neuronal estaba extraordinariamente sencilla, no era lo suficientemente profunda, no tenían ni las suficientes capas, ni las suficientes neuronas.\n",
        "\n",
        "\n",
        "Lo que vamos a estar haciendo es corregir los errores que cometimos con CIFAR10 con una Red Neuronal Profunda, aunque nos vamos a encontrar con 3 problemas principales que tenemos que aprender a resolver. El primer problema consiste en la desaparición de los gradientes a través de las diferentes capas. También se presenta la lentitud a la hora del entrenamiento debido al aumento de información. Así mismo, está el constante problema del sobreajuste.\n",
        "\n",
        "\n",
        "*   Como objetivos del capítulo se establece arreglar la red neuronal para la clasificación\n",
        "imágenes de CIFAR10 y aprender las herramientas necesarias para entender publicaciones\n",
        "sobre las investigaciones de redes neuronales.\n",
        "\n",
        "\n"
      ],
      "metadata": {
        "id": "bZDy_jBVPG7q"
      }
    },
    {
      "cell_type": "markdown",
      "source": [
        "# 2. Mejorando red neuronal profunda para CIFAR10.\n",
        "\n",
        "Vamos a comenzar armando el modelo que más o menos hicimos la vez pasada, le vamos a estar colgando diferentes inicializaciones, diferentes funciones de activación, batch normalización y muchas otras cosas. Comencemos importando las librerías que necesitamos."
      ],
      "metadata": {
        "id": "uuF9XMnHPu92"
      }
    },
    {
      "cell_type": "markdown",
      "source": [
        "# 2.1 Importando librerias relevantes."
      ],
      "metadata": {
        "id": "_5yTPNcwQjwW"
      }
    },
    {
      "cell_type": "code",
      "execution_count": 1,
      "metadata": {
        "id": "uy7bXVXE8H8S"
      },
      "outputs": [],
      "source": [
        "import tensorflow as tf\n",
        "import matplotlib as mpl\n",
        "import matplotlib.pyplot as plt\n",
        "import numpy as np\n",
        "import pandas as pd\n",
        "from tensorflow import keras\n",
        "import os"
      ]
    },
    {
      "cell_type": "markdown",
      "source": [
        "# 3. Extrayendo los datos del CIFAR-10."
      ],
      "metadata": {
        "id": "GC_4rmlxQq0z"
      }
    },
    {
      "cell_type": "code",
      "source": [
        "(X_entrena_completo, y_entrena_completo), (X_test,y_test) = keras.datasets.cifar10.load_data()\n",
        "# Imagenes entrenamiento, etiquetas de imagenes de entrenamiento - imagenes validación, etiquetas de imagenes de validación"
      ],
      "metadata": {
        "colab": {
          "base_uri": "https://localhost:8080/"
        },
        "id": "2OT2H6OcQ1VM",
        "outputId": "7b26a308-8b04-45fc-88f9-ef6c0f3d6603"
      },
      "execution_count": null,
      "outputs": [
        {
          "output_type": "stream",
          "name": "stdout",
          "text": [
            "Downloading data from https://www.cs.toronto.edu/~kriz/cifar-10-python.tar.gz\n",
            "170498071/170498071 [==============================] - 3s 0us/step\n"
          ]
        }
      ]
    },
    {
      "cell_type": "markdown",
      "source": [
        "# 4. Creando nuestra semilla (Seed) para conservar concordancia en la aleatoriedad."
      ],
      "metadata": {
        "id": "xsLvMX7zRGic"
      }
    },
    {
      "cell_type": "code",
      "source": [
        "tf.random.set_seed(42)\n",
        "np.random.seed(42)"
      ],
      "metadata": {
        "id": "wVVyFmr2RSRF"
      },
      "execution_count": null,
      "outputs": []
    },
    {
      "cell_type": "markdown",
      "source": [
        "# 5. Modelo secuencial."
      ],
      "metadata": {
        "id": "GZG8WN6RRTjO"
      }
    },
    {
      "cell_type": "markdown",
      "source": [
        "# 5.1 Creando el modelo.\n",
        "\n",
        "Se aplican la sespecificaciones indicadas al inicio. 20 capas intermedias con 100 neuronas cada capa intermedia, una capa de entrada y una de salida con 10 nodos o neuronas."
      ],
      "metadata": {
        "id": "w0lmDuliSDOc"
      }
    },
    {
      "cell_type": "code",
      "source": [
        "model = keras.models.Sequential()\n",
        "model.add(keras.layers.Flatten(input_shape=[32,32,3]))\n",
        "for _ in range(20):\n",
        "  model.add(keras.layers.Dense(100,activation=\"relu\"))\n",
        "model.add(keras.layers.Dense(10,activation=\"softmax\"))"
      ],
      "metadata": {
        "id": "NI5lA6pZRZrz"
      },
      "execution_count": null,
      "outputs": []
    },
    {
      "cell_type": "markdown",
      "source": [
        "# 5.2 Resumen del modelo recien definido."
      ],
      "metadata": {
        "id": "S_QfdZRdRyBw"
      }
    },
    {
      "cell_type": "code",
      "source": [
        "model.summary()"
      ],
      "metadata": {
        "colab": {
          "base_uri": "https://localhost:8080/"
        },
        "id": "DKOXa0QMR4ih",
        "outputId": "8a00bf5f-cd1c-43d7-e275-9dd365d64b21"
      },
      "execution_count": null,
      "outputs": [
        {
          "output_type": "stream",
          "name": "stdout",
          "text": [
            "Model: \"sequential\"\n",
            "_________________________________________________________________\n",
            " Layer (type)                Output Shape              Param #   \n",
            "=================================================================\n",
            " flatten (Flatten)           (None, 3072)              0         \n",
            "                                                                 \n",
            " dense (Dense)               (None, 100)               307300    \n",
            "                                                                 \n",
            " dense_1 (Dense)             (None, 100)               10100     \n",
            "                                                                 \n",
            " dense_2 (Dense)             (None, 100)               10100     \n",
            "                                                                 \n",
            " dense_3 (Dense)             (None, 100)               10100     \n",
            "                                                                 \n",
            " dense_4 (Dense)             (None, 100)               10100     \n",
            "                                                                 \n",
            " dense_5 (Dense)             (None, 100)               10100     \n",
            "                                                                 \n",
            " dense_6 (Dense)             (None, 100)               10100     \n",
            "                                                                 \n",
            " dense_7 (Dense)             (None, 100)               10100     \n",
            "                                                                 \n",
            " dense_8 (Dense)             (None, 100)               10100     \n",
            "                                                                 \n",
            " dense_9 (Dense)             (None, 100)               10100     \n",
            "                                                                 \n",
            " dense_10 (Dense)            (None, 100)               10100     \n",
            "                                                                 \n",
            " dense_11 (Dense)            (None, 100)               10100     \n",
            "                                                                 \n",
            " dense_12 (Dense)            (None, 100)               10100     \n",
            "                                                                 \n",
            " dense_13 (Dense)            (None, 100)               10100     \n",
            "                                                                 \n",
            " dense_14 (Dense)            (None, 100)               10100     \n",
            "                                                                 \n",
            " dense_15 (Dense)            (None, 100)               10100     \n",
            "                                                                 \n",
            " dense_16 (Dense)            (None, 100)               10100     \n",
            "                                                                 \n",
            " dense_17 (Dense)            (None, 100)               10100     \n",
            "                                                                 \n",
            " dense_18 (Dense)            (None, 100)               10100     \n",
            "                                                                 \n",
            " dense_19 (Dense)            (None, 100)               10100     \n",
            "                                                                 \n",
            " dense_20 (Dense)            (None, 10)                1010      \n",
            "                                                                 \n",
            "=================================================================\n",
            "Total params: 500210 (1.91 MB)\n",
            "Trainable params: 500210 (1.91 MB)\n",
            "Non-trainable params: 0 (0.00 Byte)\n",
            "_________________________________________________________________\n"
          ]
        }
      ]
    },
    {
      "cell_type": "markdown",
      "source": [
        "# 5.3 Compilando el modelo."
      ],
      "metadata": {
        "id": "7xbaWWRDR7VO"
      }
    },
    {
      "cell_type": "code",
      "source": [
        "model.compile(loss=\"sparse_categorical_crossentropy\", optimizer=\"sgd\", metrics=[\"accuracy\"])"
      ],
      "metadata": {
        "id": "N8vPgVQRSe0R"
      },
      "execution_count": null,
      "outputs": []
    },
    {
      "cell_type": "markdown",
      "source": [
        "# 6.0 Early stopping\n",
        "\n",
        "Para evitar el sobre entrenamiento de una red neuronal profunda, donde se llegue a un punto entre las transiciones de las epocas de la misma en que ya la precisión no mejora y el error no disminuye, se estableceran unos 'puntos de guardado' o 'puntos de validación'. Para ello debemos modificar la cantidad los elementos de nuestro set de datos de entrenamiento y de valdación. Tambien, se deben estructurar los callbacks que nos permitiran la aplicación del early stopping."
      ],
      "metadata": {
        "id": "LBxBk-M_Soyz"
      }
    },
    {
      "cell_type": "code",
      "source": [
        "X_train = X_entrena_completo[5000:]\n",
        "y_train = y_entrena_completo[5000:]\n",
        "# Datos desde el indice 5000 hasta el ultimo\n",
        "\n",
        "X_valid = X_entrena_completo[:5000]\n",
        "y_valid = y_entrena_completo[:5000]\n",
        "# Datos desde el inicio hasta el 4999."
      ],
      "metadata": {
        "id": "5bZ3SGwnUXT9"
      },
      "execution_count": null,
      "outputs": []
    },
    {
      "cell_type": "code",
      "source": [
        "#Callback a 20 puntos, guardadndo en modelocifar10.h5\n",
        "early_stopping_cb = keras.callbacks.EarlyStopping(patience = 20)\n",
        "model_checkpoint_cb = keras.callbacks.ModelCheckpoint(\"modelocifar10.h5\", save_best_only=True)\n",
        "callbacks=[early_stopping_cb,model_checkpoint_cb]"
      ],
      "metadata": {
        "id": "FFeFHQg-UAEG"
      },
      "execution_count": null,
      "outputs": []
    },
    {
      "cell_type": "markdown",
      "source": [
        "# 7. Entrenamiento del modelo usando early stopping. 😓 🚦"
      ],
      "metadata": {
        "id": "dAHn4DFOTt7U"
      }
    },
    {
      "cell_type": "code",
      "source": [
        "history = model.fit(X_train,y_train, epochs = 30, validation_data=(X_valid, y_valid))"
      ],
      "metadata": {
        "colab": {
          "base_uri": "https://localhost:8080/"
        },
        "id": "tz-r8qgAVWPA",
        "outputId": "8b988891-a8d4-4949-b199-3812d56838dd"
      },
      "execution_count": null,
      "outputs": [
        {
          "output_type": "stream",
          "name": "stdout",
          "text": [
            "Epoch 1/30\n",
            "1407/1407 [==============================] - 14s 7ms/step - loss: 2.0762 - accuracy: 0.2072 - val_loss: 2.0363 - val_accuracy: 0.2334\n",
            "Epoch 2/30\n",
            "1407/1407 [==============================] - 9s 7ms/step - loss: 1.8995 - accuracy: 0.2950 - val_loss: 1.8481 - val_accuracy: 0.3118\n",
            "Epoch 3/30\n",
            "1407/1407 [==============================] - 10s 7ms/step - loss: 1.8192 - accuracy: 0.3324 - val_loss: 2.4412 - val_accuracy: 0.2212\n",
            "Epoch 4/30\n",
            "1407/1407 [==============================] - 10s 7ms/step - loss: 1.7568 - accuracy: 0.3617 - val_loss: 1.9178 - val_accuracy: 0.3090\n",
            "Epoch 5/30\n",
            "1407/1407 [==============================] - 10s 7ms/step - loss: 1.7148 - accuracy: 0.3802 - val_loss: 1.7589 - val_accuracy: 0.3468\n",
            "Epoch 6/30\n",
            "1407/1407 [==============================] - 10s 7ms/step - loss: 1.6795 - accuracy: 0.3952 - val_loss: 1.8189 - val_accuracy: 0.3538\n",
            "Epoch 7/30\n",
            "1407/1407 [==============================] - 10s 7ms/step - loss: 1.6444 - accuracy: 0.4078 - val_loss: 1.6805 - val_accuracy: 0.3954\n",
            "Epoch 8/30\n",
            "1407/1407 [==============================] - 11s 8ms/step - loss: 1.6167 - accuracy: 0.4171 - val_loss: 1.6409 - val_accuracy: 0.4092\n",
            "Epoch 9/30\n",
            "1407/1407 [==============================] - 10s 7ms/step - loss: 1.5972 - accuracy: 0.4296 - val_loss: 1.7255 - val_accuracy: 0.3944\n",
            "Epoch 10/30\n",
            "1407/1407 [==============================] - 10s 7ms/step - loss: 1.5728 - accuracy: 0.4334 - val_loss: 1.6899 - val_accuracy: 0.4062\n",
            "Epoch 11/30\n",
            "1407/1407 [==============================] - 10s 7ms/step - loss: 1.5545 - accuracy: 0.4417 - val_loss: 1.8350 - val_accuracy: 0.3632\n",
            "Epoch 12/30\n",
            "1407/1407 [==============================] - 9s 7ms/step - loss: 1.5364 - accuracy: 0.4502 - val_loss: 1.6236 - val_accuracy: 0.4228\n",
            "Epoch 13/30\n",
            "1407/1407 [==============================] - 10s 7ms/step - loss: 1.5202 - accuracy: 0.4579 - val_loss: 1.6919 - val_accuracy: 0.4028\n",
            "Epoch 14/30\n",
            "1407/1407 [==============================] - 10s 7ms/step - loss: 1.5048 - accuracy: 0.4599 - val_loss: 1.6304 - val_accuracy: 0.4284\n",
            "Epoch 15/30\n",
            "1407/1407 [==============================] - 10s 7ms/step - loss: 1.4910 - accuracy: 0.4692 - val_loss: 1.6007 - val_accuracy: 0.4284\n",
            "Epoch 16/30\n",
            "1407/1407 [==============================] - 10s 7ms/step - loss: 1.4747 - accuracy: 0.4728 - val_loss: 1.6610 - val_accuracy: 0.4206\n",
            "Epoch 17/30\n",
            "1407/1407 [==============================] - 10s 7ms/step - loss: 1.4653 - accuracy: 0.4751 - val_loss: 1.6301 - val_accuracy: 0.4244\n",
            "Epoch 18/30\n",
            "1407/1407 [==============================] - 9s 6ms/step - loss: 1.4493 - accuracy: 0.4816 - val_loss: 1.6003 - val_accuracy: 0.4374\n",
            "Epoch 19/30\n",
            "1407/1407 [==============================] - 10s 7ms/step - loss: 1.4347 - accuracy: 0.4855 - val_loss: 1.7350 - val_accuracy: 0.4088\n",
            "Epoch 20/30\n",
            "1407/1407 [==============================] - 11s 8ms/step - loss: 1.4233 - accuracy: 0.4914 - val_loss: 1.6042 - val_accuracy: 0.4238\n",
            "Epoch 21/30\n",
            "1407/1407 [==============================] - 10s 7ms/step - loss: 1.4149 - accuracy: 0.4925 - val_loss: 1.6067 - val_accuracy: 0.4344\n",
            "Epoch 22/30\n",
            "1407/1407 [==============================] - 10s 7ms/step - loss: 1.3989 - accuracy: 0.5007 - val_loss: 1.5324 - val_accuracy: 0.4590\n",
            "Epoch 23/30\n",
            "1407/1407 [==============================] - 10s 7ms/step - loss: 1.3902 - accuracy: 0.5031 - val_loss: 1.5859 - val_accuracy: 0.4346\n",
            "Epoch 24/30\n",
            "1407/1407 [==============================] - 10s 7ms/step - loss: 1.3802 - accuracy: 0.5075 - val_loss: 1.7220 - val_accuracy: 0.4150\n",
            "Epoch 25/30\n",
            "1407/1407 [==============================] - 10s 7ms/step - loss: 1.3716 - accuracy: 0.5096 - val_loss: 1.5329 - val_accuracy: 0.4614\n",
            "Epoch 26/30\n",
            "1407/1407 [==============================] - 10s 7ms/step - loss: 1.3556 - accuracy: 0.5160 - val_loss: 1.5696 - val_accuracy: 0.4572\n",
            "Epoch 27/30\n",
            "1407/1407 [==============================] - 11s 8ms/step - loss: 1.3439 - accuracy: 0.5194 - val_loss: 1.5068 - val_accuracy: 0.4758\n",
            "Epoch 28/30\n",
            "1407/1407 [==============================] - 10s 7ms/step - loss: 1.3341 - accuracy: 0.5224 - val_loss: 1.5647 - val_accuracy: 0.4466\n",
            "Epoch 29/30\n",
            "1407/1407 [==============================] - 10s 7ms/step - loss: 1.3280 - accuracy: 0.5278 - val_loss: 1.5338 - val_accuracy: 0.4510\n",
            "Epoch 30/30\n",
            "1407/1407 [==============================] - 9s 7ms/step - loss: 1.3216 - accuracy: 0.5258 - val_loss: 1.7830 - val_accuracy: 0.4068\n"
          ]
        }
      ]
    },
    {
      "cell_type": "markdown",
      "source": [
        "# 7.1 Evaluación de nuestro modelo recien entrenado. 🧪"
      ],
      "metadata": {
        "id": "tA_YMwGwVgnk"
      }
    },
    {
      "cell_type": "code",
      "source": [
        "model.evaluate(X_test,y_test)"
      ],
      "metadata": {
        "colab": {
          "base_uri": "https://localhost:8080/"
        },
        "id": "oOYQLES4VmjI",
        "outputId": "77aeb107-851c-44cf-e2c6-abdf3807ff7c"
      },
      "execution_count": null,
      "outputs": [
        {
          "output_type": "stream",
          "name": "stdout",
          "text": [
            "313/313 [==============================] - 1s 3ms/step - loss: 1.7759 - accuracy: 0.4091\n"
          ]
        },
        {
          "output_type": "execute_result",
          "data": {
            "text/plain": [
              "[1.7759257555007935, 0.4090999960899353]"
            ]
          },
          "metadata": {},
          "execution_count": 10
        }
      ]
    },
    {
      "cell_type": "markdown",
      "source": [
        "\n",
        "\n",
        "---\n",
        "\n"
      ],
      "metadata": {
        "id": "3J_mlZBQVt_0"
      }
    },
    {
      "cell_type": "markdown",
      "source": [
        "# 8. Limpiando la sesion anterior de entrenamiento."
      ],
      "metadata": {
        "id": "_I3dXLJfVxEm"
      }
    },
    {
      "cell_type": "code",
      "source": [
        "keras.backend.clear_session()"
      ],
      "metadata": {
        "id": "nLcmya-Fb1-o"
      },
      "execution_count": null,
      "outputs": []
    },
    {
      "cell_type": "markdown",
      "source": [
        "# 9. Definiendo nuevamente nuestra semilla."
      ],
      "metadata": {
        "id": "MHMdmpGMb2v2"
      }
    },
    {
      "cell_type": "code",
      "source": [
        "tf.random.set_seed(42)\n",
        "np.random.seed(42)"
      ],
      "metadata": {
        "id": "D9bN_6GScCy9"
      },
      "execution_count": null,
      "outputs": []
    },
    {
      "cell_type": "markdown",
      "source": [
        "*Se notara la diferencia a partir de este punto, donde se aplicaran los conceptos vistos en el material guia en la plataforma*"
      ],
      "metadata": {
        "id": "iz3g9saUcDoE"
      }
    },
    {
      "cell_type": "markdown",
      "source": [
        "# 10. Definiendo el modelo con unos cambios."
      ],
      "metadata": {
        "id": "Q9xV2jw8cWh_"
      }
    },
    {
      "cell_type": "code",
      "source": [
        "model = keras.models.Sequential()\n",
        "model.add(keras.layers.Flatten(input_shape=[32,32,3]))\n",
        "for _ in range(20):\n",
        "  model.add(keras.layers.Dense(100,activation=\"elu\", kernel_initializer=\"he_normal\"))\n",
        "model.add(keras.layers.Dense(10,activation=\"softmax\"))"
      ],
      "metadata": {
        "id": "uRaxGi4lcctR"
      },
      "execution_count": null,
      "outputs": []
    },
    {
      "cell_type": "markdown",
      "source": [
        "# 10.1 Resumen del nuevo modelo aplicando la inicialización he_normal en las capas intermedias."
      ],
      "metadata": {
        "id": "UiBzehNGcpEe"
      }
    },
    {
      "cell_type": "code",
      "source": [
        "model.summary()"
      ],
      "metadata": {
        "colab": {
          "base_uri": "https://localhost:8080/"
        },
        "id": "X3QCk4nycyGo",
        "outputId": "e893606d-2011-4331-b94b-85b59832c6cd"
      },
      "execution_count": null,
      "outputs": [
        {
          "output_type": "stream",
          "name": "stdout",
          "text": [
            "Model: \"sequential\"\n",
            "_________________________________________________________________\n",
            " Layer (type)                Output Shape              Param #   \n",
            "=================================================================\n",
            " flatten (Flatten)           (None, 3072)              0         \n",
            "                                                                 \n",
            " dense (Dense)               (None, 100)               307300    \n",
            "                                                                 \n",
            " dense_1 (Dense)             (None, 100)               10100     \n",
            "                                                                 \n",
            " dense_2 (Dense)             (None, 100)               10100     \n",
            "                                                                 \n",
            " dense_3 (Dense)             (None, 100)               10100     \n",
            "                                                                 \n",
            " dense_4 (Dense)             (None, 100)               10100     \n",
            "                                                                 \n",
            " dense_5 (Dense)             (None, 100)               10100     \n",
            "                                                                 \n",
            " dense_6 (Dense)             (None, 100)               10100     \n",
            "                                                                 \n",
            " dense_7 (Dense)             (None, 100)               10100     \n",
            "                                                                 \n",
            " dense_8 (Dense)             (None, 100)               10100     \n",
            "                                                                 \n",
            " dense_9 (Dense)             (None, 100)               10100     \n",
            "                                                                 \n",
            " dense_10 (Dense)            (None, 100)               10100     \n",
            "                                                                 \n",
            " dense_11 (Dense)            (None, 100)               10100     \n",
            "                                                                 \n",
            " dense_12 (Dense)            (None, 100)               10100     \n",
            "                                                                 \n",
            " dense_13 (Dense)            (None, 100)               10100     \n",
            "                                                                 \n",
            " dense_14 (Dense)            (None, 100)               10100     \n",
            "                                                                 \n",
            " dense_15 (Dense)            (None, 100)               10100     \n",
            "                                                                 \n",
            " dense_16 (Dense)            (None, 100)               10100     \n",
            "                                                                 \n",
            " dense_17 (Dense)            (None, 100)               10100     \n",
            "                                                                 \n",
            " dense_18 (Dense)            (None, 100)               10100     \n",
            "                                                                 \n",
            " dense_19 (Dense)            (None, 100)               10100     \n",
            "                                                                 \n",
            " dense_20 (Dense)            (None, 10)                1010      \n",
            "                                                                 \n",
            "=================================================================\n",
            "Total params: 500210 (1.91 MB)\n",
            "Trainable params: 500210 (1.91 MB)\n",
            "Non-trainable params: 0 (0.00 Byte)\n",
            "_________________________________________________________________\n"
          ]
        }
      ]
    },
    {
      "cell_type": "markdown",
      "source": [
        "# 10.1 Compilar el modelo (no se usa el early stopping).\n"
      ],
      "metadata": {
        "id": "mNxgxgR6c1X0"
      }
    },
    {
      "cell_type": "code",
      "source": [
        "model.compile(loss=\"sparse_categorical_crossentropy\", optimizer=\"sgd\", metrics=[\"accuracy\"])"
      ],
      "metadata": {
        "id": "9Pgd2G0sc7M8"
      },
      "execution_count": null,
      "outputs": []
    },
    {
      "cell_type": "markdown",
      "source": [
        "# 10.2 Iniciando el entrenamiento del nuevo modelo."
      ],
      "metadata": {
        "id": "7t_5ivkSdbPX"
      }
    },
    {
      "cell_type": "code",
      "source": [
        "history.model.fit(X_train,y_train, epochs=30,validation_data=(X_valid,y_valid))"
      ],
      "metadata": {
        "colab": {
          "base_uri": "https://localhost:8080/"
        },
        "id": "XK9J0v5OdfiT",
        "outputId": "f2cc9ed1-23d3-40a7-ef2c-ef581a3776d9"
      },
      "execution_count": null,
      "outputs": [
        {
          "output_type": "stream",
          "name": "stdout",
          "text": [
            "Epoch 1/30\n",
            "1407/1407 [==============================] - 10s 7ms/step - loss: 1.3082 - accuracy: 0.5314 - val_loss: 1.5039 - val_accuracy: 0.4788\n",
            "Epoch 2/30\n",
            "1407/1407 [==============================] - 10s 7ms/step - loss: 1.2973 - accuracy: 0.5379 - val_loss: 1.6867 - val_accuracy: 0.4096\n",
            "Epoch 3/30\n",
            "1407/1407 [==============================] - 9s 7ms/step - loss: 1.2948 - accuracy: 0.5361 - val_loss: 1.5511 - val_accuracy: 0.4638\n",
            "Epoch 4/30\n",
            "1407/1407 [==============================] - 10s 7ms/step - loss: 1.2799 - accuracy: 0.5439 - val_loss: 1.5278 - val_accuracy: 0.4740\n",
            "Epoch 5/30\n",
            "1407/1407 [==============================] - 10s 7ms/step - loss: 1.2737 - accuracy: 0.5448 - val_loss: 1.6240 - val_accuracy: 0.4496\n",
            "Epoch 6/30\n",
            "1407/1407 [==============================] - 10s 7ms/step - loss: 1.2678 - accuracy: 0.5478 - val_loss: 1.5034 - val_accuracy: 0.4704\n",
            "Epoch 7/30\n",
            "1407/1407 [==============================] - 10s 7ms/step - loss: 1.2587 - accuracy: 0.5520 - val_loss: 1.5979 - val_accuracy: 0.4484\n",
            "Epoch 8/30\n",
            "1407/1407 [==============================] - 9s 7ms/step - loss: 1.2489 - accuracy: 0.5533 - val_loss: 1.4841 - val_accuracy: 0.4862\n",
            "Epoch 9/30\n",
            "1407/1407 [==============================] - 10s 7ms/step - loss: 1.2415 - accuracy: 0.5562 - val_loss: 1.4795 - val_accuracy: 0.4886\n",
            "Epoch 10/30\n",
            "1407/1407 [==============================] - 10s 7ms/step - loss: 1.2306 - accuracy: 0.5581 - val_loss: 1.6223 - val_accuracy: 0.4480\n",
            "Epoch 11/30\n",
            "1407/1407 [==============================] - 10s 7ms/step - loss: 1.2251 - accuracy: 0.5641 - val_loss: 1.5746 - val_accuracy: 0.4618\n",
            "Epoch 12/30\n",
            "1407/1407 [==============================] - 10s 7ms/step - loss: 1.2174 - accuracy: 0.5651 - val_loss: 1.5140 - val_accuracy: 0.4840\n",
            "Epoch 13/30\n",
            "1407/1407 [==============================] - 9s 7ms/step - loss: 1.2110 - accuracy: 0.5669 - val_loss: 1.5481 - val_accuracy: 0.4640\n",
            "Epoch 14/30\n",
            "1407/1407 [==============================] - 10s 7ms/step - loss: 1.2034 - accuracy: 0.5688 - val_loss: 1.5756 - val_accuracy: 0.4660\n",
            "Epoch 15/30\n",
            "1407/1407 [==============================] - 11s 7ms/step - loss: 1.1951 - accuracy: 0.5744 - val_loss: 1.6873 - val_accuracy: 0.4558\n",
            "Epoch 16/30\n",
            "1407/1407 [==============================] - 10s 7ms/step - loss: 1.1869 - accuracy: 0.5754 - val_loss: 1.5413 - val_accuracy: 0.4696\n",
            "Epoch 17/30\n",
            "1407/1407 [==============================] - 10s 7ms/step - loss: 1.1839 - accuracy: 0.5777 - val_loss: 1.5016 - val_accuracy: 0.4834\n",
            "Epoch 18/30\n",
            "1407/1407 [==============================] - 9s 7ms/step - loss: 1.1702 - accuracy: 0.5839 - val_loss: 1.6804 - val_accuracy: 0.4434\n",
            "Epoch 19/30\n",
            "1407/1407 [==============================] - 10s 7ms/step - loss: 1.1700 - accuracy: 0.5833 - val_loss: 1.5429 - val_accuracy: 0.4896\n",
            "Epoch 20/30\n",
            "1407/1407 [==============================] - 10s 7ms/step - loss: 1.1571 - accuracy: 0.5879 - val_loss: 1.5395 - val_accuracy: 0.4764\n",
            "Epoch 21/30\n",
            "1407/1407 [==============================] - 10s 7ms/step - loss: 1.1583 - accuracy: 0.5872 - val_loss: 1.7159 - val_accuracy: 0.4478\n",
            "Epoch 22/30\n",
            "1407/1407 [==============================] - 10s 7ms/step - loss: 1.1487 - accuracy: 0.5925 - val_loss: 1.5925 - val_accuracy: 0.4606\n",
            "Epoch 23/30\n",
            "1407/1407 [==============================] - 9s 6ms/step - loss: 1.1398 - accuracy: 0.5928 - val_loss: 1.4767 - val_accuracy: 0.4950\n",
            "Epoch 24/30\n",
            "1407/1407 [==============================] - 10s 7ms/step - loss: 1.1347 - accuracy: 0.5970 - val_loss: 1.5308 - val_accuracy: 0.4838\n",
            "Epoch 25/30\n",
            "1407/1407 [==============================] - 10s 7ms/step - loss: 1.1278 - accuracy: 0.5998 - val_loss: 1.6184 - val_accuracy: 0.4746\n",
            "Epoch 26/30\n",
            "1407/1407 [==============================] - 10s 7ms/step - loss: 1.1174 - accuracy: 0.6018 - val_loss: 1.5311 - val_accuracy: 0.4818\n",
            "Epoch 27/30\n",
            "1407/1407 [==============================] - 10s 7ms/step - loss: 1.1142 - accuracy: 0.6039 - val_loss: 1.5705 - val_accuracy: 0.4718\n",
            "Epoch 28/30\n",
            "1407/1407 [==============================] - 9s 7ms/step - loss: 1.1092 - accuracy: 0.6038 - val_loss: 1.5180 - val_accuracy: 0.4866\n",
            "Epoch 29/30\n",
            "1407/1407 [==============================] - 10s 7ms/step - loss: 1.0987 - accuracy: 0.6081 - val_loss: 1.5224 - val_accuracy: 0.4804\n",
            "Epoch 30/30\n",
            "1407/1407 [==============================] - 10s 7ms/step - loss: 1.0989 - accuracy: 0.6101 - val_loss: 1.6273 - val_accuracy: 0.4588\n"
          ]
        },
        {
          "output_type": "execute_result",
          "data": {
            "text/plain": [
              "<keras.src.callbacks.History at 0x79e2200fe440>"
            ]
          },
          "metadata": {},
          "execution_count": 16
        }
      ]
    },
    {
      "cell_type": "markdown",
      "source": [
        "# 10.3 Evaluando el entrenamiento de nuestro nuevo modelo."
      ],
      "metadata": {
        "id": "3JkaLSexdrIc"
      }
    },
    {
      "cell_type": "code",
      "source": [
        "model.evaluate(X_test,y_test)"
      ],
      "metadata": {
        "colab": {
          "base_uri": "https://localhost:8080/"
        },
        "id": "NOHS-vq5dvzH",
        "outputId": "9e42520e-18b6-48d5-914c-f9514558d90d"
      },
      "execution_count": null,
      "outputs": [
        {
          "output_type": "stream",
          "name": "stdout",
          "text": [
            "313/313 [==============================] - 1s 3ms/step - loss: 231.6206 - accuracy: 0.1001\n"
          ]
        },
        {
          "output_type": "execute_result",
          "data": {
            "text/plain": [
              "[231.62062072753906, 0.10010000318288803]"
            ]
          },
          "metadata": {},
          "execution_count": 17
        }
      ]
    },
    {
      "cell_type": "markdown",
      "source": [
        "\n",
        "\n",
        "---\n",
        "\n"
      ],
      "metadata": {
        "id": "LQVJuXUheFMO"
      }
    },
    {
      "cell_type": "markdown",
      "source": [
        "# 11. Ajustando el modelo sobreajustado."
      ],
      "metadata": {
        "id": "d548Fj1BeGkt"
      }
    },
    {
      "cell_type": "markdown",
      "source": [
        "# 11.1 Limpiando la sesion anterior."
      ],
      "metadata": {
        "id": "0kBe-fuHelRm"
      }
    },
    {
      "cell_type": "code",
      "source": [
        "keras.backend.clear_session()"
      ],
      "metadata": {
        "id": "ONGcFaPPesVx"
      },
      "execution_count": null,
      "outputs": []
    },
    {
      "cell_type": "markdown",
      "source": [
        "# 11.2 Definiendo las semillas"
      ],
      "metadata": {
        "id": "HI2jnxLzevg1"
      }
    },
    {
      "cell_type": "code",
      "source": [
        "tf.random.set_seed(42)\n",
        "np.random.seed(42)"
      ],
      "metadata": {
        "id": "J9OdVfTpe1k5"
      },
      "execution_count": null,
      "outputs": []
    },
    {
      "cell_type": "markdown",
      "source": [
        "# 11.3 Armando el nuevo modelo (por tercera vez) 😆."
      ],
      "metadata": {
        "id": "0im9Xzeoe2Jy"
      }
    },
    {
      "cell_type": "code",
      "source": [
        "model = keras.models.Sequential()\n",
        "model.add(keras.layers.Flatten(input_shape=[32,32,3]))\n",
        "for _ in range(20):\n",
        " model.add(keras.layers.Dense(100, activation = \"elu\", kernel_initializer=\"he_normal\"))\n",
        "model.add(keras.layers.Dense(10, activation= \"softmax\"))"
      ],
      "metadata": {
        "id": "1jjxMmGyfCMB"
      },
      "execution_count": null,
      "outputs": []
    },
    {
      "cell_type": "markdown",
      "source": [],
      "metadata": {
        "id": "fBJOo6GBOtHf"
      }
    },
    {
      "cell_type": "markdown",
      "source": [
        "# 11.4 Cambiando el optimizador usado."
      ],
      "metadata": {
        "id": "r-L7GxZYfLW2"
      }
    },
    {
      "cell_type": "code",
      "source": [
        "optimizer = keras.optimizers.Nadam(learning_rate=5e-5,beta_1=0.9, beta_2=0.999)\n"
      ],
      "metadata": {
        "id": "2CLITfbafPcm"
      },
      "execution_count": null,
      "outputs": []
    },
    {
      "cell_type": "markdown",
      "source": [
        "# 11.5 Compilando el modelo"
      ],
      "metadata": {
        "id": "Vb3E1HvlfUwF"
      }
    },
    {
      "cell_type": "code",
      "source": [
        "# NOTESE LA DIFERENCIA ACA.\n",
        "model.compile(loss=\"sparse_categorical_crossentropy\",optimizer=optimizer, metrics=[\"accuracy\"])\n"
      ],
      "metadata": {
        "id": "VbYjgJJhfZGH"
      },
      "execution_count": null,
      "outputs": []
    },
    {
      "cell_type": "markdown",
      "source": [
        "# 11.6 apicando early stopping"
      ],
      "metadata": {
        "id": "iDaHLv42JaFU"
      }
    },
    {
      "cell_type": "code",
      "source": [
        "early_stopping_cb = keras.callbacks.EarlyStopping(patience = 20)\n",
        "model_checkpoint_cb = keras.callbacks.ModelCheckpoint(\"modelocifar10.h5\", save_best_only=True)\n",
        "callbacks=[early_stopping_cb,model_checkpoint_cb]"
      ],
      "metadata": {
        "id": "o5LSg4-DJeE5"
      },
      "execution_count": null,
      "outputs": []
    },
    {
      "cell_type": "markdown",
      "source": [
        "# 11.7 Empezamos el entrenamiento con optimizador Nadam."
      ],
      "metadata": {
        "id": "har63wwgJlNs"
      }
    },
    {
      "cell_type": "code",
      "source": [
        "model.fit(X_train,y_train,epochs=100,validation_data=(X_valid,y_valid),callbacks=callbacks)"
      ],
      "metadata": {
        "colab": {
          "base_uri": "https://localhost:8080/"
        },
        "id": "Yr2COvG_JrRe",
        "outputId": "259c9791-cb9b-47f5-8e03-6b562fbe9a92"
      },
      "execution_count": null,
      "outputs": [
        {
          "output_type": "stream",
          "name": "stdout",
          "text": [
            "Epoch 1/100\n",
            "1407/1407 [==============================] - 26s 11ms/step - loss: 3.4808 - accuracy: 0.1797 - val_loss: 2.1313 - val_accuracy: 0.2444\n",
            "Epoch 2/100\n",
            "   6/1407 [..............................] - ETA: 15s - loss: 2.2370 - accuracy: 0.2083"
          ]
        },
        {
          "output_type": "stream",
          "name": "stderr",
          "text": [
            "/usr/local/lib/python3.10/dist-packages/keras/src/engine/training.py:3103: UserWarning: You are saving your model as an HDF5 file via `model.save()`. This file format is considered legacy. We recommend using instead the native Keras format, e.g. `model.save('my_model.keras')`.\n",
            "  saving_api.save_model(\n"
          ]
        },
        {
          "output_type": "stream",
          "name": "stdout",
          "text": [
            "1407/1407 [==============================] - 15s 11ms/step - loss: 2.0468 - accuracy: 0.2581 - val_loss: 2.0048 - val_accuracy: 0.2618\n",
            "Epoch 3/100\n",
            "1407/1407 [==============================] - 15s 10ms/step - loss: 1.9275 - accuracy: 0.3042 - val_loss: 1.8874 - val_accuracy: 0.3088\n",
            "Epoch 4/100\n",
            "1407/1407 [==============================] - 15s 11ms/step - loss: 1.8441 - accuracy: 0.3311 - val_loss: 1.8451 - val_accuracy: 0.3334\n",
            "Epoch 5/100\n",
            "1407/1407 [==============================] - 15s 11ms/step - loss: 1.7936 - accuracy: 0.3526 - val_loss: 1.7687 - val_accuracy: 0.3602\n",
            "Epoch 6/100\n",
            "1407/1407 [==============================] - 15s 11ms/step - loss: 1.7414 - accuracy: 0.3776 - val_loss: 1.7079 - val_accuracy: 0.3754\n",
            "Epoch 7/100\n",
            "1407/1407 [==============================] - 15s 10ms/step - loss: 1.6959 - accuracy: 0.3912 - val_loss: 1.7107 - val_accuracy: 0.3772\n",
            "Epoch 8/100\n",
            "1407/1407 [==============================] - 15s 11ms/step - loss: 1.6641 - accuracy: 0.4034 - val_loss: 1.6331 - val_accuracy: 0.4156\n",
            "Epoch 9/100\n",
            "1407/1407 [==============================] - 15s 11ms/step - loss: 1.6333 - accuracy: 0.4138 - val_loss: 1.6596 - val_accuracy: 0.4062\n",
            "Epoch 10/100\n",
            "1407/1407 [==============================] - 15s 11ms/step - loss: 1.6080 - accuracy: 0.4237 - val_loss: 1.6765 - val_accuracy: 0.3950\n",
            "Epoch 11/100\n",
            "1407/1407 [==============================] - 15s 11ms/step - loss: 1.5864 - accuracy: 0.4315 - val_loss: 1.6789 - val_accuracy: 0.4066\n",
            "Epoch 12/100\n",
            "1407/1407 [==============================] - 15s 11ms/step - loss: 1.5614 - accuracy: 0.4395 - val_loss: 1.6508 - val_accuracy: 0.4096\n",
            "Epoch 13/100\n",
            "1407/1407 [==============================] - 15s 11ms/step - loss: 1.5404 - accuracy: 0.4489 - val_loss: 1.6713 - val_accuracy: 0.4090\n",
            "Epoch 14/100\n",
            "1407/1407 [==============================] - 16s 12ms/step - loss: 1.5225 - accuracy: 0.4558 - val_loss: 1.5903 - val_accuracy: 0.4380\n",
            "Epoch 15/100\n",
            "1407/1407 [==============================] - 16s 11ms/step - loss: 1.5061 - accuracy: 0.4608 - val_loss: 1.5904 - val_accuracy: 0.4298\n",
            "Epoch 16/100\n",
            "1407/1407 [==============================] - 15s 11ms/step - loss: 1.4884 - accuracy: 0.4681 - val_loss: 1.5704 - val_accuracy: 0.4392\n",
            "Epoch 17/100\n",
            "1407/1407 [==============================] - 15s 11ms/step - loss: 1.4744 - accuracy: 0.4698 - val_loss: 1.5457 - val_accuracy: 0.4490\n",
            "Epoch 18/100\n",
            "1407/1407 [==============================] - 15s 11ms/step - loss: 1.4580 - accuracy: 0.4790 - val_loss: 1.5692 - val_accuracy: 0.4430\n",
            "Epoch 19/100\n",
            "1407/1407 [==============================] - 15s 11ms/step - loss: 1.4432 - accuracy: 0.4829 - val_loss: 1.5652 - val_accuracy: 0.4284\n",
            "Epoch 20/100\n",
            "1407/1407 [==============================] - 15s 11ms/step - loss: 1.4333 - accuracy: 0.4872 - val_loss: 1.5682 - val_accuracy: 0.4404\n",
            "Epoch 21/100\n",
            "1407/1407 [==============================] - 15s 10ms/step - loss: 1.4186 - accuracy: 0.4914 - val_loss: 1.5606 - val_accuracy: 0.4428\n",
            "Epoch 22/100\n",
            "1407/1407 [==============================] - 15s 11ms/step - loss: 1.4039 - accuracy: 0.4978 - val_loss: 1.5256 - val_accuracy: 0.4538\n",
            "Epoch 23/100\n",
            "1407/1407 [==============================] - 15s 11ms/step - loss: 1.3909 - accuracy: 0.5022 - val_loss: 1.5319 - val_accuracy: 0.4508\n",
            "Epoch 24/100\n",
            "1407/1407 [==============================] - 14s 10ms/step - loss: 1.3789 - accuracy: 0.5038 - val_loss: 1.5407 - val_accuracy: 0.4548\n",
            "Epoch 25/100\n",
            "1407/1407 [==============================] - 15s 11ms/step - loss: 1.3668 - accuracy: 0.5121 - val_loss: 1.5220 - val_accuracy: 0.4606\n",
            "Epoch 26/100\n",
            "1407/1407 [==============================] - 16s 11ms/step - loss: 1.3541 - accuracy: 0.5164 - val_loss: 1.5339 - val_accuracy: 0.4494\n",
            "Epoch 27/100\n",
            "1407/1407 [==============================] - 15s 11ms/step - loss: 1.3452 - accuracy: 0.5180 - val_loss: 1.5022 - val_accuracy: 0.4644\n",
            "Epoch 28/100\n",
            "1407/1407 [==============================] - 16s 11ms/step - loss: 1.3342 - accuracy: 0.5233 - val_loss: 1.5624 - val_accuracy: 0.4464\n",
            "Epoch 29/100\n",
            "1407/1407 [==============================] - 16s 11ms/step - loss: 1.3286 - accuracy: 0.5247 - val_loss: 1.5002 - val_accuracy: 0.4708\n",
            "Epoch 30/100\n",
            "1407/1407 [==============================] - 15s 11ms/step - loss: 1.3132 - accuracy: 0.5312 - val_loss: 1.5522 - val_accuracy: 0.4596\n",
            "Epoch 31/100\n",
            "1407/1407 [==============================] - 15s 10ms/step - loss: 1.3039 - accuracy: 0.5337 - val_loss: 1.5136 - val_accuracy: 0.4650\n",
            "Epoch 32/100\n",
            "1407/1407 [==============================] - 15s 11ms/step - loss: 1.2949 - accuracy: 0.5378 - val_loss: 1.5037 - val_accuracy: 0.4754\n",
            "Epoch 33/100\n",
            "1407/1407 [==============================] - 15s 10ms/step - loss: 1.2833 - accuracy: 0.5432 - val_loss: 1.5577 - val_accuracy: 0.4614\n",
            "Epoch 34/100\n",
            "1407/1407 [==============================] - 15s 11ms/step - loss: 1.2752 - accuracy: 0.5428 - val_loss: 1.5518 - val_accuracy: 0.4752\n",
            "Epoch 35/100\n",
            "1407/1407 [==============================] - 14s 10ms/step - loss: 1.2680 - accuracy: 0.5459 - val_loss: 1.5154 - val_accuracy: 0.4758\n",
            "Epoch 36/100\n",
            "1407/1407 [==============================] - 15s 10ms/step - loss: 1.2571 - accuracy: 0.5497 - val_loss: 1.5175 - val_accuracy: 0.4750\n",
            "Epoch 37/100\n",
            "1407/1407 [==============================] - 15s 11ms/step - loss: 1.2455 - accuracy: 0.5539 - val_loss: 1.5195 - val_accuracy: 0.4858\n",
            "Epoch 38/100\n",
            "1407/1407 [==============================] - 15s 11ms/step - loss: 1.2423 - accuracy: 0.5568 - val_loss: 1.4988 - val_accuracy: 0.4794\n",
            "Epoch 39/100\n",
            "1407/1407 [==============================] - 15s 10ms/step - loss: 1.2310 - accuracy: 0.5589 - val_loss: 1.5019 - val_accuracy: 0.4786\n",
            "Epoch 40/100\n",
            "1407/1407 [==============================] - 14s 10ms/step - loss: 1.2202 - accuracy: 0.5641 - val_loss: 1.5477 - val_accuracy: 0.4710\n",
            "Epoch 41/100\n",
            "1407/1407 [==============================] - 15s 11ms/step - loss: 1.2144 - accuracy: 0.5653 - val_loss: 1.5320 - val_accuracy: 0.4710\n",
            "Epoch 42/100\n",
            "1407/1407 [==============================] - 16s 11ms/step - loss: 1.2030 - accuracy: 0.5702 - val_loss: 1.5892 - val_accuracy: 0.4646\n",
            "Epoch 43/100\n",
            "1407/1407 [==============================] - 15s 11ms/step - loss: 1.1997 - accuracy: 0.5736 - val_loss: 1.5465 - val_accuracy: 0.4712\n",
            "Epoch 44/100\n",
            "1407/1407 [==============================] - 15s 11ms/step - loss: 1.1908 - accuracy: 0.5753 - val_loss: 1.5854 - val_accuracy: 0.4666\n",
            "Epoch 45/100\n",
            "1407/1407 [==============================] - 15s 11ms/step - loss: 1.1827 - accuracy: 0.5774 - val_loss: 1.5084 - val_accuracy: 0.4854\n",
            "Epoch 46/100\n",
            "1407/1407 [==============================] - 15s 10ms/step - loss: 1.1746 - accuracy: 0.5804 - val_loss: 1.5204 - val_accuracy: 0.4792\n",
            "Epoch 47/100\n",
            "1407/1407 [==============================] - 15s 11ms/step - loss: 1.1656 - accuracy: 0.5822 - val_loss: 1.5056 - val_accuracy: 0.4848\n",
            "Epoch 48/100\n",
            "1407/1407 [==============================] - 15s 11ms/step - loss: 1.1600 - accuracy: 0.5849 - val_loss: 1.5164 - val_accuracy: 0.4870\n",
            "Epoch 49/100\n",
            "1407/1407 [==============================] - 16s 11ms/step - loss: 1.1503 - accuracy: 0.5884 - val_loss: 1.5411 - val_accuracy: 0.4768\n",
            "Epoch 50/100\n",
            "1407/1407 [==============================] - 16s 12ms/step - loss: 1.1433 - accuracy: 0.5910 - val_loss: 1.5318 - val_accuracy: 0.4820\n",
            "Epoch 51/100\n",
            "1407/1407 [==============================] - 15s 11ms/step - loss: 1.1312 - accuracy: 0.5950 - val_loss: 1.5446 - val_accuracy: 0.4872\n",
            "Epoch 52/100\n",
            "1407/1407 [==============================] - 15s 11ms/step - loss: 1.1300 - accuracy: 0.5953 - val_loss: 1.5397 - val_accuracy: 0.4808\n",
            "Epoch 53/100\n",
            "1407/1407 [==============================] - 15s 11ms/step - loss: 1.1229 - accuracy: 0.5985 - val_loss: 1.5647 - val_accuracy: 0.4806\n",
            "Epoch 54/100\n",
            "1407/1407 [==============================] - 15s 11ms/step - loss: 1.1147 - accuracy: 0.6006 - val_loss: 1.5824 - val_accuracy: 0.4708\n",
            "Epoch 55/100\n",
            "1407/1407 [==============================] - 15s 11ms/step - loss: 1.1057 - accuracy: 0.6024 - val_loss: 1.5529 - val_accuracy: 0.4818\n",
            "Epoch 56/100\n",
            "1407/1407 [==============================] - 15s 11ms/step - loss: 1.1010 - accuracy: 0.6066 - val_loss: 1.5989 - val_accuracy: 0.4658\n",
            "Epoch 57/100\n",
            "1407/1407 [==============================] - 16s 11ms/step - loss: 1.0939 - accuracy: 0.6086 - val_loss: 1.5563 - val_accuracy: 0.4806\n",
            "Epoch 58/100\n",
            "1407/1407 [==============================] - 16s 11ms/step - loss: 1.0853 - accuracy: 0.6117 - val_loss: 1.5659 - val_accuracy: 0.4810\n"
          ]
        },
        {
          "output_type": "execute_result",
          "data": {
            "text/plain": [
              "<keras.src.callbacks.History at 0x79e1bd7122c0>"
            ]
          },
          "metadata": {},
          "execution_count": 24
        }
      ]
    },
    {
      "cell_type": "markdown",
      "source": [
        "# 11.8 Verificar el modelo luego del entrenamiento con el optimizador Nadam."
      ],
      "metadata": {
        "id": "Ff7vR_T-NOwZ"
      }
    },
    {
      "cell_type": "code",
      "source": [
        "model = keras.models.load_model(\"modelocifar10.h5\")\n",
        "model.evaluate(X_valid,y_valid)"
      ],
      "metadata": {
        "colab": {
          "base_uri": "https://localhost:8080/"
        },
        "id": "WNr9VvivNWbV",
        "outputId": "04c17fca-89a5-4a99-cace-e49371a608ff"
      },
      "execution_count": null,
      "outputs": [
        {
          "output_type": "stream",
          "name": "stdout",
          "text": [
            "157/157 [==============================] - 1s 3ms/step - loss: 1.4988 - accuracy: 0.4794\n"
          ]
        },
        {
          "output_type": "execute_result",
          "data": {
            "text/plain": [
              "[1.4988383054733276, 0.47940000891685486]"
            ]
          },
          "metadata": {},
          "execution_count": 25
        }
      ]
    },
    {
      "cell_type": "markdown",
      "source": [
        "# 12. Creando el nuevo modelo aplciando normalización batch y capa de actuivación relu en cada capa intermedia."
      ],
      "metadata": {
        "id": "GIYi7Bm1OLnF"
      }
    },
    {
      "cell_type": "code",
      "source": [
        "model = keras.models.Sequential()\n",
        "model.add(keras.layers.Flatten(input_shape=[32,32,3]))\n",
        "model.add(keras.layers.BatchNormalization())\n",
        "for _ in range(20):\n",
        " model.add(keras.layers.Dense(100, activation = \"elu\", kernel_initializer=\"he_normal\"))\n",
        " model.add(keras.layers.BatchNormalization())\n",
        " model.add(keras.layers.Activation(\"elu\"))\n",
        "model.add(keras.layers.Dense(10, activation= \"softmax\"))\n"
      ],
      "metadata": {
        "id": "eS2x79XON-hn"
      },
      "execution_count": null,
      "outputs": []
    },
    {
      "cell_type": "code",
      "source": [
        "model.summary()"
      ],
      "metadata": {
        "colab": {
          "base_uri": "https://localhost:8080/"
        },
        "id": "GBDhDVVaO3Bp",
        "outputId": "3a26cec9-6d33-43e9-f7a6-f9048710a145"
      },
      "execution_count": null,
      "outputs": [
        {
          "output_type": "stream",
          "name": "stdout",
          "text": [
            "Model: \"sequential\"\n",
            "_________________________________________________________________\n",
            " Layer (type)                Output Shape              Param #   \n",
            "=================================================================\n",
            " flatten (Flatten)           (None, 3072)              0         \n",
            "                                                                 \n",
            " batch_normalization (Batch  (None, 3072)              12288     \n",
            " Normalization)                                                  \n",
            "                                                                 \n",
            " dense (Dense)               (None, 100)               307300    \n",
            "                                                                 \n",
            " batch_normalization_1 (Bat  (None, 100)               400       \n",
            " chNormalization)                                                \n",
            "                                                                 \n",
            " activation (Activation)     (None, 100)               0         \n",
            "                                                                 \n",
            " dense_1 (Dense)             (None, 100)               10100     \n",
            "                                                                 \n",
            " batch_normalization_2 (Bat  (None, 100)               400       \n",
            " chNormalization)                                                \n",
            "                                                                 \n",
            " activation_1 (Activation)   (None, 100)               0         \n",
            "                                                                 \n",
            " dense_2 (Dense)             (None, 100)               10100     \n",
            "                                                                 \n",
            " batch_normalization_3 (Bat  (None, 100)               400       \n",
            " chNormalization)                                                \n",
            "                                                                 \n",
            " activation_2 (Activation)   (None, 100)               0         \n",
            "                                                                 \n",
            " dense_3 (Dense)             (None, 100)               10100     \n",
            "                                                                 \n",
            " batch_normalization_4 (Bat  (None, 100)               400       \n",
            " chNormalization)                                                \n",
            "                                                                 \n",
            " activation_3 (Activation)   (None, 100)               0         \n",
            "                                                                 \n",
            " dense_4 (Dense)             (None, 100)               10100     \n",
            "                                                                 \n",
            " batch_normalization_5 (Bat  (None, 100)               400       \n",
            " chNormalization)                                                \n",
            "                                                                 \n",
            " activation_4 (Activation)   (None, 100)               0         \n",
            "                                                                 \n",
            " dense_5 (Dense)             (None, 100)               10100     \n",
            "                                                                 \n",
            " batch_normalization_6 (Bat  (None, 100)               400       \n",
            " chNormalization)                                                \n",
            "                                                                 \n",
            " activation_5 (Activation)   (None, 100)               0         \n",
            "                                                                 \n",
            " dense_6 (Dense)             (None, 100)               10100     \n",
            "                                                                 \n",
            " batch_normalization_7 (Bat  (None, 100)               400       \n",
            " chNormalization)                                                \n",
            "                                                                 \n",
            " activation_6 (Activation)   (None, 100)               0         \n",
            "                                                                 \n",
            " dense_7 (Dense)             (None, 100)               10100     \n",
            "                                                                 \n",
            " batch_normalization_8 (Bat  (None, 100)               400       \n",
            " chNormalization)                                                \n",
            "                                                                 \n",
            " activation_7 (Activation)   (None, 100)               0         \n",
            "                                                                 \n",
            " dense_8 (Dense)             (None, 100)               10100     \n",
            "                                                                 \n",
            " batch_normalization_9 (Bat  (None, 100)               400       \n",
            " chNormalization)                                                \n",
            "                                                                 \n",
            " activation_8 (Activation)   (None, 100)               0         \n",
            "                                                                 \n",
            " dense_9 (Dense)             (None, 100)               10100     \n",
            "                                                                 \n",
            " batch_normalization_10 (Ba  (None, 100)               400       \n",
            " tchNormalization)                                               \n",
            "                                                                 \n",
            " activation_9 (Activation)   (None, 100)               0         \n",
            "                                                                 \n",
            " dense_10 (Dense)            (None, 100)               10100     \n",
            "                                                                 \n",
            " batch_normalization_11 (Ba  (None, 100)               400       \n",
            " tchNormalization)                                               \n",
            "                                                                 \n",
            " activation_10 (Activation)  (None, 100)               0         \n",
            "                                                                 \n",
            " dense_11 (Dense)            (None, 100)               10100     \n",
            "                                                                 \n",
            " batch_normalization_12 (Ba  (None, 100)               400       \n",
            " tchNormalization)                                               \n",
            "                                                                 \n",
            " activation_11 (Activation)  (None, 100)               0         \n",
            "                                                                 \n",
            " dense_12 (Dense)            (None, 100)               10100     \n",
            "                                                                 \n",
            " batch_normalization_13 (Ba  (None, 100)               400       \n",
            " tchNormalization)                                               \n",
            "                                                                 \n",
            " activation_12 (Activation)  (None, 100)               0         \n",
            "                                                                 \n",
            " dense_13 (Dense)            (None, 100)               10100     \n",
            "                                                                 \n",
            " batch_normalization_14 (Ba  (None, 100)               400       \n",
            " tchNormalization)                                               \n",
            "                                                                 \n",
            " activation_13 (Activation)  (None, 100)               0         \n",
            "                                                                 \n",
            " dense_14 (Dense)            (None, 100)               10100     \n",
            "                                                                 \n",
            " batch_normalization_15 (Ba  (None, 100)               400       \n",
            " tchNormalization)                                               \n",
            "                                                                 \n",
            " activation_14 (Activation)  (None, 100)               0         \n",
            "                                                                 \n",
            " dense_15 (Dense)            (None, 100)               10100     \n",
            "                                                                 \n",
            " batch_normalization_16 (Ba  (None, 100)               400       \n",
            " tchNormalization)                                               \n",
            "                                                                 \n",
            " activation_15 (Activation)  (None, 100)               0         \n",
            "                                                                 \n",
            " dense_16 (Dense)            (None, 100)               10100     \n",
            "                                                                 \n",
            " batch_normalization_17 (Ba  (None, 100)               400       \n",
            " tchNormalization)                                               \n",
            "                                                                 \n",
            " activation_16 (Activation)  (None, 100)               0         \n",
            "                                                                 \n",
            " dense_17 (Dense)            (None, 100)               10100     \n",
            "                                                                 \n",
            " batch_normalization_18 (Ba  (None, 100)               400       \n",
            " tchNormalization)                                               \n",
            "                                                                 \n",
            " activation_17 (Activation)  (None, 100)               0         \n",
            "                                                                 \n",
            " dense_18 (Dense)            (None, 100)               10100     \n",
            "                                                                 \n",
            " batch_normalization_19 (Ba  (None, 100)               400       \n",
            " tchNormalization)                                               \n",
            "                                                                 \n",
            " activation_18 (Activation)  (None, 100)               0         \n",
            "                                                                 \n",
            " dense_19 (Dense)            (None, 100)               10100     \n",
            "                                                                 \n",
            " batch_normalization_20 (Ba  (None, 100)               400       \n",
            " tchNormalization)                                               \n",
            "                                                                 \n",
            " activation_19 (Activation)  (None, 100)               0         \n",
            "                                                                 \n",
            " dense_20 (Dense)            (None, 10)                1010      \n",
            "                                                                 \n",
            "=================================================================\n",
            "Total params: 520498 (1.99 MB)\n",
            "Trainable params: 510354 (1.95 MB)\n",
            "Non-trainable params: 10144 (39.62 KB)\n",
            "_________________________________________________________________\n"
          ]
        }
      ]
    },
    {
      "cell_type": "markdown",
      "source": [
        "# 13. Optimización y compilación del nuevo modelo."
      ],
      "metadata": {
        "id": "wCQMQvATPOML"
      }
    },
    {
      "cell_type": "code",
      "source": [
        "optimizer = keras.optimizers.Nadam(learning_rate=5e-4, beta_1=.9, beta_2=.999)\n",
        "model.compile(loss=\"sparse_categorical_crossentropy\",  optimizer=optimizer, metrics=[\"accuracy\"])"
      ],
      "metadata": {
        "id": "Kod82H4yPVRQ"
      },
      "execution_count": null,
      "outputs": []
    },
    {
      "cell_type": "markdown",
      "source": [
        "# 14. Aplicando el early stopping"
      ],
      "metadata": {
        "id": "Cmwd8iaoPjNS"
      }
    },
    {
      "cell_type": "code",
      "source": [
        "early_stopping_cb = keras.callbacks.EarlyStopping(patience = 20)\n",
        "model_checkpoint_cb = keras.callbacks.ModelCheckpoint(\"modelocifar10.h5\",save_best_only=True)\n",
        "callbacks=[early_stopping_cb,model_checkpoint_cb]\n"
      ],
      "metadata": {
        "id": "glGYn9wfPi-v"
      },
      "execution_count": null,
      "outputs": []
    },
    {
      "cell_type": "markdown",
      "source": [
        "# 15. Empezando el entrenamiento del modelo aplicando batch normalization, early stopping y capa de activacion elu en las capas intermedias de la red neuronal profunda."
      ],
      "metadata": {
        "id": "KZLeBpovPsHS"
      }
    },
    {
      "cell_type": "code",
      "source": [
        "\n",
        "model.fit(X_train, y_train, epochs=100, validation_data=(X_valid, y_valid), callbacks=callbacks)\n"
      ],
      "metadata": {
        "colab": {
          "base_uri": "https://localhost:8080/"
        },
        "id": "p69BJHgJP5xm",
        "outputId": "3d7391fe-1b97-490b-eb73-3d35c5566e2d"
      },
      "execution_count": null,
      "outputs": [
        {
          "output_type": "stream",
          "name": "stdout",
          "text": [
            "Epoch 1/100\n",
            "1407/1407 [==============================] - ETA: 0s - loss: 2.0419 - accuracy: 0.2559"
          ]
        },
        {
          "output_type": "stream",
          "name": "stderr",
          "text": [
            "/usr/local/lib/python3.10/dist-packages/keras/src/engine/training.py:3103: UserWarning: You are saving your model as an HDF5 file via `model.save()`. This file format is considered legacy. We recommend using instead the native Keras format, e.g. `model.save('my_model.keras')`.\n",
            "  saving_api.save_model(\n"
          ]
        },
        {
          "output_type": "stream",
          "name": "stdout",
          "text": [
            "\b\b\b\b\b\b\b\b\b\b\b\b\b\b\b\b\b\b\b\b\b\b\b\b\b\b\b\b\b\b\b\b\b\b\b\b\b\b\b\b\b\b\b\b\b\b\b\b\b\b\b\b\b\b\b\b\b\b\b\b\b\b\b\b\b\b\b\b\b\b\b\b\b\b\b\b\b\b\b\b\b\b\b\b\b\b\r1407/1407 [==============================] - 64s 30ms/step - loss: 2.0419 - accuracy: 0.2559 - val_loss: 1.7814 - val_accuracy: 0.3510\n",
            "Epoch 2/100\n",
            "1407/1407 [==============================] - 41s 29ms/step - loss: 1.7967 - accuracy: 0.3483 - val_loss: 1.6931 - val_accuracy: 0.3842\n",
            "Epoch 3/100\n",
            "1407/1407 [==============================] - 40s 29ms/step - loss: 1.7013 - accuracy: 0.3921 - val_loss: 1.6120 - val_accuracy: 0.4134\n",
            "Epoch 4/100\n",
            "1407/1407 [==============================] - 39s 28ms/step - loss: 1.6372 - accuracy: 0.4141 - val_loss: 1.5529 - val_accuracy: 0.4358\n",
            "Epoch 5/100\n",
            "1407/1407 [==============================] - 40s 28ms/step - loss: 1.5916 - accuracy: 0.4350 - val_loss: 1.5010 - val_accuracy: 0.4636\n",
            "Epoch 6/100\n",
            "1407/1407 [==============================] - 38s 27ms/step - loss: 1.5432 - accuracy: 0.4531 - val_loss: 1.5051 - val_accuracy: 0.4514\n",
            "Epoch 7/100\n",
            "1407/1407 [==============================] - 39s 28ms/step - loss: 1.5015 - accuracy: 0.4656 - val_loss: 1.4702 - val_accuracy: 0.4784\n",
            "Epoch 8/100\n",
            "1407/1407 [==============================] - 39s 28ms/step - loss: 1.4658 - accuracy: 0.4812 - val_loss: 1.4112 - val_accuracy: 0.4960\n",
            "Epoch 9/100\n",
            "1407/1407 [==============================] - 42s 30ms/step - loss: 1.4423 - accuracy: 0.4934 - val_loss: 1.4044 - val_accuracy: 0.4994\n",
            "Epoch 10/100\n",
            "1407/1407 [==============================] - 42s 30ms/step - loss: 1.4095 - accuracy: 0.4997 - val_loss: 1.3934 - val_accuracy: 0.5066\n",
            "Epoch 11/100\n",
            "1407/1407 [==============================] - 41s 29ms/step - loss: 1.3885 - accuracy: 0.5078 - val_loss: 1.3727 - val_accuracy: 0.5118\n",
            "Epoch 12/100\n",
            "1407/1407 [==============================] - 39s 27ms/step - loss: 1.3561 - accuracy: 0.5215 - val_loss: 1.4121 - val_accuracy: 0.5090\n",
            "Epoch 13/100\n",
            "1407/1407 [==============================] - 39s 28ms/step - loss: 1.3361 - accuracy: 0.5274 - val_loss: 1.3861 - val_accuracy: 0.5086\n",
            "Epoch 14/100\n",
            "1407/1407 [==============================] - 40s 28ms/step - loss: 1.3110 - accuracy: 0.5389 - val_loss: 1.3643 - val_accuracy: 0.5242\n",
            "Epoch 15/100\n",
            "1407/1407 [==============================] - 38s 27ms/step - loss: 1.2915 - accuracy: 0.5454 - val_loss: 1.3803 - val_accuracy: 0.5216\n",
            "Epoch 16/100\n",
            "1407/1407 [==============================] - 39s 27ms/step - loss: 1.2729 - accuracy: 0.5520 - val_loss: 1.3594 - val_accuracy: 0.5290\n",
            "Epoch 17/100\n",
            "1407/1407 [==============================] - 39s 27ms/step - loss: 1.2577 - accuracy: 0.5565 - val_loss: 1.3491 - val_accuracy: 0.5246\n",
            "Epoch 18/100\n",
            "1407/1407 [==============================] - 39s 27ms/step - loss: 1.2333 - accuracy: 0.5657 - val_loss: 1.3664 - val_accuracy: 0.5314\n",
            "Epoch 19/100\n",
            "1407/1407 [==============================] - 38s 27ms/step - loss: 1.2170 - accuracy: 0.5746 - val_loss: 1.3523 - val_accuracy: 0.5310\n",
            "Epoch 20/100\n",
            "1407/1407 [==============================] - 39s 28ms/step - loss: 1.2031 - accuracy: 0.5786 - val_loss: 1.3858 - val_accuracy: 0.5206\n",
            "Epoch 21/100\n",
            "1407/1407 [==============================] - 40s 28ms/step - loss: 1.1880 - accuracy: 0.5830 - val_loss: 1.3637 - val_accuracy: 0.5204\n",
            "Epoch 22/100\n",
            "1407/1407 [==============================] - 38s 27ms/step - loss: 1.1673 - accuracy: 0.5897 - val_loss: 1.3781 - val_accuracy: 0.5300\n",
            "Epoch 23/100\n",
            "1407/1407 [==============================] - 38s 27ms/step - loss: 1.1595 - accuracy: 0.5926 - val_loss: 1.3588 - val_accuracy: 0.5410\n",
            "Epoch 24/100\n",
            "1407/1407 [==============================] - 40s 28ms/step - loss: 1.1461 - accuracy: 0.5989 - val_loss: 1.3269 - val_accuracy: 0.5298\n",
            "Epoch 25/100\n",
            "1407/1407 [==============================] - 38s 27ms/step - loss: 1.1328 - accuracy: 0.6033 - val_loss: 1.3521 - val_accuracy: 0.5324\n",
            "Epoch 26/100\n",
            "1407/1407 [==============================] - 39s 27ms/step - loss: 1.1174 - accuracy: 0.6084 - val_loss: 1.3666 - val_accuracy: 0.5318\n",
            "Epoch 27/100\n",
            "1407/1407 [==============================] - 39s 28ms/step - loss: 1.1055 - accuracy: 0.6118 - val_loss: 1.3763 - val_accuracy: 0.5374\n",
            "Epoch 28/100\n",
            "1407/1407 [==============================] - 38s 27ms/step - loss: 1.0947 - accuracy: 0.6156 - val_loss: 1.3614 - val_accuracy: 0.5286\n",
            "Epoch 29/100\n",
            "1407/1407 [==============================] - 38s 27ms/step - loss: 1.0831 - accuracy: 0.6215 - val_loss: 1.3589 - val_accuracy: 0.5332\n",
            "Epoch 30/100\n",
            "1407/1407 [==============================] - 39s 28ms/step - loss: 1.0733 - accuracy: 0.6257 - val_loss: 1.3782 - val_accuracy: 0.5342\n",
            "Epoch 31/100\n",
            "1407/1407 [==============================] - 38s 27ms/step - loss: 1.0598 - accuracy: 0.6303 - val_loss: 1.3852 - val_accuracy: 0.5298\n",
            "Epoch 32/100\n",
            "1407/1407 [==============================] - 39s 28ms/step - loss: 1.0506 - accuracy: 0.6298 - val_loss: 1.3687 - val_accuracy: 0.5446\n",
            "Epoch 33/100\n",
            "1407/1407 [==============================] - 39s 28ms/step - loss: 1.0451 - accuracy: 0.6335 - val_loss: 1.3896 - val_accuracy: 0.5400\n",
            "Epoch 34/100\n",
            "1407/1407 [==============================] - 38s 27ms/step - loss: 1.0315 - accuracy: 0.6383 - val_loss: 1.3852 - val_accuracy: 0.5420\n",
            "Epoch 35/100\n",
            "1407/1407 [==============================] - 38s 27ms/step - loss: 1.0225 - accuracy: 0.6388 - val_loss: 1.3982 - val_accuracy: 0.5390\n",
            "Epoch 36/100\n",
            "1407/1407 [==============================] - 39s 28ms/step - loss: 1.0154 - accuracy: 0.6453 - val_loss: 1.4235 - val_accuracy: 0.5288\n",
            "Epoch 37/100\n",
            "1407/1407 [==============================] - 38s 27ms/step - loss: 0.9970 - accuracy: 0.6506 - val_loss: 1.4171 - val_accuracy: 0.5242\n",
            "Epoch 38/100\n",
            "1407/1407 [==============================] - 38s 27ms/step - loss: 0.9963 - accuracy: 0.6510 - val_loss: 1.4028 - val_accuracy: 0.5366\n",
            "Epoch 39/100\n",
            "1407/1407 [==============================] - 38s 27ms/step - loss: 0.9831 - accuracy: 0.6526 - val_loss: 1.4105 - val_accuracy: 0.5324\n",
            "Epoch 40/100\n",
            "1407/1407 [==============================] - 38s 27ms/step - loss: 0.9765 - accuracy: 0.6575 - val_loss: 1.4281 - val_accuracy: 0.5284\n",
            "Epoch 41/100\n",
            "1407/1407 [==============================] - 38s 27ms/step - loss: 0.9716 - accuracy: 0.6596 - val_loss: 1.4202 - val_accuracy: 0.5434\n",
            "Epoch 42/100\n",
            "1407/1407 [==============================] - 38s 27ms/step - loss: 0.9628 - accuracy: 0.6630 - val_loss: 1.4045 - val_accuracy: 0.5370\n",
            "Epoch 43/100\n",
            "1407/1407 [==============================] - 38s 27ms/step - loss: 0.9509 - accuracy: 0.6654 - val_loss: 1.4376 - val_accuracy: 0.5270\n",
            "Epoch 44/100\n",
            "1407/1407 [==============================] - 37s 27ms/step - loss: 0.9464 - accuracy: 0.6693 - val_loss: 1.4252 - val_accuracy: 0.5302\n"
          ]
        },
        {
          "output_type": "execute_result",
          "data": {
            "text/plain": [
              "<keras.src.callbacks.History at 0x79e1bde9ead0>"
            ]
          },
          "metadata": {},
          "execution_count": 33
        }
      ]
    },
    {
      "cell_type": "markdown",
      "source": [
        "# 16. Evaluando el modelo."
      ],
      "metadata": {
        "id": "T0WnkSJeW0WE"
      }
    },
    {
      "cell_type": "code",
      "source": [
        "model = keras.models.load_model(\"modelocifar10.h5\")\n",
        "model.evaluate(X_valid,y_valid)"
      ],
      "metadata": {
        "colab": {
          "base_uri": "https://localhost:8080/"
        },
        "id": "BE2tGypvWqL-",
        "outputId": "b4d9a952-a18e-41da-cd20-201e9fb8c4a5"
      },
      "execution_count": null,
      "outputs": [
        {
          "output_type": "stream",
          "name": "stdout",
          "text": [
            "157/157 [==============================] - 1s 4ms/step - loss: 1.3269 - accuracy: 0.5298\n"
          ]
        },
        {
          "output_type": "execute_result",
          "data": {
            "text/plain": [
              "[1.326931118965149, 0.5297999978065491]"
            ]
          },
          "metadata": {},
          "execution_count": 34
        }
      ]
    }
  ]
}