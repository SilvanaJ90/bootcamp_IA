{
  "cells": [
    {
      "cell_type": "markdown",
      "metadata": {
        "id": "view-in-github",
        "colab_type": "text"
      },
      "source": [
        "<a href=\"https://colab.research.google.com/github/SilvanaJ90/usergioarboleda-bootcamp_IA/blob/main/tutorial_redes_profundas.ipynb\" target=\"_parent\"><img src=\"https://colab.research.google.com/assets/colab-badge.svg\" alt=\"Open In Colab\"/></a>"
      ]
    },
    {
      "cell_type": "markdown",
      "id": "0ff51890-9dff-480d-b6a5-22c9e08a8863",
      "metadata": {
        "id": "0ff51890-9dff-480d-b6a5-22c9e08a8863"
      },
      "source": [
        "#Redes Profundas"
      ]
    },
    {
      "cell_type": "markdown",
      "id": "17784151-2dd6-4333-b1cc-3ffd4144ff78",
      "metadata": {
        "id": "17784151-2dd6-4333-b1cc-3ffd4144ff78"
      },
      "source": [
        "## <span style=\"color:green\">1.Mejorar el modelo para CIFAR10 </span>\n"
      ]
    },
    {
      "cell_type": "code",
      "source": [
        "!pip install tensorflow\n"
      ],
      "metadata": {
        "colab": {
          "base_uri": "https://localhost:8080/"
        },
        "id": "jUuCHm5x28E2",
        "outputId": "83c6d232-d4aa-4e62-f873-3b18d9f15ba9"
      },
      "id": "jUuCHm5x28E2",
      "execution_count": 2,
      "outputs": [
        {
          "output_type": "stream",
          "name": "stdout",
          "text": [
            "Requirement already satisfied: tensorflow in /usr/local/lib/python3.10/dist-packages (2.15.0)\n",
            "Requirement already satisfied: absl-py>=1.0.0 in /usr/local/lib/python3.10/dist-packages (from tensorflow) (1.4.0)\n",
            "Requirement already satisfied: astunparse>=1.6.0 in /usr/local/lib/python3.10/dist-packages (from tensorflow) (1.6.3)\n",
            "Requirement already satisfied: flatbuffers>=23.5.26 in /usr/local/lib/python3.10/dist-packages (from tensorflow) (24.3.25)\n",
            "Requirement already satisfied: gast!=0.5.0,!=0.5.1,!=0.5.2,>=0.2.1 in /usr/local/lib/python3.10/dist-packages (from tensorflow) (0.5.4)\n",
            "Requirement already satisfied: google-pasta>=0.1.1 in /usr/local/lib/python3.10/dist-packages (from tensorflow) (0.2.0)\n",
            "Requirement already satisfied: h5py>=2.9.0 in /usr/local/lib/python3.10/dist-packages (from tensorflow) (3.9.0)\n",
            "Requirement already satisfied: libclang>=13.0.0 in /usr/local/lib/python3.10/dist-packages (from tensorflow) (18.1.1)\n",
            "Requirement already satisfied: ml-dtypes~=0.2.0 in /usr/local/lib/python3.10/dist-packages (from tensorflow) (0.2.0)\n",
            "Requirement already satisfied: numpy<2.0.0,>=1.23.5 in /usr/local/lib/python3.10/dist-packages (from tensorflow) (1.25.2)\n",
            "Requirement already satisfied: opt-einsum>=2.3.2 in /usr/local/lib/python3.10/dist-packages (from tensorflow) (3.3.0)\n",
            "Requirement already satisfied: packaging in /usr/local/lib/python3.10/dist-packages (from tensorflow) (24.0)\n",
            "Requirement already satisfied: protobuf!=4.21.0,!=4.21.1,!=4.21.2,!=4.21.3,!=4.21.4,!=4.21.5,<5.0.0dev,>=3.20.3 in /usr/local/lib/python3.10/dist-packages (from tensorflow) (3.20.3)\n",
            "Requirement already satisfied: setuptools in /usr/local/lib/python3.10/dist-packages (from tensorflow) (67.7.2)\n",
            "Requirement already satisfied: six>=1.12.0 in /usr/local/lib/python3.10/dist-packages (from tensorflow) (1.16.0)\n",
            "Requirement already satisfied: termcolor>=1.1.0 in /usr/local/lib/python3.10/dist-packages (from tensorflow) (2.4.0)\n",
            "Requirement already satisfied: typing-extensions>=3.6.6 in /usr/local/lib/python3.10/dist-packages (from tensorflow) (4.10.0)\n",
            "Requirement already satisfied: wrapt<1.15,>=1.11.0 in /usr/local/lib/python3.10/dist-packages (from tensorflow) (1.14.1)\n",
            "Requirement already satisfied: tensorflow-io-gcs-filesystem>=0.23.1 in /usr/local/lib/python3.10/dist-packages (from tensorflow) (0.36.0)\n",
            "Requirement already satisfied: grpcio<2.0,>=1.24.3 in /usr/local/lib/python3.10/dist-packages (from tensorflow) (1.62.1)\n",
            "Requirement already satisfied: tensorboard<2.16,>=2.15 in /usr/local/lib/python3.10/dist-packages (from tensorflow) (2.15.2)\n",
            "Requirement already satisfied: tensorflow-estimator<2.16,>=2.15.0 in /usr/local/lib/python3.10/dist-packages (from tensorflow) (2.15.0)\n",
            "Requirement already satisfied: keras<2.16,>=2.15.0 in /usr/local/lib/python3.10/dist-packages (from tensorflow) (2.15.0)\n",
            "Requirement already satisfied: wheel<1.0,>=0.23.0 in /usr/local/lib/python3.10/dist-packages (from astunparse>=1.6.0->tensorflow) (0.43.0)\n",
            "Requirement already satisfied: google-auth<3,>=1.6.3 in /usr/local/lib/python3.10/dist-packages (from tensorboard<2.16,>=2.15->tensorflow) (2.27.0)\n",
            "Requirement already satisfied: google-auth-oauthlib<2,>=0.5 in /usr/local/lib/python3.10/dist-packages (from tensorboard<2.16,>=2.15->tensorflow) (1.2.0)\n",
            "Requirement already satisfied: markdown>=2.6.8 in /usr/local/lib/python3.10/dist-packages (from tensorboard<2.16,>=2.15->tensorflow) (3.6)\n",
            "Requirement already satisfied: requests<3,>=2.21.0 in /usr/local/lib/python3.10/dist-packages (from tensorboard<2.16,>=2.15->tensorflow) (2.31.0)\n",
            "Requirement already satisfied: tensorboard-data-server<0.8.0,>=0.7.0 in /usr/local/lib/python3.10/dist-packages (from tensorboard<2.16,>=2.15->tensorflow) (0.7.2)\n",
            "Requirement already satisfied: werkzeug>=1.0.1 in /usr/local/lib/python3.10/dist-packages (from tensorboard<2.16,>=2.15->tensorflow) (3.0.2)\n",
            "Requirement already satisfied: cachetools<6.0,>=2.0.0 in /usr/local/lib/python3.10/dist-packages (from google-auth<3,>=1.6.3->tensorboard<2.16,>=2.15->tensorflow) (5.3.3)\n",
            "Requirement already satisfied: pyasn1-modules>=0.2.1 in /usr/local/lib/python3.10/dist-packages (from google-auth<3,>=1.6.3->tensorboard<2.16,>=2.15->tensorflow) (0.4.0)\n",
            "Requirement already satisfied: rsa<5,>=3.1.4 in /usr/local/lib/python3.10/dist-packages (from google-auth<3,>=1.6.3->tensorboard<2.16,>=2.15->tensorflow) (4.9)\n",
            "Requirement already satisfied: requests-oauthlib>=0.7.0 in /usr/local/lib/python3.10/dist-packages (from google-auth-oauthlib<2,>=0.5->tensorboard<2.16,>=2.15->tensorflow) (1.3.1)\n",
            "Requirement already satisfied: charset-normalizer<4,>=2 in /usr/local/lib/python3.10/dist-packages (from requests<3,>=2.21.0->tensorboard<2.16,>=2.15->tensorflow) (3.3.2)\n",
            "Requirement already satisfied: idna<4,>=2.5 in /usr/local/lib/python3.10/dist-packages (from requests<3,>=2.21.0->tensorboard<2.16,>=2.15->tensorflow) (3.6)\n",
            "Requirement already satisfied: urllib3<3,>=1.21.1 in /usr/local/lib/python3.10/dist-packages (from requests<3,>=2.21.0->tensorboard<2.16,>=2.15->tensorflow) (2.0.7)\n",
            "Requirement already satisfied: certifi>=2017.4.17 in /usr/local/lib/python3.10/dist-packages (from requests<3,>=2.21.0->tensorboard<2.16,>=2.15->tensorflow) (2024.2.2)\n",
            "Requirement already satisfied: MarkupSafe>=2.1.1 in /usr/local/lib/python3.10/dist-packages (from werkzeug>=1.0.1->tensorboard<2.16,>=2.15->tensorflow) (2.1.5)\n",
            "Requirement already satisfied: pyasn1<0.7.0,>=0.4.6 in /usr/local/lib/python3.10/dist-packages (from pyasn1-modules>=0.2.1->google-auth<3,>=1.6.3->tensorboard<2.16,>=2.15->tensorflow) (0.6.0)\n",
            "Requirement already satisfied: oauthlib>=3.0.0 in /usr/local/lib/python3.10/dist-packages (from requests-oauthlib>=0.7.0->google-auth-oauthlib<2,>=0.5->tensorboard<2.16,>=2.15->tensorflow) (3.2.2)\n"
          ]
        }
      ]
    },
    {
      "cell_type": "code",
      "execution_count": 3,
      "id": "f7660c1e-a6a8-485e-bdd1-9ec2c5ed0230",
      "metadata": {
        "id": "f7660c1e-a6a8-485e-bdd1-9ec2c5ed0230"
      },
      "outputs": [],
      "source": [
        "import tensorflow as tf\n",
        "import matplotlib as mpl\n",
        "import matplotlib.pyplot as plt"
      ]
    },
    {
      "cell_type": "markdown",
      "id": "edf49f49-e61c-4ba6-93bd-17afac154530",
      "metadata": {
        "id": "edf49f49-e61c-4ba6-93bd-17afac154530"
      },
      "source": [
        "### <span style=\"color:blue\">1.1 Importa las librerías relevantes</span>\n",
        "Tensorflow, numpy, os, matplotlib, pyplot, pandas"
      ]
    },
    {
      "cell_type": "code",
      "execution_count": 4,
      "id": "7c575e82-15a3-4ca3-b9ce-bfa9c43332a6",
      "metadata": {
        "id": "7c575e82-15a3-4ca3-b9ce-bfa9c43332a6"
      },
      "outputs": [],
      "source": [
        "import numpy as np\n",
        "import pandas as pd"
      ]
    },
    {
      "cell_type": "code",
      "execution_count": 5,
      "id": "f9c80f04-bbee-462d-b599-c64a0317a451",
      "metadata": {
        "id": "f9c80f04-bbee-462d-b599-c64a0317a451"
      },
      "outputs": [],
      "source": [
        "from tensorflow import keras"
      ]
    },
    {
      "cell_type": "code",
      "execution_count": 6,
      "id": "a49d7930-1ea3-4c54-a711-591e8f424f84",
      "metadata": {
        "id": "a49d7930-1ea3-4c54-a711-591e8f424f84"
      },
      "outputs": [],
      "source": [
        "import os"
      ]
    },
    {
      "cell_type": "markdown",
      "id": "7e226e09-bf69-4624-b589-2d14fcaeb1a5",
      "metadata": {
        "id": "7e226e09-bf69-4624-b589-2d14fcaeb1a5"
      },
      "source": [
        "### 1.-\n",
        "_Construye un DNN con 20 capas escondidas de 100 neuronas cada una._"
      ]
    },
    {
      "cell_type": "code",
      "execution_count": 7,
      "id": "81309198-3f24-40ff-b241-f83683b9d906",
      "metadata": {
        "id": "81309198-3f24-40ff-b241-f83683b9d906",
        "colab": {
          "base_uri": "https://localhost:8080/"
        },
        "outputId": "429f9b1e-65c4-4b33-bf92-566d659072ed"
      },
      "outputs": [
        {
          "output_type": "stream",
          "name": "stdout",
          "text": [
            "Downloading data from https://www.cs.toronto.edu/~kriz/cifar-10-python.tar.gz\n",
            "170498071/170498071 [==============================] - 13s 0us/step\n"
          ]
        }
      ],
      "source": [
        "# Cargamos CIFAR10\n",
        "(X_entrena_completo, y_entrena_completo), (X_test,y_test) = keras.datasets.cifar10.load_data()"
      ]
    },
    {
      "cell_type": "code",
      "execution_count": 8,
      "id": "62502583-6e29-4ca3-a1ec-d2bdb123d5a7",
      "metadata": {
        "id": "62502583-6e29-4ca3-a1ec-d2bdb123d5a7"
      },
      "outputs": [],
      "source": [
        "#Semillas a 42\n",
        "tf.random.set_seed(42)\n",
        "np.random.seed(42)"
      ]
    },
    {
      "cell_type": "code",
      "execution_count": 9,
      "id": "fbeb4a96-7be2-4f63-9542-ee62b40e7692",
      "metadata": {
        "id": "fbeb4a96-7be2-4f63-9542-ee62b40e7692"
      },
      "outputs": [],
      "source": [
        "#Arma el modelo secuencial\n",
        "model = keras.models.Sequential()\n",
        "model.add(keras.layers.Flatten(input_shape=[32,32,3]))\n",
        "for _ in range(20):\n",
        "    model.add(keras.layers.Dense(100,activation=\"relu\"))\n",
        "model.add(keras.layers.Dense(10,activation=\"softmax\"))"
      ]
    },
    {
      "cell_type": "code",
      "execution_count": 10,
      "id": "b308ca9f-2429-48a8-a236-716fe2553699",
      "metadata": {
        "id": "b308ca9f-2429-48a8-a236-716fe2553699",
        "colab": {
          "base_uri": "https://localhost:8080/"
        },
        "outputId": "50a2bfb7-db22-401f-b11b-b9cbaffe4ac0"
      },
      "outputs": [
        {
          "output_type": "stream",
          "name": "stdout",
          "text": [
            "Model: \"sequential\"\n",
            "_________________________________________________________________\n",
            " Layer (type)                Output Shape              Param #   \n",
            "=================================================================\n",
            " flatten (Flatten)           (None, 3072)              0         \n",
            "                                                                 \n",
            " dense (Dense)               (None, 100)               307300    \n",
            "                                                                 \n",
            " dense_1 (Dense)             (None, 100)               10100     \n",
            "                                                                 \n",
            " dense_2 (Dense)             (None, 100)               10100     \n",
            "                                                                 \n",
            " dense_3 (Dense)             (None, 100)               10100     \n",
            "                                                                 \n",
            " dense_4 (Dense)             (None, 100)               10100     \n",
            "                                                                 \n",
            " dense_5 (Dense)             (None, 100)               10100     \n",
            "                                                                 \n",
            " dense_6 (Dense)             (None, 100)               10100     \n",
            "                                                                 \n",
            " dense_7 (Dense)             (None, 100)               10100     \n",
            "                                                                 \n",
            " dense_8 (Dense)             (None, 100)               10100     \n",
            "                                                                 \n",
            " dense_9 (Dense)             (None, 100)               10100     \n",
            "                                                                 \n",
            " dense_10 (Dense)            (None, 100)               10100     \n",
            "                                                                 \n",
            " dense_11 (Dense)            (None, 100)               10100     \n",
            "                                                                 \n",
            " dense_12 (Dense)            (None, 100)               10100     \n",
            "                                                                 \n",
            " dense_13 (Dense)            (None, 100)               10100     \n",
            "                                                                 \n",
            " dense_14 (Dense)            (None, 100)               10100     \n",
            "                                                                 \n",
            " dense_15 (Dense)            (None, 100)               10100     \n",
            "                                                                 \n",
            " dense_16 (Dense)            (None, 100)               10100     \n",
            "                                                                 \n",
            " dense_17 (Dense)            (None, 100)               10100     \n",
            "                                                                 \n",
            " dense_18 (Dense)            (None, 100)               10100     \n",
            "                                                                 \n",
            " dense_19 (Dense)            (None, 100)               10100     \n",
            "                                                                 \n",
            " dense_20 (Dense)            (None, 10)                1010      \n",
            "                                                                 \n",
            "=================================================================\n",
            "Total params: 500210 (1.91 MB)\n",
            "Trainable params: 500210 (1.91 MB)\n",
            "Non-trainable params: 0 (0.00 Byte)\n",
            "_________________________________________________________________\n"
          ]
        }
      ],
      "source": [
        "#Resumen del modelo\n",
        "model.summary()"
      ]
    },
    {
      "cell_type": "code",
      "execution_count": 11,
      "id": "9e229549-f4ec-4ee0-b86a-efc4d2fd006c",
      "metadata": {
        "id": "9e229549-f4ec-4ee0-b86a-efc4d2fd006c"
      },
      "outputs": [],
      "source": [
        "# Compilamos el modelo de la manera mas mensa posible (Sparse categorical cross entropy, SGD, Accuracy)\n",
        "model.compile(loss=\"sparse_categorical_crossentropy\", optimizer=\"sgd\", metrics=[\"accuracy\"])"
      ]
    },
    {
      "cell_type": "code",
      "execution_count": 12,
      "id": "0d7e3473-c2f8-4ff7-87ac-cf69028ebe41",
      "metadata": {
        "id": "0d7e3473-c2f8-4ff7-87ac-cf69028ebe41"
      },
      "outputs": [],
      "source": [
        "#Vamos a usar early stopping asi que necesitamos dataset de validación\n",
        "X_train = X_entrena_completo[5000:]\n",
        "y_train = y_entrena_completo[5000:]\n",
        "X_valid = X_entrena_completo[:5000]\n",
        "y_valid = y_entrena_completo[:5000]"
      ]
    },
    {
      "cell_type": "code",
      "execution_count": 13,
      "id": "77d67082-4beb-4054-b9ca-f369794b5f72",
      "metadata": {
        "id": "77d67082-4beb-4054-b9ca-f369794b5f72",
        "colab": {
          "base_uri": "https://localhost:8080/"
        },
        "outputId": "5ecca096-882d-4507-8d44-71af963f62ac"
      },
      "outputs": [
        {
          "output_type": "stream",
          "name": "stdout",
          "text": [
            "Epoch 1/30\n",
            "1407/1407 [==============================] - 15s 9ms/step - loss: 2.0561 - accuracy: 0.2196 - val_loss: 1.9659 - val_accuracy: 0.2562\n",
            "Epoch 2/30\n",
            "1407/1407 [==============================] - 12s 8ms/step - loss: 1.8871 - accuracy: 0.3048 - val_loss: 2.0851 - val_accuracy: 0.2566\n",
            "Epoch 3/30\n",
            "1407/1407 [==============================] - 12s 8ms/step - loss: 1.8155 - accuracy: 0.3390 - val_loss: 2.3612 - val_accuracy: 0.2488\n",
            "Epoch 4/30\n",
            "1407/1407 [==============================] - 12s 9ms/step - loss: 1.7660 - accuracy: 0.3577 - val_loss: 2.6445 - val_accuracy: 0.1984\n",
            "Epoch 5/30\n",
            "1407/1407 [==============================] - 12s 9ms/step - loss: 1.7243 - accuracy: 0.3748 - val_loss: 1.9695 - val_accuracy: 0.2860\n",
            "Epoch 6/30\n",
            "1407/1407 [==============================] - 11s 8ms/step - loss: 1.6913 - accuracy: 0.3872 - val_loss: 1.7881 - val_accuracy: 0.3616\n",
            "Epoch 7/30\n",
            "1407/1407 [==============================] - 11s 8ms/step - loss: 1.6602 - accuracy: 0.4012 - val_loss: 1.6950 - val_accuracy: 0.3820\n",
            "Epoch 8/30\n",
            "1407/1407 [==============================] - 12s 8ms/step - loss: 1.6334 - accuracy: 0.4132 - val_loss: 1.6592 - val_accuracy: 0.4076\n",
            "Epoch 9/30\n",
            "1407/1407 [==============================] - 12s 8ms/step - loss: 1.6135 - accuracy: 0.4214 - val_loss: 1.6766 - val_accuracy: 0.4050\n",
            "Epoch 10/30\n",
            "1407/1407 [==============================] - 12s 8ms/step - loss: 1.5868 - accuracy: 0.4313 - val_loss: 1.7231 - val_accuracy: 0.3876\n",
            "Epoch 11/30\n",
            "1407/1407 [==============================] - 12s 8ms/step - loss: 1.5644 - accuracy: 0.4363 - val_loss: 1.7055 - val_accuracy: 0.3868\n",
            "Epoch 12/30\n",
            "1407/1407 [==============================] - 12s 8ms/step - loss: 1.5480 - accuracy: 0.4481 - val_loss: 1.5841 - val_accuracy: 0.4336\n",
            "Epoch 13/30\n",
            "1407/1407 [==============================] - 12s 8ms/step - loss: 1.5332 - accuracy: 0.4526 - val_loss: 1.5732 - val_accuracy: 0.4458\n",
            "Epoch 14/30\n",
            "1407/1407 [==============================] - 12s 8ms/step - loss: 1.5136 - accuracy: 0.4602 - val_loss: 1.5947 - val_accuracy: 0.4334\n",
            "Epoch 15/30\n",
            "1407/1407 [==============================] - 12s 8ms/step - loss: 1.4974 - accuracy: 0.4681 - val_loss: 1.7273 - val_accuracy: 0.3964\n",
            "Epoch 16/30\n",
            "1407/1407 [==============================] - 12s 8ms/step - loss: 1.4814 - accuracy: 0.4736 - val_loss: 1.6798 - val_accuracy: 0.4216\n",
            "Epoch 17/30\n",
            "1407/1407 [==============================] - 12s 8ms/step - loss: 1.4697 - accuracy: 0.4762 - val_loss: 1.5627 - val_accuracy: 0.4456\n",
            "Epoch 18/30\n",
            "1407/1407 [==============================] - 12s 8ms/step - loss: 1.4536 - accuracy: 0.4835 - val_loss: 1.6005 - val_accuracy: 0.4408\n",
            "Epoch 19/30\n",
            "1407/1407 [==============================] - 11s 8ms/step - loss: 1.4422 - accuracy: 0.4849 - val_loss: 1.7149 - val_accuracy: 0.4178\n",
            "Epoch 20/30\n",
            "1407/1407 [==============================] - 11s 8ms/step - loss: 1.4259 - accuracy: 0.4912 - val_loss: 1.5935 - val_accuracy: 0.4348\n",
            "Epoch 21/30\n",
            "1407/1407 [==============================] - 11s 8ms/step - loss: 1.4202 - accuracy: 0.4931 - val_loss: 1.5531 - val_accuracy: 0.4578\n",
            "Epoch 22/30\n",
            "1407/1407 [==============================] - 11s 8ms/step - loss: 1.4073 - accuracy: 0.4984 - val_loss: 1.5986 - val_accuracy: 0.4300\n",
            "Epoch 23/30\n",
            "1407/1407 [==============================] - 12s 8ms/step - loss: 1.3907 - accuracy: 0.5032 - val_loss: 1.6270 - val_accuracy: 0.4176\n",
            "Epoch 24/30\n",
            "1407/1407 [==============================] - 12s 8ms/step - loss: 1.3896 - accuracy: 0.5066 - val_loss: 1.5776 - val_accuracy: 0.4408\n",
            "Epoch 25/30\n",
            "1407/1407 [==============================] - 12s 8ms/step - loss: 1.3731 - accuracy: 0.5106 - val_loss: 1.5405 - val_accuracy: 0.4610\n",
            "Epoch 26/30\n",
            "1407/1407 [==============================] - 12s 8ms/step - loss: 1.3587 - accuracy: 0.5170 - val_loss: 1.5183 - val_accuracy: 0.4658\n",
            "Epoch 27/30\n",
            "1407/1407 [==============================] - 12s 8ms/step - loss: 1.3508 - accuracy: 0.5182 - val_loss: 1.4695 - val_accuracy: 0.4898\n",
            "Epoch 28/30\n",
            "1407/1407 [==============================] - 12s 9ms/step - loss: 1.3376 - accuracy: 0.5227 - val_loss: 1.7284 - val_accuracy: 0.4106\n",
            "Epoch 29/30\n",
            "1407/1407 [==============================] - 12s 8ms/step - loss: 1.3314 - accuracy: 0.5260 - val_loss: 1.5328 - val_accuracy: 0.4680\n",
            "Epoch 30/30\n",
            "1407/1407 [==============================] - 12s 8ms/step - loss: 1.3196 - accuracy: 0.5308 - val_loss: 2.7640 - val_accuracy: 0.2914\n"
          ]
        }
      ],
      "source": [
        "#Entrena el modelo\n",
        "history = model.fit(X_train,y_train, epochs = 30, validation_data=(X_valid, y_valid))"
      ]
    },
    {
      "cell_type": "code",
      "execution_count": 32,
      "id": "bb094160-08b7-4ccb-a144-8a9a3c97d790",
      "metadata": {
        "id": "bb094160-08b7-4ccb-a144-8a9a3c97d790",
        "outputId": "9f3d3f7f-39f8-4ea6-b862-3f5d3522dacf",
        "colab": {
          "base_uri": "https://localhost:8080/"
        }
      },
      "outputs": [
        {
          "output_type": "stream",
          "name": "stdout",
          "text": [
            "313/313 [==============================] - 1s 3ms/step - loss: 1.9276 - accuracy: 0.3918\n"
          ]
        },
        {
          "output_type": "execute_result",
          "data": {
            "text/plain": [
              "[1.9276249408721924, 0.3917999863624573]"
            ]
          },
          "metadata": {},
          "execution_count": 32
        }
      ],
      "source": [
        "#Evalua el modelo\n",
        "model.evaluate(X_test,y_test)"
      ]
    },
    {
      "cell_type": "markdown",
      "id": "b244e9eb-df62-422e-b446-aa809a96504f",
      "metadata": {
        "id": "b244e9eb-df62-422e-b446-aa809a96504f"
      },
      "source": [
        "### 2.-\n",
        "_Ahora prueba con inicializacion HE y la función de activación ELU_"
      ]
    },
    {
      "cell_type": "code",
      "execution_count": 33,
      "id": "76881fd4-2b3e-488a-a355-7aae9b89e54d",
      "metadata": {
        "id": "76881fd4-2b3e-488a-a355-7aae9b89e54d"
      },
      "outputs": [],
      "source": [
        "#Limpia Sesión\n",
        "keras.backend.clear_session()"
      ]
    },
    {
      "cell_type": "code",
      "execution_count": 34,
      "id": "1a319e61-8369-4211-a824-caefe1799494",
      "metadata": {
        "id": "1a319e61-8369-4211-a824-caefe1799494"
      },
      "outputs": [],
      "source": [
        "#Semillas a 42\n",
        "tf.random.set_seed(42)\n",
        "np.random.seed(42)"
      ]
    },
    {
      "cell_type": "code",
      "execution_count": 35,
      "id": "48662e72-3167-4611-99ff-c595190fe395",
      "metadata": {
        "id": "48662e72-3167-4611-99ff-c595190fe395"
      },
      "outputs": [],
      "source": [
        "#Armamos el modelo secuencial\n",
        "model = keras.models.Sequential()\n",
        "model.add(keras.layers.Flatten(input_shape=[32,32,3]))\n",
        "for _ in range(20):\n",
        "    model.add(keras.layers.Dense(100,activation=\"elu\", kernel_initializer=\"he_normal\"))\n",
        "model.add(keras.layers.Dense(10,activation=\"softmax\"))"
      ]
    },
    {
      "cell_type": "code",
      "execution_count": 36,
      "id": "7fe365f0-1e4c-44b3-b2da-33811afe10ca",
      "metadata": {
        "id": "7fe365f0-1e4c-44b3-b2da-33811afe10ca",
        "outputId": "59a1b1e8-e87a-468f-a2e2-6acc2285ffea",
        "colab": {
          "base_uri": "https://localhost:8080/"
        }
      },
      "outputs": [
        {
          "output_type": "stream",
          "name": "stdout",
          "text": [
            "Model: \"sequential\"\n",
            "_________________________________________________________________\n",
            " Layer (type)                Output Shape              Param #   \n",
            "=================================================================\n",
            " flatten (Flatten)           (None, 3072)              0         \n",
            "                                                                 \n",
            " dense (Dense)               (None, 100)               307300    \n",
            "                                                                 \n",
            " dense_1 (Dense)             (None, 100)               10100     \n",
            "                                                                 \n",
            " dense_2 (Dense)             (None, 100)               10100     \n",
            "                                                                 \n",
            " dense_3 (Dense)             (None, 100)               10100     \n",
            "                                                                 \n",
            " dense_4 (Dense)             (None, 100)               10100     \n",
            "                                                                 \n",
            " dense_5 (Dense)             (None, 100)               10100     \n",
            "                                                                 \n",
            " dense_6 (Dense)             (None, 100)               10100     \n",
            "                                                                 \n",
            " dense_7 (Dense)             (None, 100)               10100     \n",
            "                                                                 \n",
            " dense_8 (Dense)             (None, 100)               10100     \n",
            "                                                                 \n",
            " dense_9 (Dense)             (None, 100)               10100     \n",
            "                                                                 \n",
            " dense_10 (Dense)            (None, 100)               10100     \n",
            "                                                                 \n",
            " dense_11 (Dense)            (None, 100)               10100     \n",
            "                                                                 \n",
            " dense_12 (Dense)            (None, 100)               10100     \n",
            "                                                                 \n",
            " dense_13 (Dense)            (None, 100)               10100     \n",
            "                                                                 \n",
            " dense_14 (Dense)            (None, 100)               10100     \n",
            "                                                                 \n",
            " dense_15 (Dense)            (None, 100)               10100     \n",
            "                                                                 \n",
            " dense_16 (Dense)            (None, 100)               10100     \n",
            "                                                                 \n",
            " dense_17 (Dense)            (None, 100)               10100     \n",
            "                                                                 \n",
            " dense_18 (Dense)            (None, 100)               10100     \n",
            "                                                                 \n",
            " dense_19 (Dense)            (None, 100)               10100     \n",
            "                                                                 \n",
            " dense_20 (Dense)            (None, 10)                1010      \n",
            "                                                                 \n",
            "=================================================================\n",
            "Total params: 500210 (1.91 MB)\n",
            "Trainable params: 500210 (1.91 MB)\n",
            "Non-trainable params: 0 (0.00 Byte)\n",
            "_________________________________________________________________\n"
          ]
        }
      ],
      "source": [
        "#Resumen del modelo - algo cambió?\n",
        "model.summary()"
      ]
    },
    {
      "cell_type": "code",
      "execution_count": 37,
      "id": "83e452b9-b877-4fb2-8307-6abab7fcd617",
      "metadata": {
        "id": "83e452b9-b877-4fb2-8307-6abab7fcd617"
      },
      "outputs": [],
      "source": [
        "#Compila el modelo (no cambia nada)\n",
        "model.compile(loss=\"sparse_categorical_crossentropy\", optimizer=\"sgd\", metrics=[\"accuracy\"])"
      ]
    },
    {
      "cell_type": "code",
      "execution_count": 38,
      "id": "c99653a6-86f3-4298-b801-46e231952969",
      "metadata": {
        "id": "c99653a6-86f3-4298-b801-46e231952969",
        "outputId": "01a3c068-c03a-4522-fa8c-ca4a0c82f487",
        "colab": {
          "base_uri": "https://localhost:8080/"
        }
      },
      "outputs": [
        {
          "output_type": "stream",
          "name": "stdout",
          "text": [
            "Epoch 1/30\n",
            "1407/1407 [==============================] - 12s 8ms/step - loss: 1.3269 - accuracy: 0.5286 - val_loss: 1.5815 - val_accuracy: 0.4552\n",
            "Epoch 2/30\n",
            "1407/1407 [==============================] - 11s 8ms/step - loss: 1.3127 - accuracy: 0.5358 - val_loss: 1.6045 - val_accuracy: 0.4480\n",
            "Epoch 3/30\n",
            "1407/1407 [==============================] - 10s 7ms/step - loss: 1.3083 - accuracy: 0.5333 - val_loss: 3.8623 - val_accuracy: 0.2050\n",
            "Epoch 4/30\n",
            "1407/1407 [==============================] - 11s 8ms/step - loss: 1.3060 - accuracy: 0.5349 - val_loss: 1.5743 - val_accuracy: 0.4614\n",
            "Epoch 5/30\n",
            "1407/1407 [==============================] - 11s 8ms/step - loss: 1.2909 - accuracy: 0.5394 - val_loss: 1.5267 - val_accuracy: 0.4730\n",
            "Epoch 6/30\n",
            "1407/1407 [==============================] - 11s 8ms/step - loss: 1.2868 - accuracy: 0.5435 - val_loss: 1.4993 - val_accuracy: 0.4816\n",
            "Epoch 7/30\n",
            "1407/1407 [==============================] - 10s 7ms/step - loss: 1.2769 - accuracy: 0.5471 - val_loss: 1.6474 - val_accuracy: 0.4320\n",
            "Epoch 8/30\n",
            "1407/1407 [==============================] - 11s 8ms/step - loss: 1.2689 - accuracy: 0.5506 - val_loss: 1.5018 - val_accuracy: 0.4832\n",
            "Epoch 9/30\n",
            "1407/1407 [==============================] - 11s 8ms/step - loss: 1.2586 - accuracy: 0.5534 - val_loss: 1.5297 - val_accuracy: 0.4738\n",
            "Epoch 10/30\n",
            "1407/1407 [==============================] - 10s 7ms/step - loss: 1.2513 - accuracy: 0.5568 - val_loss: 1.6432 - val_accuracy: 0.4434\n",
            "Epoch 11/30\n",
            "1407/1407 [==============================] - 10s 7ms/step - loss: 1.2455 - accuracy: 0.5564 - val_loss: 1.5943 - val_accuracy: 0.4604\n",
            "Epoch 12/30\n",
            "1407/1407 [==============================] - 11s 7ms/step - loss: 1.2384 - accuracy: 0.5614 - val_loss: 1.5391 - val_accuracy: 0.4684\n",
            "Epoch 13/30\n",
            "1407/1407 [==============================] - 11s 7ms/step - loss: 1.2290 - accuracy: 0.5662 - val_loss: 1.5474 - val_accuracy: 0.4852\n",
            "Epoch 14/30\n",
            "1407/1407 [==============================] - 11s 8ms/step - loss: 1.2230 - accuracy: 0.5683 - val_loss: 1.4826 - val_accuracy: 0.4884\n",
            "Epoch 15/30\n",
            "1407/1407 [==============================] - 11s 7ms/step - loss: 1.2145 - accuracy: 0.5708 - val_loss: 1.6328 - val_accuracy: 0.4482\n",
            "Epoch 16/30\n",
            "1407/1407 [==============================] - 10s 7ms/step - loss: 1.2107 - accuracy: 0.5723 - val_loss: 1.5174 - val_accuracy: 0.4828\n",
            "Epoch 17/30\n",
            "1407/1407 [==============================] - 10s 7ms/step - loss: 1.2011 - accuracy: 0.5748 - val_loss: 1.4931 - val_accuracy: 0.4934\n",
            "Epoch 18/30\n",
            "1407/1407 [==============================] - 11s 8ms/step - loss: 1.1932 - accuracy: 0.5762 - val_loss: 1.4768 - val_accuracy: 0.4928\n",
            "Epoch 19/30\n",
            "1407/1407 [==============================] - 10s 7ms/step - loss: 1.1867 - accuracy: 0.5792 - val_loss: 1.9257 - val_accuracy: 0.4224\n",
            "Epoch 20/30\n",
            "1407/1407 [==============================] - 10s 7ms/step - loss: 1.1806 - accuracy: 0.5808 - val_loss: 1.5237 - val_accuracy: 0.4804\n",
            "Epoch 21/30\n",
            "1407/1407 [==============================] - 10s 7ms/step - loss: 1.1738 - accuracy: 0.5839 - val_loss: 1.6399 - val_accuracy: 0.4560\n",
            "Epoch 22/30\n",
            "1407/1407 [==============================] - 11s 7ms/step - loss: 1.1691 - accuracy: 0.5865 - val_loss: 1.5650 - val_accuracy: 0.4762\n",
            "Epoch 23/30\n",
            "1407/1407 [==============================] - 10s 7ms/step - loss: 1.1565 - accuracy: 0.5906 - val_loss: 1.5492 - val_accuracy: 0.4702\n",
            "Epoch 24/30\n",
            "1407/1407 [==============================] - 10s 7ms/step - loss: 1.1536 - accuracy: 0.5914 - val_loss: 1.5772 - val_accuracy: 0.4760\n",
            "Epoch 25/30\n",
            "1407/1407 [==============================] - 10s 7ms/step - loss: 1.1508 - accuracy: 0.5941 - val_loss: 1.5291 - val_accuracy: 0.4876\n",
            "Epoch 26/30\n",
            "1407/1407 [==============================] - 11s 8ms/step - loss: 1.1400 - accuracy: 0.5960 - val_loss: 1.4794 - val_accuracy: 0.5010\n",
            "Epoch 27/30\n",
            "1407/1407 [==============================] - 10s 7ms/step - loss: 1.1320 - accuracy: 0.6003 - val_loss: 1.6368 - val_accuracy: 0.4656\n",
            "Epoch 28/30\n",
            "1407/1407 [==============================] - 10s 7ms/step - loss: 1.1314 - accuracy: 0.5999 - val_loss: 1.6405 - val_accuracy: 0.4694\n",
            "Epoch 29/30\n",
            "1407/1407 [==============================] - 11s 8ms/step - loss: 1.1275 - accuracy: 0.6015 - val_loss: 1.7150 - val_accuracy: 0.4510\n",
            "Epoch 30/30\n",
            "1407/1407 [==============================] - 10s 7ms/step - loss: 1.1182 - accuracy: 0.6046 - val_loss: 1.9986 - val_accuracy: 0.4162\n"
          ]
        },
        {
          "output_type": "execute_result",
          "data": {
            "text/plain": [
              "<keras.src.callbacks.History at 0x7c74145d5060>"
            ]
          },
          "metadata": {},
          "execution_count": 38
        }
      ],
      "source": [
        "#Ejecuta este desastre\n",
        "history.model.fit(X_train,y_train, epochs=30,validation_data=(X_valid,y_valid))"
      ]
    },
    {
      "cell_type": "code",
      "execution_count": 39,
      "id": "9ada940c-8f82-4da9-984d-6a628fed4059",
      "metadata": {
        "id": "9ada940c-8f82-4da9-984d-6a628fed4059",
        "outputId": "758e77cf-f789-4aca-c13d-d5f5820903c8",
        "colab": {
          "base_uri": "https://localhost:8080/"
        }
      },
      "outputs": [
        {
          "output_type": "stream",
          "name": "stdout",
          "text": [
            "313/313 [==============================] - 2s 3ms/step - loss: 95.4047 - accuracy: 0.1019\n"
          ]
        },
        {
          "output_type": "execute_result",
          "data": {
            "text/plain": [
              "[95.4046859741211, 0.10189999639987946]"
            ]
          },
          "metadata": {},
          "execution_count": 39
        }
      ],
      "source": [
        "#Evalua pero no tengas esperanzas\n",
        "model.evaluate(X_test,y_test)"
      ]
    },
    {
      "cell_type": "markdown",
      "id": "d7254e9e-e93f-40a2-9e99-45123c930e44",
      "metadata": {
        "id": "d7254e9e-e93f-40a2-9e99-45123c930e44"
      },
      "source": [
        "### 3.-\n",
        "_Fracaso rotundo, sigue con el proceso ahora para compilar con optimizarod Nadam y early stopping_"
      ]
    },
    {
      "cell_type": "code",
      "execution_count": 40,
      "id": "1a0b622f-9c51-4ebe-8fea-cc06fd24482f",
      "metadata": {
        "id": "1a0b622f-9c51-4ebe-8fea-cc06fd24482f"
      },
      "outputs": [],
      "source": [
        "#Despeja el backend de Keras\n",
        "keras.backend.clear_session()\n",
        "\n",
        "#Semillas a 42\n",
        "tf.random.set_seed(42)\n",
        "np.random.seed(42)\n",
        "\n",
        "#Armamos el modelo Secuencial\n",
        "model = keras.models.Sequential()\n",
        "model.add(keras.layers.Flatten(input_shape=[32,32,3]))\n",
        "for _ in range(20):\n",
        "    model.add(keras.layers.Dense(100, activation = \"elu\", kernel_initializer=\"he_normal\"))\n",
        "model.add(keras.layers.Dense(10, activation= \"softmax\"))"
      ]
    },
    {
      "cell_type": "code",
      "execution_count": 41,
      "id": "26fdf72a-42fa-4015-a59d-72cac8ccaf92",
      "metadata": {
        "id": "26fdf72a-42fa-4015-a59d-72cac8ccaf92"
      },
      "outputs": [],
      "source": [
        "#Optimizador NADAM\n",
        "optimizer = keras.optimizers.Nadam(learning_rate=5e-5,beta_1=0.9, beta_2=0.999)\n",
        "#Compila con NADAM\n",
        "model.compile(loss=\"sparse_categorical_crossentropy\",optimizer=optimizer,metrics=[\"accuracy\"])\n"
      ]
    },
    {
      "cell_type": "code",
      "execution_count": 42,
      "id": "47cc059e-8702-44bd-b177-fa401cacfbfe",
      "metadata": {
        "id": "47cc059e-8702-44bd-b177-fa401cacfbfe"
      },
      "outputs": [],
      "source": [
        "#Early Stopping\n",
        "\n",
        "#Callback a 20 puntos, guardadndo en modelocifar10.h5\n",
        "early_stopping_cb = keras.callbacks.EarlyStopping(patience = 20)\n",
        "model_checkpoint_cb = keras.callbacks.ModelCheckpoint(\"modelocifar10.h5\", save_best_only=True)\n",
        "callbacks=[early_stopping_cb,model_checkpoint_cb]\n",
        "\n"
      ]
    },
    {
      "cell_type": "code",
      "execution_count": 43,
      "id": "ff3319a3-b0db-405d-a4bd-8132967396f7",
      "metadata": {
        "id": "ff3319a3-b0db-405d-a4bd-8132967396f7",
        "colab": {
          "base_uri": "https://localhost:8080/"
        },
        "outputId": "9a4de231-bdf7-4a68-daa7-cad9ab41e712"
      },
      "outputs": [
        {
          "output_type": "stream",
          "name": "stdout",
          "text": [
            "Epoch 1/100\n",
            "1407/1407 [==============================] - 28s 12ms/step - loss: 5.7138 - accuracy: 0.1671 - val_loss: 2.1674 - val_accuracy: 0.2210\n",
            "Epoch 2/100\n",
            "   6/1407 [..............................] - ETA: 15s - loss: 2.2069 - accuracy: 0.2240"
          ]
        },
        {
          "output_type": "stream",
          "name": "stderr",
          "text": [
            "/usr/local/lib/python3.10/dist-packages/keras/src/engine/training.py:3103: UserWarning: You are saving your model as an HDF5 file via `model.save()`. This file format is considered legacy. We recommend using instead the native Keras format, e.g. `model.save('my_model.keras')`.\n",
            "  saving_api.save_model(\n"
          ]
        },
        {
          "output_type": "stream",
          "name": "stdout",
          "text": [
            "1407/1407 [==============================] - 16s 11ms/step - loss: 2.0924 - accuracy: 0.2336 - val_loss: 2.0410 - val_accuracy: 0.2554\n",
            "Epoch 3/100\n",
            "1407/1407 [==============================] - 16s 11ms/step - loss: 1.9819 - accuracy: 0.2726 - val_loss: 2.0050 - val_accuracy: 0.2700\n",
            "Epoch 4/100\n",
            "1407/1407 [==============================] - 17s 12ms/step - loss: 1.9010 - accuracy: 0.3043 - val_loss: 1.9028 - val_accuracy: 0.3126\n",
            "Epoch 5/100\n",
            "1407/1407 [==============================] - 16s 11ms/step - loss: 1.8375 - accuracy: 0.3276 - val_loss: 1.8231 - val_accuracy: 0.3216\n",
            "Epoch 6/100\n",
            "1407/1407 [==============================] - 16s 11ms/step - loss: 1.7819 - accuracy: 0.3526 - val_loss: 1.7781 - val_accuracy: 0.3512\n",
            "Epoch 7/100\n",
            "1407/1407 [==============================] - 16s 12ms/step - loss: 1.7367 - accuracy: 0.3686 - val_loss: 1.7472 - val_accuracy: 0.3540\n",
            "Epoch 8/100\n",
            "1407/1407 [==============================] - 16s 12ms/step - loss: 1.6956 - accuracy: 0.3863 - val_loss: 1.6970 - val_accuracy: 0.3814\n",
            "Epoch 9/100\n",
            "1407/1407 [==============================] - 16s 12ms/step - loss: 1.6612 - accuracy: 0.3990 - val_loss: 1.6865 - val_accuracy: 0.3898\n",
            "Epoch 10/100\n",
            "1407/1407 [==============================] - 16s 12ms/step - loss: 1.6348 - accuracy: 0.4107 - val_loss: 1.6921 - val_accuracy: 0.3812\n",
            "Epoch 11/100\n",
            "1407/1407 [==============================] - 16s 11ms/step - loss: 1.6087 - accuracy: 0.4219 - val_loss: 1.6611 - val_accuracy: 0.3952\n",
            "Epoch 12/100\n",
            "1407/1407 [==============================] - 16s 11ms/step - loss: 1.5857 - accuracy: 0.4304 - val_loss: 1.6670 - val_accuracy: 0.4028\n",
            "Epoch 13/100\n",
            "1407/1407 [==============================] - 16s 11ms/step - loss: 1.5630 - accuracy: 0.4375 - val_loss: 1.6511 - val_accuracy: 0.4096\n",
            "Epoch 14/100\n",
            "1407/1407 [==============================] - 16s 11ms/step - loss: 1.5517 - accuracy: 0.4412 - val_loss: 1.5943 - val_accuracy: 0.4228\n",
            "Epoch 15/100\n",
            "1407/1407 [==============================] - 16s 11ms/step - loss: 1.5319 - accuracy: 0.4506 - val_loss: 1.5888 - val_accuracy: 0.4252\n",
            "Epoch 16/100\n",
            "1407/1407 [==============================] - 16s 11ms/step - loss: 1.5154 - accuracy: 0.4571 - val_loss: 1.5578 - val_accuracy: 0.4388\n",
            "Epoch 17/100\n",
            "1407/1407 [==============================] - 16s 11ms/step - loss: 1.5064 - accuracy: 0.4587 - val_loss: 1.5618 - val_accuracy: 0.4466\n",
            "Epoch 18/100\n",
            "1407/1407 [==============================] - 16s 11ms/step - loss: 1.4910 - accuracy: 0.4650 - val_loss: 1.5675 - val_accuracy: 0.4370\n",
            "Epoch 19/100\n",
            "1407/1407 [==============================] - 16s 11ms/step - loss: 1.4778 - accuracy: 0.4675 - val_loss: 1.5889 - val_accuracy: 0.4304\n",
            "Epoch 20/100\n",
            "1407/1407 [==============================] - 16s 11ms/step - loss: 1.4654 - accuracy: 0.4725 - val_loss: 1.5712 - val_accuracy: 0.4394\n",
            "Epoch 21/100\n",
            "1407/1407 [==============================] - 16s 11ms/step - loss: 1.4546 - accuracy: 0.4786 - val_loss: 1.5825 - val_accuracy: 0.4414\n",
            "Epoch 22/100\n",
            "1407/1407 [==============================] - 16s 11ms/step - loss: 1.4436 - accuracy: 0.4826 - val_loss: 1.5665 - val_accuracy: 0.4376\n",
            "Epoch 23/100\n",
            "1407/1407 [==============================] - 16s 11ms/step - loss: 1.4309 - accuracy: 0.4885 - val_loss: 1.5430 - val_accuracy: 0.4472\n",
            "Epoch 24/100\n",
            "1407/1407 [==============================] - 15s 11ms/step - loss: 1.4196 - accuracy: 0.4907 - val_loss: 1.5640 - val_accuracy: 0.4414\n",
            "Epoch 25/100\n",
            "1407/1407 [==============================] - 16s 11ms/step - loss: 1.4083 - accuracy: 0.4954 - val_loss: 1.5122 - val_accuracy: 0.4648\n",
            "Epoch 26/100\n",
            "1407/1407 [==============================] - 16s 11ms/step - loss: 1.3997 - accuracy: 0.4960 - val_loss: 1.5524 - val_accuracy: 0.4484\n",
            "Epoch 27/100\n",
            "1407/1407 [==============================] - 16s 11ms/step - loss: 1.3893 - accuracy: 0.5011 - val_loss: 1.5327 - val_accuracy: 0.4610\n",
            "Epoch 28/100\n",
            "1407/1407 [==============================] - 16s 11ms/step - loss: 1.3855 - accuracy: 0.5018 - val_loss: 1.5644 - val_accuracy: 0.4474\n",
            "Epoch 29/100\n",
            "1407/1407 [==============================] - 16s 11ms/step - loss: 1.3742 - accuracy: 0.5055 - val_loss: 1.5474 - val_accuracy: 0.4642\n",
            "Epoch 30/100\n",
            "1407/1407 [==============================] - 16s 11ms/step - loss: 1.3640 - accuracy: 0.5077 - val_loss: 1.5384 - val_accuracy: 0.4642\n",
            "Epoch 31/100\n",
            "1407/1407 [==============================] - 15s 11ms/step - loss: 1.3566 - accuracy: 0.5116 - val_loss: 1.5754 - val_accuracy: 0.4472\n",
            "Epoch 32/100\n",
            "1407/1407 [==============================] - 15s 11ms/step - loss: 1.3471 - accuracy: 0.5142 - val_loss: 1.5249 - val_accuracy: 0.4612\n",
            "Epoch 33/100\n",
            "1407/1407 [==============================] - 16s 11ms/step - loss: 1.3410 - accuracy: 0.5183 - val_loss: 1.5360 - val_accuracy: 0.4664\n",
            "Epoch 34/100\n",
            "1407/1407 [==============================] - 16s 11ms/step - loss: 1.3342 - accuracy: 0.5214 - val_loss: 1.5356 - val_accuracy: 0.4624\n",
            "Epoch 35/100\n",
            "1407/1407 [==============================] - 16s 12ms/step - loss: 1.3244 - accuracy: 0.5231 - val_loss: 1.5664 - val_accuracy: 0.4516\n",
            "Epoch 36/100\n",
            "1407/1407 [==============================] - 15s 11ms/step - loss: 1.3178 - accuracy: 0.5251 - val_loss: 1.5468 - val_accuracy: 0.4614\n",
            "Epoch 37/100\n",
            "1407/1407 [==============================] - 16s 11ms/step - loss: 1.3072 - accuracy: 0.5278 - val_loss: 1.5335 - val_accuracy: 0.4668\n",
            "Epoch 38/100\n",
            "1407/1407 [==============================] - 16s 11ms/step - loss: 1.3023 - accuracy: 0.5315 - val_loss: 1.5398 - val_accuracy: 0.4588\n",
            "Epoch 39/100\n",
            "1407/1407 [==============================] - 15s 11ms/step - loss: 1.2938 - accuracy: 0.5344 - val_loss: 1.5582 - val_accuracy: 0.4504\n",
            "Epoch 40/100\n",
            "1407/1407 [==============================] - 16s 11ms/step - loss: 1.2864 - accuracy: 0.5358 - val_loss: 1.5725 - val_accuracy: 0.4526\n",
            "Epoch 41/100\n",
            "1407/1407 [==============================] - 15s 11ms/step - loss: 1.2780 - accuracy: 0.5412 - val_loss: 1.5546 - val_accuracy: 0.4610\n",
            "Epoch 42/100\n",
            "1407/1407 [==============================] - 16s 11ms/step - loss: 1.2713 - accuracy: 0.5417 - val_loss: 1.5498 - val_accuracy: 0.4630\n",
            "Epoch 43/100\n",
            "1407/1407 [==============================] - 16s 11ms/step - loss: 1.2660 - accuracy: 0.5449 - val_loss: 1.5339 - val_accuracy: 0.4692\n",
            "Epoch 44/100\n",
            "1407/1407 [==============================] - 16s 11ms/step - loss: 1.2586 - accuracy: 0.5469 - val_loss: 1.5704 - val_accuracy: 0.4620\n",
            "Epoch 45/100\n",
            "1407/1407 [==============================] - 15s 11ms/step - loss: 1.2498 - accuracy: 0.5480 - val_loss: 1.5634 - val_accuracy: 0.4676\n"
          ]
        },
        {
          "output_type": "execute_result",
          "data": {
            "text/plain": [
              "<keras.src.callbacks.History at 0x7c741439b4c0>"
            ]
          },
          "metadata": {},
          "execution_count": 43
        }
      ],
      "source": [
        "#Entrena a 100 epochs\n",
        "model.fit(X_train,y_train, epochs=100,validation_data=(X_valid,y_valid),callbacks=callbacks)"
      ]
    },
    {
      "cell_type": "code",
      "execution_count": 1,
      "id": "4e46a46b-6fb4-4368-9f09-20b9ffa65465",
      "metadata": {
        "id": "4e46a46b-6fb4-4368-9f09-20b9ffa65465",
        "outputId": "90f01ee6-fa61-431d-ddef-57a2bbcda59e",
        "colab": {
          "base_uri": "https://localhost:8080/",
          "height": 176
        }
      },
      "outputs": [
        {
          "output_type": "error",
          "ename": "NameError",
          "evalue": "name 'keras' is not defined",
          "traceback": [
            "\u001b[0;31m---------------------------------------------------------------------------\u001b[0m",
            "\u001b[0;31mNameError\u001b[0m                                 Traceback (most recent call last)",
            "\u001b[0;32m<ipython-input-1-1de1a37ce726>\u001b[0m in \u001b[0;36m<cell line: 2>\u001b[0;34m()\u001b[0m\n\u001b[1;32m      1\u001b[0m \u001b[0;31m#Carga tu callback y evalua\u001b[0m\u001b[0;34m\u001b[0m\u001b[0;34m\u001b[0m\u001b[0m\n\u001b[0;32m----> 2\u001b[0;31m \u001b[0mmodel\u001b[0m \u001b[0;34m=\u001b[0m \u001b[0mkeras\u001b[0m\u001b[0;34m.\u001b[0m\u001b[0mmodels\u001b[0m\u001b[0;34m.\u001b[0m\u001b[0mload_model\u001b[0m\u001b[0;34m(\u001b[0m\u001b[0;34m\"modelocifar10.h5\"\u001b[0m\u001b[0;34m)\u001b[0m\u001b[0;34m\u001b[0m\u001b[0;34m\u001b[0m\u001b[0m\n\u001b[0m\u001b[1;32m      3\u001b[0m \u001b[0mmodel\u001b[0m\u001b[0;34m.\u001b[0m\u001b[0mevaluate\u001b[0m\u001b[0;34m(\u001b[0m\u001b[0mX_valid\u001b[0m\u001b[0;34m,\u001b[0m\u001b[0my_valid\u001b[0m\u001b[0;34m)\u001b[0m\u001b[0;34m\u001b[0m\u001b[0;34m\u001b[0m\u001b[0m\n",
            "\u001b[0;31mNameError\u001b[0m: name 'keras' is not defined"
          ]
        }
      ],
      "source": [
        "#Carga tu callback y evalua\n",
        "model = keras.models.load_model(\"modelocifar10.h5\")\n",
        "model.evaluate(X_valid,y_valid)"
      ]
    },
    {
      "cell_type": "markdown",
      "id": "b2dbf803-0d5a-4f38-846b-d8bf5edb786f",
      "metadata": {
        "id": "b2dbf803-0d5a-4f38-846b-d8bf5edb786f"
      },
      "source": [
        "### 4.-\n",
        "_Mucho mejor, Ahora agreguemos BN y comparemos los tiempos. es mas rapido? Es mejor modelo_"
      ]
    },
    {
      "cell_type": "code",
      "execution_count": null,
      "id": "20ef6081-b7f3-48a7-9ce0-01028e11bff0",
      "metadata": {
        "id": "20ef6081-b7f3-48a7-9ce0-01028e11bff0"
      },
      "outputs": [],
      "source": [
        "#Limpia sesión, semillas a 42\n",
        "keras.backend.clear_session()\n",
        "tf.random.set_seed(42)\n",
        "np.random.seed(42)\n"
      ]
    },
    {
      "cell_type": "code",
      "execution_count": null,
      "id": "667b1b4e-e460-464a-8853-e5c6b2889e17",
      "metadata": {
        "id": "667b1b4e-e460-464a-8853-e5c6b2889e17"
      },
      "outputs": [],
      "source": [
        "#armar modelo secuencial, capas Dense, Batchnorm y Activation\n",
        "model = keras.models.Sequential()\n",
        "model.add(keras.layers.Flatten(input_shape=[32,32,3]))\n",
        "model.add(keras.layers.BatchNormalization())\n",
        "for _ in range(20):\n",
        "    model.add(keras.layers.Dense(100, kernel_initializer=\"he_normal\"))\n",
        "    model.add(keras.layers.BatchNormalization())\n",
        "    model.add(keras.layers.Activation(\"elu\"))\n",
        "model.add(keras.layers.Dense(10, activation=\"softmax\"))"
      ]
    },
    {
      "cell_type": "code",
      "execution_count": null,
      "id": "c026b964-ecae-4085-9700-40d46c09ba84",
      "metadata": {
        "id": "c026b964-ecae-4085-9700-40d46c09ba84",
        "outputId": "8cff0cc2-6dac-4d24-e994-b477efcfcd1f"
      },
      "outputs": [
        {
          "name": "stdout",
          "output_type": "stream",
          "text": [
            "Model: \"sequential\"\n",
            "_________________________________________________________________\n",
            " Layer (type)                Output Shape              Param #   \n",
            "=================================================================\n",
            " flatten (Flatten)           (None, 3072)              0         \n",
            "                                                                 \n",
            " batch_normalization (BatchN  (None, 3072)             12288     \n",
            " ormalization)                                                   \n",
            "                                                                 \n",
            " dense (Dense)               (None, 100)               307300    \n",
            "                                                                 \n",
            " batch_normalization_1 (Batc  (None, 100)              400       \n",
            " hNormalization)                                                 \n",
            "                                                                 \n",
            " activation (Activation)     (None, 100)               0         \n",
            "                                                                 \n",
            " dense_1 (Dense)             (None, 100)               10100     \n",
            "                                                                 \n",
            " batch_normalization_2 (Batc  (None, 100)              400       \n",
            " hNormalization)                                                 \n",
            "                                                                 \n",
            " activation_1 (Activation)   (None, 100)               0         \n",
            "                                                                 \n",
            " dense_2 (Dense)             (None, 100)               10100     \n",
            "                                                                 \n",
            " batch_normalization_3 (Batc  (None, 100)              400       \n",
            " hNormalization)                                                 \n",
            "                                                                 \n",
            " activation_2 (Activation)   (None, 100)               0         \n",
            "                                                                 \n",
            " dense_3 (Dense)             (None, 100)               10100     \n",
            "                                                                 \n",
            " batch_normalization_4 (Batc  (None, 100)              400       \n",
            " hNormalization)                                                 \n",
            "                                                                 \n",
            " activation_3 (Activation)   (None, 100)               0         \n",
            "                                                                 \n",
            " dense_4 (Dense)             (None, 100)               10100     \n",
            "                                                                 \n",
            " batch_normalization_5 (Batc  (None, 100)              400       \n",
            " hNormalization)                                                 \n",
            "                                                                 \n",
            " activation_4 (Activation)   (None, 100)               0         \n",
            "                                                                 \n",
            " dense_5 (Dense)             (None, 100)               10100     \n",
            "                                                                 \n",
            " batch_normalization_6 (Batc  (None, 100)              400       \n",
            " hNormalization)                                                 \n",
            "                                                                 \n",
            " activation_5 (Activation)   (None, 100)               0         \n",
            "                                                                 \n",
            " dense_6 (Dense)             (None, 100)               10100     \n",
            "                                                                 \n",
            " batch_normalization_7 (Batc  (None, 100)              400       \n",
            " hNormalization)                                                 \n",
            "                                                                 \n",
            " activation_6 (Activation)   (None, 100)               0         \n",
            "                                                                 \n",
            " dense_7 (Dense)             (None, 100)               10100     \n",
            "                                                                 \n",
            " batch_normalization_8 (Batc  (None, 100)              400       \n",
            " hNormalization)                                                 \n",
            "                                                                 \n",
            " activation_7 (Activation)   (None, 100)               0         \n",
            "                                                                 \n",
            " dense_8 (Dense)             (None, 100)               10100     \n",
            "                                                                 \n",
            " batch_normalization_9 (Batc  (None, 100)              400       \n",
            " hNormalization)                                                 \n",
            "                                                                 \n",
            " activation_8 (Activation)   (None, 100)               0         \n",
            "                                                                 \n",
            " dense_9 (Dense)             (None, 100)               10100     \n",
            "                                                                 \n",
            " batch_normalization_10 (Bat  (None, 100)              400       \n",
            " chNormalization)                                                \n",
            "                                                                 \n",
            " activation_9 (Activation)   (None, 100)               0         \n",
            "                                                                 \n",
            " dense_10 (Dense)            (None, 100)               10100     \n",
            "                                                                 \n",
            " batch_normalization_11 (Bat  (None, 100)              400       \n",
            " chNormalization)                                                \n",
            "                                                                 \n",
            " activation_10 (Activation)  (None, 100)               0         \n",
            "                                                                 \n",
            " dense_11 (Dense)            (None, 100)               10100     \n",
            "                                                                 \n",
            " batch_normalization_12 (Bat  (None, 100)              400       \n",
            " chNormalization)                                                \n",
            "                                                                 \n",
            " activation_11 (Activation)  (None, 100)               0         \n",
            "                                                                 \n",
            " dense_12 (Dense)            (None, 100)               10100     \n",
            "                                                                 \n",
            " batch_normalization_13 (Bat  (None, 100)              400       \n",
            " chNormalization)                                                \n",
            "                                                                 \n",
            " activation_12 (Activation)  (None, 100)               0         \n",
            "                                                                 \n",
            " dense_13 (Dense)            (None, 100)               10100     \n",
            "                                                                 \n",
            " batch_normalization_14 (Bat  (None, 100)              400       \n",
            " chNormalization)                                                \n",
            "                                                                 \n",
            " activation_13 (Activation)  (None, 100)               0         \n",
            "                                                                 \n",
            " dense_14 (Dense)            (None, 100)               10100     \n",
            "                                                                 \n",
            " batch_normalization_15 (Bat  (None, 100)              400       \n",
            " chNormalization)                                                \n",
            "                                                                 \n",
            " activation_14 (Activation)  (None, 100)               0         \n",
            "                                                                 \n",
            " dense_15 (Dense)            (None, 100)               10100     \n",
            "                                                                 \n",
            " batch_normalization_16 (Bat  (None, 100)              400       \n",
            " chNormalization)                                                \n",
            "                                                                 \n",
            " activation_15 (Activation)  (None, 100)               0         \n",
            "                                                                 \n",
            " dense_16 (Dense)            (None, 100)               10100     \n",
            "                                                                 \n",
            " batch_normalization_17 (Bat  (None, 100)              400       \n",
            " chNormalization)                                                \n",
            "                                                                 \n",
            " activation_16 (Activation)  (None, 100)               0         \n",
            "                                                                 \n",
            " dense_17 (Dense)            (None, 100)               10100     \n",
            "                                                                 \n",
            " batch_normalization_18 (Bat  (None, 100)              400       \n",
            " chNormalization)                                                \n",
            "                                                                 \n",
            " activation_17 (Activation)  (None, 100)               0         \n",
            "                                                                 \n",
            " dense_18 (Dense)            (None, 100)               10100     \n",
            "                                                                 \n",
            " batch_normalization_19 (Bat  (None, 100)              400       \n",
            " chNormalization)                                                \n",
            "                                                                 \n",
            " activation_18 (Activation)  (None, 100)               0         \n",
            "                                                                 \n",
            " dense_19 (Dense)            (None, 100)               10100     \n",
            "                                                                 \n",
            " batch_normalization_20 (Bat  (None, 100)              400       \n",
            " chNormalization)                                                \n",
            "                                                                 \n",
            " activation_19 (Activation)  (None, 100)               0         \n",
            "                                                                 \n",
            " dense_20 (Dense)            (None, 10)                1010      \n",
            "                                                                 \n",
            "=================================================================\n",
            "Total params: 520,498\n",
            "Trainable params: 510,354\n",
            "Non-trainable params: 10,144\n",
            "_________________________________________________________________\n"
          ]
        }
      ],
      "source": [
        "model.summary()"
      ]
    },
    {
      "cell_type": "code",
      "execution_count": null,
      "id": "977a9f6d-834f-44a2-9177-d03231bf5166",
      "metadata": {
        "id": "977a9f6d-834f-44a2-9177-d03231bf5166"
      },
      "outputs": [],
      "source": [
        "#Optimizer nadam pero ahora si con beta1 y beta2\n",
        "optimizer = keras.optimizers.Nadam(learning_rate=5e-4, beta_1=.9, beta_2=.999)\n",
        "\n",
        "model.compile(loss=\"sparse_categorical_crossentropy\",\n",
        "              optimizer=optimizer,\n",
        "              metrics=[\"accuracy\"])"
      ]
    },
    {
      "cell_type": "code",
      "execution_count": null,
      "id": "a2369f97-0ff2-4d76-9ed3-b3d681594b0d",
      "metadata": {
        "id": "a2369f97-0ff2-4d76-9ed3-b3d681594b0d"
      },
      "outputs": [],
      "source": [
        "#Early Sopping\n",
        "early_stopping_cb = keras.callbacks.EarlyStopping(patience = 20)\n",
        "model_checkpoint_cb = keras.callbacks.ModelCheckpoint(\"modelocifar10.h5\", save_best_only=True)\n",
        "callbacks=[early_stopping_cb,model_checkpoint_cb]\n"
      ]
    },
    {
      "cell_type": "code",
      "execution_count": null,
      "id": "72e32ce4-7cae-4c97-850b-a0d00ef4f844",
      "metadata": {
        "id": "72e32ce4-7cae-4c97-850b-a0d00ef4f844"
      },
      "outputs": [],
      "source": [
        "#Fit el Modelo\n",
        "model.fit(X_train, y_train, epochs=100,\n",
        "          validation_data=(X_valid, y_valid),\n",
        "          callbacks=callbacks)"
      ]
    },
    {
      "cell_type": "code",
      "execution_count": null,
      "id": "d5a5ced0-80d9-4859-93a8-f4a2dada9016",
      "metadata": {
        "id": "d5a5ced0-80d9-4859-93a8-f4a2dada9016",
        "outputId": "5af4d8e1-ed4a-455a-8cb1-079498a8f98e"
      },
      "outputs": [
        {
          "name": "stdout",
          "output_type": "stream",
          "text": [
            "313/313 [==============================] - 2s 4ms/step - loss: 1.3338 - accuracy: 0.5360\n"
          ]
        },
        {
          "data": {
            "text/plain": [
              "[1.333768606185913, 0.5360000133514404]"
            ]
          },
          "execution_count": 31,
          "metadata": {},
          "output_type": "execute_result"
        }
      ],
      "source": [
        "#Evaluar el Modelo\n",
        "model = keras.models.load_model(\"modelocifar10.h5\")\n",
        "model.evaluate(X_test,y_test)"
      ]
    }
  ],
  "metadata": {
    "kernelspec": {
      "display_name": "Python 3 (ipykernel)",
      "language": "python",
      "name": "python3"
    },
    "language_info": {
      "codemirror_mode": {
        "name": "ipython",
        "version": 3
      },
      "file_extension": ".py",
      "mimetype": "text/x-python",
      "name": "python",
      "nbconvert_exporter": "python",
      "pygments_lexer": "ipython3",
      "version": "3.9.7"
    },
    "colab": {
      "provenance": [],
      "include_colab_link": true
    }
  },
  "nbformat": 4,
  "nbformat_minor": 5
}