{
  "cells": [
    {
      "cell_type": "markdown",
      "metadata": {
        "id": "view-in-github",
        "colab_type": "text"
      },
      "source": [
        "<a href=\"https://colab.research.google.com/github/SilvanaJ90/usergioarboleda-bootcamp_IA/blob/main/Tutorial_Funciones_Activacion.ipynb\" target=\"_parent\"><img src=\"https://colab.research.google.com/assets/colab-badge.svg\" alt=\"Open In Colab\"/></a>"
      ]
    },
    {
      "cell_type": "markdown",
      "source": [
        "Puede revisar el siguiente material\n",
        "\n",
        "[Enlace](https://universidadsergioarboleda-my.sharepoint.com/:f:/g/personal/joaquin_sanchezc_usa_edu_co/EvD-PTlR2kZFnLTFkyvqOc4BniSw-L3DvPvmFF1svAK7Uw?e=9Wgpju)"
      ],
      "metadata": {
        "id": "NARyD9IHm8Mb"
      }
    },
    {
      "cell_type": "markdown",
      "source": [
        "# **¿Qué es una función de activación?**\n",
        "\n",
        "Es una función que se aplica a las neuronas de una capa durante la predicción.\n",
        "\n",
        "Una función de activación es una función que se aplica a las neuronas de una capa durante la predicción. Esto debería resultarte muy familiar, porque has estado utilizando una función de activación llamada relu (mostrada aquí en la red neuronal de tres capas). La función relu tenía el efecto de convertir todos los números negativos en 0.\n",
        "\n",
        "Simplificando demasiado, una función de activación es cualquier función que puede tomar un número y devolver otro número. Pero hay un número infinito de funciones en el universo, y no todas son útiles como funciones de activación.\n",
        "\n",
        "Hay varias restricciones sobre lo que hace que una función sea una función de activación. Usar funciones fuera de estas restricciones es normalmente una mala idea, como verás."
      ],
      "metadata": {
        "id": "Jkd0Vop6maCT"
      }
    },
    {
      "cell_type": "markdown",
      "source": [
        "# Ejemplo de Funciones de Activación\n",
        "\n",
        "* **Función de activación ReLU (Rectified Linear Unit):**\n",
        "Esta es una de las funciones de activación más utilizadas en redes neuronales. Es una función lineal rectificada y se define como $f(x)=max(0,x)$. Es simple y eficiente en términos de cómputo y ha demostrado ser efectiva en la mayoría de las aplicaciones.\n",
        "\n",
        "* **Función de activación Sigmoid:**\n",
        "La función sigmoide tiene una forma de \"S\" y es continua y diferenciable. Se define como $f(x)=\\frac{1}{1+e^{-x}}$\n",
        "Produce valores en el rango de 0 a 1 y es útil en la salida de modelos de clasificación binaria donde se desea una probabilidad de pertenencia a una clase.\n",
        "\n",
        "* **Función de activación Tangente Hiperbólica (Tanh):**\n",
        "La función tangente hiperbólica es similar a la función sigmoide pero produce valores en el rango de -1 a 1. Se define como $f(x)=\\frac{e^{x}-e^{-x}}{e^{x}+e^{-x}}$. Se utiliza a menudo en capas ocultas de redes neuronales.\n",
        "\n",
        "* **Función de activación Softmax:**\n",
        "La función softmax se utiliza comúnmente en la capa de salida de una red neuronal para problemas de clasificación multiclase. Transforma un vector de números reales en un vector de probabilidades que suman 1. Se define como: $f(x_{i})=\\frac{e^{x_{i}}}{\\sum{e^{x_{j}}}}$\n",
        "\n",
        "* **Función de activación Leaky ReLU:** La función Leaky ReLU es similar a ReLU pero permite un pequeño gradiente cuando $x<0$ lo que puede ayudar a resolver el problema de \"neuronas muertas\" Se define como $f(x)=max(ax,x)$, donde $a$ es un valor pequeño positivo.\n"
      ],
      "metadata": {
        "id": "jdgokddHxcwi"
      }
    },
    {
      "cell_type": "code",
      "source": [
        "import numpy as np\n",
        "\n",
        "#Relu\n",
        "def relu(x):\n",
        "    return np.maximum(0, x)\n",
        "\n",
        "\n",
        "#Función de activación Sigmoid:\n",
        "def sigmoid(x):\n",
        "    return 1 / (1 + np.exp(-x))\n",
        "\n",
        "#Función de activación Tangente Hiperbólica (Tanh):\n",
        "def tanh(x):\n",
        "    return np.tanh(x)\n",
        "\n",
        "#Función de activación Softmax:\n",
        "def softmax(x):\n",
        "    exp_values = np.exp(x - np.max(x, axis=-1, keepdims=True))\n",
        "    return exp_values / np.sum(exp_values, axis=-1, keepdims=True)\n",
        "\n",
        "#Función de activación Leaky ReLU:\n",
        "\n",
        "def leaky_relu(x, alpha=0.01):\n",
        "    return np.where(x > 0, x, alpha * x)\n",
        "\n"
      ],
      "metadata": {
        "id": "CK_cZGsl1vmV"
      },
      "execution_count": null,
      "outputs": []
    },
    {
      "cell_type": "markdown",
      "source": [
        "**Comparación entre funciones de activación**\n",
        "\n",
        "En este ejemplo, utilizaremos un conjunto de datos de clasificación binaria y compararemos el rendimiento de las funciones de activación ReLU, Sigmoid y Tanh en la capa oculta de una red neuronal.\n",
        "\n"
      ],
      "metadata": {
        "id": "1dLcePsz2KZo"
      }
    },
    {
      "cell_type": "code",
      "source": [
        "import numpy as np\n",
        "from sklearn.datasets import make_classification\n",
        "from sklearn.model_selection import train_test_split\n",
        "from sklearn.metrics import accuracy_score\n",
        "import tensorflow as tf\n",
        "from tensorflow.keras.models import Sequential\n",
        "from tensorflow.keras.layers import Dense\n",
        "\n",
        "# Generar datos de clasificación binaria\n",
        "X, y = make_classification(n_samples=1000, n_features=20, n_classes=2, random_state=42)\n",
        "\n",
        "# Dividir datos en conjunto de entrenamiento y prueba\n",
        "X_train, X_test, y_train, y_test = train_test_split(X, y, test_size=0.2, random_state=42)\n",
        "\n",
        "# Definir función para construir y entrenar modelos con diferentes funciones de activación\n",
        "def build_and_train_model(activation, solver):\n",
        "    model = Sequential([\n",
        "        Dense(100, activation=activation, input_shape=(X_train.shape[1],)),\n",
        "        Dense(50,activation=activation),\n",
        "        Dense(33, activation=activation),\n",
        "        Dense(1, activation='sigmoid')\n",
        "    ])\n",
        "    model.compile(optimizer=solver, loss='binary_crossentropy', metrics=['accuracy'])\n",
        "    model.fit(X_train, y_train, epochs=10, verbose=0)\n",
        "    return model\n",
        "\n",
        "# Entrenar modelos con diferentes funciones de activación\n",
        "# https://keras.io/api/optimizers/\n",
        "relu_model = build_and_train_model('relu',\"adam\")\n",
        "sigmoid_model = build_and_train_model('sigmoid',\"adam\")\n",
        "tanh_model = build_and_train_model('tanh',\"adam\")\n",
        "relu_model_sgd =build_and_train_model('tanh',\"sgd\")\n",
        "\n",
        "# Evaluar modelos en conjunto de prueba\n",
        "relu_acc = accuracy_score(y_test, np.round(relu_model.predict(X_test)))\n",
        "sigmoid_acc = accuracy_score(y_test, np.round(sigmoid_model.predict(X_test)))\n",
        "tanh_acc = accuracy_score(y_test, np.round(tanh_model.predict(X_test)))\n",
        "relu_acc_sgd = accuracy_score(y_test, np.round(relu_model_sgd.predict(X_test)))\n",
        "\n",
        "# Imprimir resultados\n",
        "print(\"Accuracy using ReLU activation:\", relu_acc)\n",
        "print(\"Accuracy using Sigmoid activation:\", sigmoid_acc)\n",
        "print(\"Accuracy using Tanh activation:\", tanh_acc)\n",
        "print(\"Accuracy using ReLU activation with sgd:\", relu_acc_sgd)\n"
      ],
      "metadata": {
        "colab": {
          "base_uri": "https://localhost:8080/"
        },
        "id": "oGA2flyG2X3j",
        "outputId": "08ffe433-f467-44be-bb36-c35200551e8e"
      },
      "execution_count": null,
      "outputs": [
        {
          "output_type": "stream",
          "name": "stdout",
          "text": [
            "7/7 [==============================] - 0s 3ms/step\n",
            "7/7 [==============================] - 0s 2ms/step\n",
            "7/7 [==============================] - 0s 2ms/step\n",
            "7/7 [==============================] - 0s 2ms/step\n",
            "Accuracy using ReLU activation: 0.85\n",
            "Accuracy using Sigmoid activation: 0.88\n",
            "Accuracy using Tanh activation: 0.875\n",
            "Accuracy using ReLU activation with sgd: 0.855\n"
          ]
        }
      ]
    },
    {
      "cell_type": "markdown",
      "source": [
        "Generamos un conjunto de datos de clasificación binaria y dividimos los datos en conjuntos de entrenamiento y prueba.\n",
        "\n",
        "Luego, definimos una función para construir y entrenar modelos con diferentes funciones de activación en la capa oculta. Entrenamos modelos utilizando las funciones de activación ReLU, Sigmoid y Tanh, y luego evaluamos el rendimiento de cada modelo en el conjunto de prueba utilizando la precisión como métrica."
      ],
      "metadata": {
        "id": "w7hJKGBb2jht"
      }
    },
    {
      "cell_type": "code",
      "source": [
        "import matplotlib.pyplot as plt\n",
        "\n",
        "# Lista de nombres de funciones de activación\n",
        "activations = ['ReLU', 'Sigmoid', 'Tanh']\n",
        "\n",
        "# Lista de precisiones obtenidas por cada modelo\n",
        "accuracies = [relu_acc, sigmoid_acc, tanh_acc]\n",
        "\n",
        "# Crear gráfico de barras\n",
        "plt.figure(figsize=(8, 5))\n",
        "plt.bar(activations, accuracies, color=['blue', 'green', 'orange'])\n",
        "plt.xlabel('Activation Function')\n",
        "plt.ylabel('Accuracy')\n",
        "plt.title('Comparison of Activation Functions')\n",
        "plt.ylim(0, 1)  # Establecer límites en el eje y\n",
        "plt.grid(axis='y', linestyle='--', alpha=0.7)\n",
        "plt.show()\n"
      ],
      "metadata": {
        "colab": {
          "base_uri": "https://localhost:8080/",
          "height": 487
        },
        "id": "PoDu9rSt2evs",
        "outputId": "6766082a-9f12-4d98-dac3-581c68257add"
      },
      "execution_count": null,
      "outputs": [
        {
          "output_type": "display_data",
          "data": {
            "text/plain": [
              "<Figure size 800x500 with 1 Axes>"
            ],
            "image/png": "[encoded data removed]"
          },
          "metadata": {}
        }
      ]
    },
    {
      "cell_type": "markdown",
      "metadata": {
        "id": "CcwdvTB3mA6k"
      },
      "source": [
        "# Mejora de nuestra red MNIST"
      ]
    },
    {
      "cell_type": "markdown",
      "source": [
        "**Actualicemos la red MNIST para reflejar lo que has aprendido.**\n",
        "\n",
        "Teóricamente, la función tanh debería mejorar la activación de la capa oculta, y softmax debería mejorar la función de activación de la capa de salida. Cuando las probamos, de hecho alcanzan una puntuación más alta. Pero las cosas no siempre son tan sencillas como parecen.\n",
        "\n",
        "Tuve que hacer un par de ajustes para afinar la red adecuadamente con estas nuevas activaciones. Para $tanh$, tuve que reducir la desviación estándar de los pesos entrantes. Recuerda que inicializas los pesos aleatoriamente. np.random.random crea una matriz aleatoria con números repartidos aleatoriamente entre 0 y 1. Multiplicando por 0.2 y restando por 0.1, reescalas este rango aleatorio para que esté entre -0.1 y 0.1. Esto funcionó muy bien para relu pero es menos óptimo para tanh. a tanh le gusta tener una inicialización aleatoria más estrecha, así que la ajusté para que estuviera entre -0.01 y 0.01.\n",
        "\n",
        "También he eliminado el cálculo de error. Técnicamente, softmax se utiliza mejor con una función de error llamada entropía cruzada. Esta red calcula correctamente layer_2_delta para esta medida de error, pero como no hemos analizado por qué esta función de error es ventajosa, he eliminado las líneas para calcularla.\n",
        "\n",
        "Por último, como con casi todos los cambios realizados en una red neuronal, tuve que revisar el ajuste de alfa. Descubrí que se necesitaba un alfa mucho más alto para alcanzar una buena puntuación en 300 iteraciones. Y ¡voilá! Como era de esperar, la red alcanzó una mayor precisión en las pruebas, del 87%.\n"
      ],
      "metadata": {
        "id": "mukIkNUcnj65"
      }
    },
    {
      "cell_type": "code",
      "execution_count": null,
      "metadata": {
        "id": "4FUr0EqBmA6l",
        "outputId": "0643157f-3a1c-4a06-e703-7ba5f0fbd65b",
        "colab": {
          "base_uri": "https://localhost:8080/"
        }
      },
      "outputs": [
        {
          "output_type": "stream",
          "name": "stdout",
          "text": [
            "Downloading data from https://storage.googleapis.com/tensorflow/tf-keras-datasets/mnist.npz\n",
            "11490434/11490434 [==============================] - 0s 0us/step\n",
            "\n",
            "I:0 Test-Acc:0.394 Train-Acc:0.156\n",
            "I:10 Test-Acc:0.6867 Train-Acc:0.723\n",
            "I:20 Test-Acc:0.7025 Train-Acc:0.732\n",
            "I:30 Test-Acc:0.734 Train-Acc:0.763\n",
            "I:40 Test-Acc:0.7663 Train-Acc:0.794\n",
            "I:50 Test-Acc:0.7913 Train-Acc:0.819\n",
            "I:60 Test-Acc:0.8102 Train-Acc:0.849\n",
            "I:70 Test-Acc:0.8228 Train-Acc:0.864\n",
            "I:80 Test-Acc:0.831 Train-Acc:0.867\n",
            "I:90 Test-Acc:0.8364 Train-Acc:0.885\n",
            "I:100 Test-Acc:0.8407 Train-Acc:0.883\n",
            "I:110 Test-Acc:0.845 Train-Acc:0.891\n",
            "I:120 Test-Acc:0.8481 Train-Acc:0.901\n",
            "I:130 Test-Acc:0.8505 Train-Acc:0.901\n",
            "I:140 Test-Acc:0.8526 Train-Acc:0.905\n",
            "I:150 Test-Acc:0.8555 Train-Acc:0.914\n",
            "I:160 Test-Acc:0.8577 Train-Acc:0.925\n",
            "I:170 Test-Acc:0.8596 Train-Acc:0.918\n",
            "I:180 Test-Acc:0.8619 Train-Acc:0.933\n",
            "I:190 Test-Acc:0.863 Train-Acc:0.933\n",
            "I:200 Test-Acc:0.8642 Train-Acc:0.926\n",
            "I:210 Test-Acc:0.8653 Train-Acc:0.931\n",
            "I:220 Test-Acc:0.8668 Train-Acc:0.93\n",
            "I:230 Test-Acc:0.8672 Train-Acc:0.937\n",
            "I:240 Test-Acc:0.8681 Train-Acc:0.938\n",
            "I:250 Test-Acc:0.8687 Train-Acc:0.937\n",
            "I:260 Test-Acc:0.8684 Train-Acc:0.945\n",
            "I:270 Test-Acc:0.8703 Train-Acc:0.951\n",
            "I:280 Test-Acc:0.8699 Train-Acc:0.949\n",
            "I:290 Test-Acc:0.8701 Train-Acc:0.94"
          ]
        }
      ],
      "source": [
        "import numpy as np, sys\n",
        "np.random.seed(1)\n",
        "\n",
        "from keras.datasets import mnist\n",
        "\n",
        "(x_train, y_train), (x_test, y_test) = mnist.load_data()\n",
        "\n",
        "images, labels = (x_train[0:1000].reshape(1000,28*28) / 255, y_train[0:1000])\n",
        "\n",
        "one_hot_labels = np.zeros((len(labels),10))\n",
        "for i,l in enumerate(labels):\n",
        "    one_hot_labels[i][l] = 1\n",
        "labels = one_hot_labels\n",
        "\n",
        "test_images = x_test.reshape(len(x_test),28*28) / 255\n",
        "test_labels = np.zeros((len(y_test),10))\n",
        "for i,l in enumerate(y_test):\n",
        "    test_labels[i][l] = 1\n",
        "\n",
        "def tanh(x):\n",
        "    return np.tanh(x)\n",
        "\n",
        "def tanh2deriv(output):\n",
        "    return 1 - (output ** 2)\n",
        "\n",
        "def softmax(x):\n",
        "    temp = np.exp(x)\n",
        "    return temp / np.sum(temp, axis=1, keepdims=True)\n",
        "\n",
        "alpha, iterations, hidden_size = (2, 300, 100)\n",
        "pixels_per_image, num_labels = (784, 10)\n",
        "batch_size = 100\n",
        "\n",
        "weights_0_1 = 0.02*np.random.random((pixels_per_image,hidden_size))-0.01\n",
        "weights_1_2 = 0.2*np.random.random((hidden_size,num_labels)) - 0.1\n",
        "\n",
        "for j in range(iterations):\n",
        "    correct_cnt = 0\n",
        "    for i in range(int(len(images) / batch_size)):\n",
        "        batch_start, batch_end=((i * batch_size),((i+1)*batch_size))\n",
        "        layer_0 = images[batch_start:batch_end]\n",
        "        layer_1 = tanh(np.dot(layer_0,weights_0_1))\n",
        "        dropout_mask = np.random.randint(2,size=layer_1.shape)\n",
        "        layer_1 *= dropout_mask * 2\n",
        "        layer_2 = softmax(np.dot(layer_1,weights_1_2))\n",
        "\n",
        "        for k in range(batch_size):\n",
        "            correct_cnt += int(np.argmax(layer_2[k:k+1]) == np.argmax(labels[batch_start+k:batch_start+k+1]))\n",
        "\n",
        "        layer_2_delta = (labels[batch_start:batch_end]-layer_2) / (batch_size * layer_2.shape[0])\n",
        "        layer_1_delta = layer_2_delta.dot(weights_1_2.T) * tanh2deriv(layer_1)\n",
        "        layer_1_delta *= dropout_mask\n",
        "\n",
        "        weights_1_2 += alpha * layer_1.T.dot(layer_2_delta)\n",
        "        weights_0_1 += alpha * layer_0.T.dot(layer_1_delta)\n",
        "\n",
        "    test_correct_cnt = 0\n",
        "\n",
        "    for i in range(len(test_images)):\n",
        "\n",
        "        layer_0 = test_images[i:i+1]\n",
        "        layer_1 = tanh(np.dot(layer_0,weights_0_1))\n",
        "        layer_2 = np.dot(layer_1,weights_1_2)\n",
        "\n",
        "        test_correct_cnt += int(np.argmax(layer_2) == np.argmax(test_labels[i:i+1]))\n",
        "    if(j % 10 == 0):\n",
        "        sys.stdout.write(\"\\n\"+ \\\n",
        "         \"I:\" + str(j) + \\\n",
        "         \" Test-Acc:\"+str(test_correct_cnt/float(len(test_images)))+\\\n",
        "         \" Train-Acc:\" + str(correct_cnt/float(len(images))))"
      ]
    },
    {
      "cell_type": "code",
      "execution_count": null,
      "metadata": {
        "id": "1CBzWIQemA6m"
      },
      "outputs": [],
      "source": []
    },
    {
      "cell_type": "markdown",
      "source": [
        "# Mejora de nuestra red MNIST"
      ],
      "metadata": {
        "id": "JBF24XuApkBn"
      }
    },
    {
      "cell_type": "markdown",
      "source": [
        "**Reutilización de pesos en varios lugares**\n",
        "\n",
        "Si necesita detectar la misma característica en varios lugares utilice las mismas ponderaciones.\n",
        "\n",
        "El mayor reto de las redes neuronales es el de la sobreadaptación, cuando una red neuronal memoriza un conjunto de datos en lugar de aprender abstracciones útiles que generalicen a datos no vistos. En otras palabras, la red neuronal aprende a predecir basándose en el ruido del conjunto de datos en lugar de basarse en la señal fundamental (¿recuerdas la analogía sobre un tenedor incrustado en arcilla?).\n",
        "\n",
        "El sobreajuste suele deberse a que se dispone de más parámetros de los necesarios para aprender un conjunto de datos específico. En este caso, la red tiene tantos parámetros que puede memorizar todos los detalles del conjunto de datos de entrenamiento, en lugar de aprender abstracciones de alto nivel. Cuando las redes neuronales tienen muchos parámetros pero pocos ejemplos de entrenamiento, es difícil evitar el sobreajuste.)\n",
        "\n",
        "**La capa convolucional**\n",
        "\n",
        "Muchas capas lineales muy pequeñas se reutilizan en cada posición,\n",
        "en lugar de una única capa grande. La idea central de una capa convolucional es que, en lugar de tener una capa lineal grande y densa con una conexión desde cada entrada hasta cada salida, se tienen muchas capas lineales muy pequeñas, normalmente con menos de 25 entradas y una única salida, que se utilizan en cada posición de entrada. Cada minicapa se denomina núcleo convolucional, pero en realidad no es más que una pequeña capa lineal con un pequeño número de entradas y una única salida.\n"
      ],
      "metadata": {
        "id": "vEiBV6VpptxT"
      }
    },
    {
      "cell_type": "markdown",
      "source": [
        "# Implementación en NUMPY"
      ],
      "metadata": {
        "id": "fWQP6-EhrWgX"
      }
    },
    {
      "cell_type": "code",
      "source": [
        "import numpy as np, sys\n",
        "np.random.seed(1)\n",
        "\n",
        "from keras.datasets import mnist\n",
        "\n",
        "(x_train, y_train), (x_test, y_test) = mnist.load_data()\n",
        "\n",
        "images, labels = (x_train[0:1000].reshape(1000,28*28) / 255,\n",
        "                  y_train[0:1000])\n",
        "\n",
        "\n",
        "one_hot_labels = np.zeros((len(labels),10))\n",
        "for i,l in enumerate(labels):\n",
        "    one_hot_labels[i][l] = 1\n",
        "labels = one_hot_labels\n",
        "\n",
        "test_images = x_test.reshape(len(x_test),28*28) / 255\n",
        "test_labels = np.zeros((len(y_test),10))\n",
        "for i,l in enumerate(y_test):\n",
        "    test_labels[i][l] = 1\n",
        "\n",
        "def tanh(x):\n",
        "    return np.tanh(x)\n",
        "\n",
        "def tanh2deriv(output):\n",
        "    return 1 - (output ** 2)\n",
        "\n",
        "def softmax(x):\n",
        "    temp = np.exp(x)\n",
        "    return temp / np.sum(temp, axis=1, keepdims=True)\n",
        "\n",
        "alpha, iterations = (2, 300)\n",
        "pixels_per_image, num_labels = (784, 10)\n",
        "batch_size = 128\n",
        "\n",
        "input_rows = 28\n",
        "input_cols = 28\n",
        "\n",
        "kernel_rows = 3\n",
        "kernel_cols = 3\n",
        "num_kernels = 16\n",
        "\n",
        "hidden_size = ((input_rows - kernel_rows) *\n",
        "               (input_cols - kernel_cols)) * num_kernels\n",
        "\n",
        "# weights_0_1 = 0.02*np.random.random((pixels_per_image,hidden_size))-0.01\n",
        "kernels = 0.02*np.random.random((kernel_rows*kernel_cols,\n",
        "                                 num_kernels))-0.01\n",
        "\n",
        "weights_1_2 = 0.2*np.random.random((hidden_size,\n",
        "                                    num_labels)) - 0.1\n",
        "\n",
        "\n",
        "\n",
        "def get_image_section(layer,row_from, row_to, col_from, col_to):\n",
        "    section = layer[:,row_from:row_to,col_from:col_to]\n",
        "    return section.reshape(-1,1,row_to-row_from, col_to-col_from)\n",
        "\n",
        "for j in range(iterations):\n",
        "    correct_cnt = 0\n",
        "    for i in range(int(len(images) / batch_size)):\n",
        "        batch_start, batch_end=((i * batch_size),((i+1)*batch_size))\n",
        "        layer_0 = images[batch_start:batch_end]\n",
        "        layer_0 = layer_0.reshape(layer_0.shape[0],28,28)\n",
        "        layer_0.shape\n",
        "\n",
        "        sects = list()\n",
        "        for row_start in range(layer_0.shape[1]-kernel_rows):\n",
        "            for col_start in range(layer_0.shape[2] - kernel_cols):\n",
        "                sect = get_image_section(layer_0,\n",
        "                                         row_start,\n",
        "                                         row_start+kernel_rows,\n",
        "                                         col_start,\n",
        "                                         col_start+kernel_cols)\n",
        "                sects.append(sect)\n",
        "\n",
        "        expanded_input = np.concatenate(sects,axis=1)\n",
        "        es = expanded_input.shape\n",
        "        flattened_input = expanded_input.reshape(es[0]*es[1],-1)\n",
        "\n",
        "        kernel_output = flattened_input.dot(kernels)\n",
        "        layer_1 = tanh(kernel_output.reshape(es[0],-1))\n",
        "        dropout_mask = np.random.randint(2,size=layer_1.shape)\n",
        "        layer_1 *= dropout_mask * 2\n",
        "        layer_2 = softmax(np.dot(layer_1,weights_1_2))\n",
        "\n",
        "        for k in range(batch_size):\n",
        "            labelset = labels[batch_start+k:batch_start+k+1]\n",
        "            _inc = int(np.argmax(layer_2[k:k+1]) ==\n",
        "                               np.argmax(labelset))\n",
        "            correct_cnt += _inc\n",
        "\n",
        "        layer_2_delta = (labels[batch_start:batch_end]-layer_2)\\\n",
        "                        / (batch_size * layer_2.shape[0])\n",
        "        layer_1_delta = layer_2_delta.dot(weights_1_2.T) * \\\n",
        "                        tanh2deriv(layer_1)\n",
        "        layer_1_delta *= dropout_mask\n",
        "        weights_1_2 += alpha * layer_1.T.dot(layer_2_delta)\n",
        "        l1d_reshape = layer_1_delta.reshape(kernel_output.shape)\n",
        "        k_update = flattened_input.T.dot(l1d_reshape)\n",
        "        kernels -= alpha * k_update\n",
        "\n",
        "    test_correct_cnt = 0\n",
        "\n",
        "    for i in range(len(test_images)):\n",
        "\n",
        "        layer_0 = test_images[i:i+1]\n",
        "#         layer_1 = tanh(np.dot(layer_0,weights_0_1))\n",
        "        layer_0 = layer_0.reshape(layer_0.shape[0],28,28)\n",
        "        layer_0.shape\n",
        "\n",
        "        sects = list()\n",
        "        for row_start in range(layer_0.shape[1]-kernel_rows):\n",
        "            for col_start in range(layer_0.shape[2] - kernel_cols):\n",
        "                sect = get_image_section(layer_0,\n",
        "                                         row_start,\n",
        "                                         row_start+kernel_rows,\n",
        "                                         col_start,\n",
        "                                         col_start+kernel_cols)\n",
        "                sects.append(sect)\n",
        "\n",
        "        expanded_input = np.concatenate(sects,axis=1)\n",
        "        es = expanded_input.shape\n",
        "        flattened_input = expanded_input.reshape(es[0]*es[1],-1)\n",
        "\n",
        "        kernel_output = flattened_input.dot(kernels)\n",
        "        layer_1 = tanh(kernel_output.reshape(es[0],-1))\n",
        "        layer_2 = np.dot(layer_1,weights_1_2)\n",
        "\n",
        "        test_correct_cnt += int(np.argmax(layer_2) ==\n",
        "                                np.argmax(test_labels[i:i+1]))\n",
        "    if(j % 1 == 0):\n",
        "        sys.stdout.write(\"\\n\"+ \\\n",
        "         \"I:\" + str(j) + \\\n",
        "         \" Test-Acc:\"+str(test_correct_cnt/float(len(test_images)))+\\\n",
        "         \" Train-Acc:\" + str(correct_cnt/float(len(images))))"
      ],
      "metadata": {
        "id": "yZhf9Hb2plbZ",
        "colab": {
          "base_uri": "https://localhost:8080/",
          "height": 454
        },
        "outputId": "9de0a5b2-6b28-4df6-bb9c-ff81f4360f53"
      },
      "execution_count": null,
      "outputs": [
        {
          "output_type": "stream",
          "name": "stdout",
          "text": [
            "\n",
            "I:0 Test-Acc:0.0288 Train-Acc:0.055\n",
            "I:1 Test-Acc:0.0273 Train-Acc:0.037\n",
            "I:2 Test-Acc:0.028 Train-Acc:0.037\n",
            "I:3 Test-Acc:0.0292 Train-Acc:0.04\n",
            "I:4 Test-Acc:0.0339 Train-Acc:0.046\n",
            "I:5 Test-Acc:0.0478 Train-Acc:0.068"
          ]
        },
        {
          "output_type": "error",
          "ename": "KeyboardInterrupt",
          "evalue": "",
          "traceback": [
            "\u001b[0;31m---------------------------------------------------------------------------\u001b[0m",
            "\u001b[0;31mKeyboardInterrupt\u001b[0m                         Traceback (most recent call last)",
            "\u001b[0;32m<ipython-input-5-1a641c1bfd76>\u001b[0m in \u001b[0;36m<cell line: 59>\u001b[0;34m()\u001b[0m\n\u001b[1;32m    113\u001b[0m         \u001b[0;32mfor\u001b[0m \u001b[0mrow_start\u001b[0m \u001b[0;32min\u001b[0m \u001b[0mrange\u001b[0m\u001b[0;34m(\u001b[0m\u001b[0mlayer_0\u001b[0m\u001b[0;34m.\u001b[0m\u001b[0mshape\u001b[0m\u001b[0;34m[\u001b[0m\u001b[0;36m1\u001b[0m\u001b[0;34m]\u001b[0m\u001b[0;34m-\u001b[0m\u001b[0mkernel_rows\u001b[0m\u001b[0;34m)\u001b[0m\u001b[0;34m:\u001b[0m\u001b[0;34m\u001b[0m\u001b[0;34m\u001b[0m\u001b[0m\n\u001b[1;32m    114\u001b[0m             \u001b[0;32mfor\u001b[0m \u001b[0mcol_start\u001b[0m \u001b[0;32min\u001b[0m \u001b[0mrange\u001b[0m\u001b[0;34m(\u001b[0m\u001b[0mlayer_0\u001b[0m\u001b[0;34m.\u001b[0m\u001b[0mshape\u001b[0m\u001b[0;34m[\u001b[0m\u001b[0;36m2\u001b[0m\u001b[0;34m]\u001b[0m \u001b[0;34m-\u001b[0m \u001b[0mkernel_cols\u001b[0m\u001b[0;34m)\u001b[0m\u001b[0;34m:\u001b[0m\u001b[0;34m\u001b[0m\u001b[0;34m\u001b[0m\u001b[0m\n\u001b[0;32m--> 115\u001b[0;31m                 sect = get_image_section(layer_0,\n\u001b[0m\u001b[1;32m    116\u001b[0m                                          \u001b[0mrow_start\u001b[0m\u001b[0;34m,\u001b[0m\u001b[0;34m\u001b[0m\u001b[0;34m\u001b[0m\u001b[0m\n\u001b[1;32m    117\u001b[0m                                          \u001b[0mrow_start\u001b[0m\u001b[0;34m+\u001b[0m\u001b[0mkernel_rows\u001b[0m\u001b[0;34m,\u001b[0m\u001b[0;34m\u001b[0m\u001b[0;34m\u001b[0m\u001b[0m\n",
            "\u001b[0;32m<ipython-input-5-1a641c1bfd76>\u001b[0m in \u001b[0;36mget_image_section\u001b[0;34m(layer, row_from, row_to, col_from, col_to)\u001b[0m\n\u001b[1;32m     53\u001b[0m \u001b[0;34m\u001b[0m\u001b[0m\n\u001b[1;32m     54\u001b[0m \u001b[0;34m\u001b[0m\u001b[0m\n\u001b[0;32m---> 55\u001b[0;31m \u001b[0;32mdef\u001b[0m \u001b[0mget_image_section\u001b[0m\u001b[0;34m(\u001b[0m\u001b[0mlayer\u001b[0m\u001b[0;34m,\u001b[0m\u001b[0mrow_from\u001b[0m\u001b[0;34m,\u001b[0m \u001b[0mrow_to\u001b[0m\u001b[0;34m,\u001b[0m \u001b[0mcol_from\u001b[0m\u001b[0;34m,\u001b[0m \u001b[0mcol_to\u001b[0m\u001b[0;34m)\u001b[0m\u001b[0;34m:\u001b[0m\u001b[0;34m\u001b[0m\u001b[0;34m\u001b[0m\u001b[0m\n\u001b[0m\u001b[1;32m     56\u001b[0m     \u001b[0msection\u001b[0m \u001b[0;34m=\u001b[0m \u001b[0mlayer\u001b[0m\u001b[0;34m[\u001b[0m\u001b[0;34m:\u001b[0m\u001b[0;34m,\u001b[0m\u001b[0mrow_from\u001b[0m\u001b[0;34m:\u001b[0m\u001b[0mrow_to\u001b[0m\u001b[0;34m,\u001b[0m\u001b[0mcol_from\u001b[0m\u001b[0;34m:\u001b[0m\u001b[0mcol_to\u001b[0m\u001b[0;34m]\u001b[0m\u001b[0;34m\u001b[0m\u001b[0;34m\u001b[0m\u001b[0m\n\u001b[1;32m     57\u001b[0m     \u001b[0;32mreturn\u001b[0m \u001b[0msection\u001b[0m\u001b[0;34m.\u001b[0m\u001b[0mreshape\u001b[0m\u001b[0;34m(\u001b[0m\u001b[0;34m-\u001b[0m\u001b[0;36m1\u001b[0m\u001b[0;34m,\u001b[0m\u001b[0;36m1\u001b[0m\u001b[0;34m,\u001b[0m\u001b[0mrow_to\u001b[0m\u001b[0;34m-\u001b[0m\u001b[0mrow_from\u001b[0m\u001b[0;34m,\u001b[0m \u001b[0mcol_to\u001b[0m\u001b[0;34m-\u001b[0m\u001b[0mcol_from\u001b[0m\u001b[0;34m)\u001b[0m\u001b[0;34m\u001b[0m\u001b[0;34m\u001b[0m\u001b[0m\n",
            "\u001b[0;31mKeyboardInterrupt\u001b[0m: "
          ]
        }
      ]
    },
    {
      "cell_type": "markdown",
      "source": [
        "Como puedes ver, cambiar la primera capa de la red por una capa convolucional da otros pocos puntos porcentuales en la reducción de errores. La salida de la capa convolucional (kernel_output) es a su vez una serie de imágenes bidimensionales (la salida de cada kernel en cada posición de entrada).\n",
        "\n",
        "La mayoría de los usos de las capas convolucionales apilan varias capas unas sobre otras, de forma que cada capa convolucional trata la anterior como una imagen de entrada. (Siéntete libre de hacer esto como proyecto personal; aumentará aún más la precisión).\n",
        "\n",
        "Las capas convolucionales apiladas son uno de los principales avances que permitieron crear redes neuronales muy profundas (y, por extensión, la popularización de la expresión aprendizaje profundo). Nunca se insistirá lo suficiente en que este invento marcó un hito en este campo; sin él, es posible que aún estuviéramos en el anterior invierno de la IA, incluso en el momento de escribir estas líneas.\n"
      ],
      "metadata": {
        "id": "Ri73KJHcq4A0"
      }
    }
  ],
  "metadata": {
    "kernelspec": {
      "display_name": "Python 3",
      "name": "python3"
    },
    "language_info": {
      "codemirror_mode": {
        "name": "ipython",
        "version": 3
      },
      "file_extension": ".py",
      "mimetype": "text/x-python",
      "name": "python",
      "nbconvert_exporter": "python",
      "pygments_lexer": "ipython3",
      "version": "3.6.1"
    },
    "colab": {
      "provenance": [],
      "gpuType": "T4",
      "include_colab_link": true
    },
    "accelerator": "GPU"
  },
  "nbformat": 4,
  "nbformat_minor": 0
}